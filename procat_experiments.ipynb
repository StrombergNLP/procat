{
 "cells": [
  {
   "cell_type": "markdown",
   "metadata": {},
   "source": [
    "# PROCAT Experiments\n",
    "\n",
    "In this notebook, we run experiments on the 10K set of real catalogues from the PROCAT dataset."
   ]
  },
  {
   "cell_type": "markdown",
   "metadata": {},
   "source": [
    "##### Imports"
   ]
  },
  {
   "cell_type": "code",
   "execution_count": 58,
   "metadata": {},
   "outputs": [],
   "source": [
    "import ast\n",
    "import copy\n",
    "import json\n",
    "import numpy as np\n",
    "import os\n",
    "import pandas as pd\n",
    "import pickle\n",
    "import random\n",
    "import time\n",
    "\n",
    "import torch\n",
    "import torch.backends.cudnn as cudnn\n",
    "import torch.nn as nn\n",
    "import torch.nn.functional as F\n",
    "\n",
    "from torch import optim\n",
    "from torch.utils.data import TensorDataset, DataLoader\n",
    "from torch.nn import Parameter\n",
    "from torch.autograd import Variable\n",
    "\n",
    "from matplotlib import pyplot as plt\n",
    "from tqdm import tqdm\n",
    "\n",
    "# sacred\n",
    "from sacred import Experiment\n",
    "from sacred.observers import MongoObserver\n",
    "\n",
    "# text\n",
    "from sklearn.feature_extraction.text import CountVectorizer\n",
    "from sklearn.feature_extraction.text import TfidfTransformer\n",
    "from itertools import chain\n",
    "import nltk  # had to also run nltk.download('punkt')\n",
    "\n",
    "# visuals\n",
    "from IPython.display import Image\n",
    "import matplotlib.pyplot as plt\n",
    "import matplotlib.image as mpimg\n",
    "from matplotlib import rcParams\n",
    "%matplotlib inline\n",
    "\n",
    "import warnings\n",
    "warnings.filterwarnings(\"ignore\", category=UserWarning)"
   ]
  },
  {
   "cell_type": "code",
   "execution_count": 59,
   "metadata": {},
   "outputs": [],
   "source": [
    "# show full width tables\n",
    "pd.set_option('display.max_columns', None)  \n",
    "pd.set_option('display.expand_frame_repr', False)\n",
    "pd.set_option('max_colwidth', -1)"
   ]
  },
  {
   "cell_type": "code",
   "execution_count": 60,
   "metadata": {},
   "outputs": [],
   "source": [
    "# custom utils\n",
    "from utils import count_params, train_epochs\n",
    "from data import test_model_custom, compare_solved_sort_unique, \\\n",
    "    get_single_kendall_tau, get_single_spearman_rho, get_batch_rank_correlation, get_batch_rank_correlation_and_perc_valid\n",
    "from procat_utils import get_catalogs_with_full_info, show_predicted_catalog, show_correct_catalog, get_prediction_as_offers, print_predicted_catalog"
   ]
  },
  {
   "cell_type": "code",
   "execution_count": 61,
   "metadata": {},
   "outputs": [
    {
     "name": "stdout",
     "output_type": "stream",
     "text": [
      "The autoreload extension is already loaded. To reload it, use:\n",
      "  %reload_ext autoreload\n"
     ]
    }
   ],
   "source": [
    "# reload if saved changes in modules\n",
    "%load_ext autoreload\n",
    "%autoreload 2"
   ]
  },
  {
   "cell_type": "markdown",
   "metadata": {},
   "source": [
    "## Config"
   ]
  },
  {
   "cell_type": "code",
   "execution_count": 62,
   "metadata": {},
   "outputs": [],
   "source": [
    "config = dict()"
   ]
  },
  {
   "cell_type": "code",
   "execution_count": 63,
   "metadata": {},
   "outputs": [],
   "source": [
    "# sacred experiment\n",
    "config['ptr_mask'] = True\n",
    "config['dataset_folder'] = 'PROCAT_mini'\n",
    "config['dataset_name'] = config['dataset_folder']\n",
    "config['task'] = 'real_catalogs'\n",
    "config['experiment_name'] = config['task'] + '_' + config['dataset_folder'] + '_mask_' + str(config['ptr_mask'])\n",
    "config['db_name'] = 'sacred'\n",
    "config['db_url'] = 'localhost:27017'"
   ]
  },
  {
   "cell_type": "markdown",
   "metadata": {},
   "source": [
    "##### Model"
   ]
  },
  {
   "cell_type": "code",
   "execution_count": 64,
   "metadata": {},
   "outputs": [],
   "source": [
    "# architecture\n",
    "config['ptr_word_emb_dim'] = 32\n",
    "config['ptr_offer_emb_dim'] = 64\n",
    "config['ptr_hid_dim'] = 64\n",
    "config['ptr_offer_rnn_layers'] = 2\n",
    "config['ptr_catalog_rnn_layers'] = 2\n",
    "config['ptr_dropout_catalogs'] = 0.05\n",
    "config['ptr_dropout_offers'] = 0.05\n",
    "config['ptr_bidir_catalogs'] = True\n",
    "config['ptr_bidir_offers'] = False  # not handled 2021 04\n",
    "\n",
    "# training\n",
    "config['batch_size'] = 64\n",
    "config['learning_rate'] =  0.0001\n",
    "config['num_epochs'] = 1"
   ]
  },
  {
   "cell_type": "markdown",
   "metadata": {},
   "source": [
    "##### Dataset"
   ]
  },
  {
   "cell_type": "code",
   "execution_count": 65,
   "metadata": {},
   "outputs": [],
   "source": [
    "# cv size\n",
    "config['test_small_size'] = 300\n",
    "\n",
    "# text preprocessing\n",
    "config['vocab_max'] =  300000 # vocabulary cap (for tokens)\n",
    "config['unknown_token'] = '?UNK?'\n",
    "config['eos_token'] = '?EOS?'\n",
    "config['pad_token'] = '?PAD?'\n",
    "config['max_tokens'] = 30\n",
    "\n",
    "# catalog preprocessing\n",
    "config['page_break_token'] = '?PAGE_BREAK?'\n",
    "config['page_break_priority'] = 0\n",
    "config['max_offer_tokens_per_catalog'] = 200  # choose based on distributions, includes page-breaks\n",
    "config['pad_not_real_offer'] = '?NOT_REAL_OFFER?'\n",
    "config['pad_not_real_offer_priority'] = -1"
   ]
  },
  {
   "cell_type": "markdown",
   "metadata": {},
   "source": [
    "##### Config paths"
   ]
  },
  {
   "cell_type": "code",
   "execution_count": 66,
   "metadata": {},
   "outputs": [],
   "source": [
    "# input\n",
    "config['path_in_df_offers_csv'] = './{}/offer_features.csv'.format(config['dataset_folder'])\n",
    "config['path_in_df_sections_csv'] = './{}/section_features.csv'.format(config['dataset_folder'])\n",
    "config['path_in_df_catalog_csv'] = './{}/catalog_features.csv'.format(config['dataset_folder'])\n",
    "\n",
    "config['path_in_df_catalog_train_csv'] = './{}/catalog_train_set_features.csv'.format(config['dataset_folder'])\n",
    "config['path_in_df_catalog_test_csv'] = './{}/catalog_test_set_features.csv'.format(config['dataset_folder'])\n",
    "\n",
    "config['path_in_dictionary'] = './{}/dictionary.pickle'.format(config['dataset_folder'])\n",
    "config['path_in_catalog_id_to_section_ids'] = './{}/catalog_to_sections.pickle'.format(config['dataset_folder'])\n",
    "\n",
    "config['path_in_section_id_to_offer_ids'] = './{}/section_to_offers.pickle'.format(config['dataset_folder'])\n",
    "config['path_in_section_id_to_offer_vectors'] = './{}/section_id_to_offer_vectors.pickle'.format(config['dataset_folder'])\n",
    "config['path_in_section_id_to_section_num'] = './{}/section_to_number.pickle'.format(config['dataset_folder'])\n",
    "config['path_in_section_id_to_offer_priorities'] = './{}/section_id_to_offer_priorities.pickle'.format(config['dataset_folder'])\n",
    "\n",
    "config['path_in_offer_id_to_priority'] = './{}/offer_to_priority.pickle'.format(config['dataset_folder'])\n",
    "config['path_in_offer_id_to_vector'] = './{}/offer_to_vector.pickle'.format(config['dataset_folder'])\n",
    "\n",
    "config['path_in_np_X_train'] = './{}/X_train.npy'.format(config['dataset_folder'])\n",
    "config['path_in_np_Y_train'] = './{}/Y_train.npy'.format(config['dataset_folder'])\n",
    "config['path_in_np_X_test'] = './{}/X_test.npy'.format(config['dataset_folder'])\n",
    "config['path_in_np_Y_test'] = './{}/Y_test.npy'.format(config['dataset_folder'])\n",
    "\n",
    "config['path_in_torch_X_train'] = './{}/X_train.pb'.format(config['dataset_folder'])\n",
    "config['path_in_torch_Y_train'] = './{}/Y_train.pb'.format(config['dataset_folder'])\n",
    "config['path_in_torch_X_test'] = './{}/X_test.pb'.format(config['dataset_folder'])\n",
    "config['path_in_torch_Y_test'] = './{}/Y_test.pb'.format(config['dataset_folder'])"
   ]
  },
  {
   "cell_type": "markdown",
   "metadata": {},
   "source": [
    "##### Training and Model"
   ]
  },
  {
   "cell_type": "code",
   "execution_count": 67,
   "metadata": {},
   "outputs": [
    {
     "data": {
      "text/plain": [
       "{'ptr_mask': True,\n",
       " 'dataset_folder': 'PROCAT_mini',\n",
       " 'dataset_name': 'PROCAT_mini',\n",
       " 'task': 'real_catalogs',\n",
       " 'experiment_name': 'real_catalogs_PROCAT_mini_mask_True',\n",
       " 'db_name': 'sacred',\n",
       " 'db_url': 'localhost:27017',\n",
       " 'ptr_word_emb_dim': 32,\n",
       " 'ptr_offer_emb_dim': 64,\n",
       " 'ptr_hid_dim': 64,\n",
       " 'ptr_offer_rnn_layers': 2,\n",
       " 'ptr_catalog_rnn_layers': 2,\n",
       " 'ptr_dropout_catalogs': 0.05,\n",
       " 'ptr_dropout_offers': 0.05,\n",
       " 'ptr_bidir_catalogs': True,\n",
       " 'ptr_bidir_offers': False,\n",
       " 'batch_size': 64,\n",
       " 'learning_rate': 0.0001,\n",
       " 'num_epochs': 1,\n",
       " 'test_small_size': 300,\n",
       " 'vocab_max': 300000,\n",
       " 'unknown_token': '?UNK?',\n",
       " 'eos_token': '?EOS?',\n",
       " 'pad_token': '?PAD?',\n",
       " 'max_tokens': 30,\n",
       " 'page_break_token': '?PAGE_BREAK?',\n",
       " 'page_break_priority': 0,\n",
       " 'max_offer_tokens_per_catalog': 200,\n",
       " 'pad_not_real_offer': '?NOT_REAL_OFFER?',\n",
       " 'pad_not_real_offer_priority': -1,\n",
       " 'path_in_df_offers_csv': './PROCAT_mini/offer_features.csv',\n",
       " 'path_in_df_sections_csv': './PROCAT_mini/section_features.csv',\n",
       " 'path_in_df_catalog_csv': './PROCAT_mini/catalog_features.csv',\n",
       " 'path_in_df_catalog_train_csv': './PROCAT_mini/catalog_train_set_features.csv',\n",
       " 'path_in_df_catalog_test_csv': './PROCAT_mini/catalog_test_set_features.csv',\n",
       " 'path_in_dictionary': './PROCAT_mini/dictionary.pickle',\n",
       " 'path_in_catalog_id_to_section_ids': './PROCAT_mini/catalog_to_sections.pickle',\n",
       " 'path_in_section_id_to_offer_ids': './PROCAT_mini/section_to_offers.pickle',\n",
       " 'path_in_section_id_to_offer_vectors': './PROCAT_mini/section_id_to_offer_vectors.pickle',\n",
       " 'path_in_section_id_to_section_num': './PROCAT_mini/section_to_number.pickle',\n",
       " 'path_in_section_id_to_offer_priorities': './PROCAT_mini/section_id_to_offer_priorities.pickle',\n",
       " 'path_in_offer_id_to_priority': './PROCAT_mini/offer_to_priority.pickle',\n",
       " 'path_in_offer_id_to_vector': './PROCAT_mini/offer_to_vector.pickle',\n",
       " 'path_in_np_X_train': './PROCAT_mini/X_train.npy',\n",
       " 'path_in_np_Y_train': './PROCAT_mini/Y_train.npy',\n",
       " 'path_in_np_X_test': './PROCAT_mini/X_test.npy',\n",
       " 'path_in_np_Y_test': './PROCAT_mini/Y_test.npy',\n",
       " 'path_in_torch_X_train': './PROCAT_mini/X_train.pb',\n",
       " 'path_in_torch_Y_train': './PROCAT_mini/Y_train.pb',\n",
       " 'path_in_torch_X_test': './PROCAT_mini/X_test.pb',\n",
       " 'path_in_torch_Y_test': './PROCAT_mini/Y_test.pb'}"
      ]
     },
     "execution_count": 67,
     "metadata": {},
     "output_type": "execute_result"
    }
   ],
   "source": [
    "config"
   ]
  },
  {
   "cell_type": "markdown",
   "metadata": {},
   "source": [
    "## Experiment Tracking via Sacred"
   ]
  },
  {
   "cell_type": "code",
   "execution_count": 68,
   "metadata": {},
   "outputs": [],
   "source": [
    "# initiate the experiment\n",
    "ex = Experiment(name=config['experiment_name'], interactive=True)\n",
    "\n",
    "# add an observer, storing experiment info\n",
    "ex.observers.append(MongoObserver(url=config['db_url'], db_name=config['db_name']))"
   ]
  },
  {
   "cell_type": "code",
   "execution_count": 69,
   "metadata": {},
   "outputs": [],
   "source": [
    "# experiment config\n",
    "@ex.config\n",
    "def ex_config():\n",
    "    \n",
    "    # general\n",
    "    learning_rate = config['learning_rate']\n",
    "    dataset = config['dataset_name'] \n",
    "    epochs = config['num_epochs']\n",
    "    cfg = config\n",
    "    \n",
    "    # model\n",
    "    model = None\n",
    "    final_training_loss = None\n",
    "    optimizer = None\n",
    "    \n",
    "    # db \n",
    "    db_name = config['db_name']\n",
    "    db_url = config['db_url']"
   ]
  },
  {
   "cell_type": "code",
   "execution_count": 70,
   "metadata": {},
   "outputs": [],
   "source": [
    "# experiment run function\n",
    "@ex.main\n",
    "def run_model_tests():\n",
    "\n",
    "    # run all tests, get all results\n",
    "    result_general, result_tau, result_spearman, rank_valid_perc = run_tests(current_tested_model, test_dataloader, config)\n",
    "    \n",
    "    # log params and results\n",
    "    log_experiment_results(result_general, result_tau, result_spearman, rank_valid_perc)\n",
    "    \n",
    "    return round(result_general, 5)"
   ]
  },
  {
   "cell_type": "code",
   "execution_count": 71,
   "metadata": {},
   "outputs": [],
   "source": [
    "def run_tests(a_model, a_dataloader, a_config):\n",
    "    \n",
    "    print('Model: ', a_model.__class__)\n",
    "\n",
    "    a_model.eval() \n",
    "    \n",
    "    # general accuracy\n",
    "    result_general, _ = test_model_custom(a_model, a_dataloader, compare_solved_sort_unique, print_every=999999, x_name=0, y_name=1)\n",
    "    print('Result: {:.4f}'.format(result_general))\n",
    "    \n",
    "    result_tau, rank_valid_perc = get_batch_rank_correlation_and_perc_valid(a_dataloader, a_model, get_single_kendall_tau, print_every=999999)\n",
    "    print('K-Tau: {:.4f}, perc_valid: {}'.format(result_tau, rank_valid_perc))\n",
    "\n",
    "    result_spearman, rank_valid_perc = get_batch_rank_correlation_and_perc_valid(a_dataloader, a_model, get_single_spearman_rho, print_every=999999)\n",
    "    print('S-Rho: {:.4f}, perc_valid: {}'.format(result_spearman, rank_valid_perc))\n",
    "\n",
    "    a_model.train()\n",
    "    \n",
    "    return result_general, result_tau, result_spearman, rank_valid_perc"
   ]
  },
  {
   "cell_type": "code",
   "execution_count": 72,
   "metadata": {},
   "outputs": [],
   "source": [
    "def log_experiment_results(r_general, r_tau, r_spearman, rank_valid_perc):\n",
    "    \n",
    "    # round if not none\n",
    "    if r_tau:\n",
    "        r_tau = round(r_tau, 5)\n",
    "    if r_spearman:\n",
    "        r_spearman = round(r_spearman, 5)\n",
    "    \n",
    "    # log the results\n",
    "    ex.log_scalar('test.general', r_general)\n",
    "    ex.log_scalar('test.rank_correlation_valid_perc', rank_valid_perc)\n",
    "    ex.log_scalar('test.tau', r_tau, 5)\n",
    "    ex.log_scalar('test.rho', r_spearman, 5)"
   ]
  },
  {
   "cell_type": "markdown",
   "metadata": {},
   "source": [
    "### Custom utils"
   ]
  },
  {
   "cell_type": "code",
   "execution_count": 73,
   "metadata": {},
   "outputs": [],
   "source": [
    "def recreate_unshuffled_x(x, y):\n",
    "    r = [x[i] for i in y]\n",
    "    return r"
   ]
  },
  {
   "cell_type": "code",
   "execution_count": 74,
   "metadata": {},
   "outputs": [],
   "source": [
    "random.seed(220788)"
   ]
  },
  {
   "cell_type": "code",
   "execution_count": 75,
   "metadata": {},
   "outputs": [],
   "source": [
    "def get_example(a_dataloader, x_name=0, y_name=1):\n",
    "    \"\"\"\n",
    "    Take a torch dataloader and get a single example.\n",
    "    \"\"\"\n",
    "    a_batch = next(iter(a_dataloader))\n",
    "    example_points = a_batch[x_name][0]\n",
    "    example_solution = a_batch[y_name][0]\n",
    "\n",
    "    return example_points, example_solution\n",
    "\n",
    "\n",
    "def get_batch(a_dataloader, x_name=0, y_name=1):\n",
    "    \"\"\"\n",
    "    Get a batch of points and solutions from a torch dataloader.\n",
    "    \"\"\"\n",
    "    a_batch = next(iter(a_dataloader))\n",
    "    batch_points = a_batch[x_name]\n",
    "    batch_solutions = a_batch[y_name]\n",
    "\n",
    "    return batch_points, batch_solutions\n"
   ]
  },
  {
   "cell_type": "markdown",
   "metadata": {},
   "source": [
    "# Data\n",
    "Load all needed data."
   ]
  },
  {
   "cell_type": "markdown",
   "metadata": {},
   "source": [
    "## Reload Data\n",
    "Including:\n",
    "- **SIGIR csv's**\n",
    "    - df_offers\n",
    "    - df_sections\n",
    "    - df_catalogs\n",
    "- **any meta-resources**:\n",
    "    - (word2idx)\n",
    "    - section to offer ids etc?\n",
    "- **numpy X and Y**\n",
    "    - train and test separately\n",
    "- **torch dataloaders**\n",
    "    - the actual torch dataloaders (for myself?"
   ]
  },
  {
   "cell_type": "markdown",
   "metadata": {},
   "source": [
    "#### Load CSVs"
   ]
  },
  {
   "cell_type": "code",
   "execution_count": 76,
   "metadata": {},
   "outputs": [
    {
     "data": {
      "text/html": [
       "<div>\n",
       "<style scoped>\n",
       "    .dataframe tbody tr th:only-of-type {\n",
       "        vertical-align: middle;\n",
       "    }\n",
       "\n",
       "    .dataframe tbody tr th {\n",
       "        vertical-align: top;\n",
       "    }\n",
       "\n",
       "    .dataframe thead th {\n",
       "        text-align: right;\n",
       "    }\n",
       "</style>\n",
       "<table border=\"1\" class=\"dataframe\">\n",
       "  <thead>\n",
       "    <tr style=\"text-align: right;\">\n",
       "      <th></th>\n",
       "      <th>catalog_id</th>\n",
       "      <th>section</th>\n",
       "      <th>offer_id</th>\n",
       "      <th>priority</th>\n",
       "      <th>heading</th>\n",
       "      <th>description</th>\n",
       "      <th>text</th>\n",
       "      <th>text_tokenized</th>\n",
       "      <th>token_length</th>\n",
       "      <th>offer_as_vector</th>\n",
       "    </tr>\n",
       "  </thead>\n",
       "  <tbody>\n",
       "    <tr>\n",
       "      <th>0</th>\n",
       "      <td>0003leq</td>\n",
       "      <td>1</td>\n",
       "      <td>fed3AqfY</td>\n",
       "      <td>2</td>\n",
       "      <td>Påskebryg</td>\n",
       "      <td>33 cl. KYLLE - KYLLE. 3 33. + PANT. Sælges fra fredag d. 17/3. Ved køb af mere end 60 stk., er prisen herefter 4,98 kr</td>\n",
       "      <td>Påskebryg 33 cl. KYLLE - KYLLE. 3 33. + PANT. Sælges fra fredag d. 17/3. Ved køb af mere end 60 stk., er prisen herefter 4,98 kr</td>\n",
       "      <td>['påskebryg', '33', 'cl', '.', 'kylle', '-', 'kylle', '.', '3', '33', '.', '+', 'pant', '.', 'sælges', 'fra', 'fredag', 'd.', '17/3', '.', 'ved', 'køb', 'af', 'mere', 'end', '60', 'stk.', ',', 'er', '?EOS?']</td>\n",
       "      <td>33</td>\n",
       "      <td>[11665, 315, 67, 5, 7298, 25, 7298, 5, 37, 315, 5, 130, 209, 5, 149, 56, 1172, 230, 11666, 5, 79, 184, 22, 200, 210, 82, 3012, 6, 31, 0]</td>\n",
       "    </tr>\n",
       "  </tbody>\n",
       "</table>\n",
       "</div>"
      ],
      "text/plain": [
       "  catalog_id  section  offer_id  priority    heading                                                                                                             description                                                                                                                              text                                                                                                                                                                                                   text_tokenized  token_length                                                                                                                           offer_as_vector\n",
       "0  0003leq    1        fed3AqfY  2         Påskebryg  33 cl. KYLLE - KYLLE. 3 33. + PANT. Sælges fra fredag d. 17/3. Ved køb af mere end 60 stk., er prisen herefter 4,98 kr  Påskebryg 33 cl. KYLLE - KYLLE. 3 33. + PANT. Sælges fra fredag d. 17/3. Ved køb af mere end 60 stk., er prisen herefter 4,98 kr  ['påskebryg', '33', 'cl', '.', 'kylle', '-', 'kylle', '.', '3', '33', '.', '+', 'pant', '.', 'sælges', 'fra', 'fredag', 'd.', '17/3', '.', 'ved', 'køb', 'af', 'mere', 'end', '60', 'stk.', ',', 'er', '?EOS?']  33            [11665, 315, 67, 5, 7298, 25, 7298, 5, 37, 315, 5, 130, 209, 5, 149, 56, 1172, 230, 11666, 5, 79, 184, 22, 200, 210, 82, 3012, 6, 31, 0]"
      ]
     },
     "execution_count": 76,
     "metadata": {},
     "output_type": "execute_result"
    }
   ],
   "source": [
    "df = pd.read_csv(config['path_in_df_offers_csv'], sep=';')\n",
    "df.head(1)"
   ]
  },
  {
   "cell_type": "code",
   "execution_count": 77,
   "metadata": {},
   "outputs": [
    {
     "data": {
      "text/plain": [
       "10001"
      ]
     },
     "execution_count": 77,
     "metadata": {},
     "output_type": "execute_result"
    }
   ],
   "source": [
    "len(df)"
   ]
  },
  {
   "cell_type": "code",
   "execution_count": 78,
   "metadata": {},
   "outputs": [
    {
     "data": {
      "text/html": [
       "<div>\n",
       "<style scoped>\n",
       "    .dataframe tbody tr th:only-of-type {\n",
       "        vertical-align: middle;\n",
       "    }\n",
       "\n",
       "    .dataframe tbody tr th {\n",
       "        vertical-align: top;\n",
       "    }\n",
       "\n",
       "    .dataframe thead th {\n",
       "        text-align: right;\n",
       "    }\n",
       "</style>\n",
       "<table border=\"1\" class=\"dataframe\">\n",
       "  <thead>\n",
       "    <tr style=\"text-align: right;\">\n",
       "      <th></th>\n",
       "      <th>catalog_id</th>\n",
       "      <th>section_id</th>\n",
       "      <th>section_num</th>\n",
       "      <th>offer_ids</th>\n",
       "      <th>offer_vectors</th>\n",
       "      <th>offer_priorities</th>\n",
       "    </tr>\n",
       "  </thead>\n",
       "  <tbody>\n",
       "    <tr>\n",
       "      <th>0</th>\n",
       "      <td>0003leq</td>\n",
       "      <td>0003leq_1</td>\n",
       "      <td>1</td>\n",
       "      <td>['fed3AqfY', '799dzqfY', 'b8a3DqfY', 'a4c88qfY', '3cf8qqfY', '88a5UqfY', '6d6e0qfY', 'ef59YqfY', 'ab38CqfY', '0cbffqfY', '0a4eEqfY']</td>\n",
       "      <td>[[11665, 315, 67, 5, 7298, 25, 7298, 5, 37, 315, 5, 130, 209, 5, 149, 56, 1172, 230, 11666, 5, 79, 184, 22, 200, 210, 82, 3012, 6, 31, 0], [488, 118, 1653, 16, 5, 28, 5, 38, 5, 188, 131, 56, 11667, 14, 1173, 8, 3604, 8, 7300, 8, 11668, 8, 11669, 0, 1, 1, 1, 1, 1, 1], [11670, 7301, 5, 1037, 30, 0, 1, 1, 1, 1, 1, 1, 1, 1, 1, 1, 1, 1, 1, 1, 1, 1, 1, 1, 1, 1, 1, 1, 1, 1], [1038, 801, 1522, 3605, 2283, 2023, 29, 5, 8, 0, 1, 1, 1, 1, 1, 1, 1, 1, 1, 1, 1, 1, 1, 1, 1, 1, 1, 1, 1, 1], [1654, 15, 5539, 5540, 11671, 30, 5, 19, 26, 0, 1, 1, 1, 1, 1, 1, 1, 1, 1, 1, 1, 1, 1, 1, 1, 1, 1, 1, 1, 1], [1655, 11672, 5, 19, 26, 75, 30, 0, 1, 1, 1, 1, 1, 1, 1, 1, 1, 1, 1, 1, 1, 1, 1, 1, 1, 1, 1, 1, 1, 1], [1304, 4351, 30, 5, 8, 140, 8, 477, 5, 1806, 5, 432, 99, 0, 1, 1, 1, 1, 1, 1, 1, 1, 1, 1, 1, 1, 1, 1, 1, 1], [3013, 2599, 78, 29, 5, 8, 2284, 0, 1, 1, 1, 1, 1, 1, 1, 1, 1, 1, 1, 1, 1, 1, 1, 1, 1, 1, 1, 1, 1, 1], [1230, 304, 8, 838, 5, 90, 30, 5, 79, 184, 22, 200, 210, 46, 457, 6, 31, 196, 370, 3014, 126, 5, 86, 31, 579, 323, 0, 1, 1, 1], [3015, 4352, 30, 5, 25, 168, 25, 727, 5, 728, 579, 5, 8, 1231, 8, 1656, 8, 2024, 3016, 8, 236, 9, 695, 8, 3606, 8, 409, 1523, 8, 0], [3017, 79, 184, 22, 200, 210, 78, 457, 6, 31, 196, 370, 11673, 126, 5, 125, 30, 0, 1, 1, 1, 1, 1, 1, 1, 1, 1, 1, 1, 1]]</td>\n",
       "      <td>[2, 2, 1, 1, 2, 1, 1, 1, 3, 3, 2]</td>\n",
       "    </tr>\n",
       "  </tbody>\n",
       "</table>\n",
       "</div>"
      ],
      "text/plain": [
       "  catalog_id section_id  section_num                                                                                                                             offer_ids                                                                                                                                                                                                                                                                                                                                                                                                                                                                                                                                                                                                                                                                                                                                                                                                                                                                                                                                                                                                                                                                                                                                                                                                                                                                                                                          offer_vectors                   offer_priorities\n",
       "0  0003leq    0003leq_1  1            ['fed3AqfY', '799dzqfY', 'b8a3DqfY', 'a4c88qfY', '3cf8qqfY', '88a5UqfY', '6d6e0qfY', 'ef59YqfY', 'ab38CqfY', '0cbffqfY', '0a4eEqfY']  [[11665, 315, 67, 5, 7298, 25, 7298, 5, 37, 315, 5, 130, 209, 5, 149, 56, 1172, 230, 11666, 5, 79, 184, 22, 200, 210, 82, 3012, 6, 31, 0], [488, 118, 1653, 16, 5, 28, 5, 38, 5, 188, 131, 56, 11667, 14, 1173, 8, 3604, 8, 7300, 8, 11668, 8, 11669, 0, 1, 1, 1, 1, 1, 1], [11670, 7301, 5, 1037, 30, 0, 1, 1, 1, 1, 1, 1, 1, 1, 1, 1, 1, 1, 1, 1, 1, 1, 1, 1, 1, 1, 1, 1, 1, 1], [1038, 801, 1522, 3605, 2283, 2023, 29, 5, 8, 0, 1, 1, 1, 1, 1, 1, 1, 1, 1, 1, 1, 1, 1, 1, 1, 1, 1, 1, 1, 1], [1654, 15, 5539, 5540, 11671, 30, 5, 19, 26, 0, 1, 1, 1, 1, 1, 1, 1, 1, 1, 1, 1, 1, 1, 1, 1, 1, 1, 1, 1, 1], [1655, 11672, 5, 19, 26, 75, 30, 0, 1, 1, 1, 1, 1, 1, 1, 1, 1, 1, 1, 1, 1, 1, 1, 1, 1, 1, 1, 1, 1, 1], [1304, 4351, 30, 5, 8, 140, 8, 477, 5, 1806, 5, 432, 99, 0, 1, 1, 1, 1, 1, 1, 1, 1, 1, 1, 1, 1, 1, 1, 1, 1], [3013, 2599, 78, 29, 5, 8, 2284, 0, 1, 1, 1, 1, 1, 1, 1, 1, 1, 1, 1, 1, 1, 1, 1, 1, 1, 1, 1, 1, 1, 1], [1230, 304, 8, 838, 5, 90, 30, 5, 79, 184, 22, 200, 210, 46, 457, 6, 31, 196, 370, 3014, 126, 5, 86, 31, 579, 323, 0, 1, 1, 1], [3015, 4352, 30, 5, 25, 168, 25, 727, 5, 728, 579, 5, 8, 1231, 8, 1656, 8, 2024, 3016, 8, 236, 9, 695, 8, 3606, 8, 409, 1523, 8, 0], [3017, 79, 184, 22, 200, 210, 78, 457, 6, 31, 196, 370, 11673, 126, 5, 125, 30, 0, 1, 1, 1, 1, 1, 1, 1, 1, 1, 1, 1, 1]]  [2, 2, 1, 1, 2, 1, 1, 1, 3, 3, 2]"
      ]
     },
     "execution_count": 78,
     "metadata": {},
     "output_type": "execute_result"
    }
   ],
   "source": [
    "df_sections = pd.read_csv(config['path_in_df_sections_csv'], sep=';')\n",
    "df_sections.head(1)"
   ]
  },
  {
   "cell_type": "code",
   "execution_count": 79,
   "metadata": {},
   "outputs": [
    {
     "data": {
      "text/plain": [
       "1483"
      ]
     },
     "execution_count": 79,
     "metadata": {},
     "output_type": "execute_result"
    }
   ],
   "source": [
    "len(df_sections)"
   ]
  },
  {
   "cell_type": "code",
   "execution_count": 80,
   "metadata": {},
   "outputs": [
    {
     "data": {
      "text/html": [
       "<div>\n",
       "<style scoped>\n",
       "    .dataframe tbody tr th:only-of-type {\n",
       "        vertical-align: middle;\n",
       "    }\n",
       "\n",
       "    .dataframe tbody tr th {\n",
       "        vertical-align: top;\n",
       "    }\n",
       "\n",
       "    .dataframe thead th {\n",
       "        text-align: right;\n",
       "    }\n",
       "</style>\n",
       "<table border=\"1\" class=\"dataframe\">\n",
       "  <thead>\n",
       "    <tr style=\"text-align: right;\">\n",
       "      <th></th>\n",
       "      <th>catalog_id</th>\n",
       "      <th>section_ids</th>\n",
       "      <th>offer_ids_with_pb</th>\n",
       "      <th>offer_vectors_with_pb</th>\n",
       "      <th>offer_priorities_with_pb</th>\n",
       "      <th>num_offers</th>\n",
       "      <th>x</th>\n",
       "      <th>y</th>\n",
       "    </tr>\n",
       "  </thead>\n",
       "  <tbody>\n",
       "    <tr>\n",
       "      <th>0</th>\n",
       "      <td>0003leq</td>\n",
       "      <td>{'0003leq_6', '0003leq_5', '0003leq_7', '0003leq_1', '0003leq_2', '0003leq_4', '0003leq_3'}</td>\n",
       "      <td>['2502x0fY', '070eU0fY', 'a6a7Z0fY', '183cY0fY', '257as0fY', '0da4f0fY', '4809E0fY', '4815F0fY', 'f1a9z0fY', '3672p0fY', '283c80fY', '?PAGE_BREAK?', 'b553q0fY', '36f3y0fY', '222fcqfY', '5cb900fY', '7d7a10fY', '97f9K0fY', 'fc78C0fY', 'c90d30fY', '5b2ag0fY', 'c941A0fY', 'a259L0fY', '6429tqfY', 'a5caD0fY', '08cfm0fY', '22edWqfY', '?PAGE_BREAK?', 'b7fcb0fY', 'd4f0v0fY', 'fb3cQ0fY', '0ba1i0fY', 'a367w0fY', 'ac74V0fY', '3531u0fY', 'fbff20fY', 'e4b8a0fY', '3956N0fY', '0d81d0fY', '029aT0fY', '5dbdl0fY', '?PAGE_BREAK?', 'fed3AqfY', '799dzqfY', 'b8a3DqfY', 'a4c88qfY', '3cf8qqfY', '88a5UqfY', '6d6e0qfY', 'ef59YqfY', 'ab38CqfY', '0cbffqfY', '0a4eEqfY', '?PAGE_BREAK?', '0ef3QqfY', 'a3abpqfY', 'ce94wqfY', 'e545VqfY', '11aaxqfY', 'e4e12qfY', '431baqfY', '3030ZqfY', 'db3fNqfY', 'd638dqfY', '539csqfY', 'b25flqfY', '18cdFqfY', '50b5vqfY', '?PAGE_BREAK?', 'db9dGqfY', '4daaRqfY', 'bd0fXqfY', '9937SqfY', 'a3ddnqfY', '59cchqfY', 'd8f9oqfY', '0be3HqfY', 'b3acOqfY', 'aeberqfY', '44a2IqfY', '708e7qfY', 'f4f4MqfY', '?PAGE_BREAK?', '29c0BqfY', '9381iqfY', '907ajqfY', '28d5kqfY', '280auqfY', '00b64qfY', '1864JqfY', 'e2835qfY', '7c1eeqfY', '067bTqfY', '46df6qfY', 'b84a9qfY', '614ebqfY', '11bbPqfY', '?PAGE_BREAK?', '?NOT_REAL_OFFER?', '?NOT_REAL_OFFER?', '?NOT_REAL_OFFER?', '?NOT_REAL_OFFER?', '?NOT_REAL_OFFER?', '?NOT_REAL_OFFER?', '?NOT_REAL_OFFER?', '?NOT_REAL_OFFER?', '?NOT_REAL_OFFER?', '?NOT_REAL_OFFER?', '?NOT_REAL_OFFER?', '?NOT_REAL_OFFER?', '?NOT_REAL_OFFER?', '?NOT_REAL_OFFER?', '?NOT_REAL_OFFER?', '?NOT_REAL_OFFER?', '?NOT_REAL_OFFER?', '?NOT_REAL_OFFER?', '?NOT_REAL_OFFER?', '?NOT_REAL_OFFER?', '?NOT_REAL_OFFER?', '?NOT_REAL_OFFER?', '?NOT_REAL_OFFER?', '?NOT_REAL_OFFER?', '?NOT_REAL_OFFER?', '?NOT_REAL_OFFER?', '?NOT_REAL_OFFER?', '?NOT_REAL_OFFER?', '?NOT_REAL_OFFER?', '?NOT_REAL_OFFER?', '?NOT_REAL_OFFER?', '?NOT_REAL_OFFER?', '?NOT_REAL_OFFER?', '?NOT_REAL_OFFER?', '?NOT_REAL_OFFER?', '?NOT_REAL_OFFER?', '?NOT_REAL_OFFER?', '?NOT_REAL_OFFER?', '?NOT_REAL_OFFER?', '?NOT_REAL_OFFER?', '?NOT_REAL_OFFER?', '?NOT_REAL_OFFER?', '?NOT_REAL_OFFER?', '?NOT_REAL_OFFER?', '?NOT_REAL_OFFER?', '?NOT_REAL_OFFER?', '?NOT_REAL_OFFER?', '?NOT_REAL_OFFER?', '?NOT_REAL_OFFER?', '?NOT_REAL_OFFER?', '?NOT_REAL_OFFER?', '?NOT_REAL_OFFER?', '?NOT_REAL_OFFER?', '?NOT_REAL_OFFER?', '?NOT_REAL_OFFER?', '?NOT_REAL_OFFER?', '?NOT_REAL_OFFER?', '?NOT_REAL_OFFER?', '?NOT_REAL_OFFER?', '?NOT_REAL_OFFER?', '?NOT_REAL_OFFER?', '?NOT_REAL_OFFER?', '?NOT_REAL_OFFER?', '?NOT_REAL_OFFER?', '?NOT_REAL_OFFER?', '?NOT_REAL_OFFER?', '?NOT_REAL_OFFER?', '?NOT_REAL_OFFER?', '?NOT_REAL_OFFER?', '?NOT_REAL_OFFER?', '?NOT_REAL_OFFER?', '?NOT_REAL_OFFER?', '?NOT_REAL_OFFER?', '?NOT_REAL_OFFER?', '?NOT_REAL_OFFER?', '?NOT_REAL_OFFER?', '?NOT_REAL_OFFER?', '?NOT_REAL_OFFER?', '?NOT_REAL_OFFER?', '?NOT_REAL_OFFER?', '?NOT_REAL_OFFER?', '?NOT_REAL_OFFER?', '?NOT_REAL_OFFER?', '?NOT_REAL_OFFER?', '?NOT_REAL_OFFER?', '?NOT_REAL_OFFER?', '?NOT_REAL_OFFER?', '?NOT_REAL_OFFER?', '?NOT_REAL_OFFER?', '?NOT_REAL_OFFER?', '?NOT_REAL_OFFER?', '?NOT_REAL_OFFER?', '?NOT_REAL_OFFER?', '?NOT_REAL_OFFER?', '?NOT_REAL_OFFER?', '?NOT_REAL_OFFER?', '?NOT_REAL_OFFER?', '?NOT_REAL_OFFER?', '?NOT_REAL_OFFER?', '?NOT_REAL_OFFER?', '?NOT_REAL_OFFER?', '?NOT_REAL_OFFER?']</td>\n",
       "      <td>[[5564, 432, 99, 8, 3029, 966, 8, 434, 8, 3622, 248, 5565, 0, 1, 1, 1, 1, 1, 1, 1, 1, 1, 1, 1, 1, 1, 1, 1, 1, 1], [4373, 8, 201, 8, 967, 5, 2611, 44, 0, 1, 1, 1, 1, 1, 1, 1, 1, 1, 1, 1, 1, 1, 1, 1, 1, 1, 1, 1, 1, 1], [1530, 1665, 37, 28, 5, 8, 307, 8, 434, 8, 3623, 5, 912, 5, 16, 5, 284, 0, 1, 1, 1, 1, 1, 1, 1, 1, 1, 1, 1, 1], [968, 3030, 5566, 30, 5, 8, 801, 3031, 8, 968, 201, 8, 968, 1654, 8, 2291, 5, 0, 1, 1, 1, 1, 1, 1, 1, 1, 1, 1, 1, 1], [3624, 516, 6, 3032, 15, 3033, 3034, 2029, 95, 2030, 25, 433, 25, 841, 25, 8, 25, 201, 25, 2612, 1406, 5, 8, 4374, 30, 5, 25, 25, 25, 0], [1045, 3626, 4375, 8, 11726, 7325, 5, 460, 1045, 105, 3627, 730, 10, 11727, 78, 3035, 32, 1814, 6, 64, 105, 287, 22, 913, 220, 6, 304, 6, 319, 0], [1412, 338, 5, 86, 31, 579, 5, 7327, 30, 5, 8, 1815, 671, 30, 8, 2293, 6, 870, 8, 4376, 6, 1531, 0, 1, 1, 1, 1, 1, 1, 1], [638, 127, 67, 5, 19, 26, 5, 130, 209, 5, 37, 5, 8, 1816, 8, 808, 1042, 8, 5567, 5568, 3628, 8, 696, 8, 696, 38, 8, 1817, 5, 0], [1230, 304, 74, 30, 5, 8, 168, 391, 8, 216, 25, 150, 563, 0, 1, 1, 1, 1, 1, 1, 1, 1, 1, 1, 1, 1, 1, 1, 1, 1], [11729, 697, 19, 26, 7328, 30, 0, 1, 1, 1, 1, 1, 1, 1, 1, 1, 1, 1, 1, 1, 1, 1, 1, 1, 1, 1, 1, 1, 1, 1], [2294, 391, 339, 283, 5, 8, 1818, 304, 25, 201, 25, 3037, 5, 75, 30, 0, 1, 1, 1, 1, 1, 1, 1, 1, 1, 1, 1, 1, 1, 1], [3, 3, 3, 3, 3, 3, 3, 3, 3, 3, 3, 3, 3, 3, 3, 3, 3, 3, 3, 3, 3, 3, 3, 3, 3, 3, 3, 3, 3, 3], [260, 3606, 113, 5, 207, 30, 0, 1, 1, 1, 1, 1, 1, 1, 1, 1, 1, 1, 1, 1, 1, 1, 1, 1, 1, 1, 1, 1, 1, 1], [1111, 8, 1661, 8, 1307, 5, 90, 30, 0, 1, 1, 1, 1, 1, 1, 1, 1, 1, 1, 1, 1, 1, 1, 1, 1, 1, 1, 1, 1, 1], [433, 1662, 293, 30, 5, 3615, 0, 1, 1, 1, 1, 1, 1, 1, 1, 1, 1, 1, 1, 1, 1, 1, 1, 1, 1, 1, 1, 1, 1, 1], [11711, 3026, 30, 5, 8, 7310, 8, 11712, 0, 1, 1, 1, 1, 1, 1, 1, 1, 1, 1, 1, 1, 1, 1, 1, 1, 1, 1, 1, 1, 1], [1811, 118, 5, 182, 17, 5, 3027, 14, 2287, 6, 4371, 410, 15, 7318, 14, 1043, 1237, 0, 1, 1, 1, 1, 1, 1, 1, 1, 1, 1, 1, 1], [236, 10, 2288, 5553, 324, 30, 5, 410, 118, 0, 1, 1, 1, 1, 1, 1, 1, 1, 1, 1, 1, 1, 1, 1, 1, 1, 1, 1, 1, 1], [266, 5554, 95, 1527, 5, 807, 54, 113, 5, 74, 30, 5, 1238, 3616, 31, 150, 216, 237, 248, 1238, 323, 5555, 7, 2606, 10, 5556, 10, 5557, 5, 0], [2608, 113, 5, 125, 30, 5, 22, 1175, 5, 459, 803, 11713, 2608, 1044, 22, 118, 1175, 5, 86, 31, 579, 323, 164, 599, 126, 5, 16, 5, 2609, 0], [11714, 11715, 16, 0, 1, 1, 1, 1, 1, 1, 1, 1, 1, 1, 1, 1, 1, 1, 1, 1, 1, 1, 1, 1, 1, 1, 1, 1, 1, 1], [3618, 1663, 3619, 189, 1663, 22, 87, 1663, 14, 14, 325, 732, 517, 2027, 5, 517, 5, 8, 5, 5558, 13, 7320, 760, 11716, 5, 8, 5, 5559, 13, 0], [1176, 10, 637, 11720, 30, 5, 8, 910, 150, 5561, 8, 910, 10, 1529, 8, 7322, 10, 1529, 8, 185, 911, 10, 1529, 0, 1, 1, 1, 1, 1, 1], [11721, 74, 5, 8, 2028, 8, 446, 11722, 8, 353, 546, 8, 2610, 1411, 546, 5, 7323, 30, 5, 11723, 11724, 323, 869, 7324, 15, 4372, 1112, 5, 1664, 0], [11725, 113, 5, 90, 30, 5, 910, 5562, 9, 2290, 6, 382, 5, 3620, 3621, 5, 1812, 0, 1, 1, 1, 1, 1, 1, 1, 1, 1, 1, 1, 1], [1111, 266, 236, 293, 30, 0, 1, 1, 1, 1, 1, 1, 1, 1, 1, 1, 1, 1, 1, 1, 1, 1, 1, 1, 1, 1, 1, 1, 1, 1], [1813, 5563, 9, 1812, 74, 30, 5, 0, 1, 1, 1, 1, 1, 1, 1, 1, 1, 1, 1, 1, 1, 1, 1, 1, 1, 1, 1, 1, 1, 1], [3, 3, 3, 3, 3, 3, 3, 3, 3, 3, 3, 3, 3, 3, 3, 3, 3, 3, 3, 3, 3, 3, 3, 3, 3, 3, 3, 3, 3, 3], [5569, 11730, 0, 1, 1, 1, 1, 1, 1, 1, 1, 1, 1, 1, 1, 1, 1, 1, 1, 1, 1, 1, 1, 1, 1, 1, 1, 1, 1, 1], [2295, 21, 23, 5, 8, 1309, 8, 2614, 8, 4377, 74, 44, 5, 19, 26, 0, 1, 1, 1, 1, 1, 1, 1, 1, 1, 1, 1, 1, 1, 1], [3629, 1310, 8, 1046, 8, 1113, 95, 871, 5, 11731, 29, 5, 8, 8, 5, 90, 5, 19, 26, 5, 86, 31, 579, 0, 1, 1, 1, 1, 1, 1], [2031, 1177, 19, 26, 125, 44, 5, 0, 1, 1, 1, 1, 1, 1, 1, 1, 1, 1, 1, 1, 1, 1, 1, 1, 1, 1, 1, 1, 1, 1], [1413, 19, 26, 5, 8, 2032, 8, 1666, 0, 1, 1, 1, 1, 1, 1, 1, 1, 1, 1, 1, 1, 1, 1, 1, 1, 1, 1, 1, 1, 1], [3630, 11732, 5, 8, 838, 155, 8, 7329, 2296, 5, 90, 44, 0, 1, 1, 1, 1, 1, 1, 1, 1, 1, 1, 1, 1, 1, 1, 1, 1, 1], [3631, 8, 400, 531, 5, 25, 698, 25, 461, 25, 462, 5, 432, 99, 7330, 44, 0, 1, 1, 1, 1, 1, 1, 1, 1, 1, 1, 1, 1, 1], [3038, 107, 26, 5, 963, 44, 5, 8, 733, 8, 761, 8, 2615, 0, 1, 1, 1, 1, 1, 1, 1, 1, 1, 1, 1, 1, 1, 1, 1, 1], [7331, 3039, 3632, 672, 19, 26, 5, 65, 44, 0, 1, 1, 1, 1, 1, 1, 1, 1, 1, 1, 1, 1, 1, 1, 1, 1, 1, 1, 1, 1], [5569, 4378, 19, 26, 308, 44, 5, 805, 178, 0, 1, 1, 1, 1, 1, 1, 1, 1, 1, 1, 1, 1, 1, 1, 1, 1, 1, 1, 1, 1], [3633, 1239, 19, 26, 5, 1414, 44, 5, 8, 842, 8, 1532, 0, 1, 1, 1, 1, 1, 1, 1, 1, 1, 1, 1, 1, 1, 1, 1, 1, 1], [11733, 3634, 16, 5, 11734, 5, 37, 12, 0, 1, 1, 1, 1, 1, 1, 1, 1, 1, 1, 1, 1, 1, 1, 1, 1, 1, 1, 1, 1, 1], [7332, 1239, 19, 26, 5, 127, 44, 5, 8, 842, 0, 1, 1, 1, 1, 1, 1, 1, 1, 1, 1, 1, 1, 1, 1, 1, 1, 1, 1, 1], [3, 3, 3, 3, 3, 3, 3, 3, 3, 3, 3, 3, 3, 3, 3, 3, 3, 3, 3, 3, 3, 3, 3, 3, 3, 3, 3, 3, 3, 3], [11665, 315, 67, 5, 7298, 25, 7298, 5, 37, 315, 5, 130, 209, 5, 149, 56, 1172, 230, 11666, 5, 79, 184, 22, 200, 210, 82, 3012, 6, 31, 0], [488, 118, 1653, 16, 5, 28, 5, 38, 5, 188, 131, 56, 11667, 14, 1173, 8, 3604, 8, 7300, 8, 11668, 8, 11669, 0, 1, 1, 1, 1, 1, 1], [11670, 7301, 5, 1037, 30, 0, 1, 1, 1, 1, 1, 1, 1, 1, 1, 1, 1, 1, 1, 1, 1, 1, 1, 1, 1, 1, 1, 1, 1, 1], [1038, 801, 1522, 3605, 2283, 2023, 29, 5, 8, 0, 1, 1, 1, 1, 1, 1, 1, 1, 1, 1, 1, 1, 1, 1, 1, 1, 1, 1, 1, 1], [1654, 15, 5539, 5540, 11671, 30, 5, 19, 26, 0, 1, 1, 1, 1, 1, 1, 1, 1, 1, 1, 1, 1, 1, 1, 1, 1, 1, 1, 1, 1], [1655, 11672, 5, 19, 26, 75, 30, 0, 1, 1, 1, 1, 1, 1, 1, 1, 1, 1, 1, 1, 1, 1, 1, 1, 1, 1, 1, 1, 1, 1], [1304, 4351, 30, 5, 8, 140, 8, 477, 5, 1806, 5, 432, 99, 0, 1, 1, 1, 1, 1, 1, 1, 1, 1, 1, 1, 1, 1, 1, 1, 1], [3013, 2599, 78, 29, 5, 8, 2284, 0, 1, 1, 1, 1, 1, 1, 1, 1, 1, 1, 1, 1, 1, 1, 1, 1, 1, 1, 1, 1, 1, 1], [1230, 304, 8, 838, 5, 90, 30, 5, 79, 184, 22, 200, 210, 46, 457, 6, 31, 196, 370, 3014, 126, 5, 86, 31, 579, 323, 0, 1, 1, 1], [3015, 4352, 30, 5, 25, 168, 25, 727, 5, 728, 579, 5, 8, 1231, 8, 1656, 8, 2024, 3016, 8, 236, 9, 695, 8, 3606, 8, 409, 1523, 8, 0], [3017, 79, 184, 22, 200, 210, 78, 457, 6, 31, 196, 370, 11673, 126, 5, 125, 30, 0, 1, 1, 1, 1, 1, 1, 1, 1, 1, 1, 1, 1], [3, 3, 3, 3, 3, 3, 3, 3, 3, 3, 3, 3, 3, 3, 3, 3, 3, 3, 3, 3, 3, 3, 3, 3, 3, 3, 3, 3, 3, 3], [1232, 164, 11674, 126, 5, 16, 5, 17, 86, 31, 579, 5, 150, 5, 8, 9, 1807, 52, 54, 118, 5, 666, 30, 0, 1, 1, 1, 1, 1, 1], [729, 759, 8, 4353, 4354, 8, 2600, 4355, 8, 802, 10, 908, 8, 118, 1657, 316, 1658, 8, 4356, 8, 4357, 5, 389, 30, 5, 1808, 34, 0, 1, 1], [2601, 11675, 1039, 225, 30, 0, 1, 1, 1, 1, 1, 1, 1, 1, 1, 1, 1, 1, 1, 1, 1, 1, 1, 1, 1, 1, 1, 1, 1, 1], [11676, 375, 1106, 44, 5, 1808, 34, 0, 1, 1, 1, 1, 1, 1, 1, 1, 1, 1, 1, 1, 1, 1, 1, 1, 1, 1, 1, 1, 1, 1], [7303, 10, 300, 125, 30, 5, 22, 1233, 0, 1, 1, 1, 1, 1, 1, 1, 1, 1, 1, 1, 1, 1, 1, 1, 1, 1, 1, 1, 1, 1], [1659, 8, 7304, 8, 4358, 11677, 8, 4358, 11678, 5, 293, 30, 0, 1, 1, 1, 1, 1, 1, 1, 1, 1, 1, 1, 1, 1, 1, 1, 1, 1], [3018, 11679, 30, 5, 8, 11680, 3018, 8, 11681, 3018, 5, 729, 759, 0, 1, 1, 1, 1, 1, 1, 1, 1, 1, 1, 1, 1, 1, 1, 1, 1], [1660, 530, 1107, 125, 30, 5, 193, 26, 0, 1, 1, 1, 1, 1, 1, 1, 1, 1, 1, 1, 1, 1, 1, 1, 1, 1, 1, 1, 1, 1], [4359, 3607, 5, 5541, 30, 5, 7305, 34, 0, 1, 1, 1, 1, 1, 1, 1, 1, 1, 1, 1, 1, 1, 1, 1, 1, 1, 1, 1, 1, 1], [1659, 1808, 34, 5, 8, 1404, 8, 803, 1524, 8, 176, 803, 3608, 3609, 8, 4360, 8, 4361, 8, 2025, 5542, 8, 3610, 8, 1809, 3019, 8, 530, 4362, 0], [1660, 5543, 1106, 30, 0, 1, 1, 1, 1, 1, 1, 1, 1, 1, 1, 1, 1, 1, 1, 1, 1, 1, 1, 1, 1, 1, 1, 1, 1, 1], [7306, 11682, 30, 5, 3607, 0, 1, 1, 1, 1, 1, 1, 1, 1, 1, 1, 1, 1, 1, 1, 1, 1, 1, 1, 1, 1, 1, 1, 1, 1], [11683, 10, 868, 90, 30, 5, 7307, 7, 211, 14, 93, 10, 89, 5, 4356, 0, 1, 1, 1, 1, 1, 1, 1, 1, 1, 1, 1, 1, 1, 1], [11684, 16, 5, 5544, 30, 0, 1, 1, 1, 1, 1, 1, 1, 1, 1, 1, 1, 1, 1, 1, 1, 1, 1, 1, 1, 1, 1, 1, 1, 1], [3, 3, 3, 3, 3, 3, 3, 3, 3, 3, 3, 3, 3, 3, 3, 3, 3, 3, 3, 3, 3, 3, 3, 3, 3, 3, 3, 3, 3, 3], [139, 2604, 458, 7312, 909, 5, 28, 5, 2286, 64, 32, 2605, 323, 0, 1, 1, 1, 1, 1, 1, 1, 1, 1, 1, 1, 1, 1, 1, 1, 1], [1234, 8, 1235, 8, 409, 1307, 8, 3024, 8, 4367, 10, 277, 8, 1235, 159, 54, 8, 3614, 159, 54, 8, 114, 11700, 8, 114, 3614, 5, 7313, 30, 0], [1526, 75, 30, 5, 10, 277, 5, 8, 479, 0, 1, 1, 1, 1, 1, 1, 1, 1, 1, 1, 1, 1, 1, 1, 1, 1, 1, 1, 1, 1], [964, 1407, 30, 5, 840, 5, 193, 26, 0, 1, 1, 1, 1, 1, 1, 1, 1, 1, 1, 1, 1, 1, 1, 1, 1, 1, 1, 1, 1, 1], [1408, 8, 11701, 25, 201, 25, 136, 965, 5, 25, 9, 1041, 5, 11702, 30, 5, 8, 1042, 5549, 8, 11703, 11704, 8, 11705, 8, 11706, 4368, 8, 5550, 0], [11707, 162, 30, 5, 728, 579, 0, 1, 1, 1, 1, 1, 1, 1, 1, 1, 1, 1, 1, 1, 1, 1, 1, 1, 1, 1, 1, 1, 1, 1], [4369, 8, 5, 74, 30, 5, 11708, 5, 1409, 32, 150, 5551, 0, 1, 1, 1, 1, 1, 1, 1, 1, 1, 1, 1, 1, 1, 1, 1, 1, 1], [7314, 1234, 5, 7315, 30, 5, 19, 26, 0, 1, 1, 1, 1, 1, 1, 1, 1, 1, 1, 1, 1, 1, 1, 1, 1, 1, 1, 1, 1, 1], [580, 730, 318, 113, 5, 806, 30, 0, 1, 1, 1, 1, 1, 1, 1, 1, 1, 1, 1, 1, 1, 1, 1, 1, 1, 1, 1, 1, 1, 1], [3025, 669, 125, 30, 5, 5, 19, 26, 0, 1, 1, 1, 1, 1, 1, 1, 1, 1, 1, 1, 1, 1, 1, 1, 1, 1, 1, 1, 1, 1], [504, 8, 5, 7316, 30, 5, 8, 5552, 8, 11709, 8, 11710, 0, 1, 1, 1, 1, 1, 1, 1, 1, 1, 1, 1, 1, 1, 1, 1, 1, 1], [4370, 1236, 74, 44, 5, 8, 1110, 8, 489, 0, 1, 1, 1, 1, 1, 1, 1, 1, 1, 1, 1, 1, 1, 1, 1, 1, 1, 1, 1, 1], [504, 109, 5, 75, 30, 5, 7317, 1661, 0, 1, 1, 1, 1, 1, 1, 1, 1, 1, 1, 1, 1, 1, 1, 1, 1, 1, 1, 1, 1, 1], [3, 3, 3, 3, 3, 3, 3, 3, 3, 3, 3, 3, 3, 3, 3, 3, 3, 3, 3, 3, 3, 3, 3, 3, 3, 3, 3, 3, 3, 3], [561, 804, 445, 6, 11685, 445, 15, 11686, 11687, 963, 44, 5, 52, 30, 0, 1, 1, 1, 1, 1, 1, 1, 1, 1, 1, 1, 1, 1, 1, 1], [1108, 516, 598, 1109, 5, 1405, 30, 5, 8, 11688, 8, 1406, 8, 804, 0, 1, 1, 1, 1, 1, 1, 1, 1, 1, 1, 1, 1, 1, 1, 1], [1305, 27, 17, 5, 1306, 1525, 5, 728, 579, 0, 1, 1, 1, 1, 1, 1, 1, 1, 1, 1, 1, 1, 1, 1, 1, 1, 1, 1, 1, 1], [11689, 90, 30, 0, 1, 1, 1, 1, 1, 1, 1, 1, 1, 1, 1, 1, 1, 1, 1, 1, 1, 1, 1, 1, 1, 1, 1, 1, 1, 1], [2285, 58, 2602, 5, 259, 225, 30, 5, 4364, 0, 1, 1, 1, 1, 1, 1, 1, 1, 1, 1, 1, 1, 1, 1, 1, 1, 1, 1, 1, 1], [11690, 6, 2603, 6, 3611, 15, 7308, 316, 317, 5545, 0, 1, 1, 1, 1, 1, 1, 1, 1, 1, 1, 1, 1, 1, 1, 1, 1, 1, 1, 1], [598, 1109, 7309, 104, 30, 5, 728, 579, 0, 1, 1, 1, 1, 1, 1, 1, 1, 1, 1, 1, 1, 1, 1, 1, 1, 1, 1, 1, 1, 1], [3612, 839, 5, 104, 30, 0, 1, 1, 1, 1, 1, 1, 1, 1, 1, 1, 1, 1, 1, 1, 1, 1, 1, 1, 1, 1, 1, 1, 1, 1], [4365, 11691, 54, 5, 90, 44, 0, 1, 1, 1, 1, 1, 1, 1, 1, 1, 1, 1, 1, 1, 1, 1, 1, 1, 1, 1, 1, 1, 1, 1], [667, 8, 7310, 7311, 8, 11692, 7311, 8, 3020, 11693, 8, 11694, 2026, 8, 11695, 8, 478, 5546, 8, 11696, 8, 1174, 2026, 8, 1174, 3613, 5, 503, 105, 0], [3022, 15, 11697, 0, 1, 1, 1, 1, 1, 1, 1, 1, 1, 1, 1, 1, 1, 1, 1, 1, 1, 1, 1, 1, 1, 1, 1, 1, 1, 1], [11698, 15, 11699, 5547, 30, 0, 1, 1, 1, 1, 1, 1, 1, 1, 1, 1, 1, 1, 1, 1, 1, 1, 1, 1, 1, 1, 1, 1, 1, 1], [3023, 248, 1040, 8, 10, 283, 8, 10, 5548, 5, 4366, 30, 0, 1, 1, 1, 1, 1, 1, 1, 1, 1, 1, 1, 1, 1, 1, 1, 1, 1], [1810, 668, 74, 30, 0, 1, 1, 1, 1, 1, 1, 1, 1, 1, 1, 1, 1, 1, 1, 1, 1, 1, 1, 1, 1, 1, 1, 1, 1, 1], [3, 3, 3, 3, 3, 3, 3, 3, 3, 3, 3, 3, 3, 3, 3, 3, 3, 3, 3, 3, 3, 3, 3, 3, 3, 3, 3, 3, 3, 3], [4, 4, 4, 4, 4, 4, 4, 4, 4, 4, 4, 4, 4, 4, 4, 4, 4, 4, 4, 4, 4, 4, 4, 4, 4, 4, 4, 4, 4, 4], [4, 4, 4, 4, 4, 4, 4, 4, 4, 4, 4, 4, 4, 4, 4, 4, 4, 4, 4, 4, 4, 4, 4, 4, 4, 4, 4, 4, 4, 4], [4, 4, 4, 4, 4, 4, 4, 4, 4, 4, 4, 4, 4, 4, 4, 4, 4, 4, 4, 4, 4, 4, 4, 4, 4, 4, 4, 4, 4, 4], [4, 4, 4, 4, 4, 4, 4, 4, 4, 4, 4, 4, 4, 4, 4, 4, 4, 4, 4, 4, 4, 4, 4, 4, 4, 4, 4, 4, 4, 4], [4, 4, 4, 4, 4, 4, 4, 4, 4, 4, 4, 4, 4, 4, 4, 4, 4, 4, 4, 4, 4, 4, 4, 4, 4, 4, 4, 4, 4, 4], [4, 4, 4, 4, 4, 4, 4, 4, 4, 4, 4, 4, 4, 4, 4, 4, 4, 4, 4, 4, 4, 4, 4, 4, 4, 4, 4, 4, 4, 4], [4, 4, 4, 4, 4, 4, 4, 4, 4, 4, 4, 4, 4, 4, 4, 4, 4, 4, 4, 4, 4, 4, 4, 4, 4, 4, 4, 4, 4, 4], [4, 4, 4, 4, 4, 4, 4, 4, 4, 4, 4, 4, 4, 4, 4, 4, 4, 4, 4, 4, 4, 4, 4, 4, 4, 4, 4, 4, 4, 4], [4, 4, 4, 4, 4, 4, 4, 4, 4, 4, 4, 4, 4, 4, 4, 4, 4, 4, 4, 4, 4, 4, 4, 4, 4, 4, 4, 4, 4, 4], [4, 4, 4, 4, 4, 4, 4, 4, 4, 4, 4, 4, 4, 4, 4, 4, 4, 4, 4, 4, 4, 4, 4, 4, 4, 4, 4, 4, 4, 4], [4, 4, 4, 4, 4, 4, 4, 4, 4, 4, 4, 4, 4, 4, 4, 4, 4, 4, 4, 4, 4, 4, 4, 4, 4, 4, 4, 4, 4, 4], [4, 4, 4, 4, 4, 4, 4, 4, 4, 4, 4, 4, 4, 4, 4, 4, 4, 4, 4, 4, 4, 4, 4, 4, 4, 4, 4, 4, 4, 4], [4, 4, 4, 4, 4, 4, 4, 4, 4, 4, 4, 4, 4, 4, 4, 4, 4, 4, 4, 4, 4, 4, 4, 4, 4, 4, 4, 4, 4, 4], [4, 4, 4, 4, 4, 4, 4, 4, 4, 4, 4, 4, 4, 4, 4, 4, 4, 4, 4, 4, 4, 4, 4, 4, 4, 4, 4, 4, 4, 4], [4, 4, 4, 4, 4, 4, 4, 4, 4, 4, 4, 4, 4, 4, 4, 4, 4, 4, 4, 4, 4, 4, 4, 4, 4, 4, 4, 4, 4, 4], [4, 4, 4, 4, 4, 4, 4, 4, 4, 4, 4, 4, 4, 4, 4, 4, 4, 4, 4, 4, 4, 4, 4, 4, 4, 4, 4, 4, 4, 4], [4, 4, 4, 4, 4, 4, 4, 4, 4, 4, 4, 4, 4, 4, 4, 4, 4, 4, 4, 4, 4, 4, 4, 4, 4, 4, 4, 4, 4, 4], [4, 4, 4, 4, 4, 4, 4, 4, 4, 4, 4, 4, 4, 4, 4, 4, 4, 4, 4, 4, 4, 4, 4, 4, 4, 4, 4, 4, 4, 4], [4, 4, 4, 4, 4, 4, 4, 4, 4, 4, 4, 4, 4, 4, 4, 4, 4, 4, 4, 4, 4, 4, 4, 4, 4, 4, 4, 4, 4, 4], [4, 4, 4, 4, 4, 4, 4, 4, 4, 4, 4, 4, 4, 4, 4, 4, 4, 4, 4, 4, 4, 4, 4, 4, 4, 4, 4, 4, 4, 4], [4, 4, 4, 4, 4, 4, 4, 4, 4, 4, 4, 4, 4, 4, 4, 4, 4, 4, 4, 4, 4, 4, 4, 4, 4, 4, 4, 4, 4, 4], [4, 4, 4, 4, 4, 4, 4, 4, 4, 4, 4, 4, 4, 4, 4, 4, 4, 4, 4, 4, 4, 4, 4, 4, 4, 4, 4, 4, 4, 4], [4, 4, 4, 4, 4, 4, 4, 4, 4, 4, 4, 4, 4, 4, 4, 4, 4, 4, 4, 4, 4, 4, 4, 4, 4, 4, 4, 4, 4, 4], [4, 4, 4, 4, 4, 4, 4, 4, 4, 4, 4, 4, 4, 4, 4, 4, 4, 4, 4, 4, 4, 4, 4, 4, 4, 4, 4, 4, 4, 4], [4, 4, 4, 4, 4, 4, 4, 4, 4, 4, 4, 4, 4, 4, 4, 4, 4, 4, 4, 4, 4, 4, 4, 4, 4, 4, 4, 4, 4, 4], [4, 4, 4, 4, 4, 4, 4, 4, 4, 4, 4, 4, 4, 4, 4, 4, 4, 4, 4, 4, 4, 4, 4, 4, 4, 4, 4, 4, 4, 4], [4, 4, 4, 4, 4, 4, 4, 4, 4, 4, 4, 4, 4, 4, 4, 4, 4, 4, 4, 4, 4, 4, 4, 4, 4, 4, 4, 4, 4, 4], [4, 4, 4, 4, 4, 4, 4, 4, 4, 4, 4, 4, 4, 4, 4, 4, 4, 4, 4, 4, 4, 4, 4, 4, 4, 4, 4, 4, 4, 4], [4, 4, 4, 4, 4, 4, 4, 4, 4, 4, 4, 4, 4, 4, 4, 4, 4, 4, 4, 4, 4, 4, 4, 4, 4, 4, 4, 4, 4, 4], [4, 4, 4, 4, 4, 4, 4, 4, 4, 4, 4, 4, 4, 4, 4, 4, 4, 4, 4, 4, 4, 4, 4, 4, 4, 4, 4, 4, 4, 4], [4, 4, 4, 4, 4, 4, 4, 4, 4, 4, 4, 4, 4, 4, 4, 4, 4, 4, 4, 4, 4, 4, 4, 4, 4, 4, 4, 4, 4, 4], [4, 4, 4, 4, 4, 4, 4, 4, 4, 4, 4, 4, 4, 4, 4, 4, 4, 4, 4, 4, 4, 4, 4, 4, 4, 4, 4, 4, 4, 4], [4, 4, 4, 4, 4, 4, 4, 4, 4, 4, 4, 4, 4, 4, 4, 4, 4, 4, 4, 4, 4, 4, 4, 4, 4, 4, 4, 4, 4, 4], [4, 4, 4, 4, 4, 4, 4, 4, 4, 4, 4, 4, 4, 4, 4, 4, 4, 4, 4, 4, 4, 4, 4, 4, 4, 4, 4, 4, 4, 4], [4, 4, 4, 4, 4, 4, 4, 4, 4, 4, 4, 4, 4, 4, 4, 4, 4, 4, 4, 4, 4, 4, 4, 4, 4, 4, 4, 4, 4, 4], [4, 4, 4, 4, 4, 4, 4, 4, 4, 4, 4, 4, 4, 4, 4, 4, 4, 4, 4, 4, 4, 4, 4, 4, 4, 4, 4, 4, 4, 4], [4, 4, 4, 4, 4, 4, 4, 4, 4, 4, 4, 4, 4, 4, 4, 4, 4, 4, 4, 4, 4, 4, 4, 4, 4, 4, 4, 4, 4, 4], [4, 4, 4, 4, 4, 4, 4, 4, 4, 4, 4, 4, 4, 4, 4, 4, 4, 4, 4, 4, 4, 4, 4, 4, 4, 4, 4, 4, 4, 4], [4, 4, 4, 4, 4, 4, 4, 4, 4, 4, 4, 4, 4, 4, 4, 4, 4, 4, 4, 4, 4, 4, 4, 4, 4, 4, 4, 4, 4, 4], [4, 4, 4, 4, 4, 4, 4, 4, 4, 4, 4, 4, 4, 4, 4, 4, 4, 4, 4, 4, 4, 4, 4, 4, 4, 4, 4, 4, 4, 4], [4, 4, 4, 4, 4, 4, 4, 4, 4, 4, 4, 4, 4, 4, 4, 4, 4, 4, 4, 4, 4, 4, 4, 4, 4, 4, 4, 4, 4, 4], [4, 4, 4, 4, 4, 4, 4, 4, 4, 4, 4, 4, 4, 4, 4, 4, 4, 4, 4, 4, 4, 4, 4, 4, 4, 4, 4, 4, 4, 4], [4, 4, 4, 4, 4, 4, 4, 4, 4, 4, 4, 4, 4, 4, 4, 4, 4, 4, 4, 4, 4, 4, 4, 4, 4, 4, 4, 4, 4, 4], [4, 4, 4, 4, 4, 4, 4, 4, 4, 4, 4, 4, 4, 4, 4, 4, 4, 4, 4, 4, 4, 4, 4, 4, 4, 4, 4, 4, 4, 4], [4, 4, 4, 4, 4, 4, 4, 4, 4, 4, 4, 4, 4, 4, 4, 4, 4, 4, 4, 4, 4, 4, 4, 4, 4, 4, 4, 4, 4, 4], [4, 4, 4, 4, 4, 4, 4, 4, 4, 4, 4, 4, 4, 4, 4, 4, 4, 4, 4, 4, 4, 4, 4, 4, 4, 4, 4, 4, 4, 4], [4, 4, 4, 4, 4, 4, 4, 4, 4, 4, 4, 4, 4, 4, 4, 4, 4, 4, 4, 4, 4, 4, 4, 4, 4, 4, 4, 4, 4, 4], [4, 4, 4, 4, 4, 4, 4, 4, 4, 4, 4, 4, 4, 4, 4, 4, 4, 4, 4, 4, 4, 4, 4, 4, 4, 4, 4, 4, 4, 4], [4, 4, 4, 4, 4, 4, 4, 4, 4, 4, 4, 4, 4, 4, 4, 4, 4, 4, 4, 4, 4, 4, 4, 4, 4, 4, 4, 4, 4, 4], [4, 4, 4, 4, 4, 4, 4, 4, 4, 4, 4, 4, 4, 4, 4, 4, 4, 4, 4, 4, 4, 4, 4, 4, 4, 4, 4, 4, 4, 4], [4, 4, 4, 4, 4, 4, 4, 4, 4, 4, 4, 4, 4, 4, 4, 4, 4, 4, 4, 4, 4, 4, 4, 4, 4, 4, 4, 4, 4, 4], [4, 4, 4, 4, 4, 4, 4, 4, 4, 4, 4, 4, 4, 4, 4, 4, 4, 4, 4, 4, 4, 4, 4, 4, 4, 4, 4, 4, 4, 4], [4, 4, 4, 4, 4, 4, 4, 4, 4, 4, 4, 4, 4, 4, 4, 4, 4, 4, 4, 4, 4, 4, 4, 4, 4, 4, 4, 4, 4, 4], [4, 4, 4, 4, 4, 4, 4, 4, 4, 4, 4, 4, 4, 4, 4, 4, 4, 4, 4, 4, 4, 4, 4, 4, 4, 4, 4, 4, 4, 4], [4, 4, 4, 4, 4, 4, 4, 4, 4, 4, 4, 4, 4, 4, 4, 4, 4, 4, 4, 4, 4, 4, 4, 4, 4, 4, 4, 4, 4, 4], [4, 4, 4, 4, 4, 4, 4, 4, 4, 4, 4, 4, 4, 4, 4, 4, 4, 4, 4, 4, 4, 4, 4, 4, 4, 4, 4, 4, 4, 4], [4, 4, 4, 4, 4, 4, 4, 4, 4, 4, 4, 4, 4, 4, 4, 4, 4, 4, 4, 4, 4, 4, 4, 4, 4, 4, 4, 4, 4, 4], [4, 4, 4, 4, 4, 4, 4, 4, 4, 4, 4, 4, 4, 4, 4, 4, 4, 4, 4, 4, 4, 4, 4, 4, 4, 4, 4, 4, 4, 4], [4, 4, 4, 4, 4, 4, 4, 4, 4, 4, 4, 4, 4, 4, 4, 4, 4, 4, 4, 4, 4, 4, 4, 4, 4, 4, 4, 4, 4, 4], [4, 4, 4, 4, 4, 4, 4, 4, 4, 4, 4, 4, 4, 4, 4, 4, 4, 4, 4, 4, 4, 4, 4, 4, 4, 4, 4, 4, 4, 4], [4, 4, 4, 4, 4, 4, 4, 4, 4, 4, 4, 4, 4, 4, 4, 4, 4, 4, 4, 4, 4, 4, 4, 4, 4, 4, 4, 4, 4, 4], [4, 4, 4, 4, 4, 4, 4, 4, 4, 4, 4, 4, 4, 4, 4, 4, 4, 4, 4, 4, 4, 4, 4, 4, 4, 4, 4, 4, 4, 4], [4, 4, 4, 4, 4, 4, 4, 4, 4, 4, 4, 4, 4, 4, 4, 4, 4, 4, 4, 4, 4, 4, 4, 4, 4, 4, 4, 4, 4, 4], [4, 4, 4, 4, 4, 4, 4, 4, 4, 4, 4, 4, 4, 4, 4, 4, 4, 4, 4, 4, 4, 4, 4, 4, 4, 4, 4, 4, 4, 4], [4, 4, 4, 4, 4, 4, 4, 4, 4, 4, 4, 4, 4, 4, 4, 4, 4, 4, 4, 4, 4, 4, 4, 4, 4, 4, 4, 4, 4, 4], [4, 4, 4, 4, 4, 4, 4, 4, 4, 4, 4, 4, 4, 4, 4, 4, 4, 4, 4, 4, 4, 4, 4, 4, 4, 4, 4, 4, 4, 4], [4, 4, 4, 4, 4, 4, 4, 4, 4, 4, 4, 4, 4, 4, 4, 4, 4, 4, 4, 4, 4, 4, 4, 4, 4, 4, 4, 4, 4, 4], [4, 4, 4, 4, 4, 4, 4, 4, 4, 4, 4, 4, 4, 4, 4, 4, 4, 4, 4, 4, 4, 4, 4, 4, 4, 4, 4, 4, 4, 4], [4, 4, 4, 4, 4, 4, 4, 4, 4, 4, 4, 4, 4, 4, 4, 4, 4, 4, 4, 4, 4, 4, 4, 4, 4, 4, 4, 4, 4, 4], [4, 4, 4, 4, 4, 4, 4, 4, 4, 4, 4, 4, 4, 4, 4, 4, 4, 4, 4, 4, 4, 4, 4, 4, 4, 4, 4, 4, 4, 4], [4, 4, 4, 4, 4, 4, 4, 4, 4, 4, 4, 4, 4, 4, 4, 4, 4, 4, 4, 4, 4, 4, 4, 4, 4, 4, 4, 4, 4, 4], [4, 4, 4, 4, 4, 4, 4, 4, 4, 4, 4, 4, 4, 4, 4, 4, 4, 4, 4, 4, 4, 4, 4, 4, 4, 4, 4, 4, 4, 4], [4, 4, 4, 4, 4, 4, 4, 4, 4, 4, 4, 4, 4, 4, 4, 4, 4, 4, 4, 4, 4, 4, 4, 4, 4, 4, 4, 4, 4, 4], [4, 4, 4, 4, 4, 4, 4, 4, 4, 4, 4, 4, 4, 4, 4, 4, 4, 4, 4, 4, 4, 4, 4, 4, 4, 4, 4, 4, 4, 4], [4, 4, 4, 4, 4, 4, 4, 4, 4, 4, 4, 4, 4, 4, 4, 4, 4, 4, 4, 4, 4, 4, 4, 4, 4, 4, 4, 4, 4, 4], [4, 4, 4, 4, 4, 4, 4, 4, 4, 4, 4, 4, 4, 4, 4, 4, 4, 4, 4, 4, 4, 4, 4, 4, 4, 4, 4, 4, 4, 4], [4, 4, 4, 4, 4, 4, 4, 4, 4, 4, 4, 4, 4, 4, 4, 4, 4, 4, 4, 4, 4, 4, 4, 4, 4, 4, 4, 4, 4, 4], [4, 4, 4, 4, 4, 4, 4, 4, 4, 4, 4, 4, 4, 4, 4, 4, 4, 4, 4, 4, 4, 4, 4, 4, 4, 4, 4, 4, 4, 4], [4, 4, 4, 4, 4, 4, 4, 4, 4, 4, 4, 4, 4, 4, 4, 4, 4, 4, 4, 4, 4, 4, 4, 4, 4, 4, 4, 4, 4, 4], [4, 4, 4, 4, 4, 4, 4, 4, 4, 4, 4, 4, 4, 4, 4, 4, 4, 4, 4, 4, 4, 4, 4, 4, 4, 4, 4, 4, 4, 4], [4, 4, 4, 4, 4, 4, 4, 4, 4, 4, 4, 4, 4, 4, 4, 4, 4, 4, 4, 4, 4, 4, 4, 4, 4, 4, 4, 4, 4, 4], [4, 4, 4, 4, 4, 4, 4, 4, 4, 4, 4, 4, 4, 4, 4, 4, 4, 4, 4, 4, 4, 4, 4, 4, 4, 4, 4, 4, 4, 4], [4, 4, 4, 4, 4, 4, 4, 4, 4, 4, 4, 4, 4, 4, 4, 4, 4, 4, 4, 4, 4, 4, 4, 4, 4, 4, 4, 4, 4, 4], [4, 4, 4, 4, 4, 4, 4, 4, 4, 4, 4, 4, 4, 4, 4, 4, 4, 4, 4, 4, 4, 4, 4, 4, 4, 4, 4, 4, 4, 4], [4, 4, 4, 4, 4, 4, 4, 4, 4, 4, 4, 4, 4, 4, 4, 4, 4, 4, 4, 4, 4, 4, 4, 4, 4, 4, 4, 4, 4, 4], [4, 4, 4, 4, 4, 4, 4, 4, 4, 4, 4, 4, 4, 4, 4, 4, 4, 4, 4, 4, 4, 4, 4, 4, 4, 4, 4, 4, 4, 4], [4, 4, 4, 4, 4, 4, 4, 4, 4, 4, 4, 4, 4, 4, 4, 4, 4, 4, 4, 4, 4, 4, 4, 4, 4, 4, 4, 4, 4, 4], [4, 4, 4, 4, 4, 4, 4, 4, 4, 4, 4, 4, 4, 4, 4, 4, 4, 4, 4, 4, 4, 4, 4, 4, 4, 4, 4, 4, 4, 4], [4, 4, 4, 4, 4, 4, 4, 4, 4, 4, 4, 4, 4, 4, 4, 4, 4, 4, 4, 4, 4, 4, 4, 4, 4, 4, 4, 4, 4, 4], [4, 4, 4, 4, 4, 4, 4, 4, 4, 4, 4, 4, 4, 4, 4, 4, 4, 4, 4, 4, 4, 4, 4, 4, 4, 4, 4, 4, 4, 4], [4, 4, 4, 4, 4, 4, 4, 4, 4, 4, 4, 4, 4, 4, 4, 4, 4, 4, 4, 4, 4, 4, 4, 4, 4, 4, 4, 4, 4, 4], [4, 4, 4, 4, 4, 4, 4, 4, 4, 4, 4, 4, 4, 4, 4, 4, 4, 4, 4, 4, 4, 4, 4, 4, 4, 4, 4, 4, 4, 4], [4, 4, 4, 4, 4, 4, 4, 4, 4, 4, 4, 4, 4, 4, 4, 4, 4, 4, 4, 4, 4, 4, 4, 4, 4, 4, 4, 4, 4, 4], [4, 4, 4, 4, 4, 4, 4, 4, 4, 4, 4, 4, 4, 4, 4, 4, 4, 4, 4, 4, 4, 4, 4, 4, 4, 4, 4, 4, 4, 4], [4, 4, 4, 4, 4, 4, 4, 4, 4, 4, 4, 4, 4, 4, 4, 4, 4, 4, 4, 4, 4, 4, 4, 4, 4, 4, 4, 4, 4, 4], [4, 4, 4, 4, 4, 4, 4, 4, 4, 4, 4, 4, 4, 4, 4, 4, 4, 4, 4, 4, 4, 4, 4, 4, 4, 4, 4, 4, 4, 4], [4, 4, 4, 4, 4, 4, 4, 4, 4, 4, 4, 4, 4, 4, 4, 4, 4, 4, 4, 4, 4, 4, 4, 4, 4, 4, 4, 4, 4, 4], [4, 4, 4, 4, 4, 4, 4, 4, 4, 4, 4, 4, 4, 4, 4, 4, 4, 4, 4, 4, 4, 4, 4, 4, 4, 4, 4, 4, 4, 4], [4, 4, 4, 4, 4, 4, 4, 4, 4, 4, 4, 4, 4, 4, 4, 4, 4, 4, 4, 4, 4, 4, 4, 4, 4, 4, 4, 4, 4, 4], [4, 4, 4, 4, 4, 4, 4, 4, 4, 4, 4, 4, 4, 4, 4, 4, 4, 4, 4, 4, 4, 4, 4, 4, 4, 4, 4, 4, 4, 4], [4, 4, 4, 4, 4, 4, 4, 4, 4, 4, 4, 4, 4, 4, 4, 4, 4, 4, 4, 4, 4, 4, 4, 4, 4, 4, 4, 4, 4, 4], [4, 4, 4, 4, 4, 4, 4, 4, 4, 4, 4, 4, 4, 4, 4, 4, 4, 4, 4, 4, 4, 4, 4, 4, 4, 4, 4, 4, 4, 4]]</td>\n",
       "      <td>[1, 1, 1, 2, 2, 3, 3, 2, 1, 1, 1, 0, 2, 2, 1, 1, 2, 1, 3, 2, 2, 2, 2, 3, 1, 1, 1, 0, 2, 2, 3, 1, 1, 1, 3, 1, 1, 3, 2, 1, 2, 0, 2, 2, 1, 1, 2, 1, 1, 1, 3, 3, 2, 0, 3, 3, 1, 2, 1, 1, 2, 1, 3, 3, 1, 1, 1, 1, 0, 1, 2, 1, 2, 3, 2, 2, 1, 2, 2, 2, 1, 1, 0, 1, 2, 3, 1, 1, 3, 2, 1, 1, 3, 2, 1, 1, 1, 0, -1, -1, -1, -1, -1, -1, -1, -1, -1, -1, -1, -1, -1, -1, -1, -1, -1, -1, -1, -1, -1, -1, -1, -1, -1, -1, -1, -1, -1, -1, -1, -1, -1, -1, -1, -1, -1, -1, -1, -1, -1, -1, -1, -1, -1, -1, -1, -1, -1, -1, -1, -1, -1, -1, -1, -1, -1, -1, -1, -1, -1, -1, -1, -1, -1, -1, -1, -1, -1, -1, -1, -1, -1, -1, -1, -1, -1, -1, -1, -1, -1, -1, -1, -1, -1, -1, -1, -1, -1, -1, -1, -1, -1, -1, -1, -1, -1, -1, -1, -1, -1, -1]</td>\n",
       "      <td>91</td>\n",
       "      <td>[[4, 4, 4, 4, 4, 4, 4, 4, 4, 4, 4, 4, 4, 4, 4, 4, 4, 4, 4, 4, 4, 4, 4, 4, 4, 4, 4, 4, 4, 4], [4, 4, 4, 4, 4, 4, 4, 4, 4, 4, 4, 4, 4, 4, 4, 4, 4, 4, 4, 4, 4, 4, 4, 4, 4, 4, 4, 4, 4, 4], [4, 4, 4, 4, 4, 4, 4, 4, 4, 4, 4, 4, 4, 4, 4, 4, 4, 4, 4, 4, 4, 4, 4, 4, 4, 4, 4, 4, 4, 4], [4, 4, 4, 4, 4, 4, 4, 4, 4, 4, 4, 4, 4, 4, 4, 4, 4, 4, 4, 4, 4, 4, 4, 4, 4, 4, 4, 4, 4, 4], [4, 4, 4, 4, 4, 4, 4, 4, 4, 4, 4, 4, 4, 4, 4, 4, 4, 4, 4, 4, 4, 4, 4, 4, 4, 4, 4, 4, 4, 4], [4, 4, 4, 4, 4, 4, 4, 4, 4, 4, 4, 4, 4, 4, 4, 4, 4, 4, 4, 4, 4, 4, 4, 4, 4, 4, 4, 4, 4, 4], [2608, 113, 5, 125, 30, 5, 22, 1175, 5, 459, 803, 11713, 2608, 1044, 22, 118, 1175, 5, 86, 31, 579, 323, 164, 599, 126, 5, 16, 5, 2609, 0], [4, 4, 4, 4, 4, 4, 4, 4, 4, 4, 4, 4, 4, 4, 4, 4, 4, 4, 4, 4, 4, 4, 4, 4, 4, 4, 4, 4, 4, 4], [3630, 11732, 5, 8, 838, 155, 8, 7329, 2296, 5, 90, 44, 0, 1, 1, 1, 1, 1, 1, 1, 1, 1, 1, 1, 1, 1, 1, 1, 1, 1], [4, 4, 4, 4, 4, 4, 4, 4, 4, 4, 4, 4, 4, 4, 4, 4, 4, 4, 4, 4, 4, 4, 4, 4, 4, 4, 4, 4, 4, 4], [4, 4, 4, 4, 4, 4, 4, 4, 4, 4, 4, 4, 4, 4, 4, 4, 4, 4, 4, 4, 4, 4, 4, 4, 4, 4, 4, 4, 4, 4], [4, 4, 4, 4, 4, 4, 4, 4, 4, 4, 4, 4, 4, 4, 4, 4, 4, 4, 4, 4, 4, 4, 4, 4, 4, 4, 4, 4, 4, 4], [1111, 266, 236, 293, 30, 0, 1, 1, 1, 1, 1, 1, 1, 1, 1, 1, 1, 1, 1, 1, 1, 1, 1, 1, 1, 1, 1, 1, 1, 1], [260, 3606, 113, 5, 207, 30, 0, 1, 1, 1, 1, 1, 1, 1, 1, 1, 1, 1, 1, 1, 1, 1, 1, 1, 1, 1, 1, 1, 1, 1], [5564, 432, 99, 8, 3029, 966, 8, 434, 8, 3622, 248, 5565, 0, 1, 1, 1, 1, 1, 1, 1, 1, 1, 1, 1, 1, 1, 1, 1, 1, 1], [3, 3, 3, 3, 3, 3, 3, 3, 3, 3, 3, 3, 3, 3, 3, 3, 3, 3, 3, 3, 3, 3, 3, 3, 3, 3, 3, 3, 3, 3], [1045, 3626, 4375, 8, 11726, 7325, 5, 460, 1045, 105, 3627, 730, 10, 11727, 78, 3035, 32, 1814, 6, 64, 105, 287, 22, 913, 220, 6, 304, 6, 319, 0], [4, 4, 4, 4, 4, 4, 4, 4, 4, 4, 4, 4, 4, 4, 4, 4, 4, 4, 4, 4, 4, 4, 4, 4, 4, 4, 4, 4, 4, 4], [1176, 10, 637, 11720, 30, 5, 8, 910, 150, 5561, 8, 910, 10, 1529, 8, 7322, 10, 1529, 8, 185, 911, 10, 1529, 0, 1, 1, 1, 1, 1, 1], [3, 3, 3, 3, 3, 3, 3, 3, 3, 3, 3, 3, 3, 3, 3, 3, 3, 3, 3, 3, 3, 3, 3, 3, 3, 3, 3, 3, 3, 3], [3025, 669, 125, 30, 5, 5, 19, 26, 0, 1, 1, 1, 1, 1, 1, 1, 1, 1, 1, 1, 1, 1, 1, 1, 1, 1, 1, 1, 1, 1], [11689, 90, 30, 0, 1, 1, 1, 1, 1, 1, 1, 1, 1, 1, 1, 1, 1, 1, 1, 1, 1, 1, 1, 1, 1, 1, 1, 1, 1, 1], [4, 4, 4, 4, 4, 4, 4, 4, 4, 4, 4, 4, 4, 4, 4, 4, 4, 4, 4, 4, 4, 4, 4, 4, 4, 4, 4, 4, 4, 4], [3038, 107, 26, 5, 963, 44, 5, 8, 733, 8, 761, 8, 2615, 0, 1, 1, 1, 1, 1, 1, 1, 1, 1, 1, 1, 1, 1, 1, 1, 1], [1108, 516, 598, 1109, 5, 1405, 30, 5, 8, 11688, 8, 1406, 8, 804, 0, 1, 1, 1, 1, 1, 1, 1, 1, 1, 1, 1, 1, 1, 1, 1], [4, 4, 4, 4, 4, 4, 4, 4, 4, 4, 4, 4, 4, 4, 4, 4, 4, 4, 4, 4, 4, 4, 4, 4, 4, 4, 4, 4, 4, 4], [4, 4, 4, 4, 4, 4, 4, 4, 4, 4, 4, 4, 4, 4, 4, 4, 4, 4, 4, 4, 4, 4, 4, 4, 4, 4, 4, 4, 4, 4], [598, 1109, 7309, 104, 30, 5, 728, 579, 0, 1, 1, 1, 1, 1, 1, 1, 1, 1, 1, 1, 1, 1, 1, 1, 1, 1, 1, 1, 1, 1], [4, 4, 4, 4, 4, 4, 4, 4, 4, 4, 4, 4, 4, 4, 4, 4, 4, 4, 4, 4, 4, 4, 4, 4, 4, 4, 4, 4, 4, 4], [4365, 11691, 54, 5, 90, 44, 0, 1, 1, 1, 1, 1, 1, 1, 1, 1, 1, 1, 1, 1, 1, 1, 1, 1, 1, 1, 1, 1, 1, 1], [4, 4, 4, 4, 4, 4, 4, 4, 4, 4, 4, 4, 4, 4, 4, 4, 4, 4, 4, 4, 4, 4, 4, 4, 4, 4, 4, 4, 4, 4], [4, 4, 4, 4, 4, 4, 4, 4, 4, 4, 4, 4, 4, 4, 4, 4, 4, 4, 4, 4, 4, 4, 4, 4, 4, 4, 4, 4, 4, 4], [11725, 113, 5, 90, 30, 5, 910, 5562, 9, 2290, 6, 382, 5, 3620, 3621, 5, 1812, 0, 1, 1, 1, 1, 1, 1, 1, 1, 1, 1, 1, 1], [4, 4, 4, 4, 4, 4, 4, 4, 4, 4, 4, 4, 4, 4, 4, 4, 4, 4, 4, 4, 4, 4, 4, 4, 4, 4, 4, 4, 4, 4], [1304, 4351, 30, 5, 8, 140, 8, 477, 5, 1806, 5, 432, 99, 0, 1, 1, 1, 1, 1, 1, 1, 1, 1, 1, 1, 1, 1, 1, 1, 1], [4, 4, 4, 4, 4, 4, 4, 4, 4, 4, 4, 4, 4, 4, 4, 4, 4, 4, 4, 4, 4, 4, 4, 4, 4, 4, 4, 4, 4, 4], [4369, 8, 5, 74, 30, 5, 11708, 5, 1409, 32, 150, 5551, 0, 1, 1, 1, 1, 1, 1, 1, 1, 1, 1, 1, 1, 1, 1, 1, 1, 1], [1659, 8, 7304, 8, 4358, 11677, 8, 4358, 11678, 5, 293, 30, 0, 1, 1, 1, 1, 1, 1, 1, 1, 1, 1, 1, 1, 1, 1, 1, 1, 1], [3017, 79, 184, 22, 200, 210, 78, 457, 6, 31, 196, 370, 11673, 126, 5, 125, 30, 0, 1, 1, 1, 1, 1, 1, 1, 1, 1, 1, 1, 1], [4, 4, 4, 4, 4, 4, 4, 4, 4, 4, 4, 4, 4, 4, 4, 4, 4, 4, 4, 4, 4, 4, 4, 4, 4, 4, 4, 4, 4, 4], [4, 4, 4, 4, 4, 4, 4, 4, 4, 4, 4, 4, 4, 4, 4, 4, 4, 4, 4, 4, 4, 4, 4, 4, 4, 4, 4, 4, 4, 4], [4, 4, 4, 4, 4, 4, 4, 4, 4, 4, 4, 4, 4, 4, 4, 4, 4, 4, 4, 4, 4, 4, 4, 4, 4, 4, 4, 4, 4, 4], [1810, 668, 74, 30, 0, 1, 1, 1, 1, 1, 1, 1, 1, 1, 1, 1, 1, 1, 1, 1, 1, 1, 1, 1, 1, 1, 1, 1, 1, 1], [4, 4, 4, 4, 4, 4, 4, 4, 4, 4, 4, 4, 4, 4, 4, 4, 4, 4, 4, 4, 4, 4, 4, 4, 4, 4, 4, 4, 4, 4], [5569, 11730, 0, 1, 1, 1, 1, 1, 1, 1, 1, 1, 1, 1, 1, 1, 1, 1, 1, 1, 1, 1, 1, 1, 1, 1, 1, 1, 1, 1], [4, 4, 4, 4, 4, 4, 4, 4, 4, 4, 4, 4, 4, 4, 4, 4, 4, 4, 4, 4, 4, 4, 4, 4, 4, 4, 4, 4, 4, 4], [4, 4, 4, 4, 4, 4, 4, 4, 4, 4, 4, 4, 4, 4, 4, 4, 4, 4, 4, 4, 4, 4, 4, 4, 4, 4, 4, 4, 4, 4], [11665, 315, 67, 5, 7298, 25, 7298, 5, 37, 315, 5, 130, 209, 5, 149, 56, 1172, 230, 11666, 5, 79, 184, 22, 200, 210, 82, 3012, 6, 31, 0], [4, 4, 4, 4, 4, 4, 4, 4, 4, 4, 4, 4, 4, 4, 4, 4, 4, 4, 4, 4, 4, 4, 4, 4, 4, 4, 4, 4, 4, 4], [2294, 391, 339, 283, 5, 8, 1818, 304, 25, 201, 25, 3037, 5, 75, 30, 0, 1, 1, 1, 1, 1, 1, 1, 1, 1, 1, 1, 1, 1, 1], [4, 4, 4, 4, 4, 4, 4, 4, 4, 4, 4, 4, 4, 4, 4, 4, 4, 4, 4, 4, 4, 4, 4, 4, 4, 4, 4, 4, 4, 4], [4, 4, 4, 4, 4, 4, 4, 4, 4, 4, 4, 4, 4, 4, 4, 4, 4, 4, 4, 4, 4, 4, 4, 4, 4, 4, 4, 4, 4, 4], [4, 4, 4, 4, 4, 4, 4, 4, 4, 4, 4, 4, 4, 4, 4, 4, 4, 4, 4, 4, 4, 4, 4, 4, 4, 4, 4, 4, 4, 4], [1111, 8, 1661, 8, 1307, 5, 90, 30, 0, 1, 1, 1, 1, 1, 1, 1, 1, 1, 1, 1, 1, 1, 1, 1, 1, 1, 1, 1, 1, 1], [4, 4, 4, 4, 4, 4, 4, 4, 4, 4, 4, 4, 4, 4, 4, 4, 4, 4, 4, 4, 4, 4, 4, 4, 4, 4, 4, 4, 4, 4], [4, 4, 4, 4, 4, 4, 4, 4, 4, 4, 4, 4, 4, 4, 4, 4, 4, 4, 4, 4, 4, 4, 4, 4, 4, 4, 4, 4, 4, 4], [4, 4, 4, 4, 4, 4, 4, 4, 4, 4, 4, 4, 4, 4, 4, 4, 4, 4, 4, 4, 4, 4, 4, 4, 4, 4, 4, 4, 4, 4], [4, 4, 4, 4, 4, 4, 4, 4, 4, 4, 4, 4, 4, 4, 4, 4, 4, 4, 4, 4, 4, 4, 4, 4, 4, 4, 4, 4, 4, 4], [4, 4, 4, 4, 4, 4, 4, 4, 4, 4, 4, 4, 4, 4, 4, 4, 4, 4, 4, 4, 4, 4, 4, 4, 4, 4, 4, 4, 4, 4], [4, 4, 4, 4, 4, 4, 4, 4, 4, 4, 4, 4, 4, 4, 4, 4, 4, 4, 4, 4, 4, 4, 4, 4, 4, 4, 4, 4, 4, 4], [3023, 248, 1040, 8, 10, 283, 8, 10, 5548, 5, 4366, 30, 0, 1, 1, 1, 1, 1, 1, 1, 1, 1, 1, 1, 1, 1, 1, 1, 1, 1], [4, 4, 4, 4, 4, 4, 4, 4, 4, 4, 4, 4, 4, 4, 4, 4, 4, 4, 4, 4, 4, 4, 4, 4, 4, 4, 4, 4, 4, 4], [433, 1662, 293, 30, 5, 3615, 0, 1, 1, 1, 1, 1, 1, 1, 1, 1, 1, 1, 1, 1, 1, 1, 1, 1, 1, 1, 1, 1, 1, 1], [2031, 1177, 19, 26, 125, 44, 5, 0, 1, 1, 1, 1, 1, 1, 1, 1, 1, 1, 1, 1, 1, 1, 1, 1, 1, 1, 1, 1, 1, 1], [4, 4, 4, 4, 4, 4, 4, 4, 4, 4, 4, 4, 4, 4, 4, 4, 4, 4, 4, 4, 4, 4, 4, 4, 4, 4, 4, 4, 4, 4], [1811, 118, 5, 182, 17, 5, 3027, 14, 2287, 6, 4371, 410, 15, 7318, 14, 1043, 1237, 0, 1, 1, 1, 1, 1, 1, 1, 1, 1, 1, 1, 1], [4, 4, 4, 4, 4, 4, 4, 4, 4, 4, 4, 4, 4, 4, 4, 4, 4, 4, 4, 4, 4, 4, 4, 4, 4, 4, 4, 4, 4, 4], [4, 4, 4, 4, 4, 4, 4, 4, 4, 4, 4, 4, 4, 4, 4, 4, 4, 4, 4, 4, 4, 4, 4, 4, 4, 4, 4, 4, 4, 4], [4, 4, 4, 4, 4, 4, 4, 4, 4, 4, 4, 4, 4, 4, 4, 4, 4, 4, 4, 4, 4, 4, 4, 4, 4, 4, 4, 4, 4, 4], [4, 4, 4, 4, 4, 4, 4, 4, 4, 4, 4, 4, 4, 4, 4, 4, 4, 4, 4, 4, 4, 4, 4, 4, 4, 4, 4, 4, 4, 4], [11690, 6, 2603, 6, 3611, 15, 7308, 316, 317, 5545, 0, 1, 1, 1, 1, 1, 1, 1, 1, 1, 1, 1, 1, 1, 1, 1, 1, 1, 1, 1], [4373, 8, 201, 8, 967, 5, 2611, 44, 0, 1, 1, 1, 1, 1, 1, 1, 1, 1, 1, 1, 1, 1, 1, 1, 1, 1, 1, 1, 1, 1], [7332, 1239, 19, 26, 5, 127, 44, 5, 8, 842, 0, 1, 1, 1, 1, 1, 1, 1, 1, 1, 1, 1, 1, 1, 1, 1, 1, 1, 1, 1], [1655, 11672, 5, 19, 26, 75, 30, 0, 1, 1, 1, 1, 1, 1, 1, 1, 1, 1, 1, 1, 1, 1, 1, 1, 1, 1, 1, 1, 1, 1], [4, 4, 4, 4, 4, 4, 4, 4, 4, 4, 4, 4, 4, 4, 4, 4, 4, 4, 4, 4, 4, 4, 4, 4, 4, 4, 4, 4, 4, 4], [968, 3030, 5566, 30, 5, 8, 801, 3031, 8, 968, 201, 8, 968, 1654, 8, 2291, 5, 0, 1, 1, 1, 1, 1, 1, 1, 1, 1, 1, 1, 1], [4, 4, 4, 4, 4, 4, 4, 4, 4, 4, 4, 4, 4, 4, 4, 4, 4, 4, 4, 4, 4, 4, 4, 4, 4, 4, 4, 4, 4, 4], [3, 3, 3, 3, 3, 3, 3, 3, 3, 3, 3, 3, 3, 3, 3, 3, 3, 3, 3, 3, 3, 3, 3, 3, 3, 3, 3, 3, 3, 3], [1530, 1665, 37, 28, 5, 8, 307, 8, 434, 8, 3623, 5, 912, 5, 16, 5, 284, 0, 1, 1, 1, 1, 1, 1, 1, 1, 1, 1, 1, 1], [1412, 338, 5, 86, 31, 579, 5, 7327, 30, 5, 8, 1815, 671, 30, 8, 2293, 6, 870, 8, 4376, 6, 1531, 0, 1, 1, 1, 1, 1, 1, 1], [4, 4, 4, 4, 4, 4, 4, 4, 4, 4, 4, 4, 4, 4, 4, 4, 4, 4, 4, 4, 4, 4, 4, 4, 4, 4, 4, 4, 4, 4], [4, 4, 4, 4, 4, 4, 4, 4, 4, 4, 4, 4, 4, 4, 4, 4, 4, 4, 4, 4, 4, 4, 4, 4, 4, 4, 4, 4, 4, 4], [4, 4, 4, 4, 4, 4, 4, 4, 4, 4, 4, 4, 4, 4, 4, 4, 4, 4, 4, 4, 4, 4, 4, 4, 4, 4, 4, 4, 4, 4], [2601, 11675, 1039, 225, 30, 0, 1, 1, 1, 1, 1, 1, 1, 1, 1, 1, 1, 1, 1, 1, 1, 1, 1, 1, 1, 1, 1, 1, 1, 1], [7331, 3039, 3632, 672, 19, 26, 5, 65, 44, 0, 1, 1, 1, 1, 1, 1, 1, 1, 1, 1, 1, 1, 1, 1, 1, 1, 1, 1, 1, 1], [4, 4, 4, 4, 4, 4, 4, 4, 4, 4, 4, 4, 4, 4, 4, 4, 4, 4, 4, 4, 4, 4, 4, 4, 4, 4, 4, 4, 4, 4], [3, 3, 3, 3, 3, 3, 3, 3, 3, 3, 3, 3, 3, 3, 3, 3, 3, 3, 3, 3, 3, 3, 3, 3, 3, 3, 3, 3, 3, 3], [4, 4, 4, 4, 4, 4, 4, 4, 4, 4, 4, 4, 4, 4, 4, 4, 4, 4, 4, 4, 4, 4, 4, 4, 4, 4, 4, 4, 4, 4], [4, 4, 4, 4, 4, 4, 4, 4, 4, 4, 4, 4, 4, 4, 4, 4, 4, 4, 4, 4, 4, 4, 4, 4, 4, 4, 4, 4, 4, 4], [4, 4, 4, 4, 4, 4, 4, 4, 4, 4, 4, 4, 4, 4, 4, 4, 4, 4, 4, 4, 4, 4, 4, 4, 4, 4, 4, 4, 4, 4], [4, 4, 4, 4, 4, 4, 4, 4, 4, 4, 4, 4, 4, 4, 4, 4, 4, 4, 4, 4, 4, 4, 4, 4, 4, 4, 4, 4, 4, 4], [4, 4, 4, 4, 4, 4, 4, 4, 4, 4, 4, 4, 4, 4, 4, 4, 4, 4, 4, 4, 4, 4, 4, 4, 4, 4, 4, 4, 4, 4], [11676, 375, 1106, 44, 5, 1808, 34, 0, 1, 1, 1, 1, 1, 1, 1, 1, 1, 1, 1, 1, 1, 1, 1, 1, 1, 1, 1, 1, 1, 1], [3022, 15, 11697, 0, 1, 1, 1, 1, 1, 1, 1, 1, 1, 1, 1, 1, 1, 1, 1, 1, 1, 1, 1, 1, 1, 1, 1, 1, 1, 1], [11714, 11715, 16, 0, 1, 1, 1, 1, 1, 1, 1, 1, 1, 1, 1, 1, 1, 1, 1, 1, 1, 1, 1, 1, 1, 1, 1, 1, 1, 1], [1232, 164, 11674, 126, 5, 16, 5, 17, 86, 31, 579, 5, 150, 5, 8, 9, 1807, 52, 54, 118, 5, 666, 30, 0, 1, 1, 1, 1, 1, 1], [667, 8, 7310, 7311, 8, 11692, 7311, 8, 3020, 11693, 8, 11694, 2026, 8, 11695, 8, 478, 5546, 8, 11696, 8, 1174, 2026, 8, 1174, 3613, 5, 503, 105, 0], [1654, 15, 5539, 5540, 11671, 30, 5, 19, 26, 0, 1, 1, 1, 1, 1, 1, 1, 1, 1, 1, 1, 1, 1, 1, 1, 1, 1, 1, 1, 1], [3631, 8, 400, 531, 5, 25, 698, 25, 461, 25, 462, 5, 432, 99, 7330, 44, 0, 1, 1, 1, 1, 1, 1, 1, 1, 1, 1, 1, 1, 1], [1038, 801, 1522, 3605, 2283, 2023, 29, 5, 8, 0, 1, 1, 1, 1, 1, 1, 1, 1, 1, 1, 1, 1, 1, 1, 1, 1, 1, 1, 1, 1], [4, 4, 4, 4, 4, 4, 4, 4, 4, 4, 4, 4, 4, 4, 4, 4, 4, 4, 4, 4, 4, 4, 4, 4, 4, 4, 4, 4, 4, 4], [11729, 697, 19, 26, 7328, 30, 0, 1, 1, 1, 1, 1, 1, 1, 1, 1, 1, 1, 1, 1, 1, 1, 1, 1, 1, 1, 1, 1, 1, 1], [7303, 10, 300, 125, 30, 5, 22, 1233, 0, 1, 1, 1, 1, 1, 1, 1, 1, 1, 1, 1, 1, 1, 1, 1, 1, 1, 1, 1, 1, 1], [4, 4, 4, 4, 4, 4, 4, 4, 4, 4, 4, 4, 4, 4, 4, 4, 4, 4, 4, 4, 4, 4, 4, 4, 4, 4, 4, 4, 4, 4], [4, 4, 4, 4, 4, 4, 4, 4, 4, 4, 4, 4, 4, 4, 4, 4, 4, 4, 4, 4, 4, 4, 4, 4, 4, 4, 4, 4, 4, 4], [4, 4, 4, 4, 4, 4, 4, 4, 4, 4, 4, 4, 4, 4, 4, 4, 4, 4, 4, 4, 4, 4, 4, 4, 4, 4, 4, 4, 4, 4], [4, 4, 4, 4, 4, 4, 4, 4, 4, 4, 4, 4, 4, 4, 4, 4, 4, 4, 4, 4, 4, 4, 4, 4, 4, 4, 4, 4, 4, 4], [4, 4, 4, 4, 4, 4, 4, 4, 4, 4, 4, 4, 4, 4, 4, 4, 4, 4, 4, 4, 4, 4, 4, 4, 4, 4, 4, 4, 4, 4], [4, 4, 4, 4, 4, 4, 4, 4, 4, 4, 4, 4, 4, 4, 4, 4, 4, 4, 4, 4, 4, 4, 4, 4, 4, 4, 4, 4, 4, 4], [4, 4, 4, 4, 4, 4, 4, 4, 4, 4, 4, 4, 4, 4, 4, 4, 4, 4, 4, 4, 4, 4, 4, 4, 4, 4, 4, 4, 4, 4], [4, 4, 4, 4, 4, 4, 4, 4, 4, 4, 4, 4, 4, 4, 4, 4, 4, 4, 4, 4, 4, 4, 4, 4, 4, 4, 4, 4, 4, 4], [4, 4, 4, 4, 4, 4, 4, 4, 4, 4, 4, 4, 4, 4, 4, 4, 4, 4, 4, 4, 4, 4, 4, 4, 4, 4, 4, 4, 4, 4], [1660, 5543, 1106, 30, 0, 1, 1, 1, 1, 1, 1, 1, 1, 1, 1, 1, 1, 1, 1, 1, 1, 1, 1, 1, 1, 1, 1, 1, 1, 1], [2285, 58, 2602, 5, 259, 225, 30, 5, 4364, 0, 1, 1, 1, 1, 1, 1, 1, 1, 1, 1, 1, 1, 1, 1, 1, 1, 1, 1, 1, 1], [3618, 1663, 3619, 189, 1663, 22, 87, 1663, 14, 14, 325, 732, 517, 2027, 5, 517, 5, 8, 5, 5558, 13, 7320, 760, 11716, 5, 8, 5, 5559, 13, 0], [4370, 1236, 74, 44, 5, 8, 1110, 8, 489, 0, 1, 1, 1, 1, 1, 1, 1, 1, 1, 1, 1, 1, 1, 1, 1, 1, 1, 1, 1, 1], [3624, 516, 6, 3032, 15, 3033, 3034, 2029, 95, 2030, 25, 433, 25, 841, 25, 8, 25, 201, 25, 2612, 1406, 5, 8, 4374, 30, 5, 25, 25, 25, 0], [3013, 2599, 78, 29, 5, 8, 2284, 0, 1, 1, 1, 1, 1, 1, 1, 1, 1, 1, 1, 1, 1, 1, 1, 1, 1, 1, 1, 1, 1, 1], [4, 4, 4, 4, 4, 4, 4, 4, 4, 4, 4, 4, 4, 4, 4, 4, 4, 4, 4, 4, 4, 4, 4, 4, 4, 4, 4, 4, 4, 4], [4, 4, 4, 4, 4, 4, 4, 4, 4, 4, 4, 4, 4, 4, 4, 4, 4, 4, 4, 4, 4, 4, 4, 4, 4, 4, 4, 4, 4, 4], [11721, 74, 5, 8, 2028, 8, 446, 11722, 8, 353, 546, 8, 2610, 1411, 546, 5, 7323, 30, 5, 11723, 11724, 323, 869, 7324, 15, 4372, 1112, 5, 1664, 0], [638, 127, 67, 5, 19, 26, 5, 130, 209, 5, 37, 5, 8, 1816, 8, 808, 1042, 8, 5567, 5568, 3628, 8, 696, 8, 696, 38, 8, 1817, 5, 0], [4359, 3607, 5, 5541, 30, 5, 7305, 34, 0, 1, 1, 1, 1, 1, 1, 1, 1, 1, 1, 1, 1, 1, 1, 1, 1, 1, 1, 1, 1, 1], [4, 4, 4, 4, 4, 4, 4, 4, 4, 4, 4, 4, 4, 4, 4, 4, 4, 4, 4, 4, 4, 4, 4, 4, 4, 4, 4, 4, 4, 4], [4, 4, 4, 4, 4, 4, 4, 4, 4, 4, 4, 4, 4, 4, 4, 4, 4, 4, 4, 4, 4, 4, 4, 4, 4, 4, 4, 4, 4, 4], [1230, 304, 8, 838, 5, 90, 30, 5, 79, 184, 22, 200, 210, 46, 457, 6, 31, 196, 370, 3014, 126, 5, 86, 31, 579, 323, 0, 1, 1, 1], [4, 4, 4, 4, 4, 4, 4, 4, 4, 4, 4, 4, 4, 4, 4, 4, 4, 4, 4, 4, 4, 4, 4, 4, 4, 4, 4, 4, 4, 4], [4, 4, 4, 4, 4, 4, 4, 4, 4, 4, 4, 4, 4, 4, 4, 4, 4, 4, 4, 4, 4, 4, 4, 4, 4, 4, 4, 4, 4, 4], [1305, 27, 17, 5, 1306, 1525, 5, 728, 579, 0, 1, 1, 1, 1, 1, 1, 1, 1, 1, 1, 1, 1, 1, 1, 1, 1, 1, 1, 1, 1], [11670, 7301, 5, 1037, 30, 0, 1, 1, 1, 1, 1, 1, 1, 1, 1, 1, 1, 1, 1, 1, 1, 1, 1, 1, 1, 1, 1, 1, 1, 1], [561, 804, 445, 6, 11685, 445, 15, 11686, 11687, 963, 44, 5, 52, 30, 0, 1, 1, 1, 1, 1, 1, 1, 1, 1, 1, 1, 1, 1, 1, 1], [4, 4, 4, 4, 4, 4, 4, 4, 4, 4, 4, 4, 4, 4, 4, 4, 4, 4, 4, 4, 4, 4, 4, 4, 4, 4, 4, 4, 4, 4], [1526, 75, 30, 5, 10, 277, 5, 8, 479, 0, 1, 1, 1, 1, 1, 1, 1, 1, 1, 1, 1, 1, 1, 1, 1, 1, 1, 1, 1, 1], [4, 4, 4, 4, 4, 4, 4, 4, 4, 4, 4, 4, 4, 4, 4, 4, 4, 4, 4, 4, 4, 4, 4, 4, 4, 4, 4, 4, 4, 4], [4, 4, 4, 4, 4, 4, 4, 4, 4, 4, 4, 4, 4, 4, 4, 4, 4, 4, 4, 4, 4, 4, 4, 4, 4, 4, 4, 4, 4, 4], [3015, 4352, 30, 5, 25, 168, 25, 727, 5, 728, 579, 5, 8, 1231, 8, 1656, 8, 2024, 3016, 8, 236, 9, 695, 8, 3606, 8, 409, 1523, 8, 0], [4, 4, 4, 4, 4, 4, 4, 4, 4, 4, 4, 4, 4, 4, 4, 4, 4, 4, 4, 4, 4, 4, 4, 4, 4, 4, 4, 4, 4, 4], [4, 4, 4, 4, 4, 4, 4, 4, 4, 4, 4, 4, 4, 4, 4, 4, 4, 4, 4, 4, 4, 4, 4, 4, 4, 4, 4, 4, 4, 4], [11684, 16, 5, 5544, 30, 0, 1, 1, 1, 1, 1, 1, 1, 1, 1, 1, 1, 1, 1, 1, 1, 1, 1, 1, 1, 1, 1, 1, 1, 1], [4, 4, 4, 4, 4, 4, 4, 4, 4, 4, 4, 4, 4, 4, 4, 4, 4, 4, 4, 4, 4, 4, 4, 4, 4, 4, 4, 4, 4, 4], [4, 4, 4, 4, 4, 4, 4, 4, 4, 4, 4, 4, 4, 4, 4, 4, 4, 4, 4, 4, 4, 4, 4, 4, 4, 4, 4, 4, 4, 4], [7314, 1234, 5, 7315, 30, 5, 19, 26, 0, 1, 1, 1, 1, 1, 1, 1, 1, 1, 1, 1, 1, 1, 1, 1, 1, 1, 1, 1, 1, 1], [504, 8, 5, 7316, 30, 5, 8, 5552, 8, 11709, 8, 11710, 0, 1, 1, 1, 1, 1, 1, 1, 1, 1, 1, 1, 1, 1, 1, 1, 1, 1], [4, 4, 4, 4, 4, 4, 4, 4, 4, 4, 4, 4, 4, 4, 4, 4, 4, 4, 4, 4, 4, 4, 4, 4, 4, 4, 4, 4, 4, 4], [1408, 8, 11701, 25, 201, 25, 136, 965, 5, 25, 9, 1041, 5, 11702, 30, 5, 8, 1042, 5549, 8, 11703, 11704, 8, 11705, 8, 11706, 4368, 8, 5550, 0], [964, 1407, 30, 5, 840, 5, 193, 26, 0, 1, 1, 1, 1, 1, 1, 1, 1, 1, 1, 1, 1, 1, 1, 1, 1, 1, 1, 1, 1, 1], [4, 4, 4, 4, 4, 4, 4, 4, 4, 4, 4, 4, 4, 4, 4, 4, 4, 4, 4, 4, 4, 4, 4, 4, 4, 4, 4, 4, 4, 4], [4, 4, 4, 4, 4, 4, 4, 4, 4, 4, 4, 4, 4, 4, 4, 4, 4, 4, 4, 4, 4, 4, 4, 4, 4, 4, 4, 4, 4, 4], [1230, 304, 74, 30, 5, 8, 168, 391, 8, 216, 25, 150, 563, 0, 1, 1, 1, 1, 1, 1, 1, 1, 1, 1, 1, 1, 1, 1, 1, 1], [4, 4, 4, 4, 4, 4, 4, 4, 4, 4, 4, 4, 4, 4, 4, 4, 4, 4, 4, 4, 4, 4, 4, 4, 4, 4, 4, 4, 4, 4], [3, 3, 3, 3, 3, 3, 3, 3, 3, 3, 3, 3, 3, 3, 3, 3, 3, 3, 3, 3, 3, 3, 3, 3, 3, 3, 3, 3, 3, 3], [5569, 4378, 19, 26, 308, 44, 5, 805, 178, 0, 1, 1, 1, 1, 1, 1, 1, 1, 1, 1, 1, 1, 1, 1, 1, 1, 1, 1, 1, 1], [3612, 839, 5, 104, 30, 0, 1, 1, 1, 1, 1, 1, 1, 1, 1, 1, 1, 1, 1, 1, 1, 1, 1, 1, 1, 1, 1, 1, 1, 1], [4, 4, 4, 4, 4, 4, 4, 4, 4, 4, 4, 4, 4, 4, 4, 4, 4, 4, 4, 4, 4, 4, 4, 4, 4, 4, 4, 4, 4, 4], [4, 4, 4, 4, 4, 4, 4, 4, 4, 4, 4, 4, 4, 4, 4, 4, 4, 4, 4, 4, 4, 4, 4, 4, 4, 4, 4, 4, 4, 4], [11711, 3026, 30, 5, 8, 7310, 8, 11712, 0, 1, 1, 1, 1, 1, 1, 1, 1, 1, 1, 1, 1, 1, 1, 1, 1, 1, 1, 1, 1, 1], [4, 4, 4, 4, 4, 4, 4, 4, 4, 4, 4, 4, 4, 4, 4, 4, 4, 4, 4, 4, 4, 4, 4, 4, 4, 4, 4, 4, 4, 4], [11683, 10, 868, 90, 30, 5, 7307, 7, 211, 14, 93, 10, 89, 5, 4356, 0, 1, 1, 1, 1, 1, 1, 1, 1, 1, 1, 1, 1, 1, 1], [4, 4, 4, 4, 4, 4, 4, 4, 4, 4, 4, 4, 4, 4, 4, 4, 4, 4, 4, 4, 4, 4, 4, 4, 4, 4, 4, 4, 4, 4], [236, 10, 2288, 5553, 324, 30, 5, 410, 118, 0, 1, 1, 1, 1, 1, 1, 1, 1, 1, 1, 1, 1, 1, 1, 1, 1, 1, 1, 1, 1], [4, 4, 4, 4, 4, 4, 4, 4, 4, 4, 4, 4, 4, 4, 4, 4, 4, 4, 4, 4, 4, 4, 4, 4, 4, 4, 4, 4, 4, 4], [4, 4, 4, 4, 4, 4, 4, 4, 4, 4, 4, 4, 4, 4, 4, 4, 4, 4, 4, 4, 4, 4, 4, 4, 4, 4, 4, 4, 4, 4], [4, 4, 4, 4, 4, 4, 4, 4, 4, 4, 4, 4, 4, 4, 4, 4, 4, 4, 4, 4, 4, 4, 4, 4, 4, 4, 4, 4, 4, 4], [11733, 3634, 16, 5, 11734, 5, 37, 12, 0, 1, 1, 1, 1, 1, 1, 1, 1, 1, 1, 1, 1, 1, 1, 1, 1, 1, 1, 1, 1, 1], [729, 759, 8, 4353, 4354, 8, 2600, 4355, 8, 802, 10, 908, 8, 118, 1657, 316, 1658, 8, 4356, 8, 4357, 5, 389, 30, 5, 1808, 34, 0, 1, 1], [2295, 21, 23, 5, 8, 1309, 8, 2614, 8, 4377, 74, 44, 5, 19, 26, 0, 1, 1, 1, 1, 1, 1, 1, 1, 1, 1, 1, 1, 1, 1], [1813, 5563, 9, 1812, 74, 30, 5, 0, 1, 1, 1, 1, 1, 1, 1, 1, 1, 1, 1, 1, 1, 1, 1, 1, 1, 1, 1, 1, 1, 1], [266, 5554, 95, 1527, 5, 807, 54, 113, 5, 74, 30, 5, 1238, 3616, 31, 150, 216, 237, 248, 1238, 323, 5555, 7, 2606, 10, 5556, 10, 5557, 5, 0], [4, 4, 4, 4, 4, 4, 4, 4, 4, 4, 4, 4, 4, 4, 4, 4, 4, 4, 4, 4, 4, 4, 4, 4, 4, 4, 4, 4, 4, 4], [4, 4, 4, 4, 4, 4, 4, 4, 4, 4, 4, 4, 4, 4, 4, 4, 4, 4, 4, 4, 4, 4, 4, 4, 4, 4, 4, 4, 4, 4], [3018, 11679, 30, 5, 8, 11680, 3018, 8, 11681, 3018, 5, 729, 759, 0, 1, 1, 1, 1, 1, 1, 1, 1, 1, 1, 1, 1, 1, 1, 1, 1], [4, 4, 4, 4, 4, 4, 4, 4, 4, 4, 4, 4, 4, 4, 4, 4, 4, 4, 4, 4, 4, 4, 4, 4, 4, 4, 4, 4, 4, 4], [4, 4, 4, 4, 4, 4, 4, 4, 4, 4, 4, 4, 4, 4, 4, 4, 4, 4, 4, 4, 4, 4, 4, 4, 4, 4, 4, 4, 4, 4], [11698, 15, 11699, 5547, 30, 0, 1, 1, 1, 1, 1, 1, 1, 1, 1, 1, 1, 1, 1, 1, 1, 1, 1, 1, 1, 1, 1, 1, 1, 1], [3, 3, 3, 3, 3, 3, 3, 3, 3, 3, 3, 3, 3, 3, 3, 3, 3, 3, 3, 3, 3, 3, 3, 3, 3, 3, 3, 3, 3, 3], [504, 109, 5, 75, 30, 5, 7317, 1661, 0, 1, 1, 1, 1, 1, 1, 1, 1, 1, 1, 1, 1, 1, 1, 1, 1, 1, 1, 1, 1, 1], [4, 4, 4, 4, 4, 4, 4, 4, 4, 4, 4, 4, 4, 4, 4, 4, 4, 4, 4, 4, 4, 4, 4, 4, 4, 4, 4, 4, 4, 4], [4, 4, 4, 4, 4, 4, 4, 4, 4, 4, 4, 4, 4, 4, 4, 4, 4, 4, 4, 4, 4, 4, 4, 4, 4, 4, 4, 4, 4, 4], [580, 730, 318, 113, 5, 806, 30, 0, 1, 1, 1, 1, 1, 1, 1, 1, 1, 1, 1, 1, 1, 1, 1, 1, 1, 1, 1, 1, 1, 1], [1234, 8, 1235, 8, 409, 1307, 8, 3024, 8, 4367, 10, 277, 8, 1235, 159, 54, 8, 3614, 159, 54, 8, 114, 11700, 8, 114, 3614, 5, 7313, 30, 0], [4, 4, 4, 4, 4, 4, 4, 4, 4, 4, 4, 4, 4, 4, 4, 4, 4, 4, 4, 4, 4, 4, 4, 4, 4, 4, 4, 4, 4, 4], [11707, 162, 30, 5, 728, 579, 0, 1, 1, 1, 1, 1, 1, 1, 1, 1, 1, 1, 1, 1, 1, 1, 1, 1, 1, 1, 1, 1, 1, 1], [4, 4, 4, 4, 4, 4, 4, 4, 4, 4, 4, 4, 4, 4, 4, 4, 4, 4, 4, 4, 4, 4, 4, 4, 4, 4, 4, 4, 4, 4], [3629, 1310, 8, 1046, 8, 1113, 95, 871, 5, 11731, 29, 5, 8, 8, 5, 90, 5, 19, 26, 5, 86, 31, 579, 0, 1, 1, 1, 1, 1, 1], [139, 2604, 458, 7312, 909, 5, 28, 5, 2286, 64, 32, 2605, 323, 0, 1, 1, 1, 1, 1, 1, 1, 1, 1, 1, 1, 1, 1, 1, 1, 1], [4, 4, 4, 4, 4, 4, 4, 4, 4, 4, 4, 4, 4, 4, 4, 4, 4, 4, 4, 4, 4, 4, 4, 4, 4, 4, 4, 4, 4, 4], [7306, 11682, 30, 5, 3607, 0, 1, 1, 1, 1, 1, 1, 1, 1, 1, 1, 1, 1, 1, 1, 1, 1, 1, 1, 1, 1, 1, 1, 1, 1], [4, 4, 4, 4, 4, 4, 4, 4, 4, 4, 4, 4, 4, 4, 4, 4, 4, 4, 4, 4, 4, 4, 4, 4, 4, 4, 4, 4, 4, 4], [1659, 1808, 34, 5, 8, 1404, 8, 803, 1524, 8, 176, 803, 3608, 3609, 8, 4360, 8, 4361, 8, 2025, 5542, 8, 3610, 8, 1809, 3019, 8, 530, 4362, 0], [488, 118, 1653, 16, 5, 28, 5, 38, 5, 188, 131, 56, 11667, 14, 1173, 8, 3604, 8, 7300, 8, 11668, 8, 11669, 0, 1, 1, 1, 1, 1, 1], [4, 4, 4, 4, 4, 4, 4, 4, 4, 4, 4, 4, 4, 4, 4, 4, 4, 4, 4, 4, 4, 4, 4, 4, 4, 4, 4, 4, 4, 4], [4, 4, 4, 4, 4, 4, 4, 4, 4, 4, 4, 4, 4, 4, 4, 4, 4, 4, 4, 4, 4, 4, 4, 4, 4, 4, 4, 4, 4, 4], [3633, 1239, 19, 26, 5, 1414, 44, 5, 8, 842, 8, 1532, 0, 1, 1, 1, 1, 1, 1, 1, 1, 1, 1, 1, 1, 1, 1, 1, 1, 1], [4, 4, 4, 4, 4, 4, 4, 4, 4, 4, 4, 4, 4, 4, 4, 4, 4, 4, 4, 4, 4, 4, 4, 4, 4, 4, 4, 4, 4, 4], [4, 4, 4, 4, 4, 4, 4, 4, 4, 4, 4, 4, 4, 4, 4, 4, 4, 4, 4, 4, 4, 4, 4, 4, 4, 4, 4, 4, 4, 4], [3, 3, 3, 3, 3, 3, 3, 3, 3, 3, 3, 3, 3, 3, 3, 3, 3, 3, 3, 3, 3, 3, 3, 3, 3, 3, 3, 3, 3, 3], [4, 4, 4, 4, 4, 4, 4, 4, 4, 4, 4, 4, 4, 4, 4, 4, 4, 4, 4, 4, 4, 4, 4, 4, 4, 4, 4, 4, 4, 4], [4, 4, 4, 4, 4, 4, 4, 4, 4, 4, 4, 4, 4, 4, 4, 4, 4, 4, 4, 4, 4, 4, 4, 4, 4, 4, 4, 4, 4, 4], [1413, 19, 26, 5, 8, 2032, 8, 1666, 0, 1, 1, 1, 1, 1, 1, 1, 1, 1, 1, 1, 1, 1, 1, 1, 1, 1, 1, 1, 1, 1], [1660, 530, 1107, 125, 30, 5, 193, 26, 0, 1, 1, 1, 1, 1, 1, 1, 1, 1, 1, 1, 1, 1, 1, 1, 1, 1, 1, 1, 1, 1]]</td>\n",
       "      <td>[14, 71, 78, 75, 116, 16, 79, 121, 148, 101, 49, 174, 13, 53, 62, 155, 65, 159, 167, 6, 94, 114, 18, 120, 32, 12, 166, 150, 44, 165, 183, 63, 198, 8, 98, 23, 84, 151, 192, 163, 72, 15, 47, 189, 129, 99, 97, 73, 34, 117, 125, 135, 38, 19, 95, 164, 83, 92, 102, 37, 170, 199, 122, 188, 112, 186, 157, 138, 195, 184, 179, 132, 145, 144, 181, 36, 141, 178, 20, 142, 115, 175, 77, 130, 24, 128, 21, 113, 70, 27, 152, 29, 96, 93, 173, 60, 42, 86, 194, 30, 39, 68, 57, 131, 5, 127, 22, 76, 59, 197, 149, 11, 52, 74, 111, 168, 26, 182, 3, 106, 46, 104, 140, 169, 119, 162, 35, 118, 45, 51, 193, 9, 156, 103, 90, 160, 58, 81, 67, 196, 143, 133, 134, 85, 82, 69, 43, 1, 107, 137, 66, 177, 91, 124, 108, 180, 61, 54, 7, 41, 50, 87, 33, 28, 89, 64, 154, 158, 17, 0, 187, 40, 126, 190, 185, 191, 147, 172, 80, 139, 171, 100, 31, 56, 153, 2, 109, 4, 176, 161, 136, 123, 48, 55, 10, 88, 146, 105, 25, 110]</td>\n",
       "    </tr>\n",
       "  </tbody>\n",
       "</table>\n",
       "</div>"
      ],
      "text/plain": [
       "  catalog_id                                                                                  section_ids                                                                                                                                                                                                                                                                                                                                                                                                                                                                                                                                                                                                                                                                                                                                                                                                                                                                                                                                                                                                                                                                                                                                                                                                                                                                                                                                                                                                                                                                                                                                                                                                                                                                                                                                                                                                                                                                                                                                                                                                                                                                                                                                                                                                                                                                                                                                                                                                                                                                                                                                                                                                                                                                                                                                                                                                                                                                                                                                                                                                                                                                                                                                                                                                                                                                                                                                                             offer_ids_with_pb                                                                                                                                                                                                                                                                                                                                                                                                                                                                                                                                                                                                                                                                                                                                                                                                                                                                                                                                                                                                                                                                                                                                                                                                                                                                                                                                                                                                                                                                                                                                                                                                                                                                                                                                                                                                                                                                                                                                                                                                                                                                                                                                                                                                                                                                                                                                                                                                                                                                                                                                                                                                                                                                                                                                                                                                                                                                                                                                                                                                                                                                                                                                                                                                                                                                                                                                                                                                                                                                                                                                                                                                                                                                                                                                                                                                                                                                                                                                                                                                                                                                                                                                                                                                                                                                                                                                                                                                                                                                                                                                                                                                                                                                                                                                                                                                                                                                                                                                                                                                                                                                                                                                                                                                                                                                                                                                                                                                                                                                                                                                                                                                                                                                                                                                                                                                                                                                                                                                                                                                                                                                                                                                                                                                                                                                                                                                                                                                                                                                                                                                                                                                                                                                                                                                                                                                                                                                                                                                                                                                                                                                                                                                                                                                                                                                                                                                                                                                                                                                                                                                                                                                                                                                                                                                                                                                                                                                                                                                                                                                                                                                                                                                                                                                                                                                                                                                                                                                                                                                                                                                                                                                                                                                                                                                                                                                                                                                                                                                                                                                                                                                                                                                                                                                                                                                                                                                                                                                                                                                                                                                                                                                                                                                                                                                                                                                                                                                                                                                                                                                                                                                                                                                                                                                                                                                                                                                                                                                                                                                                                                                                                                                                                                                                                                                                                                                                                                                                                                                                                                                                                                                                                                                                                                                                                                                                                                                                                                                                                                                                                                                                                                                                                                                                                                                                                                                                                                                                                                                                                                                                                                                                                                                                                                                                                                                                                                                                                                                                                                                                                                                                                                                                                                                                                                                                                                                                                                                                                                                                                                                                                                                                                                                                                                                                                                                                                                                                                                                                                                                                                                                                                                                                                                                                                                                                                                                                                                                                                                                                                                                                                                                                                                                                                                                                                                                                                                                                                                                                                                                                                                                                                                                                                                                                                                                                                                                                                                                                                                                                                                                                                                                                                                                                                                                                                                                                                                                                                                                                                                                                                                                                                                                                                                                                                                                                                                                                                                                                                                                                                                                                                                                                                                                                                                                                                                                                                                                                                                                                                                                                                                                                                                                                                                                                                                                                                                                                                                                                                                                                                                                                                                                                                                                                                                                                                                                                                                                                                                                                                                                                                                                                                                                                                                                                                                                                                                                                                                                                                                                                                                                                                                                                                                                                                                                                                                                                                                                                                                                                                                                                                                                                                                                                                                                                                                                                                                                                                                                                                                                                                                                                                                                                                                                                                                                                                                                                                                                                                                                                                                                                                                                                                                                                                                                                                                                                                                                                                                                                                                                                                                                                                                                                                                                                                                                                                                                                                                                                                                                                                                                                                                                                                                                                                                                                                                                                                                                                                                                                                                                                                                                                                                                                                                                                                              offer_vectors_with_pb                                                                                                                                                                                                                                                                                                                                                                                                                                                                                                                                                                                                                                                                                                        offer_priorities_with_pb  num_offers                                                                                                                                                                                                                                                                                                                                                                                                                                                                                                                                                                                                                                                                                                                                                                                                                                                                                                                                                                                                                                                                                                                                                                                                                                                                                                                                                                                                                                                                                                                                                                                                                                                                                                                                                                                                                                                                                                                                                                                                                                                                                                                                                                                                                                                                                                                                                                                                                                                                                                                                                                                                                                                                                                                                                                                                                                                                                                                                                                                                                                                                                                                                                                                                                                                                                                                                                                                                                                                                                                                                                                                                                                                                                                                                                                                                                                                                                                                                                                                                                                                                                                                                                                                                                                                                                                                                                                                                                                                                                                                                                                                                                                                                                                                                                                                                                                                                                                                                                                                                                                                                                                                                                                                                                                                                                                                                                                                                                                                                                                                                                                                                                                                                                                                                                                                                                                                                                                                                                                                                                                                                                                                                                                                                                                                                                                                                                                                                                                                                                                                                                                                                                                                                                                                                                                                                                                                                                                                                                                                                                                                                                                                                                                                                                                                                                                                                                                                                                                                                                                                                                                                                                                                                                                                                                                                                                                                                                                                                                                                                                                                                                                                                                                                                                                                                                                                                                                                                                                                                                                                                                                                                                                                                                                                                                                                                                                                                                                                                                                                                                                                                                                                                                                                                                                                                                                                                                                                                                                                                                                                                                                                                                                                                                                                                                                                                                                                                                                                                                                                                                                                                                                                                                                                                                                                                                                                                                                                                                                                                                                                                                                                                                                                                                                                                                                                                                                                                                                                                                                                                                                                                                                                                                                                                                                                                                                                                                                                                                                                                                                                                                                                                                                                                                                                                                                                                                                                                                                                                                                                                                                                                                                                                                                                                                                                                                                                                                                                                                                                                                                                                                                                                                                                                                                                                                                                                                                                                                                                                                                                                                                                                                                                                                                                                                                                                                                                                                                                                                                                                                                                                                                                                                                                                                                                                                                                                                                                                                                                                                                                                                                                                                                                                                                                                                                                                                                                                                                                                                                                                                                                                                                                                                                                                                                                                                                                                                                                                                                                                                                                                                                                                                                                                                                                                                                                                                                                                                                                                                                                                                                                                                                                                                                                                                                                                                                                                                                                                                                                                                                                                                                                                                                                                                                                                                                                                                                                                                                                                                                                                                                                                                                                                                                                                                                                                                                                                                                                                                                                                                                                                                                                                                                                                                                                                                                                                                                                                                                                                                                                                                                                                                                                                                                                                                                                                                                                                                                                                                                                                                                                                                                                                                                                                                                                                                                                                                                                                                                                                                                                                                                                                                                                                                                                                                                                                                                                                                                                                                                                                                                                                                                                                                                                                                                                                                                                                                                                                                                                                                                                                                                                                                                                                                                                                                                                                                                                                                                                                                                                                                                                                                                                                                                                                                                                                                                                                                                                                                                                                                                                                                                                                                                                                                                                                                                                                                                                                                                                                                                                                                                                                                                                                                                                                                                                                  x                                                                                                                                                                                                                                                                                                                                                                                                                                                                                                                                                                                                                                                                                                                                                                                                                                                                                                                           y\n",
       "0  0003leq    {'0003leq_6', '0003leq_5', '0003leq_7', '0003leq_1', '0003leq_2', '0003leq_4', '0003leq_3'}  ['2502x0fY', '070eU0fY', 'a6a7Z0fY', '183cY0fY', '257as0fY', '0da4f0fY', '4809E0fY', '4815F0fY', 'f1a9z0fY', '3672p0fY', '283c80fY', '?PAGE_BREAK?', 'b553q0fY', '36f3y0fY', '222fcqfY', '5cb900fY', '7d7a10fY', '97f9K0fY', 'fc78C0fY', 'c90d30fY', '5b2ag0fY', 'c941A0fY', 'a259L0fY', '6429tqfY', 'a5caD0fY', '08cfm0fY', '22edWqfY', '?PAGE_BREAK?', 'b7fcb0fY', 'd4f0v0fY', 'fb3cQ0fY', '0ba1i0fY', 'a367w0fY', 'ac74V0fY', '3531u0fY', 'fbff20fY', 'e4b8a0fY', '3956N0fY', '0d81d0fY', '029aT0fY', '5dbdl0fY', '?PAGE_BREAK?', 'fed3AqfY', '799dzqfY', 'b8a3DqfY', 'a4c88qfY', '3cf8qqfY', '88a5UqfY', '6d6e0qfY', 'ef59YqfY', 'ab38CqfY', '0cbffqfY', '0a4eEqfY', '?PAGE_BREAK?', '0ef3QqfY', 'a3abpqfY', 'ce94wqfY', 'e545VqfY', '11aaxqfY', 'e4e12qfY', '431baqfY', '3030ZqfY', 'db3fNqfY', 'd638dqfY', '539csqfY', 'b25flqfY', '18cdFqfY', '50b5vqfY', '?PAGE_BREAK?', 'db9dGqfY', '4daaRqfY', 'bd0fXqfY', '9937SqfY', 'a3ddnqfY', '59cchqfY', 'd8f9oqfY', '0be3HqfY', 'b3acOqfY', 'aeberqfY', '44a2IqfY', '708e7qfY', 'f4f4MqfY', '?PAGE_BREAK?', '29c0BqfY', '9381iqfY', '907ajqfY', '28d5kqfY', '280auqfY', '00b64qfY', '1864JqfY', 'e2835qfY', '7c1eeqfY', '067bTqfY', '46df6qfY', 'b84a9qfY', '614ebqfY', '11bbPqfY', '?PAGE_BREAK?', '?NOT_REAL_OFFER?', '?NOT_REAL_OFFER?', '?NOT_REAL_OFFER?', '?NOT_REAL_OFFER?', '?NOT_REAL_OFFER?', '?NOT_REAL_OFFER?', '?NOT_REAL_OFFER?', '?NOT_REAL_OFFER?', '?NOT_REAL_OFFER?', '?NOT_REAL_OFFER?', '?NOT_REAL_OFFER?', '?NOT_REAL_OFFER?', '?NOT_REAL_OFFER?', '?NOT_REAL_OFFER?', '?NOT_REAL_OFFER?', '?NOT_REAL_OFFER?', '?NOT_REAL_OFFER?', '?NOT_REAL_OFFER?', '?NOT_REAL_OFFER?', '?NOT_REAL_OFFER?', '?NOT_REAL_OFFER?', '?NOT_REAL_OFFER?', '?NOT_REAL_OFFER?', '?NOT_REAL_OFFER?', '?NOT_REAL_OFFER?', '?NOT_REAL_OFFER?', '?NOT_REAL_OFFER?', '?NOT_REAL_OFFER?', '?NOT_REAL_OFFER?', '?NOT_REAL_OFFER?', '?NOT_REAL_OFFER?', '?NOT_REAL_OFFER?', '?NOT_REAL_OFFER?', '?NOT_REAL_OFFER?', '?NOT_REAL_OFFER?', '?NOT_REAL_OFFER?', '?NOT_REAL_OFFER?', '?NOT_REAL_OFFER?', '?NOT_REAL_OFFER?', '?NOT_REAL_OFFER?', '?NOT_REAL_OFFER?', '?NOT_REAL_OFFER?', '?NOT_REAL_OFFER?', '?NOT_REAL_OFFER?', '?NOT_REAL_OFFER?', '?NOT_REAL_OFFER?', '?NOT_REAL_OFFER?', '?NOT_REAL_OFFER?', '?NOT_REAL_OFFER?', '?NOT_REAL_OFFER?', '?NOT_REAL_OFFER?', '?NOT_REAL_OFFER?', '?NOT_REAL_OFFER?', '?NOT_REAL_OFFER?', '?NOT_REAL_OFFER?', '?NOT_REAL_OFFER?', '?NOT_REAL_OFFER?', '?NOT_REAL_OFFER?', '?NOT_REAL_OFFER?', '?NOT_REAL_OFFER?', '?NOT_REAL_OFFER?', '?NOT_REAL_OFFER?', '?NOT_REAL_OFFER?', '?NOT_REAL_OFFER?', '?NOT_REAL_OFFER?', '?NOT_REAL_OFFER?', '?NOT_REAL_OFFER?', '?NOT_REAL_OFFER?', '?NOT_REAL_OFFER?', '?NOT_REAL_OFFER?', '?NOT_REAL_OFFER?', '?NOT_REAL_OFFER?', '?NOT_REAL_OFFER?', '?NOT_REAL_OFFER?', '?NOT_REAL_OFFER?', '?NOT_REAL_OFFER?', '?NOT_REAL_OFFER?', '?NOT_REAL_OFFER?', '?NOT_REAL_OFFER?', '?NOT_REAL_OFFER?', '?NOT_REAL_OFFER?', '?NOT_REAL_OFFER?', '?NOT_REAL_OFFER?', '?NOT_REAL_OFFER?', '?NOT_REAL_OFFER?', '?NOT_REAL_OFFER?', '?NOT_REAL_OFFER?', '?NOT_REAL_OFFER?', '?NOT_REAL_OFFER?', '?NOT_REAL_OFFER?', '?NOT_REAL_OFFER?', '?NOT_REAL_OFFER?', '?NOT_REAL_OFFER?', '?NOT_REAL_OFFER?', '?NOT_REAL_OFFER?', '?NOT_REAL_OFFER?', '?NOT_REAL_OFFER?', '?NOT_REAL_OFFER?', '?NOT_REAL_OFFER?', '?NOT_REAL_OFFER?', '?NOT_REAL_OFFER?', '?NOT_REAL_OFFER?']  [[5564, 432, 99, 8, 3029, 966, 8, 434, 8, 3622, 248, 5565, 0, 1, 1, 1, 1, 1, 1, 1, 1, 1, 1, 1, 1, 1, 1, 1, 1, 1], [4373, 8, 201, 8, 967, 5, 2611, 44, 0, 1, 1, 1, 1, 1, 1, 1, 1, 1, 1, 1, 1, 1, 1, 1, 1, 1, 1, 1, 1, 1], [1530, 1665, 37, 28, 5, 8, 307, 8, 434, 8, 3623, 5, 912, 5, 16, 5, 284, 0, 1, 1, 1, 1, 1, 1, 1, 1, 1, 1, 1, 1], [968, 3030, 5566, 30, 5, 8, 801, 3031, 8, 968, 201, 8, 968, 1654, 8, 2291, 5, 0, 1, 1, 1, 1, 1, 1, 1, 1, 1, 1, 1, 1], [3624, 516, 6, 3032, 15, 3033, 3034, 2029, 95, 2030, 25, 433, 25, 841, 25, 8, 25, 201, 25, 2612, 1406, 5, 8, 4374, 30, 5, 25, 25, 25, 0], [1045, 3626, 4375, 8, 11726, 7325, 5, 460, 1045, 105, 3627, 730, 10, 11727, 78, 3035, 32, 1814, 6, 64, 105, 287, 22, 913, 220, 6, 304, 6, 319, 0], [1412, 338, 5, 86, 31, 579, 5, 7327, 30, 5, 8, 1815, 671, 30, 8, 2293, 6, 870, 8, 4376, 6, 1531, 0, 1, 1, 1, 1, 1, 1, 1], [638, 127, 67, 5, 19, 26, 5, 130, 209, 5, 37, 5, 8, 1816, 8, 808, 1042, 8, 5567, 5568, 3628, 8, 696, 8, 696, 38, 8, 1817, 5, 0], [1230, 304, 74, 30, 5, 8, 168, 391, 8, 216, 25, 150, 563, 0, 1, 1, 1, 1, 1, 1, 1, 1, 1, 1, 1, 1, 1, 1, 1, 1], [11729, 697, 19, 26, 7328, 30, 0, 1, 1, 1, 1, 1, 1, 1, 1, 1, 1, 1, 1, 1, 1, 1, 1, 1, 1, 1, 1, 1, 1, 1], [2294, 391, 339, 283, 5, 8, 1818, 304, 25, 201, 25, 3037, 5, 75, 30, 0, 1, 1, 1, 1, 1, 1, 1, 1, 1, 1, 1, 1, 1, 1], [3, 3, 3, 3, 3, 3, 3, 3, 3, 3, 3, 3, 3, 3, 3, 3, 3, 3, 3, 3, 3, 3, 3, 3, 3, 3, 3, 3, 3, 3], [260, 3606, 113, 5, 207, 30, 0, 1, 1, 1, 1, 1, 1, 1, 1, 1, 1, 1, 1, 1, 1, 1, 1, 1, 1, 1, 1, 1, 1, 1], [1111, 8, 1661, 8, 1307, 5, 90, 30, 0, 1, 1, 1, 1, 1, 1, 1, 1, 1, 1, 1, 1, 1, 1, 1, 1, 1, 1, 1, 1, 1], [433, 1662, 293, 30, 5, 3615, 0, 1, 1, 1, 1, 1, 1, 1, 1, 1, 1, 1, 1, 1, 1, 1, 1, 1, 1, 1, 1, 1, 1, 1], [11711, 3026, 30, 5, 8, 7310, 8, 11712, 0, 1, 1, 1, 1, 1, 1, 1, 1, 1, 1, 1, 1, 1, 1, 1, 1, 1, 1, 1, 1, 1], [1811, 118, 5, 182, 17, 5, 3027, 14, 2287, 6, 4371, 410, 15, 7318, 14, 1043, 1237, 0, 1, 1, 1, 1, 1, 1, 1, 1, 1, 1, 1, 1], [236, 10, 2288, 5553, 324, 30, 5, 410, 118, 0, 1, 1, 1, 1, 1, 1, 1, 1, 1, 1, 1, 1, 1, 1, 1, 1, 1, 1, 1, 1], [266, 5554, 95, 1527, 5, 807, 54, 113, 5, 74, 30, 5, 1238, 3616, 31, 150, 216, 237, 248, 1238, 323, 5555, 7, 2606, 10, 5556, 10, 5557, 5, 0], [2608, 113, 5, 125, 30, 5, 22, 1175, 5, 459, 803, 11713, 2608, 1044, 22, 118, 1175, 5, 86, 31, 579, 323, 164, 599, 126, 5, 16, 5, 2609, 0], [11714, 11715, 16, 0, 1, 1, 1, 1, 1, 1, 1, 1, 1, 1, 1, 1, 1, 1, 1, 1, 1, 1, 1, 1, 1, 1, 1, 1, 1, 1], [3618, 1663, 3619, 189, 1663, 22, 87, 1663, 14, 14, 325, 732, 517, 2027, 5, 517, 5, 8, 5, 5558, 13, 7320, 760, 11716, 5, 8, 5, 5559, 13, 0], [1176, 10, 637, 11720, 30, 5, 8, 910, 150, 5561, 8, 910, 10, 1529, 8, 7322, 10, 1529, 8, 185, 911, 10, 1529, 0, 1, 1, 1, 1, 1, 1], [11721, 74, 5, 8, 2028, 8, 446, 11722, 8, 353, 546, 8, 2610, 1411, 546, 5, 7323, 30, 5, 11723, 11724, 323, 869, 7324, 15, 4372, 1112, 5, 1664, 0], [11725, 113, 5, 90, 30, 5, 910, 5562, 9, 2290, 6, 382, 5, 3620, 3621, 5, 1812, 0, 1, 1, 1, 1, 1, 1, 1, 1, 1, 1, 1, 1], [1111, 266, 236, 293, 30, 0, 1, 1, 1, 1, 1, 1, 1, 1, 1, 1, 1, 1, 1, 1, 1, 1, 1, 1, 1, 1, 1, 1, 1, 1], [1813, 5563, 9, 1812, 74, 30, 5, 0, 1, 1, 1, 1, 1, 1, 1, 1, 1, 1, 1, 1, 1, 1, 1, 1, 1, 1, 1, 1, 1, 1], [3, 3, 3, 3, 3, 3, 3, 3, 3, 3, 3, 3, 3, 3, 3, 3, 3, 3, 3, 3, 3, 3, 3, 3, 3, 3, 3, 3, 3, 3], [5569, 11730, 0, 1, 1, 1, 1, 1, 1, 1, 1, 1, 1, 1, 1, 1, 1, 1, 1, 1, 1, 1, 1, 1, 1, 1, 1, 1, 1, 1], [2295, 21, 23, 5, 8, 1309, 8, 2614, 8, 4377, 74, 44, 5, 19, 26, 0, 1, 1, 1, 1, 1, 1, 1, 1, 1, 1, 1, 1, 1, 1], [3629, 1310, 8, 1046, 8, 1113, 95, 871, 5, 11731, 29, 5, 8, 8, 5, 90, 5, 19, 26, 5, 86, 31, 579, 0, 1, 1, 1, 1, 1, 1], [2031, 1177, 19, 26, 125, 44, 5, 0, 1, 1, 1, 1, 1, 1, 1, 1, 1, 1, 1, 1, 1, 1, 1, 1, 1, 1, 1, 1, 1, 1], [1413, 19, 26, 5, 8, 2032, 8, 1666, 0, 1, 1, 1, 1, 1, 1, 1, 1, 1, 1, 1, 1, 1, 1, 1, 1, 1, 1, 1, 1, 1], [3630, 11732, 5, 8, 838, 155, 8, 7329, 2296, 5, 90, 44, 0, 1, 1, 1, 1, 1, 1, 1, 1, 1, 1, 1, 1, 1, 1, 1, 1, 1], [3631, 8, 400, 531, 5, 25, 698, 25, 461, 25, 462, 5, 432, 99, 7330, 44, 0, 1, 1, 1, 1, 1, 1, 1, 1, 1, 1, 1, 1, 1], [3038, 107, 26, 5, 963, 44, 5, 8, 733, 8, 761, 8, 2615, 0, 1, 1, 1, 1, 1, 1, 1, 1, 1, 1, 1, 1, 1, 1, 1, 1], [7331, 3039, 3632, 672, 19, 26, 5, 65, 44, 0, 1, 1, 1, 1, 1, 1, 1, 1, 1, 1, 1, 1, 1, 1, 1, 1, 1, 1, 1, 1], [5569, 4378, 19, 26, 308, 44, 5, 805, 178, 0, 1, 1, 1, 1, 1, 1, 1, 1, 1, 1, 1, 1, 1, 1, 1, 1, 1, 1, 1, 1], [3633, 1239, 19, 26, 5, 1414, 44, 5, 8, 842, 8, 1532, 0, 1, 1, 1, 1, 1, 1, 1, 1, 1, 1, 1, 1, 1, 1, 1, 1, 1], [11733, 3634, 16, 5, 11734, 5, 37, 12, 0, 1, 1, 1, 1, 1, 1, 1, 1, 1, 1, 1, 1, 1, 1, 1, 1, 1, 1, 1, 1, 1], [7332, 1239, 19, 26, 5, 127, 44, 5, 8, 842, 0, 1, 1, 1, 1, 1, 1, 1, 1, 1, 1, 1, 1, 1, 1, 1, 1, 1, 1, 1], [3, 3, 3, 3, 3, 3, 3, 3, 3, 3, 3, 3, 3, 3, 3, 3, 3, 3, 3, 3, 3, 3, 3, 3, 3, 3, 3, 3, 3, 3], [11665, 315, 67, 5, 7298, 25, 7298, 5, 37, 315, 5, 130, 209, 5, 149, 56, 1172, 230, 11666, 5, 79, 184, 22, 200, 210, 82, 3012, 6, 31, 0], [488, 118, 1653, 16, 5, 28, 5, 38, 5, 188, 131, 56, 11667, 14, 1173, 8, 3604, 8, 7300, 8, 11668, 8, 11669, 0, 1, 1, 1, 1, 1, 1], [11670, 7301, 5, 1037, 30, 0, 1, 1, 1, 1, 1, 1, 1, 1, 1, 1, 1, 1, 1, 1, 1, 1, 1, 1, 1, 1, 1, 1, 1, 1], [1038, 801, 1522, 3605, 2283, 2023, 29, 5, 8, 0, 1, 1, 1, 1, 1, 1, 1, 1, 1, 1, 1, 1, 1, 1, 1, 1, 1, 1, 1, 1], [1654, 15, 5539, 5540, 11671, 30, 5, 19, 26, 0, 1, 1, 1, 1, 1, 1, 1, 1, 1, 1, 1, 1, 1, 1, 1, 1, 1, 1, 1, 1], [1655, 11672, 5, 19, 26, 75, 30, 0, 1, 1, 1, 1, 1, 1, 1, 1, 1, 1, 1, 1, 1, 1, 1, 1, 1, 1, 1, 1, 1, 1], [1304, 4351, 30, 5, 8, 140, 8, 477, 5, 1806, 5, 432, 99, 0, 1, 1, 1, 1, 1, 1, 1, 1, 1, 1, 1, 1, 1, 1, 1, 1], [3013, 2599, 78, 29, 5, 8, 2284, 0, 1, 1, 1, 1, 1, 1, 1, 1, 1, 1, 1, 1, 1, 1, 1, 1, 1, 1, 1, 1, 1, 1], [1230, 304, 8, 838, 5, 90, 30, 5, 79, 184, 22, 200, 210, 46, 457, 6, 31, 196, 370, 3014, 126, 5, 86, 31, 579, 323, 0, 1, 1, 1], [3015, 4352, 30, 5, 25, 168, 25, 727, 5, 728, 579, 5, 8, 1231, 8, 1656, 8, 2024, 3016, 8, 236, 9, 695, 8, 3606, 8, 409, 1523, 8, 0], [3017, 79, 184, 22, 200, 210, 78, 457, 6, 31, 196, 370, 11673, 126, 5, 125, 30, 0, 1, 1, 1, 1, 1, 1, 1, 1, 1, 1, 1, 1], [3, 3, 3, 3, 3, 3, 3, 3, 3, 3, 3, 3, 3, 3, 3, 3, 3, 3, 3, 3, 3, 3, 3, 3, 3, 3, 3, 3, 3, 3], [1232, 164, 11674, 126, 5, 16, 5, 17, 86, 31, 579, 5, 150, 5, 8, 9, 1807, 52, 54, 118, 5, 666, 30, 0, 1, 1, 1, 1, 1, 1], [729, 759, 8, 4353, 4354, 8, 2600, 4355, 8, 802, 10, 908, 8, 118, 1657, 316, 1658, 8, 4356, 8, 4357, 5, 389, 30, 5, 1808, 34, 0, 1, 1], [2601, 11675, 1039, 225, 30, 0, 1, 1, 1, 1, 1, 1, 1, 1, 1, 1, 1, 1, 1, 1, 1, 1, 1, 1, 1, 1, 1, 1, 1, 1], [11676, 375, 1106, 44, 5, 1808, 34, 0, 1, 1, 1, 1, 1, 1, 1, 1, 1, 1, 1, 1, 1, 1, 1, 1, 1, 1, 1, 1, 1, 1], [7303, 10, 300, 125, 30, 5, 22, 1233, 0, 1, 1, 1, 1, 1, 1, 1, 1, 1, 1, 1, 1, 1, 1, 1, 1, 1, 1, 1, 1, 1], [1659, 8, 7304, 8, 4358, 11677, 8, 4358, 11678, 5, 293, 30, 0, 1, 1, 1, 1, 1, 1, 1, 1, 1, 1, 1, 1, 1, 1, 1, 1, 1], [3018, 11679, 30, 5, 8, 11680, 3018, 8, 11681, 3018, 5, 729, 759, 0, 1, 1, 1, 1, 1, 1, 1, 1, 1, 1, 1, 1, 1, 1, 1, 1], [1660, 530, 1107, 125, 30, 5, 193, 26, 0, 1, 1, 1, 1, 1, 1, 1, 1, 1, 1, 1, 1, 1, 1, 1, 1, 1, 1, 1, 1, 1], [4359, 3607, 5, 5541, 30, 5, 7305, 34, 0, 1, 1, 1, 1, 1, 1, 1, 1, 1, 1, 1, 1, 1, 1, 1, 1, 1, 1, 1, 1, 1], [1659, 1808, 34, 5, 8, 1404, 8, 803, 1524, 8, 176, 803, 3608, 3609, 8, 4360, 8, 4361, 8, 2025, 5542, 8, 3610, 8, 1809, 3019, 8, 530, 4362, 0], [1660, 5543, 1106, 30, 0, 1, 1, 1, 1, 1, 1, 1, 1, 1, 1, 1, 1, 1, 1, 1, 1, 1, 1, 1, 1, 1, 1, 1, 1, 1], [7306, 11682, 30, 5, 3607, 0, 1, 1, 1, 1, 1, 1, 1, 1, 1, 1, 1, 1, 1, 1, 1, 1, 1, 1, 1, 1, 1, 1, 1, 1], [11683, 10, 868, 90, 30, 5, 7307, 7, 211, 14, 93, 10, 89, 5, 4356, 0, 1, 1, 1, 1, 1, 1, 1, 1, 1, 1, 1, 1, 1, 1], [11684, 16, 5, 5544, 30, 0, 1, 1, 1, 1, 1, 1, 1, 1, 1, 1, 1, 1, 1, 1, 1, 1, 1, 1, 1, 1, 1, 1, 1, 1], [3, 3, 3, 3, 3, 3, 3, 3, 3, 3, 3, 3, 3, 3, 3, 3, 3, 3, 3, 3, 3, 3, 3, 3, 3, 3, 3, 3, 3, 3], [139, 2604, 458, 7312, 909, 5, 28, 5, 2286, 64, 32, 2605, 323, 0, 1, 1, 1, 1, 1, 1, 1, 1, 1, 1, 1, 1, 1, 1, 1, 1], [1234, 8, 1235, 8, 409, 1307, 8, 3024, 8, 4367, 10, 277, 8, 1235, 159, 54, 8, 3614, 159, 54, 8, 114, 11700, 8, 114, 3614, 5, 7313, 30, 0], [1526, 75, 30, 5, 10, 277, 5, 8, 479, 0, 1, 1, 1, 1, 1, 1, 1, 1, 1, 1, 1, 1, 1, 1, 1, 1, 1, 1, 1, 1], [964, 1407, 30, 5, 840, 5, 193, 26, 0, 1, 1, 1, 1, 1, 1, 1, 1, 1, 1, 1, 1, 1, 1, 1, 1, 1, 1, 1, 1, 1], [1408, 8, 11701, 25, 201, 25, 136, 965, 5, 25, 9, 1041, 5, 11702, 30, 5, 8, 1042, 5549, 8, 11703, 11704, 8, 11705, 8, 11706, 4368, 8, 5550, 0], [11707, 162, 30, 5, 728, 579, 0, 1, 1, 1, 1, 1, 1, 1, 1, 1, 1, 1, 1, 1, 1, 1, 1, 1, 1, 1, 1, 1, 1, 1], [4369, 8, 5, 74, 30, 5, 11708, 5, 1409, 32, 150, 5551, 0, 1, 1, 1, 1, 1, 1, 1, 1, 1, 1, 1, 1, 1, 1, 1, 1, 1], [7314, 1234, 5, 7315, 30, 5, 19, 26, 0, 1, 1, 1, 1, 1, 1, 1, 1, 1, 1, 1, 1, 1, 1, 1, 1, 1, 1, 1, 1, 1], [580, 730, 318, 113, 5, 806, 30, 0, 1, 1, 1, 1, 1, 1, 1, 1, 1, 1, 1, 1, 1, 1, 1, 1, 1, 1, 1, 1, 1, 1], [3025, 669, 125, 30, 5, 5, 19, 26, 0, 1, 1, 1, 1, 1, 1, 1, 1, 1, 1, 1, 1, 1, 1, 1, 1, 1, 1, 1, 1, 1], [504, 8, 5, 7316, 30, 5, 8, 5552, 8, 11709, 8, 11710, 0, 1, 1, 1, 1, 1, 1, 1, 1, 1, 1, 1, 1, 1, 1, 1, 1, 1], [4370, 1236, 74, 44, 5, 8, 1110, 8, 489, 0, 1, 1, 1, 1, 1, 1, 1, 1, 1, 1, 1, 1, 1, 1, 1, 1, 1, 1, 1, 1], [504, 109, 5, 75, 30, 5, 7317, 1661, 0, 1, 1, 1, 1, 1, 1, 1, 1, 1, 1, 1, 1, 1, 1, 1, 1, 1, 1, 1, 1, 1], [3, 3, 3, 3, 3, 3, 3, 3, 3, 3, 3, 3, 3, 3, 3, 3, 3, 3, 3, 3, 3, 3, 3, 3, 3, 3, 3, 3, 3, 3], [561, 804, 445, 6, 11685, 445, 15, 11686, 11687, 963, 44, 5, 52, 30, 0, 1, 1, 1, 1, 1, 1, 1, 1, 1, 1, 1, 1, 1, 1, 1], [1108, 516, 598, 1109, 5, 1405, 30, 5, 8, 11688, 8, 1406, 8, 804, 0, 1, 1, 1, 1, 1, 1, 1, 1, 1, 1, 1, 1, 1, 1, 1], [1305, 27, 17, 5, 1306, 1525, 5, 728, 579, 0, 1, 1, 1, 1, 1, 1, 1, 1, 1, 1, 1, 1, 1, 1, 1, 1, 1, 1, 1, 1], [11689, 90, 30, 0, 1, 1, 1, 1, 1, 1, 1, 1, 1, 1, 1, 1, 1, 1, 1, 1, 1, 1, 1, 1, 1, 1, 1, 1, 1, 1], [2285, 58, 2602, 5, 259, 225, 30, 5, 4364, 0, 1, 1, 1, 1, 1, 1, 1, 1, 1, 1, 1, 1, 1, 1, 1, 1, 1, 1, 1, 1], [11690, 6, 2603, 6, 3611, 15, 7308, 316, 317, 5545, 0, 1, 1, 1, 1, 1, 1, 1, 1, 1, 1, 1, 1, 1, 1, 1, 1, 1, 1, 1], [598, 1109, 7309, 104, 30, 5, 728, 579, 0, 1, 1, 1, 1, 1, 1, 1, 1, 1, 1, 1, 1, 1, 1, 1, 1, 1, 1, 1, 1, 1], [3612, 839, 5, 104, 30, 0, 1, 1, 1, 1, 1, 1, 1, 1, 1, 1, 1, 1, 1, 1, 1, 1, 1, 1, 1, 1, 1, 1, 1, 1], [4365, 11691, 54, 5, 90, 44, 0, 1, 1, 1, 1, 1, 1, 1, 1, 1, 1, 1, 1, 1, 1, 1, 1, 1, 1, 1, 1, 1, 1, 1], [667, 8, 7310, 7311, 8, 11692, 7311, 8, 3020, 11693, 8, 11694, 2026, 8, 11695, 8, 478, 5546, 8, 11696, 8, 1174, 2026, 8, 1174, 3613, 5, 503, 105, 0], [3022, 15, 11697, 0, 1, 1, 1, 1, 1, 1, 1, 1, 1, 1, 1, 1, 1, 1, 1, 1, 1, 1, 1, 1, 1, 1, 1, 1, 1, 1], [11698, 15, 11699, 5547, 30, 0, 1, 1, 1, 1, 1, 1, 1, 1, 1, 1, 1, 1, 1, 1, 1, 1, 1, 1, 1, 1, 1, 1, 1, 1], [3023, 248, 1040, 8, 10, 283, 8, 10, 5548, 5, 4366, 30, 0, 1, 1, 1, 1, 1, 1, 1, 1, 1, 1, 1, 1, 1, 1, 1, 1, 1], [1810, 668, 74, 30, 0, 1, 1, 1, 1, 1, 1, 1, 1, 1, 1, 1, 1, 1, 1, 1, 1, 1, 1, 1, 1, 1, 1, 1, 1, 1], [3, 3, 3, 3, 3, 3, 3, 3, 3, 3, 3, 3, 3, 3, 3, 3, 3, 3, 3, 3, 3, 3, 3, 3, 3, 3, 3, 3, 3, 3], [4, 4, 4, 4, 4, 4, 4, 4, 4, 4, 4, 4, 4, 4, 4, 4, 4, 4, 4, 4, 4, 4, 4, 4, 4, 4, 4, 4, 4, 4], [4, 4, 4, 4, 4, 4, 4, 4, 4, 4, 4, 4, 4, 4, 4, 4, 4, 4, 4, 4, 4, 4, 4, 4, 4, 4, 4, 4, 4, 4], [4, 4, 4, 4, 4, 4, 4, 4, 4, 4, 4, 4, 4, 4, 4, 4, 4, 4, 4, 4, 4, 4, 4, 4, 4, 4, 4, 4, 4, 4], [4, 4, 4, 4, 4, 4, 4, 4, 4, 4, 4, 4, 4, 4, 4, 4, 4, 4, 4, 4, 4, 4, 4, 4, 4, 4, 4, 4, 4, 4], [4, 4, 4, 4, 4, 4, 4, 4, 4, 4, 4, 4, 4, 4, 4, 4, 4, 4, 4, 4, 4, 4, 4, 4, 4, 4, 4, 4, 4, 4], [4, 4, 4, 4, 4, 4, 4, 4, 4, 4, 4, 4, 4, 4, 4, 4, 4, 4, 4, 4, 4, 4, 4, 4, 4, 4, 4, 4, 4, 4], [4, 4, 4, 4, 4, 4, 4, 4, 4, 4, 4, 4, 4, 4, 4, 4, 4, 4, 4, 4, 4, 4, 4, 4, 4, 4, 4, 4, 4, 4], [4, 4, 4, 4, 4, 4, 4, 4, 4, 4, 4, 4, 4, 4, 4, 4, 4, 4, 4, 4, 4, 4, 4, 4, 4, 4, 4, 4, 4, 4], [4, 4, 4, 4, 4, 4, 4, 4, 4, 4, 4, 4, 4, 4, 4, 4, 4, 4, 4, 4, 4, 4, 4, 4, 4, 4, 4, 4, 4, 4], [4, 4, 4, 4, 4, 4, 4, 4, 4, 4, 4, 4, 4, 4, 4, 4, 4, 4, 4, 4, 4, 4, 4, 4, 4, 4, 4, 4, 4, 4], [4, 4, 4, 4, 4, 4, 4, 4, 4, 4, 4, 4, 4, 4, 4, 4, 4, 4, 4, 4, 4, 4, 4, 4, 4, 4, 4, 4, 4, 4], [4, 4, 4, 4, 4, 4, 4, 4, 4, 4, 4, 4, 4, 4, 4, 4, 4, 4, 4, 4, 4, 4, 4, 4, 4, 4, 4, 4, 4, 4], [4, 4, 4, 4, 4, 4, 4, 4, 4, 4, 4, 4, 4, 4, 4, 4, 4, 4, 4, 4, 4, 4, 4, 4, 4, 4, 4, 4, 4, 4], [4, 4, 4, 4, 4, 4, 4, 4, 4, 4, 4, 4, 4, 4, 4, 4, 4, 4, 4, 4, 4, 4, 4, 4, 4, 4, 4, 4, 4, 4], [4, 4, 4, 4, 4, 4, 4, 4, 4, 4, 4, 4, 4, 4, 4, 4, 4, 4, 4, 4, 4, 4, 4, 4, 4, 4, 4, 4, 4, 4], [4, 4, 4, 4, 4, 4, 4, 4, 4, 4, 4, 4, 4, 4, 4, 4, 4, 4, 4, 4, 4, 4, 4, 4, 4, 4, 4, 4, 4, 4], [4, 4, 4, 4, 4, 4, 4, 4, 4, 4, 4, 4, 4, 4, 4, 4, 4, 4, 4, 4, 4, 4, 4, 4, 4, 4, 4, 4, 4, 4], [4, 4, 4, 4, 4, 4, 4, 4, 4, 4, 4, 4, 4, 4, 4, 4, 4, 4, 4, 4, 4, 4, 4, 4, 4, 4, 4, 4, 4, 4], [4, 4, 4, 4, 4, 4, 4, 4, 4, 4, 4, 4, 4, 4, 4, 4, 4, 4, 4, 4, 4, 4, 4, 4, 4, 4, 4, 4, 4, 4], [4, 4, 4, 4, 4, 4, 4, 4, 4, 4, 4, 4, 4, 4, 4, 4, 4, 4, 4, 4, 4, 4, 4, 4, 4, 4, 4, 4, 4, 4], [4, 4, 4, 4, 4, 4, 4, 4, 4, 4, 4, 4, 4, 4, 4, 4, 4, 4, 4, 4, 4, 4, 4, 4, 4, 4, 4, 4, 4, 4], [4, 4, 4, 4, 4, 4, 4, 4, 4, 4, 4, 4, 4, 4, 4, 4, 4, 4, 4, 4, 4, 4, 4, 4, 4, 4, 4, 4, 4, 4], [4, 4, 4, 4, 4, 4, 4, 4, 4, 4, 4, 4, 4, 4, 4, 4, 4, 4, 4, 4, 4, 4, 4, 4, 4, 4, 4, 4, 4, 4], [4, 4, 4, 4, 4, 4, 4, 4, 4, 4, 4, 4, 4, 4, 4, 4, 4, 4, 4, 4, 4, 4, 4, 4, 4, 4, 4, 4, 4, 4], [4, 4, 4, 4, 4, 4, 4, 4, 4, 4, 4, 4, 4, 4, 4, 4, 4, 4, 4, 4, 4, 4, 4, 4, 4, 4, 4, 4, 4, 4], [4, 4, 4, 4, 4, 4, 4, 4, 4, 4, 4, 4, 4, 4, 4, 4, 4, 4, 4, 4, 4, 4, 4, 4, 4, 4, 4, 4, 4, 4], [4, 4, 4, 4, 4, 4, 4, 4, 4, 4, 4, 4, 4, 4, 4, 4, 4, 4, 4, 4, 4, 4, 4, 4, 4, 4, 4, 4, 4, 4], [4, 4, 4, 4, 4, 4, 4, 4, 4, 4, 4, 4, 4, 4, 4, 4, 4, 4, 4, 4, 4, 4, 4, 4, 4, 4, 4, 4, 4, 4], [4, 4, 4, 4, 4, 4, 4, 4, 4, 4, 4, 4, 4, 4, 4, 4, 4, 4, 4, 4, 4, 4, 4, 4, 4, 4, 4, 4, 4, 4], [4, 4, 4, 4, 4, 4, 4, 4, 4, 4, 4, 4, 4, 4, 4, 4, 4, 4, 4, 4, 4, 4, 4, 4, 4, 4, 4, 4, 4, 4], [4, 4, 4, 4, 4, 4, 4, 4, 4, 4, 4, 4, 4, 4, 4, 4, 4, 4, 4, 4, 4, 4, 4, 4, 4, 4, 4, 4, 4, 4], [4, 4, 4, 4, 4, 4, 4, 4, 4, 4, 4, 4, 4, 4, 4, 4, 4, 4, 4, 4, 4, 4, 4, 4, 4, 4, 4, 4, 4, 4], [4, 4, 4, 4, 4, 4, 4, 4, 4, 4, 4, 4, 4, 4, 4, 4, 4, 4, 4, 4, 4, 4, 4, 4, 4, 4, 4, 4, 4, 4], [4, 4, 4, 4, 4, 4, 4, 4, 4, 4, 4, 4, 4, 4, 4, 4, 4, 4, 4, 4, 4, 4, 4, 4, 4, 4, 4, 4, 4, 4], [4, 4, 4, 4, 4, 4, 4, 4, 4, 4, 4, 4, 4, 4, 4, 4, 4, 4, 4, 4, 4, 4, 4, 4, 4, 4, 4, 4, 4, 4], [4, 4, 4, 4, 4, 4, 4, 4, 4, 4, 4, 4, 4, 4, 4, 4, 4, 4, 4, 4, 4, 4, 4, 4, 4, 4, 4, 4, 4, 4], [4, 4, 4, 4, 4, 4, 4, 4, 4, 4, 4, 4, 4, 4, 4, 4, 4, 4, 4, 4, 4, 4, 4, 4, 4, 4, 4, 4, 4, 4], [4, 4, 4, 4, 4, 4, 4, 4, 4, 4, 4, 4, 4, 4, 4, 4, 4, 4, 4, 4, 4, 4, 4, 4, 4, 4, 4, 4, 4, 4], [4, 4, 4, 4, 4, 4, 4, 4, 4, 4, 4, 4, 4, 4, 4, 4, 4, 4, 4, 4, 4, 4, 4, 4, 4, 4, 4, 4, 4, 4], [4, 4, 4, 4, 4, 4, 4, 4, 4, 4, 4, 4, 4, 4, 4, 4, 4, 4, 4, 4, 4, 4, 4, 4, 4, 4, 4, 4, 4, 4], [4, 4, 4, 4, 4, 4, 4, 4, 4, 4, 4, 4, 4, 4, 4, 4, 4, 4, 4, 4, 4, 4, 4, 4, 4, 4, 4, 4, 4, 4], [4, 4, 4, 4, 4, 4, 4, 4, 4, 4, 4, 4, 4, 4, 4, 4, 4, 4, 4, 4, 4, 4, 4, 4, 4, 4, 4, 4, 4, 4], [4, 4, 4, 4, 4, 4, 4, 4, 4, 4, 4, 4, 4, 4, 4, 4, 4, 4, 4, 4, 4, 4, 4, 4, 4, 4, 4, 4, 4, 4], [4, 4, 4, 4, 4, 4, 4, 4, 4, 4, 4, 4, 4, 4, 4, 4, 4, 4, 4, 4, 4, 4, 4, 4, 4, 4, 4, 4, 4, 4], [4, 4, 4, 4, 4, 4, 4, 4, 4, 4, 4, 4, 4, 4, 4, 4, 4, 4, 4, 4, 4, 4, 4, 4, 4, 4, 4, 4, 4, 4], [4, 4, 4, 4, 4, 4, 4, 4, 4, 4, 4, 4, 4, 4, 4, 4, 4, 4, 4, 4, 4, 4, 4, 4, 4, 4, 4, 4, 4, 4], [4, 4, 4, 4, 4, 4, 4, 4, 4, 4, 4, 4, 4, 4, 4, 4, 4, 4, 4, 4, 4, 4, 4, 4, 4, 4, 4, 4, 4, 4], [4, 4, 4, 4, 4, 4, 4, 4, 4, 4, 4, 4, 4, 4, 4, 4, 4, 4, 4, 4, 4, 4, 4, 4, 4, 4, 4, 4, 4, 4], [4, 4, 4, 4, 4, 4, 4, 4, 4, 4, 4, 4, 4, 4, 4, 4, 4, 4, 4, 4, 4, 4, 4, 4, 4, 4, 4, 4, 4, 4], [4, 4, 4, 4, 4, 4, 4, 4, 4, 4, 4, 4, 4, 4, 4, 4, 4, 4, 4, 4, 4, 4, 4, 4, 4, 4, 4, 4, 4, 4], [4, 4, 4, 4, 4, 4, 4, 4, 4, 4, 4, 4, 4, 4, 4, 4, 4, 4, 4, 4, 4, 4, 4, 4, 4, 4, 4, 4, 4, 4], [4, 4, 4, 4, 4, 4, 4, 4, 4, 4, 4, 4, 4, 4, 4, 4, 4, 4, 4, 4, 4, 4, 4, 4, 4, 4, 4, 4, 4, 4], [4, 4, 4, 4, 4, 4, 4, 4, 4, 4, 4, 4, 4, 4, 4, 4, 4, 4, 4, 4, 4, 4, 4, 4, 4, 4, 4, 4, 4, 4], [4, 4, 4, 4, 4, 4, 4, 4, 4, 4, 4, 4, 4, 4, 4, 4, 4, 4, 4, 4, 4, 4, 4, 4, 4, 4, 4, 4, 4, 4], [4, 4, 4, 4, 4, 4, 4, 4, 4, 4, 4, 4, 4, 4, 4, 4, 4, 4, 4, 4, 4, 4, 4, 4, 4, 4, 4, 4, 4, 4], [4, 4, 4, 4, 4, 4, 4, 4, 4, 4, 4, 4, 4, 4, 4, 4, 4, 4, 4, 4, 4, 4, 4, 4, 4, 4, 4, 4, 4, 4], [4, 4, 4, 4, 4, 4, 4, 4, 4, 4, 4, 4, 4, 4, 4, 4, 4, 4, 4, 4, 4, 4, 4, 4, 4, 4, 4, 4, 4, 4], [4, 4, 4, 4, 4, 4, 4, 4, 4, 4, 4, 4, 4, 4, 4, 4, 4, 4, 4, 4, 4, 4, 4, 4, 4, 4, 4, 4, 4, 4], [4, 4, 4, 4, 4, 4, 4, 4, 4, 4, 4, 4, 4, 4, 4, 4, 4, 4, 4, 4, 4, 4, 4, 4, 4, 4, 4, 4, 4, 4], [4, 4, 4, 4, 4, 4, 4, 4, 4, 4, 4, 4, 4, 4, 4, 4, 4, 4, 4, 4, 4, 4, 4, 4, 4, 4, 4, 4, 4, 4], [4, 4, 4, 4, 4, 4, 4, 4, 4, 4, 4, 4, 4, 4, 4, 4, 4, 4, 4, 4, 4, 4, 4, 4, 4, 4, 4, 4, 4, 4], [4, 4, 4, 4, 4, 4, 4, 4, 4, 4, 4, 4, 4, 4, 4, 4, 4, 4, 4, 4, 4, 4, 4, 4, 4, 4, 4, 4, 4, 4], [4, 4, 4, 4, 4, 4, 4, 4, 4, 4, 4, 4, 4, 4, 4, 4, 4, 4, 4, 4, 4, 4, 4, 4, 4, 4, 4, 4, 4, 4], [4, 4, 4, 4, 4, 4, 4, 4, 4, 4, 4, 4, 4, 4, 4, 4, 4, 4, 4, 4, 4, 4, 4, 4, 4, 4, 4, 4, 4, 4], [4, 4, 4, 4, 4, 4, 4, 4, 4, 4, 4, 4, 4, 4, 4, 4, 4, 4, 4, 4, 4, 4, 4, 4, 4, 4, 4, 4, 4, 4], [4, 4, 4, 4, 4, 4, 4, 4, 4, 4, 4, 4, 4, 4, 4, 4, 4, 4, 4, 4, 4, 4, 4, 4, 4, 4, 4, 4, 4, 4], [4, 4, 4, 4, 4, 4, 4, 4, 4, 4, 4, 4, 4, 4, 4, 4, 4, 4, 4, 4, 4, 4, 4, 4, 4, 4, 4, 4, 4, 4], [4, 4, 4, 4, 4, 4, 4, 4, 4, 4, 4, 4, 4, 4, 4, 4, 4, 4, 4, 4, 4, 4, 4, 4, 4, 4, 4, 4, 4, 4], [4, 4, 4, 4, 4, 4, 4, 4, 4, 4, 4, 4, 4, 4, 4, 4, 4, 4, 4, 4, 4, 4, 4, 4, 4, 4, 4, 4, 4, 4], [4, 4, 4, 4, 4, 4, 4, 4, 4, 4, 4, 4, 4, 4, 4, 4, 4, 4, 4, 4, 4, 4, 4, 4, 4, 4, 4, 4, 4, 4], [4, 4, 4, 4, 4, 4, 4, 4, 4, 4, 4, 4, 4, 4, 4, 4, 4, 4, 4, 4, 4, 4, 4, 4, 4, 4, 4, 4, 4, 4], [4, 4, 4, 4, 4, 4, 4, 4, 4, 4, 4, 4, 4, 4, 4, 4, 4, 4, 4, 4, 4, 4, 4, 4, 4, 4, 4, 4, 4, 4], [4, 4, 4, 4, 4, 4, 4, 4, 4, 4, 4, 4, 4, 4, 4, 4, 4, 4, 4, 4, 4, 4, 4, 4, 4, 4, 4, 4, 4, 4], [4, 4, 4, 4, 4, 4, 4, 4, 4, 4, 4, 4, 4, 4, 4, 4, 4, 4, 4, 4, 4, 4, 4, 4, 4, 4, 4, 4, 4, 4], [4, 4, 4, 4, 4, 4, 4, 4, 4, 4, 4, 4, 4, 4, 4, 4, 4, 4, 4, 4, 4, 4, 4, 4, 4, 4, 4, 4, 4, 4], [4, 4, 4, 4, 4, 4, 4, 4, 4, 4, 4, 4, 4, 4, 4, 4, 4, 4, 4, 4, 4, 4, 4, 4, 4, 4, 4, 4, 4, 4], [4, 4, 4, 4, 4, 4, 4, 4, 4, 4, 4, 4, 4, 4, 4, 4, 4, 4, 4, 4, 4, 4, 4, 4, 4, 4, 4, 4, 4, 4], [4, 4, 4, 4, 4, 4, 4, 4, 4, 4, 4, 4, 4, 4, 4, 4, 4, 4, 4, 4, 4, 4, 4, 4, 4, 4, 4, 4, 4, 4], [4, 4, 4, 4, 4, 4, 4, 4, 4, 4, 4, 4, 4, 4, 4, 4, 4, 4, 4, 4, 4, 4, 4, 4, 4, 4, 4, 4, 4, 4], [4, 4, 4, 4, 4, 4, 4, 4, 4, 4, 4, 4, 4, 4, 4, 4, 4, 4, 4, 4, 4, 4, 4, 4, 4, 4, 4, 4, 4, 4], [4, 4, 4, 4, 4, 4, 4, 4, 4, 4, 4, 4, 4, 4, 4, 4, 4, 4, 4, 4, 4, 4, 4, 4, 4, 4, 4, 4, 4, 4], [4, 4, 4, 4, 4, 4, 4, 4, 4, 4, 4, 4, 4, 4, 4, 4, 4, 4, 4, 4, 4, 4, 4, 4, 4, 4, 4, 4, 4, 4], [4, 4, 4, 4, 4, 4, 4, 4, 4, 4, 4, 4, 4, 4, 4, 4, 4, 4, 4, 4, 4, 4, 4, 4, 4, 4, 4, 4, 4, 4], [4, 4, 4, 4, 4, 4, 4, 4, 4, 4, 4, 4, 4, 4, 4, 4, 4, 4, 4, 4, 4, 4, 4, 4, 4, 4, 4, 4, 4, 4], [4, 4, 4, 4, 4, 4, 4, 4, 4, 4, 4, 4, 4, 4, 4, 4, 4, 4, 4, 4, 4, 4, 4, 4, 4, 4, 4, 4, 4, 4], [4, 4, 4, 4, 4, 4, 4, 4, 4, 4, 4, 4, 4, 4, 4, 4, 4, 4, 4, 4, 4, 4, 4, 4, 4, 4, 4, 4, 4, 4], [4, 4, 4, 4, 4, 4, 4, 4, 4, 4, 4, 4, 4, 4, 4, 4, 4, 4, 4, 4, 4, 4, 4, 4, 4, 4, 4, 4, 4, 4], [4, 4, 4, 4, 4, 4, 4, 4, 4, 4, 4, 4, 4, 4, 4, 4, 4, 4, 4, 4, 4, 4, 4, 4, 4, 4, 4, 4, 4, 4], [4, 4, 4, 4, 4, 4, 4, 4, 4, 4, 4, 4, 4, 4, 4, 4, 4, 4, 4, 4, 4, 4, 4, 4, 4, 4, 4, 4, 4, 4], [4, 4, 4, 4, 4, 4, 4, 4, 4, 4, 4, 4, 4, 4, 4, 4, 4, 4, 4, 4, 4, 4, 4, 4, 4, 4, 4, 4, 4, 4], [4, 4, 4, 4, 4, 4, 4, 4, 4, 4, 4, 4, 4, 4, 4, 4, 4, 4, 4, 4, 4, 4, 4, 4, 4, 4, 4, 4, 4, 4], [4, 4, 4, 4, 4, 4, 4, 4, 4, 4, 4, 4, 4, 4, 4, 4, 4, 4, 4, 4, 4, 4, 4, 4, 4, 4, 4, 4, 4, 4], [4, 4, 4, 4, 4, 4, 4, 4, 4, 4, 4, 4, 4, 4, 4, 4, 4, 4, 4, 4, 4, 4, 4, 4, 4, 4, 4, 4, 4, 4], [4, 4, 4, 4, 4, 4, 4, 4, 4, 4, 4, 4, 4, 4, 4, 4, 4, 4, 4, 4, 4, 4, 4, 4, 4, 4, 4, 4, 4, 4], [4, 4, 4, 4, 4, 4, 4, 4, 4, 4, 4, 4, 4, 4, 4, 4, 4, 4, 4, 4, 4, 4, 4, 4, 4, 4, 4, 4, 4, 4], [4, 4, 4, 4, 4, 4, 4, 4, 4, 4, 4, 4, 4, 4, 4, 4, 4, 4, 4, 4, 4, 4, 4, 4, 4, 4, 4, 4, 4, 4], [4, 4, 4, 4, 4, 4, 4, 4, 4, 4, 4, 4, 4, 4, 4, 4, 4, 4, 4, 4, 4, 4, 4, 4, 4, 4, 4, 4, 4, 4], [4, 4, 4, 4, 4, 4, 4, 4, 4, 4, 4, 4, 4, 4, 4, 4, 4, 4, 4, 4, 4, 4, 4, 4, 4, 4, 4, 4, 4, 4], [4, 4, 4, 4, 4, 4, 4, 4, 4, 4, 4, 4, 4, 4, 4, 4, 4, 4, 4, 4, 4, 4, 4, 4, 4, 4, 4, 4, 4, 4], [4, 4, 4, 4, 4, 4, 4, 4, 4, 4, 4, 4, 4, 4, 4, 4, 4, 4, 4, 4, 4, 4, 4, 4, 4, 4, 4, 4, 4, 4], [4, 4, 4, 4, 4, 4, 4, 4, 4, 4, 4, 4, 4, 4, 4, 4, 4, 4, 4, 4, 4, 4, 4, 4, 4, 4, 4, 4, 4, 4], [4, 4, 4, 4, 4, 4, 4, 4, 4, 4, 4, 4, 4, 4, 4, 4, 4, 4, 4, 4, 4, 4, 4, 4, 4, 4, 4, 4, 4, 4]]  [1, 1, 1, 2, 2, 3, 3, 2, 1, 1, 1, 0, 2, 2, 1, 1, 2, 1, 3, 2, 2, 2, 2, 3, 1, 1, 1, 0, 2, 2, 3, 1, 1, 1, 3, 1, 1, 3, 2, 1, 2, 0, 2, 2, 1, 1, 2, 1, 1, 1, 3, 3, 2, 0, 3, 3, 1, 2, 1, 1, 2, 1, 3, 3, 1, 1, 1, 1, 0, 1, 2, 1, 2, 3, 2, 2, 1, 2, 2, 2, 1, 1, 0, 1, 2, 3, 1, 1, 3, 2, 1, 1, 3, 2, 1, 1, 1, 0, -1, -1, -1, -1, -1, -1, -1, -1, -1, -1, -1, -1, -1, -1, -1, -1, -1, -1, -1, -1, -1, -1, -1, -1, -1, -1, -1, -1, -1, -1, -1, -1, -1, -1, -1, -1, -1, -1, -1, -1, -1, -1, -1, -1, -1, -1, -1, -1, -1, -1, -1, -1, -1, -1, -1, -1, -1, -1, -1, -1, -1, -1, -1, -1, -1, -1, -1, -1, -1, -1, -1, -1, -1, -1, -1, -1, -1, -1, -1, -1, -1, -1, -1, -1, -1, -1, -1, -1, -1, -1, -1, -1, -1, -1, -1, -1, -1, -1, -1, -1, -1, -1]  91          [[4, 4, 4, 4, 4, 4, 4, 4, 4, 4, 4, 4, 4, 4, 4, 4, 4, 4, 4, 4, 4, 4, 4, 4, 4, 4, 4, 4, 4, 4], [4, 4, 4, 4, 4, 4, 4, 4, 4, 4, 4, 4, 4, 4, 4, 4, 4, 4, 4, 4, 4, 4, 4, 4, 4, 4, 4, 4, 4, 4], [4, 4, 4, 4, 4, 4, 4, 4, 4, 4, 4, 4, 4, 4, 4, 4, 4, 4, 4, 4, 4, 4, 4, 4, 4, 4, 4, 4, 4, 4], [4, 4, 4, 4, 4, 4, 4, 4, 4, 4, 4, 4, 4, 4, 4, 4, 4, 4, 4, 4, 4, 4, 4, 4, 4, 4, 4, 4, 4, 4], [4, 4, 4, 4, 4, 4, 4, 4, 4, 4, 4, 4, 4, 4, 4, 4, 4, 4, 4, 4, 4, 4, 4, 4, 4, 4, 4, 4, 4, 4], [4, 4, 4, 4, 4, 4, 4, 4, 4, 4, 4, 4, 4, 4, 4, 4, 4, 4, 4, 4, 4, 4, 4, 4, 4, 4, 4, 4, 4, 4], [2608, 113, 5, 125, 30, 5, 22, 1175, 5, 459, 803, 11713, 2608, 1044, 22, 118, 1175, 5, 86, 31, 579, 323, 164, 599, 126, 5, 16, 5, 2609, 0], [4, 4, 4, 4, 4, 4, 4, 4, 4, 4, 4, 4, 4, 4, 4, 4, 4, 4, 4, 4, 4, 4, 4, 4, 4, 4, 4, 4, 4, 4], [3630, 11732, 5, 8, 838, 155, 8, 7329, 2296, 5, 90, 44, 0, 1, 1, 1, 1, 1, 1, 1, 1, 1, 1, 1, 1, 1, 1, 1, 1, 1], [4, 4, 4, 4, 4, 4, 4, 4, 4, 4, 4, 4, 4, 4, 4, 4, 4, 4, 4, 4, 4, 4, 4, 4, 4, 4, 4, 4, 4, 4], [4, 4, 4, 4, 4, 4, 4, 4, 4, 4, 4, 4, 4, 4, 4, 4, 4, 4, 4, 4, 4, 4, 4, 4, 4, 4, 4, 4, 4, 4], [4, 4, 4, 4, 4, 4, 4, 4, 4, 4, 4, 4, 4, 4, 4, 4, 4, 4, 4, 4, 4, 4, 4, 4, 4, 4, 4, 4, 4, 4], [1111, 266, 236, 293, 30, 0, 1, 1, 1, 1, 1, 1, 1, 1, 1, 1, 1, 1, 1, 1, 1, 1, 1, 1, 1, 1, 1, 1, 1, 1], [260, 3606, 113, 5, 207, 30, 0, 1, 1, 1, 1, 1, 1, 1, 1, 1, 1, 1, 1, 1, 1, 1, 1, 1, 1, 1, 1, 1, 1, 1], [5564, 432, 99, 8, 3029, 966, 8, 434, 8, 3622, 248, 5565, 0, 1, 1, 1, 1, 1, 1, 1, 1, 1, 1, 1, 1, 1, 1, 1, 1, 1], [3, 3, 3, 3, 3, 3, 3, 3, 3, 3, 3, 3, 3, 3, 3, 3, 3, 3, 3, 3, 3, 3, 3, 3, 3, 3, 3, 3, 3, 3], [1045, 3626, 4375, 8, 11726, 7325, 5, 460, 1045, 105, 3627, 730, 10, 11727, 78, 3035, 32, 1814, 6, 64, 105, 287, 22, 913, 220, 6, 304, 6, 319, 0], [4, 4, 4, 4, 4, 4, 4, 4, 4, 4, 4, 4, 4, 4, 4, 4, 4, 4, 4, 4, 4, 4, 4, 4, 4, 4, 4, 4, 4, 4], [1176, 10, 637, 11720, 30, 5, 8, 910, 150, 5561, 8, 910, 10, 1529, 8, 7322, 10, 1529, 8, 185, 911, 10, 1529, 0, 1, 1, 1, 1, 1, 1], [3, 3, 3, 3, 3, 3, 3, 3, 3, 3, 3, 3, 3, 3, 3, 3, 3, 3, 3, 3, 3, 3, 3, 3, 3, 3, 3, 3, 3, 3], [3025, 669, 125, 30, 5, 5, 19, 26, 0, 1, 1, 1, 1, 1, 1, 1, 1, 1, 1, 1, 1, 1, 1, 1, 1, 1, 1, 1, 1, 1], [11689, 90, 30, 0, 1, 1, 1, 1, 1, 1, 1, 1, 1, 1, 1, 1, 1, 1, 1, 1, 1, 1, 1, 1, 1, 1, 1, 1, 1, 1], [4, 4, 4, 4, 4, 4, 4, 4, 4, 4, 4, 4, 4, 4, 4, 4, 4, 4, 4, 4, 4, 4, 4, 4, 4, 4, 4, 4, 4, 4], [3038, 107, 26, 5, 963, 44, 5, 8, 733, 8, 761, 8, 2615, 0, 1, 1, 1, 1, 1, 1, 1, 1, 1, 1, 1, 1, 1, 1, 1, 1], [1108, 516, 598, 1109, 5, 1405, 30, 5, 8, 11688, 8, 1406, 8, 804, 0, 1, 1, 1, 1, 1, 1, 1, 1, 1, 1, 1, 1, 1, 1, 1], [4, 4, 4, 4, 4, 4, 4, 4, 4, 4, 4, 4, 4, 4, 4, 4, 4, 4, 4, 4, 4, 4, 4, 4, 4, 4, 4, 4, 4, 4], [4, 4, 4, 4, 4, 4, 4, 4, 4, 4, 4, 4, 4, 4, 4, 4, 4, 4, 4, 4, 4, 4, 4, 4, 4, 4, 4, 4, 4, 4], [598, 1109, 7309, 104, 30, 5, 728, 579, 0, 1, 1, 1, 1, 1, 1, 1, 1, 1, 1, 1, 1, 1, 1, 1, 1, 1, 1, 1, 1, 1], [4, 4, 4, 4, 4, 4, 4, 4, 4, 4, 4, 4, 4, 4, 4, 4, 4, 4, 4, 4, 4, 4, 4, 4, 4, 4, 4, 4, 4, 4], [4365, 11691, 54, 5, 90, 44, 0, 1, 1, 1, 1, 1, 1, 1, 1, 1, 1, 1, 1, 1, 1, 1, 1, 1, 1, 1, 1, 1, 1, 1], [4, 4, 4, 4, 4, 4, 4, 4, 4, 4, 4, 4, 4, 4, 4, 4, 4, 4, 4, 4, 4, 4, 4, 4, 4, 4, 4, 4, 4, 4], [4, 4, 4, 4, 4, 4, 4, 4, 4, 4, 4, 4, 4, 4, 4, 4, 4, 4, 4, 4, 4, 4, 4, 4, 4, 4, 4, 4, 4, 4], [11725, 113, 5, 90, 30, 5, 910, 5562, 9, 2290, 6, 382, 5, 3620, 3621, 5, 1812, 0, 1, 1, 1, 1, 1, 1, 1, 1, 1, 1, 1, 1], [4, 4, 4, 4, 4, 4, 4, 4, 4, 4, 4, 4, 4, 4, 4, 4, 4, 4, 4, 4, 4, 4, 4, 4, 4, 4, 4, 4, 4, 4], [1304, 4351, 30, 5, 8, 140, 8, 477, 5, 1806, 5, 432, 99, 0, 1, 1, 1, 1, 1, 1, 1, 1, 1, 1, 1, 1, 1, 1, 1, 1], [4, 4, 4, 4, 4, 4, 4, 4, 4, 4, 4, 4, 4, 4, 4, 4, 4, 4, 4, 4, 4, 4, 4, 4, 4, 4, 4, 4, 4, 4], [4369, 8, 5, 74, 30, 5, 11708, 5, 1409, 32, 150, 5551, 0, 1, 1, 1, 1, 1, 1, 1, 1, 1, 1, 1, 1, 1, 1, 1, 1, 1], [1659, 8, 7304, 8, 4358, 11677, 8, 4358, 11678, 5, 293, 30, 0, 1, 1, 1, 1, 1, 1, 1, 1, 1, 1, 1, 1, 1, 1, 1, 1, 1], [3017, 79, 184, 22, 200, 210, 78, 457, 6, 31, 196, 370, 11673, 126, 5, 125, 30, 0, 1, 1, 1, 1, 1, 1, 1, 1, 1, 1, 1, 1], [4, 4, 4, 4, 4, 4, 4, 4, 4, 4, 4, 4, 4, 4, 4, 4, 4, 4, 4, 4, 4, 4, 4, 4, 4, 4, 4, 4, 4, 4], [4, 4, 4, 4, 4, 4, 4, 4, 4, 4, 4, 4, 4, 4, 4, 4, 4, 4, 4, 4, 4, 4, 4, 4, 4, 4, 4, 4, 4, 4], [4, 4, 4, 4, 4, 4, 4, 4, 4, 4, 4, 4, 4, 4, 4, 4, 4, 4, 4, 4, 4, 4, 4, 4, 4, 4, 4, 4, 4, 4], [1810, 668, 74, 30, 0, 1, 1, 1, 1, 1, 1, 1, 1, 1, 1, 1, 1, 1, 1, 1, 1, 1, 1, 1, 1, 1, 1, 1, 1, 1], [4, 4, 4, 4, 4, 4, 4, 4, 4, 4, 4, 4, 4, 4, 4, 4, 4, 4, 4, 4, 4, 4, 4, 4, 4, 4, 4, 4, 4, 4], [5569, 11730, 0, 1, 1, 1, 1, 1, 1, 1, 1, 1, 1, 1, 1, 1, 1, 1, 1, 1, 1, 1, 1, 1, 1, 1, 1, 1, 1, 1], [4, 4, 4, 4, 4, 4, 4, 4, 4, 4, 4, 4, 4, 4, 4, 4, 4, 4, 4, 4, 4, 4, 4, 4, 4, 4, 4, 4, 4, 4], [4, 4, 4, 4, 4, 4, 4, 4, 4, 4, 4, 4, 4, 4, 4, 4, 4, 4, 4, 4, 4, 4, 4, 4, 4, 4, 4, 4, 4, 4], [11665, 315, 67, 5, 7298, 25, 7298, 5, 37, 315, 5, 130, 209, 5, 149, 56, 1172, 230, 11666, 5, 79, 184, 22, 200, 210, 82, 3012, 6, 31, 0], [4, 4, 4, 4, 4, 4, 4, 4, 4, 4, 4, 4, 4, 4, 4, 4, 4, 4, 4, 4, 4, 4, 4, 4, 4, 4, 4, 4, 4, 4], [2294, 391, 339, 283, 5, 8, 1818, 304, 25, 201, 25, 3037, 5, 75, 30, 0, 1, 1, 1, 1, 1, 1, 1, 1, 1, 1, 1, 1, 1, 1], [4, 4, 4, 4, 4, 4, 4, 4, 4, 4, 4, 4, 4, 4, 4, 4, 4, 4, 4, 4, 4, 4, 4, 4, 4, 4, 4, 4, 4, 4], [4, 4, 4, 4, 4, 4, 4, 4, 4, 4, 4, 4, 4, 4, 4, 4, 4, 4, 4, 4, 4, 4, 4, 4, 4, 4, 4, 4, 4, 4], [4, 4, 4, 4, 4, 4, 4, 4, 4, 4, 4, 4, 4, 4, 4, 4, 4, 4, 4, 4, 4, 4, 4, 4, 4, 4, 4, 4, 4, 4], [1111, 8, 1661, 8, 1307, 5, 90, 30, 0, 1, 1, 1, 1, 1, 1, 1, 1, 1, 1, 1, 1, 1, 1, 1, 1, 1, 1, 1, 1, 1], [4, 4, 4, 4, 4, 4, 4, 4, 4, 4, 4, 4, 4, 4, 4, 4, 4, 4, 4, 4, 4, 4, 4, 4, 4, 4, 4, 4, 4, 4], [4, 4, 4, 4, 4, 4, 4, 4, 4, 4, 4, 4, 4, 4, 4, 4, 4, 4, 4, 4, 4, 4, 4, 4, 4, 4, 4, 4, 4, 4], [4, 4, 4, 4, 4, 4, 4, 4, 4, 4, 4, 4, 4, 4, 4, 4, 4, 4, 4, 4, 4, 4, 4, 4, 4, 4, 4, 4, 4, 4], [4, 4, 4, 4, 4, 4, 4, 4, 4, 4, 4, 4, 4, 4, 4, 4, 4, 4, 4, 4, 4, 4, 4, 4, 4, 4, 4, 4, 4, 4], [4, 4, 4, 4, 4, 4, 4, 4, 4, 4, 4, 4, 4, 4, 4, 4, 4, 4, 4, 4, 4, 4, 4, 4, 4, 4, 4, 4, 4, 4], [4, 4, 4, 4, 4, 4, 4, 4, 4, 4, 4, 4, 4, 4, 4, 4, 4, 4, 4, 4, 4, 4, 4, 4, 4, 4, 4, 4, 4, 4], [3023, 248, 1040, 8, 10, 283, 8, 10, 5548, 5, 4366, 30, 0, 1, 1, 1, 1, 1, 1, 1, 1, 1, 1, 1, 1, 1, 1, 1, 1, 1], [4, 4, 4, 4, 4, 4, 4, 4, 4, 4, 4, 4, 4, 4, 4, 4, 4, 4, 4, 4, 4, 4, 4, 4, 4, 4, 4, 4, 4, 4], [433, 1662, 293, 30, 5, 3615, 0, 1, 1, 1, 1, 1, 1, 1, 1, 1, 1, 1, 1, 1, 1, 1, 1, 1, 1, 1, 1, 1, 1, 1], [2031, 1177, 19, 26, 125, 44, 5, 0, 1, 1, 1, 1, 1, 1, 1, 1, 1, 1, 1, 1, 1, 1, 1, 1, 1, 1, 1, 1, 1, 1], [4, 4, 4, 4, 4, 4, 4, 4, 4, 4, 4, 4, 4, 4, 4, 4, 4, 4, 4, 4, 4, 4, 4, 4, 4, 4, 4, 4, 4, 4], [1811, 118, 5, 182, 17, 5, 3027, 14, 2287, 6, 4371, 410, 15, 7318, 14, 1043, 1237, 0, 1, 1, 1, 1, 1, 1, 1, 1, 1, 1, 1, 1], [4, 4, 4, 4, 4, 4, 4, 4, 4, 4, 4, 4, 4, 4, 4, 4, 4, 4, 4, 4, 4, 4, 4, 4, 4, 4, 4, 4, 4, 4], [4, 4, 4, 4, 4, 4, 4, 4, 4, 4, 4, 4, 4, 4, 4, 4, 4, 4, 4, 4, 4, 4, 4, 4, 4, 4, 4, 4, 4, 4], [4, 4, 4, 4, 4, 4, 4, 4, 4, 4, 4, 4, 4, 4, 4, 4, 4, 4, 4, 4, 4, 4, 4, 4, 4, 4, 4, 4, 4, 4], [4, 4, 4, 4, 4, 4, 4, 4, 4, 4, 4, 4, 4, 4, 4, 4, 4, 4, 4, 4, 4, 4, 4, 4, 4, 4, 4, 4, 4, 4], [11690, 6, 2603, 6, 3611, 15, 7308, 316, 317, 5545, 0, 1, 1, 1, 1, 1, 1, 1, 1, 1, 1, 1, 1, 1, 1, 1, 1, 1, 1, 1], [4373, 8, 201, 8, 967, 5, 2611, 44, 0, 1, 1, 1, 1, 1, 1, 1, 1, 1, 1, 1, 1, 1, 1, 1, 1, 1, 1, 1, 1, 1], [7332, 1239, 19, 26, 5, 127, 44, 5, 8, 842, 0, 1, 1, 1, 1, 1, 1, 1, 1, 1, 1, 1, 1, 1, 1, 1, 1, 1, 1, 1], [1655, 11672, 5, 19, 26, 75, 30, 0, 1, 1, 1, 1, 1, 1, 1, 1, 1, 1, 1, 1, 1, 1, 1, 1, 1, 1, 1, 1, 1, 1], [4, 4, 4, 4, 4, 4, 4, 4, 4, 4, 4, 4, 4, 4, 4, 4, 4, 4, 4, 4, 4, 4, 4, 4, 4, 4, 4, 4, 4, 4], [968, 3030, 5566, 30, 5, 8, 801, 3031, 8, 968, 201, 8, 968, 1654, 8, 2291, 5, 0, 1, 1, 1, 1, 1, 1, 1, 1, 1, 1, 1, 1], [4, 4, 4, 4, 4, 4, 4, 4, 4, 4, 4, 4, 4, 4, 4, 4, 4, 4, 4, 4, 4, 4, 4, 4, 4, 4, 4, 4, 4, 4], [3, 3, 3, 3, 3, 3, 3, 3, 3, 3, 3, 3, 3, 3, 3, 3, 3, 3, 3, 3, 3, 3, 3, 3, 3, 3, 3, 3, 3, 3], [1530, 1665, 37, 28, 5, 8, 307, 8, 434, 8, 3623, 5, 912, 5, 16, 5, 284, 0, 1, 1, 1, 1, 1, 1, 1, 1, 1, 1, 1, 1], [1412, 338, 5, 86, 31, 579, 5, 7327, 30, 5, 8, 1815, 671, 30, 8, 2293, 6, 870, 8, 4376, 6, 1531, 0, 1, 1, 1, 1, 1, 1, 1], [4, 4, 4, 4, 4, 4, 4, 4, 4, 4, 4, 4, 4, 4, 4, 4, 4, 4, 4, 4, 4, 4, 4, 4, 4, 4, 4, 4, 4, 4], [4, 4, 4, 4, 4, 4, 4, 4, 4, 4, 4, 4, 4, 4, 4, 4, 4, 4, 4, 4, 4, 4, 4, 4, 4, 4, 4, 4, 4, 4], [4, 4, 4, 4, 4, 4, 4, 4, 4, 4, 4, 4, 4, 4, 4, 4, 4, 4, 4, 4, 4, 4, 4, 4, 4, 4, 4, 4, 4, 4], [2601, 11675, 1039, 225, 30, 0, 1, 1, 1, 1, 1, 1, 1, 1, 1, 1, 1, 1, 1, 1, 1, 1, 1, 1, 1, 1, 1, 1, 1, 1], [7331, 3039, 3632, 672, 19, 26, 5, 65, 44, 0, 1, 1, 1, 1, 1, 1, 1, 1, 1, 1, 1, 1, 1, 1, 1, 1, 1, 1, 1, 1], [4, 4, 4, 4, 4, 4, 4, 4, 4, 4, 4, 4, 4, 4, 4, 4, 4, 4, 4, 4, 4, 4, 4, 4, 4, 4, 4, 4, 4, 4], [3, 3, 3, 3, 3, 3, 3, 3, 3, 3, 3, 3, 3, 3, 3, 3, 3, 3, 3, 3, 3, 3, 3, 3, 3, 3, 3, 3, 3, 3], [4, 4, 4, 4, 4, 4, 4, 4, 4, 4, 4, 4, 4, 4, 4, 4, 4, 4, 4, 4, 4, 4, 4, 4, 4, 4, 4, 4, 4, 4], [4, 4, 4, 4, 4, 4, 4, 4, 4, 4, 4, 4, 4, 4, 4, 4, 4, 4, 4, 4, 4, 4, 4, 4, 4, 4, 4, 4, 4, 4], [4, 4, 4, 4, 4, 4, 4, 4, 4, 4, 4, 4, 4, 4, 4, 4, 4, 4, 4, 4, 4, 4, 4, 4, 4, 4, 4, 4, 4, 4], [4, 4, 4, 4, 4, 4, 4, 4, 4, 4, 4, 4, 4, 4, 4, 4, 4, 4, 4, 4, 4, 4, 4, 4, 4, 4, 4, 4, 4, 4], [4, 4, 4, 4, 4, 4, 4, 4, 4, 4, 4, 4, 4, 4, 4, 4, 4, 4, 4, 4, 4, 4, 4, 4, 4, 4, 4, 4, 4, 4], [11676, 375, 1106, 44, 5, 1808, 34, 0, 1, 1, 1, 1, 1, 1, 1, 1, 1, 1, 1, 1, 1, 1, 1, 1, 1, 1, 1, 1, 1, 1], [3022, 15, 11697, 0, 1, 1, 1, 1, 1, 1, 1, 1, 1, 1, 1, 1, 1, 1, 1, 1, 1, 1, 1, 1, 1, 1, 1, 1, 1, 1], [11714, 11715, 16, 0, 1, 1, 1, 1, 1, 1, 1, 1, 1, 1, 1, 1, 1, 1, 1, 1, 1, 1, 1, 1, 1, 1, 1, 1, 1, 1], [1232, 164, 11674, 126, 5, 16, 5, 17, 86, 31, 579, 5, 150, 5, 8, 9, 1807, 52, 54, 118, 5, 666, 30, 0, 1, 1, 1, 1, 1, 1], [667, 8, 7310, 7311, 8, 11692, 7311, 8, 3020, 11693, 8, 11694, 2026, 8, 11695, 8, 478, 5546, 8, 11696, 8, 1174, 2026, 8, 1174, 3613, 5, 503, 105, 0], [1654, 15, 5539, 5540, 11671, 30, 5, 19, 26, 0, 1, 1, 1, 1, 1, 1, 1, 1, 1, 1, 1, 1, 1, 1, 1, 1, 1, 1, 1, 1], [3631, 8, 400, 531, 5, 25, 698, 25, 461, 25, 462, 5, 432, 99, 7330, 44, 0, 1, 1, 1, 1, 1, 1, 1, 1, 1, 1, 1, 1, 1], [1038, 801, 1522, 3605, 2283, 2023, 29, 5, 8, 0, 1, 1, 1, 1, 1, 1, 1, 1, 1, 1, 1, 1, 1, 1, 1, 1, 1, 1, 1, 1], [4, 4, 4, 4, 4, 4, 4, 4, 4, 4, 4, 4, 4, 4, 4, 4, 4, 4, 4, 4, 4, 4, 4, 4, 4, 4, 4, 4, 4, 4], [11729, 697, 19, 26, 7328, 30, 0, 1, 1, 1, 1, 1, 1, 1, 1, 1, 1, 1, 1, 1, 1, 1, 1, 1, 1, 1, 1, 1, 1, 1], [7303, 10, 300, 125, 30, 5, 22, 1233, 0, 1, 1, 1, 1, 1, 1, 1, 1, 1, 1, 1, 1, 1, 1, 1, 1, 1, 1, 1, 1, 1], [4, 4, 4, 4, 4, 4, 4, 4, 4, 4, 4, 4, 4, 4, 4, 4, 4, 4, 4, 4, 4, 4, 4, 4, 4, 4, 4, 4, 4, 4], [4, 4, 4, 4, 4, 4, 4, 4, 4, 4, 4, 4, 4, 4, 4, 4, 4, 4, 4, 4, 4, 4, 4, 4, 4, 4, 4, 4, 4, 4], [4, 4, 4, 4, 4, 4, 4, 4, 4, 4, 4, 4, 4, 4, 4, 4, 4, 4, 4, 4, 4, 4, 4, 4, 4, 4, 4, 4, 4, 4], [4, 4, 4, 4, 4, 4, 4, 4, 4, 4, 4, 4, 4, 4, 4, 4, 4, 4, 4, 4, 4, 4, 4, 4, 4, 4, 4, 4, 4, 4], [4, 4, 4, 4, 4, 4, 4, 4, 4, 4, 4, 4, 4, 4, 4, 4, 4, 4, 4, 4, 4, 4, 4, 4, 4, 4, 4, 4, 4, 4], [4, 4, 4, 4, 4, 4, 4, 4, 4, 4, 4, 4, 4, 4, 4, 4, 4, 4, 4, 4, 4, 4, 4, 4, 4, 4, 4, 4, 4, 4], [4, 4, 4, 4, 4, 4, 4, 4, 4, 4, 4, 4, 4, 4, 4, 4, 4, 4, 4, 4, 4, 4, 4, 4, 4, 4, 4, 4, 4, 4], [4, 4, 4, 4, 4, 4, 4, 4, 4, 4, 4, 4, 4, 4, 4, 4, 4, 4, 4, 4, 4, 4, 4, 4, 4, 4, 4, 4, 4, 4], [4, 4, 4, 4, 4, 4, 4, 4, 4, 4, 4, 4, 4, 4, 4, 4, 4, 4, 4, 4, 4, 4, 4, 4, 4, 4, 4, 4, 4, 4], [1660, 5543, 1106, 30, 0, 1, 1, 1, 1, 1, 1, 1, 1, 1, 1, 1, 1, 1, 1, 1, 1, 1, 1, 1, 1, 1, 1, 1, 1, 1], [2285, 58, 2602, 5, 259, 225, 30, 5, 4364, 0, 1, 1, 1, 1, 1, 1, 1, 1, 1, 1, 1, 1, 1, 1, 1, 1, 1, 1, 1, 1], [3618, 1663, 3619, 189, 1663, 22, 87, 1663, 14, 14, 325, 732, 517, 2027, 5, 517, 5, 8, 5, 5558, 13, 7320, 760, 11716, 5, 8, 5, 5559, 13, 0], [4370, 1236, 74, 44, 5, 8, 1110, 8, 489, 0, 1, 1, 1, 1, 1, 1, 1, 1, 1, 1, 1, 1, 1, 1, 1, 1, 1, 1, 1, 1], [3624, 516, 6, 3032, 15, 3033, 3034, 2029, 95, 2030, 25, 433, 25, 841, 25, 8, 25, 201, 25, 2612, 1406, 5, 8, 4374, 30, 5, 25, 25, 25, 0], [3013, 2599, 78, 29, 5, 8, 2284, 0, 1, 1, 1, 1, 1, 1, 1, 1, 1, 1, 1, 1, 1, 1, 1, 1, 1, 1, 1, 1, 1, 1], [4, 4, 4, 4, 4, 4, 4, 4, 4, 4, 4, 4, 4, 4, 4, 4, 4, 4, 4, 4, 4, 4, 4, 4, 4, 4, 4, 4, 4, 4], [4, 4, 4, 4, 4, 4, 4, 4, 4, 4, 4, 4, 4, 4, 4, 4, 4, 4, 4, 4, 4, 4, 4, 4, 4, 4, 4, 4, 4, 4], [11721, 74, 5, 8, 2028, 8, 446, 11722, 8, 353, 546, 8, 2610, 1411, 546, 5, 7323, 30, 5, 11723, 11724, 323, 869, 7324, 15, 4372, 1112, 5, 1664, 0], [638, 127, 67, 5, 19, 26, 5, 130, 209, 5, 37, 5, 8, 1816, 8, 808, 1042, 8, 5567, 5568, 3628, 8, 696, 8, 696, 38, 8, 1817, 5, 0], [4359, 3607, 5, 5541, 30, 5, 7305, 34, 0, 1, 1, 1, 1, 1, 1, 1, 1, 1, 1, 1, 1, 1, 1, 1, 1, 1, 1, 1, 1, 1], [4, 4, 4, 4, 4, 4, 4, 4, 4, 4, 4, 4, 4, 4, 4, 4, 4, 4, 4, 4, 4, 4, 4, 4, 4, 4, 4, 4, 4, 4], [4, 4, 4, 4, 4, 4, 4, 4, 4, 4, 4, 4, 4, 4, 4, 4, 4, 4, 4, 4, 4, 4, 4, 4, 4, 4, 4, 4, 4, 4], [1230, 304, 8, 838, 5, 90, 30, 5, 79, 184, 22, 200, 210, 46, 457, 6, 31, 196, 370, 3014, 126, 5, 86, 31, 579, 323, 0, 1, 1, 1], [4, 4, 4, 4, 4, 4, 4, 4, 4, 4, 4, 4, 4, 4, 4, 4, 4, 4, 4, 4, 4, 4, 4, 4, 4, 4, 4, 4, 4, 4], [4, 4, 4, 4, 4, 4, 4, 4, 4, 4, 4, 4, 4, 4, 4, 4, 4, 4, 4, 4, 4, 4, 4, 4, 4, 4, 4, 4, 4, 4], [1305, 27, 17, 5, 1306, 1525, 5, 728, 579, 0, 1, 1, 1, 1, 1, 1, 1, 1, 1, 1, 1, 1, 1, 1, 1, 1, 1, 1, 1, 1], [11670, 7301, 5, 1037, 30, 0, 1, 1, 1, 1, 1, 1, 1, 1, 1, 1, 1, 1, 1, 1, 1, 1, 1, 1, 1, 1, 1, 1, 1, 1], [561, 804, 445, 6, 11685, 445, 15, 11686, 11687, 963, 44, 5, 52, 30, 0, 1, 1, 1, 1, 1, 1, 1, 1, 1, 1, 1, 1, 1, 1, 1], [4, 4, 4, 4, 4, 4, 4, 4, 4, 4, 4, 4, 4, 4, 4, 4, 4, 4, 4, 4, 4, 4, 4, 4, 4, 4, 4, 4, 4, 4], [1526, 75, 30, 5, 10, 277, 5, 8, 479, 0, 1, 1, 1, 1, 1, 1, 1, 1, 1, 1, 1, 1, 1, 1, 1, 1, 1, 1, 1, 1], [4, 4, 4, 4, 4, 4, 4, 4, 4, 4, 4, 4, 4, 4, 4, 4, 4, 4, 4, 4, 4, 4, 4, 4, 4, 4, 4, 4, 4, 4], [4, 4, 4, 4, 4, 4, 4, 4, 4, 4, 4, 4, 4, 4, 4, 4, 4, 4, 4, 4, 4, 4, 4, 4, 4, 4, 4, 4, 4, 4], [3015, 4352, 30, 5, 25, 168, 25, 727, 5, 728, 579, 5, 8, 1231, 8, 1656, 8, 2024, 3016, 8, 236, 9, 695, 8, 3606, 8, 409, 1523, 8, 0], [4, 4, 4, 4, 4, 4, 4, 4, 4, 4, 4, 4, 4, 4, 4, 4, 4, 4, 4, 4, 4, 4, 4, 4, 4, 4, 4, 4, 4, 4], [4, 4, 4, 4, 4, 4, 4, 4, 4, 4, 4, 4, 4, 4, 4, 4, 4, 4, 4, 4, 4, 4, 4, 4, 4, 4, 4, 4, 4, 4], [11684, 16, 5, 5544, 30, 0, 1, 1, 1, 1, 1, 1, 1, 1, 1, 1, 1, 1, 1, 1, 1, 1, 1, 1, 1, 1, 1, 1, 1, 1], [4, 4, 4, 4, 4, 4, 4, 4, 4, 4, 4, 4, 4, 4, 4, 4, 4, 4, 4, 4, 4, 4, 4, 4, 4, 4, 4, 4, 4, 4], [4, 4, 4, 4, 4, 4, 4, 4, 4, 4, 4, 4, 4, 4, 4, 4, 4, 4, 4, 4, 4, 4, 4, 4, 4, 4, 4, 4, 4, 4], [7314, 1234, 5, 7315, 30, 5, 19, 26, 0, 1, 1, 1, 1, 1, 1, 1, 1, 1, 1, 1, 1, 1, 1, 1, 1, 1, 1, 1, 1, 1], [504, 8, 5, 7316, 30, 5, 8, 5552, 8, 11709, 8, 11710, 0, 1, 1, 1, 1, 1, 1, 1, 1, 1, 1, 1, 1, 1, 1, 1, 1, 1], [4, 4, 4, 4, 4, 4, 4, 4, 4, 4, 4, 4, 4, 4, 4, 4, 4, 4, 4, 4, 4, 4, 4, 4, 4, 4, 4, 4, 4, 4], [1408, 8, 11701, 25, 201, 25, 136, 965, 5, 25, 9, 1041, 5, 11702, 30, 5, 8, 1042, 5549, 8, 11703, 11704, 8, 11705, 8, 11706, 4368, 8, 5550, 0], [964, 1407, 30, 5, 840, 5, 193, 26, 0, 1, 1, 1, 1, 1, 1, 1, 1, 1, 1, 1, 1, 1, 1, 1, 1, 1, 1, 1, 1, 1], [4, 4, 4, 4, 4, 4, 4, 4, 4, 4, 4, 4, 4, 4, 4, 4, 4, 4, 4, 4, 4, 4, 4, 4, 4, 4, 4, 4, 4, 4], [4, 4, 4, 4, 4, 4, 4, 4, 4, 4, 4, 4, 4, 4, 4, 4, 4, 4, 4, 4, 4, 4, 4, 4, 4, 4, 4, 4, 4, 4], [1230, 304, 74, 30, 5, 8, 168, 391, 8, 216, 25, 150, 563, 0, 1, 1, 1, 1, 1, 1, 1, 1, 1, 1, 1, 1, 1, 1, 1, 1], [4, 4, 4, 4, 4, 4, 4, 4, 4, 4, 4, 4, 4, 4, 4, 4, 4, 4, 4, 4, 4, 4, 4, 4, 4, 4, 4, 4, 4, 4], [3, 3, 3, 3, 3, 3, 3, 3, 3, 3, 3, 3, 3, 3, 3, 3, 3, 3, 3, 3, 3, 3, 3, 3, 3, 3, 3, 3, 3, 3], [5569, 4378, 19, 26, 308, 44, 5, 805, 178, 0, 1, 1, 1, 1, 1, 1, 1, 1, 1, 1, 1, 1, 1, 1, 1, 1, 1, 1, 1, 1], [3612, 839, 5, 104, 30, 0, 1, 1, 1, 1, 1, 1, 1, 1, 1, 1, 1, 1, 1, 1, 1, 1, 1, 1, 1, 1, 1, 1, 1, 1], [4, 4, 4, 4, 4, 4, 4, 4, 4, 4, 4, 4, 4, 4, 4, 4, 4, 4, 4, 4, 4, 4, 4, 4, 4, 4, 4, 4, 4, 4], [4, 4, 4, 4, 4, 4, 4, 4, 4, 4, 4, 4, 4, 4, 4, 4, 4, 4, 4, 4, 4, 4, 4, 4, 4, 4, 4, 4, 4, 4], [11711, 3026, 30, 5, 8, 7310, 8, 11712, 0, 1, 1, 1, 1, 1, 1, 1, 1, 1, 1, 1, 1, 1, 1, 1, 1, 1, 1, 1, 1, 1], [4, 4, 4, 4, 4, 4, 4, 4, 4, 4, 4, 4, 4, 4, 4, 4, 4, 4, 4, 4, 4, 4, 4, 4, 4, 4, 4, 4, 4, 4], [11683, 10, 868, 90, 30, 5, 7307, 7, 211, 14, 93, 10, 89, 5, 4356, 0, 1, 1, 1, 1, 1, 1, 1, 1, 1, 1, 1, 1, 1, 1], [4, 4, 4, 4, 4, 4, 4, 4, 4, 4, 4, 4, 4, 4, 4, 4, 4, 4, 4, 4, 4, 4, 4, 4, 4, 4, 4, 4, 4, 4], [236, 10, 2288, 5553, 324, 30, 5, 410, 118, 0, 1, 1, 1, 1, 1, 1, 1, 1, 1, 1, 1, 1, 1, 1, 1, 1, 1, 1, 1, 1], [4, 4, 4, 4, 4, 4, 4, 4, 4, 4, 4, 4, 4, 4, 4, 4, 4, 4, 4, 4, 4, 4, 4, 4, 4, 4, 4, 4, 4, 4], [4, 4, 4, 4, 4, 4, 4, 4, 4, 4, 4, 4, 4, 4, 4, 4, 4, 4, 4, 4, 4, 4, 4, 4, 4, 4, 4, 4, 4, 4], [4, 4, 4, 4, 4, 4, 4, 4, 4, 4, 4, 4, 4, 4, 4, 4, 4, 4, 4, 4, 4, 4, 4, 4, 4, 4, 4, 4, 4, 4], [11733, 3634, 16, 5, 11734, 5, 37, 12, 0, 1, 1, 1, 1, 1, 1, 1, 1, 1, 1, 1, 1, 1, 1, 1, 1, 1, 1, 1, 1, 1], [729, 759, 8, 4353, 4354, 8, 2600, 4355, 8, 802, 10, 908, 8, 118, 1657, 316, 1658, 8, 4356, 8, 4357, 5, 389, 30, 5, 1808, 34, 0, 1, 1], [2295, 21, 23, 5, 8, 1309, 8, 2614, 8, 4377, 74, 44, 5, 19, 26, 0, 1, 1, 1, 1, 1, 1, 1, 1, 1, 1, 1, 1, 1, 1], [1813, 5563, 9, 1812, 74, 30, 5, 0, 1, 1, 1, 1, 1, 1, 1, 1, 1, 1, 1, 1, 1, 1, 1, 1, 1, 1, 1, 1, 1, 1], [266, 5554, 95, 1527, 5, 807, 54, 113, 5, 74, 30, 5, 1238, 3616, 31, 150, 216, 237, 248, 1238, 323, 5555, 7, 2606, 10, 5556, 10, 5557, 5, 0], [4, 4, 4, 4, 4, 4, 4, 4, 4, 4, 4, 4, 4, 4, 4, 4, 4, 4, 4, 4, 4, 4, 4, 4, 4, 4, 4, 4, 4, 4], [4, 4, 4, 4, 4, 4, 4, 4, 4, 4, 4, 4, 4, 4, 4, 4, 4, 4, 4, 4, 4, 4, 4, 4, 4, 4, 4, 4, 4, 4], [3018, 11679, 30, 5, 8, 11680, 3018, 8, 11681, 3018, 5, 729, 759, 0, 1, 1, 1, 1, 1, 1, 1, 1, 1, 1, 1, 1, 1, 1, 1, 1], [4, 4, 4, 4, 4, 4, 4, 4, 4, 4, 4, 4, 4, 4, 4, 4, 4, 4, 4, 4, 4, 4, 4, 4, 4, 4, 4, 4, 4, 4], [4, 4, 4, 4, 4, 4, 4, 4, 4, 4, 4, 4, 4, 4, 4, 4, 4, 4, 4, 4, 4, 4, 4, 4, 4, 4, 4, 4, 4, 4], [11698, 15, 11699, 5547, 30, 0, 1, 1, 1, 1, 1, 1, 1, 1, 1, 1, 1, 1, 1, 1, 1, 1, 1, 1, 1, 1, 1, 1, 1, 1], [3, 3, 3, 3, 3, 3, 3, 3, 3, 3, 3, 3, 3, 3, 3, 3, 3, 3, 3, 3, 3, 3, 3, 3, 3, 3, 3, 3, 3, 3], [504, 109, 5, 75, 30, 5, 7317, 1661, 0, 1, 1, 1, 1, 1, 1, 1, 1, 1, 1, 1, 1, 1, 1, 1, 1, 1, 1, 1, 1, 1], [4, 4, 4, 4, 4, 4, 4, 4, 4, 4, 4, 4, 4, 4, 4, 4, 4, 4, 4, 4, 4, 4, 4, 4, 4, 4, 4, 4, 4, 4], [4, 4, 4, 4, 4, 4, 4, 4, 4, 4, 4, 4, 4, 4, 4, 4, 4, 4, 4, 4, 4, 4, 4, 4, 4, 4, 4, 4, 4, 4], [580, 730, 318, 113, 5, 806, 30, 0, 1, 1, 1, 1, 1, 1, 1, 1, 1, 1, 1, 1, 1, 1, 1, 1, 1, 1, 1, 1, 1, 1], [1234, 8, 1235, 8, 409, 1307, 8, 3024, 8, 4367, 10, 277, 8, 1235, 159, 54, 8, 3614, 159, 54, 8, 114, 11700, 8, 114, 3614, 5, 7313, 30, 0], [4, 4, 4, 4, 4, 4, 4, 4, 4, 4, 4, 4, 4, 4, 4, 4, 4, 4, 4, 4, 4, 4, 4, 4, 4, 4, 4, 4, 4, 4], [11707, 162, 30, 5, 728, 579, 0, 1, 1, 1, 1, 1, 1, 1, 1, 1, 1, 1, 1, 1, 1, 1, 1, 1, 1, 1, 1, 1, 1, 1], [4, 4, 4, 4, 4, 4, 4, 4, 4, 4, 4, 4, 4, 4, 4, 4, 4, 4, 4, 4, 4, 4, 4, 4, 4, 4, 4, 4, 4, 4], [3629, 1310, 8, 1046, 8, 1113, 95, 871, 5, 11731, 29, 5, 8, 8, 5, 90, 5, 19, 26, 5, 86, 31, 579, 0, 1, 1, 1, 1, 1, 1], [139, 2604, 458, 7312, 909, 5, 28, 5, 2286, 64, 32, 2605, 323, 0, 1, 1, 1, 1, 1, 1, 1, 1, 1, 1, 1, 1, 1, 1, 1, 1], [4, 4, 4, 4, 4, 4, 4, 4, 4, 4, 4, 4, 4, 4, 4, 4, 4, 4, 4, 4, 4, 4, 4, 4, 4, 4, 4, 4, 4, 4], [7306, 11682, 30, 5, 3607, 0, 1, 1, 1, 1, 1, 1, 1, 1, 1, 1, 1, 1, 1, 1, 1, 1, 1, 1, 1, 1, 1, 1, 1, 1], [4, 4, 4, 4, 4, 4, 4, 4, 4, 4, 4, 4, 4, 4, 4, 4, 4, 4, 4, 4, 4, 4, 4, 4, 4, 4, 4, 4, 4, 4], [1659, 1808, 34, 5, 8, 1404, 8, 803, 1524, 8, 176, 803, 3608, 3609, 8, 4360, 8, 4361, 8, 2025, 5542, 8, 3610, 8, 1809, 3019, 8, 530, 4362, 0], [488, 118, 1653, 16, 5, 28, 5, 38, 5, 188, 131, 56, 11667, 14, 1173, 8, 3604, 8, 7300, 8, 11668, 8, 11669, 0, 1, 1, 1, 1, 1, 1], [4, 4, 4, 4, 4, 4, 4, 4, 4, 4, 4, 4, 4, 4, 4, 4, 4, 4, 4, 4, 4, 4, 4, 4, 4, 4, 4, 4, 4, 4], [4, 4, 4, 4, 4, 4, 4, 4, 4, 4, 4, 4, 4, 4, 4, 4, 4, 4, 4, 4, 4, 4, 4, 4, 4, 4, 4, 4, 4, 4], [3633, 1239, 19, 26, 5, 1414, 44, 5, 8, 842, 8, 1532, 0, 1, 1, 1, 1, 1, 1, 1, 1, 1, 1, 1, 1, 1, 1, 1, 1, 1], [4, 4, 4, 4, 4, 4, 4, 4, 4, 4, 4, 4, 4, 4, 4, 4, 4, 4, 4, 4, 4, 4, 4, 4, 4, 4, 4, 4, 4, 4], [4, 4, 4, 4, 4, 4, 4, 4, 4, 4, 4, 4, 4, 4, 4, 4, 4, 4, 4, 4, 4, 4, 4, 4, 4, 4, 4, 4, 4, 4], [3, 3, 3, 3, 3, 3, 3, 3, 3, 3, 3, 3, 3, 3, 3, 3, 3, 3, 3, 3, 3, 3, 3, 3, 3, 3, 3, 3, 3, 3], [4, 4, 4, 4, 4, 4, 4, 4, 4, 4, 4, 4, 4, 4, 4, 4, 4, 4, 4, 4, 4, 4, 4, 4, 4, 4, 4, 4, 4, 4], [4, 4, 4, 4, 4, 4, 4, 4, 4, 4, 4, 4, 4, 4, 4, 4, 4, 4, 4, 4, 4, 4, 4, 4, 4, 4, 4, 4, 4, 4], [1413, 19, 26, 5, 8, 2032, 8, 1666, 0, 1, 1, 1, 1, 1, 1, 1, 1, 1, 1, 1, 1, 1, 1, 1, 1, 1, 1, 1, 1, 1], [1660, 530, 1107, 125, 30, 5, 193, 26, 0, 1, 1, 1, 1, 1, 1, 1, 1, 1, 1, 1, 1, 1, 1, 1, 1, 1, 1, 1, 1, 1]]  [14, 71, 78, 75, 116, 16, 79, 121, 148, 101, 49, 174, 13, 53, 62, 155, 65, 159, 167, 6, 94, 114, 18, 120, 32, 12, 166, 150, 44, 165, 183, 63, 198, 8, 98, 23, 84, 151, 192, 163, 72, 15, 47, 189, 129, 99, 97, 73, 34, 117, 125, 135, 38, 19, 95, 164, 83, 92, 102, 37, 170, 199, 122, 188, 112, 186, 157, 138, 195, 184, 179, 132, 145, 144, 181, 36, 141, 178, 20, 142, 115, 175, 77, 130, 24, 128, 21, 113, 70, 27, 152, 29, 96, 93, 173, 60, 42, 86, 194, 30, 39, 68, 57, 131, 5, 127, 22, 76, 59, 197, 149, 11, 52, 74, 111, 168, 26, 182, 3, 106, 46, 104, 140, 169, 119, 162, 35, 118, 45, 51, 193, 9, 156, 103, 90, 160, 58, 81, 67, 196, 143, 133, 134, 85, 82, 69, 43, 1, 107, 137, 66, 177, 91, 124, 108, 180, 61, 54, 7, 41, 50, 87, 33, 28, 89, 64, 154, 158, 17, 0, 187, 40, 126, 190, 185, 191, 147, 172, 80, 139, 171, 100, 31, 56, 153, 2, 109, 4, 176, 161, 136, 123, 48, 55, 10, 88, 146, 105, 25, 110]"
      ]
     },
     "execution_count": 80,
     "metadata": {},
     "output_type": "execute_result"
    }
   ],
   "source": [
    "df_catalogs = pd.read_csv(config['path_in_df_catalog_csv'], sep=';')\n",
    "df_catalogs.head(1)"
   ]
  },
  {
   "cell_type": "code",
   "execution_count": 81,
   "metadata": {},
   "outputs": [
    {
     "data": {
      "text/plain": [
       "65"
      ]
     },
     "execution_count": 81,
     "metadata": {},
     "output_type": "execute_result"
    }
   ],
   "source": [
    "len(df_catalogs)"
   ]
  },
  {
   "cell_type": "code",
   "execution_count": 82,
   "metadata": {},
   "outputs": [],
   "source": [
    "# reload feature csv's split into train and test\n",
    "df_catalogs_train = pd.read_csv(config['path_in_df_catalog_train_csv'], sep=';')\n",
    "# df_catalogs_train.head(1)"
   ]
  },
  {
   "cell_type": "code",
   "execution_count": 83,
   "metadata": {},
   "outputs": [],
   "source": [
    "df_catalogs_test = pd.read_csv(config['path_in_df_catalog_test_csv'], sep=';')\n",
    "# df_catalogs_test.head(1)"
   ]
  },
  {
   "cell_type": "code",
   "execution_count": 84,
   "metadata": {},
   "outputs": [
    {
     "data": {
      "text/plain": [
       "(52, 12)"
      ]
     },
     "execution_count": 84,
     "metadata": {},
     "output_type": "execute_result"
    }
   ],
   "source": [
    "len(df_catalogs_train), len(df_catalogs_test)"
   ]
  },
  {
   "cell_type": "markdown",
   "metadata": {},
   "source": [
    "#### Load Meta Resources (dicts)"
   ]
  },
  {
   "cell_type": "code",
   "execution_count": 85,
   "metadata": {},
   "outputs": [
    {
     "data": {
      "text/plain": [
       "[('?EOS?', 0),\n",
       " ('?PAD?', 1),\n",
       " ('?UNK?', 2),\n",
       " ('?PAGE_BREAK?', 3),\n",
       " ('?NOT_REAL_OFFER?', 4)]"
      ]
     },
     "execution_count": 85,
     "metadata": {},
     "output_type": "execute_result"
    }
   ],
   "source": [
    "# read word2idx dictionary\n",
    "with open(config['path_in_dictionary'], 'rb') as f:\n",
    "    word2idx = pickle.load(f)\n",
    "list(word2idx.items())[:5]"
   ]
  },
  {
   "cell_type": "code",
   "execution_count": 86,
   "metadata": {},
   "outputs": [
    {
     "name": "stdout",
     "output_type": "stream",
     "text": [
      "[('0003leq', {'0003leq_4', '0003leq_1', '0003leq_6', '0003leq_3', '0003leq_7', '0003leq_2', '0003leq_5'}), ('0007YiY', {'0007YiY_16', '0007YiY_6', '0007YiY_10', '0007YiY_2', '0007YiY_13', '0007YiY_5', '0007YiY_12', '0007YiY_3', '0007YiY_8', '0007YiY_4', '0007YiY_9', '0007YiY_14', '0007YiY_7', '0007YiY_11', '0007YiY_15', '0007YiY_1'})]\n"
     ]
    }
   ],
   "source": [
    "# read catalog id to section ids\n",
    "with open(config['path_in_catalog_id_to_section_ids'], 'rb') as f:\n",
    "    catalog_id_to_section_ids = pickle.load(f)\n",
    "print(list(catalog_id_to_section_ids.items())[:2])"
   ]
  },
  {
   "cell_type": "code",
   "execution_count": 87,
   "metadata": {},
   "outputs": [
    {
     "name": "stdout",
     "output_type": "stream",
     "text": [
      "[('0003leq_1', ['fed3AqfY', '799dzqfY', 'b8a3DqfY', 'a4c88qfY', '3cf8qqfY', '88a5UqfY', '6d6e0qfY', 'ef59YqfY', 'ab38CqfY', '0cbffqfY', '0a4eEqfY']), ('0003leq_2', ['0ef3QqfY', 'a3abpqfY', 'ce94wqfY', 'e545VqfY', '11aaxqfY', 'e4e12qfY', '431baqfY', '3030ZqfY', 'db3fNqfY', 'd638dqfY', '539csqfY', 'b25flqfY', '18cdFqfY', '50b5vqfY'])]\n"
     ]
    }
   ],
   "source": [
    "# read section maps\n",
    "with open(config['path_in_section_id_to_offer_ids'], 'rb') as f:\n",
    "    section_id_to_offer_ids = pickle.load(f)\n",
    "print(list(section_id_to_offer_ids.items())[:2])"
   ]
  },
  {
   "cell_type": "code",
   "execution_count": 88,
   "metadata": {},
   "outputs": [
    {
     "name": "stdout",
     "output_type": "stream",
     "text": [
      "('0003leq_1', [[11665, 315, 67, 5, 7298, 25, 7298, 5, 37, 315, 5, 130, 209, 5, 149, 56, 1172, 230, 11666, 5, 79, 184, 22, 200, 210, 82, 3012, 6, 31, 0], [488, 118, 1653, 16, 5, 28, 5, 38, 5, 188, 131, 56, 11667, 14, 1173, 8, 3604, 8, 7300, 8, 11668, 8, 11669, 0, 1, 1, 1, 1, 1, 1], [11670, 7301, 5, 1037, 30, 0, 1, 1, 1, 1, 1, 1, 1, 1, 1, 1, 1, 1, 1, 1, 1, 1, 1, 1, 1, 1, 1, 1, 1, 1], [1038, 801, 1522, 3605, 2283, 2023, 29, 5, 8, 0, 1, 1, 1, 1, 1, 1, 1, 1, 1, 1, 1, 1, 1, 1, 1, 1, 1, 1, 1, 1], [1654, 15, 5539, 5540, 11671, 30, 5, 19, 26, 0, 1, 1, 1, 1, 1, 1, 1, 1, 1, 1, 1, 1, 1, 1, 1, 1, 1, 1, 1, 1], [1655, 11672, 5, 19, 26, 75, 30, 0, 1, 1, 1, 1, 1, 1, 1, 1, 1, 1, 1, 1, 1, 1, 1, 1, 1, 1, 1, 1, 1, 1], [1304, 4351, 30, 5, 8, 140, 8, 477, 5, 1806, 5, 432, 99, 0, 1, 1, 1, 1, 1, 1, 1, 1, 1, 1, 1, 1, 1, 1, 1, 1], [3013, 2599, 78, 29, 5, 8, 2284, 0, 1, 1, 1, 1, 1, 1, 1, 1, 1, 1, 1, 1, 1, 1, 1, 1, 1, 1, 1, 1, 1, 1], [1230, 304, 8, 838, 5, 90, 30, 5, 79, 184, 22, 200, 210, 46, 457, 6, 31, 196, 370, 3014, 126, 5, 86, 31, 579, 323, 0, 1, 1, 1], [3015, 4352, 30, 5, 25, 168, 25, 727, 5, 728, 579, 5, 8, 1231, 8, 1656, 8, 2024, 3016, 8, 236, 9, 695, 8, 3606, 8, 409, 1523, 8, 0], [3017, 79, 184, 22, 200, 210, 78, 457, 6, 31, 196, 370, 11673, 126, 5, 125, 30, 0, 1, 1, 1, 1, 1, 1, 1, 1, 1, 1, 1, 1]])\n"
     ]
    }
   ],
   "source": [
    "with open(config['path_in_section_id_to_offer_vectors'], 'rb') as f:\n",
    "    section_id_to_offers_as_vectors = pickle.load(f)\n",
    "print(list(section_id_to_offers_as_vectors.items())[0])"
   ]
  },
  {
   "cell_type": "code",
   "execution_count": 89,
   "metadata": {},
   "outputs": [
    {
     "name": "stdout",
     "output_type": "stream",
     "text": [
      "[('0003leq_1', 1), ('0003leq_2', 2), ('0003leq_3', 3), ('0003leq_4', 4), ('0003leq_5', 5)]\n"
     ]
    }
   ],
   "source": [
    "with open(config['path_in_section_id_to_section_num'], 'rb') as f:\n",
    "    section_id_to_section_num = pickle.load(f)\n",
    "print(list(section_id_to_section_num.items())[:5])"
   ]
  },
  {
   "cell_type": "code",
   "execution_count": 90,
   "metadata": {},
   "outputs": [
    {
     "name": "stdout",
     "output_type": "stream",
     "text": [
      "[('0003leq_1', [2, 2, 1, 1, 2, 1, 1, 1, 3, 3, 2]), ('0003leq_2', [3, 3, 1, 2, 1, 1, 2, 1, 3, 3, 1, 1, 1, 1])]\n"
     ]
    }
   ],
   "source": [
    "with open(config['path_in_section_id_to_offer_priorities'], 'rb') as f:\n",
    "    section_ids_to_offers_as_priorities = pickle.load(f)\n",
    "print(list(section_ids_to_offers_as_priorities.items())[:2])"
   ]
  },
  {
   "cell_type": "code",
   "execution_count": 91,
   "metadata": {},
   "outputs": [
    {
     "name": "stdout",
     "output_type": "stream",
     "text": [
      "[('fed3AqfY', 2), ('799dzqfY', 2)]\n"
     ]
    }
   ],
   "source": [
    "# read offer maps\n",
    "with open(config['path_in_offer_id_to_priority'], 'rb') as f:\n",
    "    offer_id_to_priority = pickle.load(f)\n",
    "print(list(offer_id_to_priority.items())[:2])"
   ]
  },
  {
   "cell_type": "code",
   "execution_count": 92,
   "metadata": {},
   "outputs": [
    {
     "name": "stdout",
     "output_type": "stream",
     "text": [
      "[('fed3AqfY', [11665, 315, 67, 5, 7298, 25, 7298, 5, 37, 315, 5, 130, 209, 5, 149, 56, 1172, 230, 11666, 5, 79, 184, 22, 200, 210, 82, 3012, 6, 31, 0]), ('799dzqfY', [488, 118, 1653, 16, 5, 28, 5, 38, 5, 188, 131, 56, 11667, 14, 1173, 8, 3604, 8, 7300, 8, 11668, 8, 11669, 0, 1, 1, 1, 1, 1, 1])]\n"
     ]
    }
   ],
   "source": [
    "with open(config['path_in_offer_id_to_vector'], 'rb') as f:\n",
    "    offer_id_to_vector = pickle.load(f)\n",
    "print(list(offer_id_to_vector.items())[:2])"
   ]
  },
  {
   "cell_type": "markdown",
   "metadata": {},
   "source": [
    "#### Load Numpy Matrices (X & Y)"
   ]
  },
  {
   "cell_type": "code",
   "execution_count": 93,
   "metadata": {},
   "outputs": [
    {
     "data": {
      "text/plain": [
       "((52, 200, 30), (52, 200), array([[   4,    4,    4, ...,    4,    4,    4],\n",
       "        [   4,    4,    4, ...,    4,    4,    4],\n",
       "        [   4,    4,    4, ...,    4,    4,    4],\n",
       "        ...,\n",
       "        [   4,    4,    4, ...,    4,    4,    4],\n",
       "        [1413,   19,   26, ...,    1,    1,    1],\n",
       "        [1660,  530, 1107, ...,    1,    1,    1]], dtype=int32), array([ 14,  71,  78,  75, 116,  16,  79, 121, 148, 101,  49, 174,  13,\n",
       "         53,  62, 155,  65, 159, 167,   6,  94, 114,  18, 120,  32,  12,\n",
       "        166, 150,  44, 165, 183,  63, 198,   8,  98,  23,  84, 151, 192,\n",
       "        163,  72,  15,  47, 189, 129,  99,  97,  73,  34, 117, 125, 135,\n",
       "         38,  19,  95, 164,  83,  92, 102,  37, 170, 199, 122, 188, 112,\n",
       "        186, 157, 138, 195, 184, 179, 132, 145, 144, 181,  36, 141, 178,\n",
       "         20, 142, 115, 175,  77, 130,  24, 128,  21, 113,  70,  27, 152,\n",
       "         29,  96,  93, 173,  60,  42,  86, 194,  30,  39,  68,  57, 131,\n",
       "          5, 127,  22,  76,  59, 197, 149,  11,  52,  74, 111, 168,  26,\n",
       "        182,   3, 106,  46, 104, 140, 169, 119, 162,  35, 118,  45,  51,\n",
       "        193,   9, 156, 103,  90, 160,  58,  81,  67, 196, 143, 133, 134,\n",
       "         85,  82,  69,  43,   1, 107, 137,  66, 177,  91, 124, 108, 180,\n",
       "         61,  54,   7,  41,  50,  87,  33,  28,  89,  64, 154, 158,  17,\n",
       "          0, 187,  40, 126, 190, 185, 191, 147, 172,  80, 139, 171, 100,\n",
       "         31,  56, 153,   2, 109,   4, 176, 161, 136, 123,  48,  55,  10,\n",
       "         88, 146, 105,  25, 110], dtype=int32))"
      ]
     },
     "execution_count": 93,
     "metadata": {},
     "output_type": "execute_result"
    }
   ],
   "source": [
    "# train set\n",
    "X_train = np.load(config['path_in_np_X_train'])\n",
    "Y_train = np.load(config['path_in_np_Y_train'])\n",
    "X_train.shape, Y_train.shape, X_train[0], Y_train[0]"
   ]
  },
  {
   "cell_type": "code",
   "execution_count": 94,
   "metadata": {},
   "outputs": [
    {
     "data": {
      "text/plain": [
       "((12, 200, 30),\n",
       " (12, 200),\n",
       " array([[ 1804,   255,     9, ...,  5512,    12,     0],\n",
       "        [ 7715,  1113,    95, ...,     1,     1,     1],\n",
       "        [    4,     4,     4, ...,     4,     4,     4],\n",
       "        ...,\n",
       "        [  693,  1257, 24201, ...,     1,     1,     1],\n",
       "        [ 1761,  1135, 24343, ...,     1,     1,     1],\n",
       "        [24115, 24116, 24117, ...,     1,     1,     1]], dtype=int32),\n",
       " array([ 15, 115,  90, 187, 167,  14, 163, 109, 178, 139,  85,  51,  45,\n",
       "         16, 155,  54, 175,  86, 161,  78,  91,  47, 122, 162, 121,  74,\n",
       "        137,  21,  37,  73,  53, 191,  32,  97,  69, 185,  10,   0, 143,\n",
       "        180, 120,   5,  77, 182,  94,  75,  60, 157, 101,  83,  33, 184,\n",
       "         11, 106, 197,  88, 144,  79, 131, 104, 193, 152, 117,  38, 105,\n",
       "          7, 113,  57, 145,  48, 147,  43, 160,  71, 132, 196, 159, 138,\n",
       "        127, 118, 135,  99, 110,  22,  44,  64,  62, 148,  36, 116,  34,\n",
       "        119,  27,  23,  58, 174, 124,  56,  68, 181,  82, 142, 166,  84,\n",
       "        188, 169, 156,  98,  41,  93, 150,  80, 102,  92, 100, 107, 168,\n",
       "         31,  12,  65, 146, 153, 133,  55, 128, 192, 190,  63,  81, 199,\n",
       "        151,  35, 103,  13,  25,   9,   1,  19, 183,  49, 114,  70, 125,\n",
       "         67, 108, 158,  18, 141, 130, 194, 111,  76, 123, 112, 165,  66,\n",
       "        134, 154,   3, 172,  40,  26, 198,  50, 129, 195,   6,   4,  89,\n",
       "        186, 179,  20,  30, 173, 177,  28,  95,  39,  17, 140,  72,  46,\n",
       "        170, 164,  87,  42,   8,  24, 149, 176,  96,  29,   2, 126, 189,\n",
       "        136,  52,  59, 171,  61], dtype=int32))"
      ]
     },
     "execution_count": 94,
     "metadata": {},
     "output_type": "execute_result"
    }
   ],
   "source": [
    "# test set\n",
    "X_test = np.load(config['path_in_np_X_test'])\n",
    "Y_test = np.load(config['path_in_np_Y_test'])\n",
    "X_test.shape, Y_test.shape, X_test[0], Y_test[0]"
   ]
  },
  {
   "cell_type": "markdown",
   "metadata": {},
   "source": [
    "#### Load Torch Tensors (X & Y)"
   ]
  },
  {
   "cell_type": "code",
   "execution_count": 95,
   "metadata": {},
   "outputs": [
    {
     "data": {
      "text/plain": [
       "(torch.Size([52, 200, 30]), torch.Size([52, 200]))"
      ]
     },
     "execution_count": 95,
     "metadata": {},
     "output_type": "execute_result"
    }
   ],
   "source": [
    "# train set\n",
    "X_train_torch = torch.load(config['path_in_torch_X_train'])\n",
    "Y_train_torch = torch.load(config['path_in_torch_Y_train'])\n",
    "X_train_torch.size(), Y_train_torch.size()"
   ]
  },
  {
   "cell_type": "code",
   "execution_count": 96,
   "metadata": {},
   "outputs": [
    {
     "data": {
      "text/plain": [
       "(torch.Size([12, 200, 30]), torch.Size([12, 200]))"
      ]
     },
     "execution_count": 96,
     "metadata": {},
     "output_type": "execute_result"
    }
   ],
   "source": [
    "# full test set\n",
    "X_test_full_torch = torch.load(config['path_in_torch_X_test'])\n",
    "Y_test_full_torch = torch.load(config['path_in_torch_Y_test'])\n",
    "X_test_full_torch.size(), Y_test_full_torch.size()"
   ]
  },
  {
   "cell_type": "code",
   "execution_count": 97,
   "metadata": {},
   "outputs": [],
   "source": [
    "# Y needs to be a long\n",
    "Y_train_torch = Y_train_torch.long()\n",
    "Y_test_full_torch = Y_test_full_torch.long()"
   ]
  },
  {
   "cell_type": "code",
   "execution_count": 98,
   "metadata": {},
   "outputs": [
    {
     "data": {
      "text/plain": [
       "('torch.LongTensor', 'torch.LongTensor')"
      ]
     },
     "execution_count": 98,
     "metadata": {},
     "output_type": "execute_result"
    }
   ],
   "source": [
    "Y_train_torch.type(), Y_test_full_torch.type()"
   ]
  },
  {
   "cell_type": "markdown",
   "metadata": {},
   "source": [
    "#### Smaller test set\n",
    "For validation here, due to memory size problems."
   ]
  },
  {
   "cell_type": "code",
   "execution_count": 99,
   "metadata": {},
   "outputs": [
    {
     "data": {
      "text/plain": [
       "300"
      ]
     },
     "execution_count": 99,
     "metadata": {},
     "output_type": "execute_result"
    }
   ],
   "source": [
    "config['test_small_size']"
   ]
  },
  {
   "cell_type": "code",
   "execution_count": 100,
   "metadata": {},
   "outputs": [
    {
     "data": {
      "text/plain": [
       "(torch.Size([12, 200, 30]), torch.Size([12, 200]))"
      ]
     },
     "execution_count": 100,
     "metadata": {},
     "output_type": "execute_result"
    }
   ],
   "source": [
    "# split\n",
    "X_test_torch = X_test_full_torch[:config['test_small_size']]\n",
    "Y_test_torch = Y_test_full_torch[:config['test_small_size']]\n",
    "X_test_torch.size(), Y_test_torch.size()"
   ]
  },
  {
   "cell_type": "markdown",
   "metadata": {},
   "source": [
    "#### Turn into Torch Datasets and Dataloaders"
   ]
  },
  {
   "cell_type": "code",
   "execution_count": 101,
   "metadata": {},
   "outputs": [],
   "source": [
    "# into datasets\n",
    "dataset_train = TensorDataset(X_train_torch, Y_train_torch)\n",
    "dataset_test = TensorDataset(X_test_torch, Y_test_torch)"
   ]
  },
  {
   "cell_type": "code",
   "execution_count": 102,
   "metadata": {},
   "outputs": [],
   "source": [
    "# dataloaders\n",
    "train_dataloader = DataLoader(dataset_train, batch_size=config['batch_size'], shuffle=True, num_workers=4)\n",
    "test_dataloader = DataLoader(dataset_test, batch_size=config['batch_size'], shuffle=True, num_workers=4)"
   ]
  },
  {
   "cell_type": "markdown",
   "metadata": {},
   "source": [
    "# Models"
   ]
  },
  {
   "cell_type": "markdown",
   "metadata": {},
   "source": [
    "## Model PtrNet"
   ]
  },
  {
   "cell_type": "code",
   "execution_count": 103,
   "metadata": {},
   "outputs": [],
   "source": [
    "from procat_models import PointerCatalogNetwork, \\\n",
    "    PointerEncoder, PointerAttention, PointerDecoder, PointerOfferEmbedder"
   ]
  },
  {
   "cell_type": "code",
   "execution_count": 104,
   "metadata": {},
   "outputs": [
    {
     "data": {
      "text/plain": [
       "PointerCatalogNetwork(\n",
       "  (word_embedding): Embedding(26169, 32)\n",
       "  (offer_embedding): PointerOfferEmbedder(\n",
       "    (offer_rnn): GRU(32, 64, num_layers=2, batch_first=True, dropout=0.05)\n",
       "  )\n",
       "  (encoder): PointerEncoder(\n",
       "    (lstm): LSTM(64, 32, num_layers=2, batch_first=True, dropout=0.05, bidirectional=True)\n",
       "  )\n",
       "  (decoder): PointerDecoder(\n",
       "    (input_to_hidden): Linear(in_features=64, out_features=256, bias=True)\n",
       "    (hidden_to_hidden): Linear(in_features=64, out_features=256, bias=True)\n",
       "    (hidden_out): Linear(in_features=128, out_features=64, bias=True)\n",
       "    (att): PointerAttention(\n",
       "      (input_linear): Linear(in_features=64, out_features=64, bias=True)\n",
       "      (context_linear): Conv1d(64, 64, kernel_size=(1,), stride=(1,))\n",
       "      (soft): Softmax(dim=1)\n",
       "    )\n",
       "  )\n",
       ")"
      ]
     },
     "execution_count": 104,
     "metadata": {},
     "output_type": "execute_result"
    }
   ],
   "source": [
    "# instantiate the model\n",
    "model_ptrnet = PointerCatalogNetwork(\n",
    "    word_embedding_dim=config['ptr_word_emb_dim'],\n",
    "    offer_embedding_dim=config['ptr_offer_emb_dim'],\n",
    "    hidden_dim=config['ptr_hid_dim'],\n",
    "    offer_rnn_layers=config['ptr_offer_rnn_layers'],\n",
    "    catalog_rnn_layers=config['ptr_catalog_rnn_layers'],\n",
    "    dropout_offers=config['ptr_dropout_offers'],\n",
    "    dropout_catalogs=config['ptr_dropout_catalogs'],\n",
    "    bidir_offers=config['ptr_bidir_offers'],  # not handled 2021 04\n",
    "    bidir_catalogs=config['ptr_bidir_catalogs'],\n",
    "    masking=config['ptr_mask'],\n",
    "    vocab_size=len(word2idx),\n",
    ")\n",
    "\n",
    "model_ptrnet.float()"
   ]
  },
  {
   "cell_type": "code",
   "execution_count": 105,
   "metadata": {},
   "outputs": [
    {
     "name": "stdout",
     "output_type": "stream",
     "text": [
      "The model has 981,280 trainable parameters\n"
     ]
    }
   ],
   "source": [
    "# how many params\n",
    "count_params(model_ptrnet)"
   ]
  },
  {
   "cell_type": "code",
   "execution_count": 106,
   "metadata": {},
   "outputs": [],
   "source": [
    "# 2-elem batch\n",
    "batch_x = X_train_torch[:2]"
   ]
  },
  {
   "cell_type": "code",
   "execution_count": 107,
   "metadata": {},
   "outputs": [
    {
     "name": "stdout",
     "output_type": "stream",
     "text": [
      "torch.Size([2, 200, 200]) torch.Size([2, 200])\n"
     ]
    }
   ],
   "source": [
    "# predict\n",
    "_ = model_ptrnet(batch_x)\n",
    "print(_[0].size(), _[1].size())"
   ]
  },
  {
   "cell_type": "code",
   "execution_count": 108,
   "metadata": {},
   "outputs": [
    {
     "name": "stdout",
     "output_type": "stream",
     "text": [
      "torch.LongTensor\n"
     ]
    }
   ],
   "source": [
    "print(_[1].type())"
   ]
  },
  {
   "cell_type": "code",
   "execution_count": 109,
   "metadata": {},
   "outputs": [],
   "source": [
    "# loss\n",
    "CCE = torch.nn.CrossEntropyLoss()"
   ]
  },
  {
   "cell_type": "code",
   "execution_count": 110,
   "metadata": {},
   "outputs": [],
   "source": [
    "# optimizer\n",
    "optimizer_ptrnet = optim.Adam(\n",
    "    filter(lambda p: p.requires_grad, model_ptrnet.parameters()),\n",
    "    lr=config['learning_rate'])"
   ]
  },
  {
   "cell_type": "markdown",
   "metadata": {},
   "source": [
    "### Model Training | PtrNet"
   ]
  },
  {
   "cell_type": "raw",
   "metadata": {},
   "source": [
    "# test untrained model\n",
    "results_ptrnet, _ = test_model_custom(model_ptrnet, test_dataloader, compare_solved_sort_unique, print_every=999999, x_name=0, y_name=1)\n",
    "print('Result: {:.4f}'.format(results_ptrnet))"
   ]
  },
  {
   "cell_type": "raw",
   "metadata": {},
   "source": [
    "# show rank correlations only with mask on\n",
    "print('K-Tau: {:.4f}, % valid: {}'.format(*get_batch_rank_correlation_and_perc_valid(test_dataloader, model_ptrnet, get_single_kendall_tau, print_every=999999)))\n",
    "print('S-Rho: {:.4f}, % valid: {}'.format(*get_batch_rank_correlation_and_perc_valid(test_dataloader, model_ptrnet, get_single_spearman_rho, print_every=999999)))"
   ]
  },
  {
   "cell_type": "code",
   "execution_count": 111,
   "metadata": {},
   "outputs": [
    {
     "name": "stderr",
     "output_type": "stream",
     "text": [
      "Epoch 1 / 1: 100%|██████████| 1/1 [00:15<00:00, 15.06s/ batches, avg_loss=5.29881]\n"
     ]
    }
   ],
   "source": [
    "# train\n",
    "last_loss_ptrnet = train_epochs(\n",
    "    model_ptrnet,\n",
    "    optimizer_ptrnet,\n",
    "    CCE,\n",
    "    train_dataloader,\n",
    "    config['num_epochs'],\n",
    "    allow_gpu=True,\n",
    "    x_name=0,\n",
    "    y_name=1)"
   ]
  },
  {
   "cell_type": "code",
   "execution_count": 112,
   "metadata": {},
   "outputs": [
    {
     "data": {
      "text/plain": [
       "5.298806190490723"
      ]
     },
     "execution_count": 112,
     "metadata": {},
     "output_type": "execute_result"
    }
   ],
   "source": [
    "last_loss_ptrnet.item()"
   ]
  },
  {
   "cell_type": "markdown",
   "metadata": {},
   "source": [
    "### Model Testing | PtrNet\n",
    "Put the model in eval() mode first (prevents dropout and such from predicting sth else from the same permuted x)."
   ]
  },
  {
   "cell_type": "code",
   "execution_count": 113,
   "metadata": {},
   "outputs": [
    {
     "data": {
      "text/plain": [
       "PointerCatalogNetwork(\n",
       "  (word_embedding): Embedding(26169, 32)\n",
       "  (offer_embedding): PointerOfferEmbedder(\n",
       "    (offer_rnn): GRU(32, 64, num_layers=2, batch_first=True, dropout=0.05)\n",
       "  )\n",
       "  (encoder): PointerEncoder(\n",
       "    (lstm): LSTM(64, 32, num_layers=2, batch_first=True, dropout=0.05, bidirectional=True)\n",
       "  )\n",
       "  (decoder): PointerDecoder(\n",
       "    (input_to_hidden): Linear(in_features=64, out_features=256, bias=True)\n",
       "    (hidden_to_hidden): Linear(in_features=64, out_features=256, bias=True)\n",
       "    (hidden_out): Linear(in_features=128, out_features=64, bias=True)\n",
       "    (att): PointerAttention(\n",
       "      (input_linear): Linear(in_features=64, out_features=64, bias=True)\n",
       "      (context_linear): Conv1d(64, 64, kernel_size=(1,), stride=(1,))\n",
       "      (soft): Softmax(dim=1)\n",
       "    )\n",
       "  )\n",
       ")"
      ]
     },
     "execution_count": 113,
     "metadata": {},
     "output_type": "execute_result"
    }
   ],
   "source": [
    "model_ptrnet.eval()  # if we had dropout or batchnorm, we must do this"
   ]
  },
  {
   "cell_type": "raw",
   "metadata": {},
   "source": [
    "# actual metrics\n",
    "results_ptrnet, _ = test_model_custom(model_ptrnet, test_dataloader, compare_solved_sort_unique, print_every=999999, x_name=0, y_name=1)\n",
    "print('Result: {:.4f}'.format(results_ptrnet))"
   ]
  },
  {
   "cell_type": "raw",
   "metadata": {},
   "source": [
    "# show rank correlations only with mask on\n",
    "print('K-Tau: {:.4f}, % valid: {}'.format(*get_batch_rank_correlation_and_perc_valid(test_dataloader, model_ptrnet, get_single_kendall_tau, print_every=999999)))\n",
    "print('S-Rho: {:.4f}, % valid: {}'.format(*get_batch_rank_correlation_and_perc_valid(test_dataloader, model_ptrnet, get_single_spearman_rho, print_every=999999)))"
   ]
  },
  {
   "cell_type": "markdown",
   "metadata": {},
   "source": [
    "#### Sacred Experiment | Model PtrNet\n",
    "We'll want to track the dataset, model params and the result of tests."
   ]
  },
  {
   "cell_type": "code",
   "execution_count": 114,
   "metadata": {},
   "outputs": [
    {
     "name": "stderr",
     "output_type": "stream",
     "text": [
      "INFO - real_catalogs_PROCAT_mini_mask_True - Running command 'run_model_tests'\n",
      "INFO - real_catalogs_PROCAT_mini_mask_True - Started run with ID \"347\"\n"
     ]
    },
    {
     "name": "stdout",
     "output_type": "stream",
     "text": [
      "Model:  <class 'procat_models.PointerCatalogNetwork'>\n",
      "Result: 0.0021\n",
      "K-Tau: 0.0115, perc_valid: 100.0\n"
     ]
    },
    {
     "name": "stderr",
     "output_type": "stream",
     "text": [
      "INFO - real_catalogs_PROCAT_mini_mask_True - Result: 0.00208\n",
      "INFO - real_catalogs_PROCAT_mini_mask_True - Completed after 0:00:04\n"
     ]
    },
    {
     "name": "stdout",
     "output_type": "stream",
     "text": [
      "S-Rho: 0.0200, perc_valid: 100.0\n"
     ]
    }
   ],
   "source": [
    "# experiment config\n",
    "current_tested_model = model_ptrnet\n",
    "current_optimizer = optimizer_ptrnet\n",
    "current_last_loss = last_loss_ptrnet\n",
    "\n",
    "config_update = {\n",
    "    'model': current_tested_model.__class__.__name__,\n",
    "    'final_training_loss': round(current_last_loss.item(), 10),\n",
    "    'optimizer': current_optimizer.__class__.__name__,\n",
    "    'cfg': config,\n",
    "}\n",
    "\n",
    "# run the experiment, with updated config\n",
    "run_info = ex.run(config_updates=config_update)"
   ]
  },
  {
   "cell_type": "markdown",
   "metadata": {},
   "source": [
    "#### Show predictions\n",
    "See what it predicts."
   ]
  },
  {
   "cell_type": "markdown",
   "metadata": {},
   "source": [
    "##### Specific catalog prediction, with offer text features"
   ]
  },
  {
   "cell_type": "code",
   "execution_count": 115,
   "metadata": {},
   "outputs": [],
   "source": [
    "# choose a catalog\n",
    "chosen_catalog_id = '0003leq'"
   ]
  },
  {
   "cell_type": "code",
   "execution_count": 116,
   "metadata": {},
   "outputs": [
    {
     "name": "stdout",
     "output_type": "stream",
     "text": [
      "\t2502x0fY h: Leeuwenkuil TA' • Chenin Blanc • Shiraz , d: TA' • Chenin Blanc • Shiraz • Lion's Lai\n",
      "\t070eU0fY h: Ribena • Original • Light. 850 ml, d: • Original • Light. 850 ml\n",
      "\ta6a7Z0fY h: Diamond hill 3 LITER. • Chardonnay • Shi, d: 3 LITER. • Chardonnay • Shiraz • Shiraz/\n",
      "\t183cY0fY h: Marabou chokoladebars 35-46 gram. • Fran, d: 35-46 gram. • Fransk Nougat • Marabou Or\n",
      "\t257as0fY h: Lays chips, bugles eller doritos Sour Cr, d: Sour Cream & Onion - BBQ - Salt - • - Or\n",
      "\t0da4f0fY h: Primitivo di manduria • Carlo Sani. Denn, d: • Carlo Sani. Denne Primitivo har været \n",
      "\t4809E0fY h: Haribo POSE. DET ER BILLIGT. 100-135 gra, d: POSE. DET ER BILLIGT. 100-135 gram. • Sl\n",
      "\t4815F0fY h: Sodavand 150 cl. Flere varianter. + PANT, d: 150 cl. Flere varianter. + PANT. 3. • Ni\n",
      "\tf1a9z0fY h: Bki kaffe 500 gram. • Classic Gold • ABC, d: 500 gram. • Classic Gold • ABC - hele bø\n",
      "\t3672p0fY h: Duyvis nødder Flere varianter 175-225 gr, d: Flere varianter 175-225 gram\n",
      "\t283c80fY h: Nescafé gold STORT GLAS. • Instant kaffe, d: STORT GLAS. • Instant kaffe - Original -\n",
      "------------------------\n",
      "\tb553q0fY h: Helt kalkunbryst Ca. 800 gram, d: Ca. 800 gram\n",
      "\t36f3y0fY h: Danpo • Frikadeller • Medister. 400 gram, d: • Frikadeller • Medister. 400 gram\n",
      "\t222fcqfY h: Bbq mørbrad 450 gram. JENSENS, d: 450 gram. JENSENS\n",
      "\t5cb900fY h: Skinkestege 700-800 gram. • Orientalsk •, d: 700-800 gram. • Orientalsk • Mexico\n",
      "\t7d7a10fY h: Nakkefilet DANSK. 1/2 KG. Skæres til nak, d: DANSK. 1/2 KG. Skæres til nakkekotelette\n",
      "\t97f9K0fY h: Kylling I ovnklar stegepose 1500 gram. H, d: I ovnklar stegepose 1500 gram. HEL DANSK\n",
      "\tfc78C0fY h: Hakket kalv- & flæsk . 8-12% Ca. 500 gra, d: . 8-12% Ca. 500 gram. SLAGTER NORLYK ER \n",
      "\tc90d30fY h: Steaks Ca. 1000 gram. AF UNGKVÆG. Små fi, d: Ca. 1000 gram. AF UNGKVÆG. Små fine hver\n",
      "\t5b2ag0fY h: Amanda luksusrogn Pr, d: Pr\n",
      "\tc941A0fY h: Weekend menu tilberedt Komplet MENU af d, d: tilberedt Komplet MENU af de menu TIL ti\n",
      "\ta259L0fY h: Sild i spand 800/400-700 gram. • Mariner, d: 800/400-700 gram. • Marinerede hele file\n",
      "\t6429tqfY h: Nordjyder 500. • Frankfurter • Røde knæk, d: 500. • Frankfurter • Røde knækpølser • G\n",
      "\ta5caD0fY h: Jægerkoteletter Ca. 400 gram. Marinerede, d: Ca. 400 gram. Marinerede koteletter med \n",
      "\t08cfm0fY h: Danpo hakket kylling 450 gram, d: 450 gram\n",
      "\t22edWqfY h: Flensted kartoffelgratin med fløde 500 g, d: med fløde 500 gram.\n",
      "------------------------\n",
      "\tb7fcb0fY h: Harpic Wc-blåt, d: \n",
      "\td4f0v0fY h: Zendium FRIT VALG. • Tandpasta • Tandbør, d: FRIT VALG. • Tandpasta • Tandbørster • M\n",
      "\tfb3cQ0fY h: Libero bleer • Comfort • UP&GO. 38-68 st, d: • Comfort • UP&GO. 38-68 stk. • •. 400. \n",
      "\t0ba1i0fY h: Bamseline skyllemiddel Flere varianter 1, d: Flere varianter 1000 ml.\n",
      "\ta367w0fY h: Libresse Flere varianter. • Trusseindlæg, d: Flere varianter. • Trusseindlæg • Bind\n",
      "\tac74V0fY h: Hårspray ELNETT. • Extra kraftig • Stron, d: ELNETT. • Extra kraftig • Strong hold. 4\n",
      "\t3531u0fY h: Bio-tex • Flydende vask. - Color - White, d: • Flydende vask. - Color - White - Black\n",
      "\tfbff20fY h: Elvital Alle varianter. 200-250 ml. • Sh, d: Alle varianter. 200-250 ml. • Shampoo • \n",
      "\te4b8a0fY h: L'oréal triple active creme Flere varian, d: Flere varianter. 50 ml\n",
      "\t3956N0fY h: Harpic wc-rens Flere varianter 750 ml. K, d: Flere varianter 750 ml. KÆMPE PARTI\n",
      "\t0d81d0fY h: Rexona deodoranter Flere varianter. 50-1, d: Flere varianter. 50-150 ml. • Spray • Ro\n",
      "\t029aT0fY h: Abena affaldsposer PR. SAM-PAK. 3 x, d: PR. SAM-PAK. 3 x\n",
      "\t5dbdl0fY h: Axe deodoranter Flere varianter. 150 ml., d: Flere varianter. 150 ml. • Spray\n",
      "------------------------\n",
      "\tfed3AqfY h: Påskebryg 33 cl. KYLLE - KYLLE. 3 33. + , d: 33 cl. KYLLE - KYLLE. 3 33. + PANT. Sælg\n",
      "\t799dzqfY h: Frisk dansk mælk PR. LITER. Max. 24 time, d: PR. LITER. Max. 24 timer fra gård til bu\n",
      "\tb8a3DqfY h: Sukkervafler BELGISKE. 550 gram, d: BELGISKE. 550 gram\n",
      "\ta4c88qfY h: Hatting fransk hotdog  gigant burgerboll, d: 4-6 stk. •\n",
      "\t3cf8qqfY h: Oreo eller prince chokoladekiks 154-240 , d: 154-240 gram. Flere varianter\n",
      "\t88a5UqfY h: Knækbrød LEKSANDS. Flere varianter 200 g, d: LEKSANDS. Flere varianter 200 gram\n",
      "\t6d6e0qfY h: Carletti 73,5 gram. • Lys • Mørk. PÅLÆGS, d: 73,5 gram. • Lys • Mørk. PÅLÆGSCHOKOLADE\n",
      "\tef59YqfY h: Corny müslibars 6 stk. • Nuts, d: 6 stk. • Nuts\n",
      "\tab38CqfY h: BKI KAFFE  • Extra. 400 gram. Ved køb af, d: • Extra. 400 gram. Ved køb af mere end 1\n",
      "\t0cbffqfY h: Pålækker 80-90 gram. - Classic - Tomat. , d: 80-90 gram. - Classic - Tomat. VILDT BIL\n",
      "\t0a4eEqfY h: Havregryn Ved køb af mere end 6 poser, e, d: Ved køb af mere end 6 poser, er prisen h\n",
      "------------------------\n",
      "\t0ef3QqfY h: Kyllingelår KUN 11,66 KR. PR. KG DET ER , d: KUN 11,66 KR. PR. KG DET ER BILLIGT. HEL\n",
      "\ta3abpqfY h: Steff houlberg • Brændende kærlighed • F, d: • Brændende kærlighed • Forloren hare • \n",
      "\tce94wqfY h: Ice cap rejer 125 gram, d: 125 gram\n",
      "\te545VqfY h: Viennetta is 650 ml. ISKOLD PRIS, d: 650 ml. ISKOLD PRIS\n",
      "\t11aaxqfY h: Kyllingeburger I alt 1000 gram. Af kylli, d: I alt 1000 gram. Af kyllingebrystfilet\n",
      "\te4e12qfY h: Frigodan • Bønnemix • Grønt m/karry • Gr, d: • Bønnemix • Grønt m/karry • Grønt m/tom\n",
      "\t431baqfY h: Toast 200-290 gram. • Pariser toast • Co, d: 200-290 gram. • Pariser toast • Cowboy t\n",
      "\t3030ZqfY h: Mou luksus suppe 1000 gram. Mange varian, d: 1000 gram. Mange varianter\n",
      "\tdb3fNqfY h: Andelår JULIUS. 160-200 gram. CHOK PRIS, d: JULIUS. 160-200 gram. CHOK PRIS\n",
      "\td638dqfY h: Frigodan ISKOLD PRIS. • Broccoli • Fine , d: ISKOLD PRIS. • Broccoli • Fine ærter • M\n",
      "\t539csqfY h: Mou kødboller 650 gram, d: 650 gram\n",
      "\tb25flqfY h: Andebryst 130-150 gram. JULIUS, d: 130-150 gram. JULIUS\n",
      "\t18cdFqfY h: Hønskød i tern 400 gram. Kogt og klar ti, d: 400 gram. Kogt og klar til brug i f.eks.\n",
      "\t50b5vqfY h: Hvidløgsbaguettes PR. 525 gram, d: PR. 525 gram\n",
      "------------------------\n",
      "\tdb9dGqfY h: God morgen juice Appelsin/blodgrape Appe, d: Appelsin/blodgrape Appelsin. LITER. FIND\n",
      "\t4daaRqfY h: 3-stjernet • Kødpølse • Røget medister •, d: • Kødpølse • Røget medister • Jægerpølse\n",
      "\tbd0fXqfY h: Riberhus 200 gram. I SKIVER. • Mellemlag, d: 200 gram. I SKIVER. • Mellemlagret\n",
      "\t9937SqfY h: Salater 150-175 gram. GRAASTEN. Mange va, d: 150-175 gram. GRAASTEN. Mange varianter\n",
      "\ta3ddnqfY h: Schulstad • Skovmand - Original - Ekstra, d: • Skovmand - Original - Ekstra grov. - M\n",
      "\t59cchqfY h: Flødehavarti 300 gram. VILDT BILLIGT, d: 300 gram. VILDT BILLIGT\n",
      "\td8f9oqfY h: Margarine •. 500 gram. BINE. BILLIGST PÅ, d: •. 500 gram. BINE. BILLIGST PÅ HELE INDK\n",
      "\t0be3HqfY h: Spegepølser 3-STJERNET. 200-230 gram. Fl, d: 3-STJERNET. 200-230 gram. Flere variante\n",
      "\tb3acOqfY h: Xl lagret ost Ca. 1400 gram, d: Ca. 1400 gram\n",
      "\taeberqfY h: Yoggi yoghurt 1000 gram. . Flere variant, d: 1000 gram. . Flere varianter\n",
      "\t44a2IqfY h: Tulip •. 300-350 gram. • Baconpostej • K, d: •. 300-350 gram. • Baconpostej • Krydder\n",
      "\t708e7qfY h: Cultura drik 500 ml. • Blåbær • Jordbær, d: 500 ml. • Blåbær • Jordbær\n",
      "\tf4f4MqfY h: Tulip PAKKE. 200 gram. MIDDAGS- FRIKADEL, d: PAKKE. 200 gram. MIDDAGS- FRIKADELLER\n",
      "------------------------\n",
      "\t29c0BqfY h: stærk chili sauce, sur/sød sauce eller s, d: 200-250 ml. 100 gram\n",
      "\t9381iqfY h: Tortilla chips SANTA MARIA. 185 gram. • , d: SANTA MARIA. 185 gram. • Salted • Cheese\n",
      "\t907ajqfY h: Æbler 2 kg. pink lady. vildt billigt, d: 2 kg. pink lady. vildt billigt\n",
      "\t28d5kqfY h: Babymajs 400 gram, d: 400 gram\n",
      "\t280auqfY h: Kartoffelmos 4 breve. á 125 gram. QUEEN, d: 4 breve. á 125 gram. QUEEN\n",
      "\t00b64qfY h: avokado, squash, forårsløg eller radiser, d: Bundt\n",
      "\t1864JqfY h: Santa maria nudler 250 gram. VILDT BILLI, d: 250 gram. VILDT BILLIGT\n",
      "\te2835qfY h: Asparges FRISKE. 250 gram, d: FRISKE. 250 gram\n",
      "\t7c1eeqfY h: Kokosmælk 17-19%. 400 ml, d: 17-19%. 400 ml\n",
      "\t067bTqfY h: Knorr • Orientalsk risret • Indisk risre, d: • Orientalsk risret • Indisk risret • Ch\n",
      "\t46df6qfY h: kalanchoe eller potteroser, d: \n",
      "\tb84a9qfY h: bambusskud eller vandkastanjer 227 gram, d: 227 gram\n",
      "\t614ebqfY h: Hellmann's mayonnaise • I glas • I tube., d: • I glas • I tube. 225-400 gram\n",
      "\t11bbPqfY h: Blomme tomater 500 gram, d: 500 gram\n",
      "------------------------\n",
      "\t ?NOT_REAL_OFFER?\n",
      "\t ?NOT_REAL_OFFER?\n",
      "\t ?NOT_REAL_OFFER?\n",
      "\t ?NOT_REAL_OFFER?\n",
      "\t ?NOT_REAL_OFFER?\n",
      "\t ?NOT_REAL_OFFER?\n",
      "\t ?NOT_REAL_OFFER?\n",
      "\t ?NOT_REAL_OFFER?\n",
      "\t ?NOT_REAL_OFFER?\n",
      "\t ?NOT_REAL_OFFER?\n",
      "\t ?NOT_REAL_OFFER?\n",
      "\t ?NOT_REAL_OFFER?\n",
      "\t ?NOT_REAL_OFFER?\n",
      "\t ?NOT_REAL_OFFER?\n",
      "\t ?NOT_REAL_OFFER?\n",
      "\t ?NOT_REAL_OFFER?\n",
      "\t ?NOT_REAL_OFFER?\n",
      "\t ?NOT_REAL_OFFER?\n",
      "\t ?NOT_REAL_OFFER?\n",
      "\t ?NOT_REAL_OFFER?\n",
      "\t ?NOT_REAL_OFFER?\n",
      "\t ?NOT_REAL_OFFER?\n",
      "\t ?NOT_REAL_OFFER?\n",
      "\t ?NOT_REAL_OFFER?\n",
      "\t ?NOT_REAL_OFFER?\n",
      "\t ?NOT_REAL_OFFER?\n",
      "\t ?NOT_REAL_OFFER?\n",
      "\t ?NOT_REAL_OFFER?\n",
      "\t ?NOT_REAL_OFFER?\n",
      "\t ?NOT_REAL_OFFER?\n",
      "\t ?NOT_REAL_OFFER?\n",
      "\t ?NOT_REAL_OFFER?\n",
      "\t ?NOT_REAL_OFFER?\n",
      "\t ?NOT_REAL_OFFER?\n",
      "\t ?NOT_REAL_OFFER?\n",
      "\t ?NOT_REAL_OFFER?\n",
      "\t ?NOT_REAL_OFFER?\n",
      "\t ?NOT_REAL_OFFER?\n",
      "\t ?NOT_REAL_OFFER?\n",
      "\t ?NOT_REAL_OFFER?\n",
      "\t ?NOT_REAL_OFFER?\n",
      "\t ?NOT_REAL_OFFER?\n",
      "\t ?NOT_REAL_OFFER?\n",
      "\t ?NOT_REAL_OFFER?\n",
      "\t ?NOT_REAL_OFFER?\n",
      "\t ?NOT_REAL_OFFER?\n",
      "\t ?NOT_REAL_OFFER?\n",
      "\t ?NOT_REAL_OFFER?\n",
      "\t ?NOT_REAL_OFFER?\n",
      "\t ?NOT_REAL_OFFER?\n",
      "\t ?NOT_REAL_OFFER?\n",
      "\t ?NOT_REAL_OFFER?\n",
      "\t ?NOT_REAL_OFFER?\n",
      "\t ?NOT_REAL_OFFER?\n",
      "\t ?NOT_REAL_OFFER?\n",
      "\t ?NOT_REAL_OFFER?\n",
      "\t ?NOT_REAL_OFFER?\n",
      "\t ?NOT_REAL_OFFER?\n",
      "\t ?NOT_REAL_OFFER?\n",
      "\t ?NOT_REAL_OFFER?\n",
      "\t ?NOT_REAL_OFFER?\n",
      "\t ?NOT_REAL_OFFER?\n",
      "\t ?NOT_REAL_OFFER?\n",
      "\t ?NOT_REAL_OFFER?\n",
      "\t ?NOT_REAL_OFFER?\n",
      "\t ?NOT_REAL_OFFER?\n",
      "\t ?NOT_REAL_OFFER?\n",
      "\t ?NOT_REAL_OFFER?\n",
      "\t ?NOT_REAL_OFFER?\n",
      "\t ?NOT_REAL_OFFER?\n",
      "\t ?NOT_REAL_OFFER?\n",
      "\t ?NOT_REAL_OFFER?\n",
      "\t ?NOT_REAL_OFFER?\n",
      "\t ?NOT_REAL_OFFER?\n",
      "\t ?NOT_REAL_OFFER?\n",
      "\t ?NOT_REAL_OFFER?\n",
      "\t ?NOT_REAL_OFFER?\n",
      "\t ?NOT_REAL_OFFER?\n",
      "\t ?NOT_REAL_OFFER?\n",
      "\t ?NOT_REAL_OFFER?\n",
      "\t ?NOT_REAL_OFFER?\n",
      "\t ?NOT_REAL_OFFER?\n",
      "\t ?NOT_REAL_OFFER?\n",
      "\t ?NOT_REAL_OFFER?\n",
      "\t ?NOT_REAL_OFFER?\n",
      "\t ?NOT_REAL_OFFER?\n",
      "\t ?NOT_REAL_OFFER?\n",
      "\t ?NOT_REAL_OFFER?\n",
      "\t ?NOT_REAL_OFFER?\n",
      "\t ?NOT_REAL_OFFER?\n",
      "\t ?NOT_REAL_OFFER?\n",
      "\t ?NOT_REAL_OFFER?\n",
      "\t ?NOT_REAL_OFFER?\n",
      "\t ?NOT_REAL_OFFER?\n",
      "\t ?NOT_REAL_OFFER?\n",
      "\t ?NOT_REAL_OFFER?\n"
     ]
    },
    {
     "name": "stdout",
     "output_type": "stream",
     "text": [
      "\t ?NOT_REAL_OFFER?\n",
      "\t ?NOT_REAL_OFFER?\n",
      "\t ?NOT_REAL_OFFER?\n",
      "\t ?NOT_REAL_OFFER?\n",
      "\t ?NOT_REAL_OFFER?\n",
      "\t ?NOT_REAL_OFFER?\n"
     ]
    }
   ],
   "source": [
    "# show correct\n",
    "show_correct_catalog(\n",
    "    catalog_id=chosen_catalog_id,\n",
    "    catalogs_dataframe=df_catalogs,\n",
    "    offers_dataframe=df)"
   ]
  },
  {
   "cell_type": "markdown",
   "metadata": {},
   "source": [
    "Use premade function to nicely display a single prediction.\n",
    "\n",
    "**Models that do not properly ensure permutation invariance will give different prediction on each run** regardless of being put in .eval() mode."
   ]
  },
  {
   "cell_type": "code",
   "execution_count": 117,
   "metadata": {},
   "outputs": [
    {
     "name": "stdout",
     "output_type": "stream",
     "text": [
      "\ta6a7Z0fY h: Diamond hill 3 LITER. • Chardonnay • Shi, d: 3 LITER. • Chardonnay • Shiraz • Shiraz/\n",
      "\t ?NOT_REAL_OFFER?\n",
      "------------------------\n",
      "\t3956N0fY h: Harpic wc-rens Flere varianter 750 ml. K, d: Flere varianter 750 ml. KÆMPE PARTI\n",
      "\t6429tqfY h: Nordjyder 500. • Frankfurter • Røde knæk, d: 500. • Frankfurter • Røde knækpølser • G\n",
      "\t ?NOT_REAL_OFFER?\n",
      "\t4815F0fY h: Sodavand 150 cl. Flere varianter. + PANT, d: 150 cl. Flere varianter. + PANT. 3. • Ni\n",
      "\t ?NOT_REAL_OFFER?\n",
      "\t ?NOT_REAL_OFFER?\n",
      "\t ?NOT_REAL_OFFER?\n",
      "\t00b64qfY h: avokado, squash, forårsløg eller radiser, d: Bundt\n",
      "\t257as0fY h: Lays chips, bugles eller doritos Sour Cr, d: Sour Cream & Onion - BBQ - Salt - • - Or\n",
      "\t067bTqfY h: Knorr • Orientalsk risret • Indisk risre, d: • Orientalsk risret • Indisk risret • Ch\n",
      "\t ?NOT_REAL_OFFER?\n",
      "\t ?NOT_REAL_OFFER?\n",
      "\tfb3cQ0fY h: Libero bleer • Comfort • UP&GO. 38-68 st, d: • Comfort • UP&GO. 38-68 stk. • •. 400. \n",
      "\t ?NOT_REAL_OFFER?\n",
      "\t ?NOT_REAL_OFFER?\n",
      "\t ?NOT_REAL_OFFER?\n",
      "\tfed3AqfY h: Påskebryg 33 cl. KYLLE - KYLLE. 3 33. + , d: 33 cl. KYLLE - KYLLE. 3 33. + PANT. Sælg\n",
      "\t ?NOT_REAL_OFFER?\n",
      "\t ?NOT_REAL_OFFER?\n",
      "\t ?NOT_REAL_OFFER?\n",
      "\t ?NOT_REAL_OFFER?\n",
      "\t ?NOT_REAL_OFFER?\n",
      "\t9381iqfY h: Tortilla chips SANTA MARIA. 185 gram. • , d: SANTA MARIA. 185 gram. • Salted • Cheese\n",
      "------------------------\n",
      "\t070eU0fY h: Ribena • Original • Light. 850 ml, d: • Original • Light. 850 ml\n",
      "\t ?NOT_REAL_OFFER?\n",
      "\t ?NOT_REAL_OFFER?\n",
      "------------------------\n",
      "\t ?NOT_REAL_OFFER?\n",
      "\t ?NOT_REAL_OFFER?\n",
      "\t ?NOT_REAL_OFFER?\n",
      "\t ?NOT_REAL_OFFER?\n",
      "\tc941A0fY h: Weekend menu tilberedt Komplet MENU af d, d: tilberedt Komplet MENU af de menu TIL ti\n",
      "------------------------\n",
      "\t97f9K0fY h: Kylling I ovnklar stegepose 1500 gram. H, d: I ovnklar stegepose 1500 gram. HEL DANSK\n",
      "\t ?NOT_REAL_OFFER?\n",
      "\t ?NOT_REAL_OFFER?\n",
      "\t ?NOT_REAL_OFFER?\n",
      "\t0cbffqfY h: Pålækker 80-90 gram. - Classic - Tomat. , d: 80-90 gram. - Classic - Tomat. VILDT BIL\n",
      "\t ?NOT_REAL_OFFER?\n",
      "\t ?NOT_REAL_OFFER?\n",
      "\t ?NOT_REAL_OFFER?\n",
      "\t ?NOT_REAL_OFFER?\n",
      "\t4809E0fY h: Haribo POSE. DET ER BILLIGT. 100-135 gra, d: POSE. DET ER BILLIGT. 100-135 gram. • Sl\n",
      "\t ?NOT_REAL_OFFER?\n",
      "\t ?NOT_REAL_OFFER?\n",
      "\t ?NOT_REAL_OFFER?\n",
      "\tb8a3DqfY h: Sukkervafler BELGISKE. 550 gram, d: BELGISKE. 550 gram\n",
      "\t88a5UqfY h: Knækbrød LEKSANDS. Flere varianter 200 g, d: LEKSANDS. Flere varianter 200 gram\n",
      "\t ?NOT_REAL_OFFER?\n",
      "\t0ef3QqfY h: Kyllingelår KUN 11,66 KR. PR. KG DET ER , d: KUN 11,66 KR. PR. KG DET ER BILLIGT. HEL\n",
      "\t222fcqfY h: Bbq mørbrad 450 gram. JENSENS, d: 450 gram. JENSENS\n",
      "\t ?NOT_REAL_OFFER?\n",
      "\tfc78C0fY h: Hakket kalv- & flæsk . 8-12% Ca. 500 gra, d: . 8-12% Ca. 500 gram. SLAGTER NORLYK ER \n",
      "\tef59YqfY h: Corny müslibars 6 stk. • Nuts, d: 6 stk. • Nuts\n",
      "\tfbff20fY h: Elvital Alle varianter. 200-250 ml. • Sh, d: Alle varianter. 200-250 ml. • Shampoo • \n",
      "\t ?NOT_REAL_OFFER?\n",
      "\t ?NOT_REAL_OFFER?\n",
      "\tac74V0fY h: Hårspray ELNETT. • Extra kraftig • Stron, d: ELNETT. • Extra kraftig • Strong hold. 4\n",
      "\t ?NOT_REAL_OFFER?\n",
      "\t280auqfY h: Kartoffelmos 4 breve. á 125 gram. QUEEN, d: 4 breve. á 125 gram. QUEEN\n",
      "\t08cfm0fY h: Danpo hakket kylling 450 gram, d: 450 gram\n",
      "\t ?NOT_REAL_OFFER?\n",
      "\t44a2IqfY h: Tulip •. 300-350 gram. • Baconpostej • K, d: •. 300-350 gram. • Baconpostej • Krydder\n",
      "\t ?NOT_REAL_OFFER?\n",
      "\t ?NOT_REAL_OFFER?\n",
      "\tc90d30fY h: Steaks Ca. 1000 gram. AF UNGKVÆG. Små fi, d: Ca. 1000 gram. AF UNGKVÆG. Små fine hver\n",
      "------------------------\n",
      "\t ?NOT_REAL_OFFER?\n",
      "\t183cY0fY h: Marabou chokoladebars 35-46 gram. • Fran, d: 35-46 gram. • Fransk Nougat • Marabou Or\n",
      "\t0a4eEqfY h: Havregryn Ved køb af mere end 6 poser, e, d: Ved køb af mere end 6 poser, er prisen h\n",
      "\t907ajqfY h: Æbler 2 kg. pink lady. vildt billigt, d: 2 kg. pink lady. vildt billigt\n",
      "\t ?NOT_REAL_OFFER?\n",
      "\t ?NOT_REAL_OFFER?\n",
      "\tbd0fXqfY h: Riberhus 200 gram. I SKIVER. • Mellemlag, d: 200 gram. I SKIVER. • Mellemlagret\n",
      "\t2502x0fY h: Leeuwenkuil TA' • Chenin Blanc • Shiraz , d: TA' • Chenin Blanc • Shiraz • Lion's Lai\n",
      "\tf4f4MqfY h: Tulip PAKKE. 200 gram. MIDDAGS- FRIKADEL, d: PAKKE. 200 gram. MIDDAGS- FRIKADELLER\n",
      "\t ?NOT_REAL_OFFER?\n",
      "\t ?NOT_REAL_OFFER?\n",
      "\t ?NOT_REAL_OFFER?\n",
      "\t ?NOT_REAL_OFFER?\n",
      "\t ?NOT_REAL_OFFER?\n",
      "\t0d81d0fY h: Rexona deodoranter Flere varianter. 50-1, d: Flere varianter. 50-150 ml. • Spray • Ro\n",
      "\t ?NOT_REAL_OFFER?\n",
      "\t ?NOT_REAL_OFFER?\n",
      "\t ?NOT_REAL_OFFER?\n",
      "\t ?NOT_REAL_OFFER?\n",
      "\td638dqfY h: Frigodan ISKOLD PRIS. • Broccoli • Fine , d: ISKOLD PRIS. • Broccoli • Fine ærter • M\n",
      "\t ?NOT_REAL_OFFER?\n",
      "\t ?NOT_REAL_OFFER?\n",
      "\t ?NOT_REAL_OFFER?\n",
      "\t ?NOT_REAL_OFFER?\n",
      "\t29c0BqfY h: stærk chili sauce, sur/sød sauce eller s, d: 200-250 ml. 100 gram\n",
      "\t ?NOT_REAL_OFFER?\n",
      "\t ?NOT_REAL_OFFER?\n",
      "\ta367w0fY h: Libresse Flere varianter. • Trusseindlæg, d: Flere varianter. • Trusseindlæg • Bind\n",
      "\t5cb900fY h: Skinkestege 700-800 gram. • Orientalsk •, d: 700-800 gram. • Orientalsk • Mexico\n",
      "\t ?NOT_REAL_OFFER?\n",
      "\t9937SqfY h: Salater 150-175 gram. GRAASTEN. Mange va, d: 150-175 gram. GRAASTEN. Mange varianter\n",
      "\t ?NOT_REAL_OFFER?\n",
      "\t ?NOT_REAL_OFFER?\n",
      "\t6d6e0qfY h: Carletti 73,5 gram. • Lys • Mørk. PÅLÆGS, d: 73,5 gram. • Lys • Mørk. PÅLÆGSCHOKOLADE\n",
      "\tab38CqfY h: BKI KAFFE  • Extra. 400 gram. Ved køb af, d: • Extra. 400 gram. Ved køb af mere end 1\n",
      "\t ?NOT_REAL_OFFER?\n",
      "\t59cchqfY h: Flødehavarti 300 gram. VILDT BILLIGT, d: 300 gram. VILDT BILLIGT\n",
      "\t ?NOT_REAL_OFFER?\n",
      "\t5dbdl0fY h: Axe deodoranter Flere varianter. 150 ml., d: Flere varianter. 150 ml. • Spray\n",
      "\tce94wqfY h: Ice cap rejer 125 gram, d: 125 gram\n",
      "\ta3ddnqfY h: Schulstad • Skovmand - Original - Ekstra, d: • Skovmand - Original - Ekstra grov. - M\n",
      "\tdb9dGqfY h: God morgen juice Appelsin/blodgrape Appe, d: Appelsin/blodgrape Appelsin. LITER. FIND\n",
      "\t ?NOT_REAL_OFFER?\n",
      "\t ?NOT_REAL_OFFER?\n",
      "\t ?NOT_REAL_OFFER?\n",
      "\t431baqfY h: Toast 200-290 gram. • Pariser toast • Co, d: 200-290 gram. • Pariser toast • Cowboy t\n",
      "\t ?NOT_REAL_OFFER?\n",
      "\te2835qfY h: Asparges FRISKE. 250 gram, d: FRISKE. 250 gram\n",
      "\te545VqfY h: Viennetta is 650 ml. ISKOLD PRIS, d: 650 ml. ISKOLD PRIS\n",
      "\t ?NOT_REAL_OFFER?\n",
      "\t11bbPqfY h: Blomme tomater 500 gram, d: 500 gram\n",
      "\te4b8a0fY h: L'oréal triple active creme Flere varian, d: Flere varianter. 50 ml\n",
      "\t4daaRqfY h: 3-stjernet • Kødpølse • Røget medister •, d: • Kødpølse • Røget medister • Jægerpølse\n",
      "\td4f0v0fY h: Zendium FRIT VALG. • Tandpasta • Tandbør, d: FRIT VALG. • Tandpasta • Tandbørster • M\n",
      "\t ?NOT_REAL_OFFER?\n",
      "\t ?NOT_REAL_OFFER?\n",
      "\t ?NOT_REAL_OFFER?\n",
      "\t614ebqfY h: Hellmann's mayonnaise • I glas • I tube., d: • I glas • I tube. 225-400 gram\n",
      "------------------------\n",
      "\t ?NOT_REAL_OFFER?\n",
      "\t ?NOT_REAL_OFFER?\n",
      "\tf1a9z0fY h: Bki kaffe 500 gram. • Classic Gold • ABC, d: 500 gram. • Classic Gold • ABC - hele bø\n",
      "\t ?NOT_REAL_OFFER?\n",
      "\td8f9oqfY h: Margarine •. 500 gram. BINE. BILLIGST PÅ, d: •. 500 gram. BINE. BILLIGST PÅ HELE INDK\n",
      "\t0da4f0fY h: Primitivo di manduria • Carlo Sani. Denn, d: • Carlo Sani. Denne Primitivo har været \n",
      "\t ?NOT_REAL_OFFER?\n",
      "\t ?NOT_REAL_OFFER?\n",
      "\t ?NOT_REAL_OFFER?\n",
      "\t ?NOT_REAL_OFFER?\n",
      "\t ?NOT_REAL_OFFER?\n",
      "\tb84a9qfY h: bambusskud eller vandkastanjer 227 gram, d: 227 gram\n",
      "\t799dzqfY h: Frisk dansk mælk PR. LITER. Max. 24 time, d: PR. LITER. Max. 24 timer fra gård til bu\n",
      "\t ?NOT_REAL_OFFER?\n",
      "\t ?NOT_REAL_OFFER?\n",
      "\t50b5vqfY h: Hvidløgsbaguettes PR. 525 gram, d: PR. 525 gram\n",
      "\t029aT0fY h: Abena affaldsposer PR. SAM-PAK. 3 x, d: PR. SAM-PAK. 3 x\n",
      "\t ?NOT_REAL_OFFER?\n",
      "\t ?NOT_REAL_OFFER?\n",
      "\t ?NOT_REAL_OFFER?\n",
      "\t3531u0fY h: Bio-tex • Flydende vask. - Color - White, d: • Flydende vask. - Color - White - Black\n",
      "\t3cf8qqfY h: Oreo eller prince chokoladekiks 154-240 , d: 154-240 gram. Flere varianter\n",
      "\tb7fcb0fY h: Harpic Wc-blåt, d: \n",
      "\t ?NOT_REAL_OFFER?\n",
      "\t ?NOT_REAL_OFFER?\n",
      "\t7d7a10fY h: Nakkefilet DANSK. 1/2 KG. Skæres til nak, d: DANSK. 1/2 KG. Skæres til nakkekotelette\n",
      "\te4e12qfY h: Frigodan • Bønnemix • Grønt m/karry • Gr, d: • Bønnemix • Grønt m/karry • Grønt m/tom\n",
      "\t11aaxqfY h: Kyllingeburger I alt 1000 gram. Af kylli, d: I alt 1000 gram. Af kyllingebrystfilet\n",
      "\t708e7qfY h: Cultura drik 500 ml. • Blåbær • Jordbær, d: 500 ml. • Blåbær • Jordbær\n",
      "\t7c1eeqfY h: Kokosmælk 17-19%. 400 ml, d: 17-19%. 400 ml\n",
      "\t ?NOT_REAL_OFFER?\n",
      "\t28d5kqfY h: Babymajs 400 gram, d: 400 gram\n",
      "\t ?NOT_REAL_OFFER?\n",
      "\ta259L0fY h: Sild i spand 800/400-700 gram. • Mariner, d: 800/400-700 gram. • Marinerede hele file\n",
      "\ta3abpqfY h: Steff houlberg • Brændende kærlighed • F, d: • Brændende kærlighed • Forloren hare • \n",
      "\t ?NOT_REAL_OFFER?\n",
      "\t539csqfY h: Mou kødboller 650 gram, d: 650 gram\n",
      "\t283c80fY h: Nescafé gold STORT GLAS. • Instant kaffe, d: STORT GLAS. • Instant kaffe - Original -\n",
      "\taeberqfY h: Yoggi yoghurt 1000 gram. . Flere variant, d: 1000 gram. . Flere varianter\n",
      "\t36f3y0fY h: Danpo • Frikadeller • Medister. 400 gram, d: • Frikadeller • Medister. 400 gram\n",
      "\t ?NOT_REAL_OFFER?\n",
      "\t ?NOT_REAL_OFFER?\n",
      "\t ?NOT_REAL_OFFER?\n",
      "\t0be3HqfY h: Spegepølser 3-STJERNET. 200-230 gram. Fl, d: 3-STJERNET. 200-230 gram. Flere variante\n",
      "\t ?NOT_REAL_OFFER?\n",
      "\ta4c88qfY h: Hatting fransk hotdog  gigant burgerboll, d: 4-6 stk. •\n",
      "\t ?NOT_REAL_OFFER?\n",
      "\t ?NOT_REAL_OFFER?\n",
      "\t3030ZqfY h: Mou luksus suppe 1000 gram. Mange varian, d: 1000 gram. Mange varianter\n",
      "\t18cdFqfY h: Hønskød i tern 400 gram. Kogt og klar ti, d: 400 gram. Kogt og klar til brug i f.eks.\n",
      "\t ?NOT_REAL_OFFER?\n",
      "\t ?NOT_REAL_OFFER?\n",
      "\t ?NOT_REAL_OFFER?\n",
      "\t0ba1i0fY h: Bamseline skyllemiddel Flere varianter 1, d: Flere varianter 1000 ml.\n",
      "\t5b2ag0fY h: Amanda luksusrogn Pr, d: Pr\n",
      "\t ?NOT_REAL_OFFER?\n",
      "\t3672p0fY h: Duyvis nødder Flere varianter 175-225 gr, d: Flere varianter 175-225 gram\n",
      "\t ?NOT_REAL_OFFER?\n",
      "\t1864JqfY h: Santa maria nudler 250 gram. VILDT BILLI, d: 250 gram. VILDT BILLIGT\n",
      "\t ?NOT_REAL_OFFER?\n",
      "\t46df6qfY h: kalanchoe eller potteroser, d: \n",
      "\t22edWqfY h: Flensted kartoffelgratin med fløde 500 g, d: med fløde 500 gram.\n",
      "\t ?NOT_REAL_OFFER?\n",
      "\ta5caD0fY h: Jægerkoteletter Ca. 400 gram. Marinerede, d: Ca. 400 gram. Marinerede koteletter med \n",
      "------------------------\n",
      "\tb553q0fY h: Helt kalkunbryst Ca. 800 gram, d: Ca. 800 gram\n",
      "\t ?NOT_REAL_OFFER?\n",
      "\tb3acOqfY h: Xl lagret ost Ca. 1400 gram, d: Ca. 1400 gram\n",
      "\tb25flqfY h: Andebryst 130-150 gram. JULIUS, d: 130-150 gram. JULIUS\n",
      "\tdb3fNqfY h: Andelår JULIUS. 160-200 gram. CHOK PRIS, d: JULIUS. 160-200 gram. CHOK PRIS\n"
     ]
    }
   ],
   "source": [
    "# show predicted\n",
    "# if the model is not permutation invariant, it will predict sth else\n",
    "# for every random permutation of the source catalog\n",
    "model_ptrnet.eval()\n",
    "show_predicted_catalog(\n",
    "    catalog_id='0003leq',\n",
    "    a_model=model_ptrnet,\n",
    "    catalogs_dataframe=df_catalogs,\n",
    "    offers_dataframe=df)"
   ]
  },
  {
   "cell_type": "markdown",
   "metadata": {},
   "source": [
    "## Model DeepSets"
   ]
  },
  {
   "cell_type": "code",
   "execution_count": 118,
   "metadata": {},
   "outputs": [],
   "source": [
    "from procat_models import DeepSets, DeepSetsPointerCatalogNetwork"
   ]
  },
  {
   "cell_type": "code",
   "execution_count": 119,
   "metadata": {},
   "outputs": [
    {
     "data": {
      "text/plain": [
       "DeepSetsPointerCatalogNetwork(\n",
       "  (word_embedding): Embedding(26169, 32)\n",
       "  (offer_embedding): PointerOfferEmbedder(\n",
       "    (offer_rnn): GRU(32, 64, num_layers=2, batch_first=True, dropout=0.05)\n",
       "  )\n",
       "  (set_embedding): DeepSets(\n",
       "    (encode): Sequential(\n",
       "      (0): Linear(in_features=64, out_features=64, bias=True)\n",
       "      (1): ReLU()\n",
       "      (2): Linear(in_features=64, out_features=64, bias=True)\n",
       "      (3): ReLU()\n",
       "      (4): Linear(in_features=64, out_features=64, bias=True)\n",
       "      (5): ReLU()\n",
       "      (6): Linear(in_features=64, out_features=128, bias=True)\n",
       "      (7): ReLU()\n",
       "      (8): Linear(in_features=128, out_features=128, bias=True)\n",
       "      (9): ReLU()\n",
       "      (10): Linear(in_features=128, out_features=128, bias=True)\n",
       "      (11): ReLU()\n",
       "      (12): Linear(in_features=128, out_features=64, bias=True)\n",
       "      (13): ReLU()\n",
       "    )\n",
       "    (out): Sequential(\n",
       "      (0): Linear(in_features=64, out_features=64, bias=True)\n",
       "      (1): ReLU()\n",
       "      (2): Linear(in_features=64, out_features=128, bias=True)\n",
       "      (3): ReLU()\n",
       "      (4): Linear(in_features=128, out_features=64, bias=True)\n",
       "      (5): ReLU()\n",
       "      (6): Linear(in_features=64, out_features=64, bias=True)\n",
       "      (7): ReLU()\n",
       "    )\n",
       "  )\n",
       "  (encoder): PointerEncoder(\n",
       "    (lstm): LSTM(128, 32, num_layers=2, batch_first=True, dropout=0.05, bidirectional=True)\n",
       "  )\n",
       "  (decoder): PointerDecoder(\n",
       "    (input_to_hidden): Linear(in_features=128, out_features=256, bias=True)\n",
       "    (hidden_to_hidden): Linear(in_features=64, out_features=256, bias=True)\n",
       "    (hidden_out): Linear(in_features=128, out_features=64, bias=True)\n",
       "    (att): PointerAttention(\n",
       "      (input_linear): Linear(in_features=64, out_features=64, bias=True)\n",
       "      (context_linear): Conv1d(64, 64, kernel_size=(1,), stride=(1,))\n",
       "      (soft): Softmax(dim=1)\n",
       "    )\n",
       "  )\n",
       ")"
      ]
     },
     "execution_count": 119,
     "metadata": {},
     "output_type": "execute_result"
    }
   ],
   "source": [
    "# instantiate the model\n",
    "model_deepsets = DeepSetsPointerCatalogNetwork(\n",
    "    word_embedding_dim=config['ptr_word_emb_dim'],\n",
    "    offer_embedding_dim=config['ptr_offer_emb_dim'],\n",
    "    hidden_dim=config['ptr_hid_dim'],\n",
    "    offer_rnn_layers=config['ptr_offer_rnn_layers'],\n",
    "    catalog_rnn_layers=config['ptr_catalog_rnn_layers'],\n",
    "    dropout_offers=config['ptr_dropout_offers'],\n",
    "    dropout_catalogs=config['ptr_dropout_catalogs'],\n",
    "    bidir_offers=config['ptr_bidir_offers'],  # not handled 2021 04\n",
    "    bidir_catalogs=config['ptr_bidir_catalogs'],\n",
    "    masking=config['ptr_mask'],\n",
    "    vocab_size=len(word2idx),\n",
    ")\n",
    "\n",
    "model_deepsets.float()"
   ]
  },
  {
   "cell_type": "code",
   "execution_count": 120,
   "metadata": {},
   "outputs": [
    {
     "name": "stdout",
     "output_type": "stream",
     "text": [
      "The model has 1,101,024 trainable parameters\n"
     ]
    }
   ],
   "source": [
    "# how many params\n",
    "count_params(model_deepsets)"
   ]
  },
  {
   "cell_type": "code",
   "execution_count": 121,
   "metadata": {},
   "outputs": [],
   "source": [
    "# 2-elem batch\n",
    "batch_x = X_train_torch[:2]"
   ]
  },
  {
   "cell_type": "code",
   "execution_count": 122,
   "metadata": {},
   "outputs": [
    {
     "name": "stdout",
     "output_type": "stream",
     "text": [
      "torch.Size([2, 200, 200]) torch.Size([2, 200])\n"
     ]
    }
   ],
   "source": [
    "# predict\n",
    "_ = model_deepsets(batch_x)\n",
    "print(_[0].size(), _[1].size())"
   ]
  },
  {
   "cell_type": "code",
   "execution_count": 123,
   "metadata": {},
   "outputs": [
    {
     "name": "stdout",
     "output_type": "stream",
     "text": [
      "torch.LongTensor\n"
     ]
    }
   ],
   "source": [
    "print(_[1].type())"
   ]
  },
  {
   "cell_type": "code",
   "execution_count": 124,
   "metadata": {},
   "outputs": [],
   "source": [
    "# loss\n",
    "CCE = torch.nn.CrossEntropyLoss()"
   ]
  },
  {
   "cell_type": "code",
   "execution_count": 125,
   "metadata": {},
   "outputs": [],
   "source": [
    "# optimizer\n",
    "optimizer_deepsets = optim.Adam(\n",
    "    filter(lambda p: p.requires_grad, model_deepsets.parameters()),\n",
    "    lr=config['learning_rate'])"
   ]
  },
  {
   "cell_type": "markdown",
   "metadata": {},
   "source": [
    "### Model Training | DeepSets"
   ]
  },
  {
   "cell_type": "raw",
   "metadata": {},
   "source": [
    "# test untrained model\n",
    "results_deepsets, _ = test_model_custom(model_deepsets, test_dataloader, compare_solved_sort_unique, print_every=999999, x_name=0, y_name=1)\n",
    "print('Result: {:.4f}'.format(results_deepsets))"
   ]
  },
  {
   "cell_type": "raw",
   "metadata": {},
   "source": [
    "# show rank correlations only with mask on\n",
    "print('K-Tau: {:.4f}, % valid: {}'.format(*get_batch_rank_correlation_and_perc_valid(test_dataloader, model_deepsets, get_single_kendall_tau, print_every=999999)))\n",
    "print('S-Rho: {:.4f}, % valid: {}'.format(*get_batch_rank_correlation_and_perc_valid(test_dataloader, model_deepsets, get_single_spearman_rho, print_every=999999)))"
   ]
  },
  {
   "cell_type": "code",
   "execution_count": 126,
   "metadata": {},
   "outputs": [
    {
     "name": "stderr",
     "output_type": "stream",
     "text": [
      "Epoch 1 / 1: 100%|██████████| 1/1 [00:16<00:00, 16.28s/ batches, avg_loss=5.29856]\n"
     ]
    }
   ],
   "source": [
    "# train\n",
    "last_loss_deepsets = train_epochs(\n",
    "    model_deepsets,\n",
    "    optimizer_deepsets,\n",
    "    CCE,\n",
    "    train_dataloader,\n",
    "    config['num_epochs'],\n",
    "    allow_gpu=True,\n",
    "    x_name=0,\n",
    "    y_name=1)"
   ]
  },
  {
   "cell_type": "code",
   "execution_count": 127,
   "metadata": {},
   "outputs": [
    {
     "data": {
      "text/plain": [
       "5.298555374145508"
      ]
     },
     "execution_count": 127,
     "metadata": {},
     "output_type": "execute_result"
    }
   ],
   "source": [
    "last_loss_deepsets.item()"
   ]
  },
  {
   "cell_type": "markdown",
   "metadata": {},
   "source": [
    "### Model Testing | DeepSets\n",
    "Put the model in eval() mode first (prevents dropout and such from predicting sth else from the same permuted x)."
   ]
  },
  {
   "cell_type": "code",
   "execution_count": 128,
   "metadata": {},
   "outputs": [
    {
     "data": {
      "text/plain": [
       "DeepSetsPointerCatalogNetwork(\n",
       "  (word_embedding): Embedding(26169, 32)\n",
       "  (offer_embedding): PointerOfferEmbedder(\n",
       "    (offer_rnn): GRU(32, 64, num_layers=2, batch_first=True, dropout=0.05)\n",
       "  )\n",
       "  (set_embedding): DeepSets(\n",
       "    (encode): Sequential(\n",
       "      (0): Linear(in_features=64, out_features=64, bias=True)\n",
       "      (1): ReLU()\n",
       "      (2): Linear(in_features=64, out_features=64, bias=True)\n",
       "      (3): ReLU()\n",
       "      (4): Linear(in_features=64, out_features=64, bias=True)\n",
       "      (5): ReLU()\n",
       "      (6): Linear(in_features=64, out_features=128, bias=True)\n",
       "      (7): ReLU()\n",
       "      (8): Linear(in_features=128, out_features=128, bias=True)\n",
       "      (9): ReLU()\n",
       "      (10): Linear(in_features=128, out_features=128, bias=True)\n",
       "      (11): ReLU()\n",
       "      (12): Linear(in_features=128, out_features=64, bias=True)\n",
       "      (13): ReLU()\n",
       "    )\n",
       "    (out): Sequential(\n",
       "      (0): Linear(in_features=64, out_features=64, bias=True)\n",
       "      (1): ReLU()\n",
       "      (2): Linear(in_features=64, out_features=128, bias=True)\n",
       "      (3): ReLU()\n",
       "      (4): Linear(in_features=128, out_features=64, bias=True)\n",
       "      (5): ReLU()\n",
       "      (6): Linear(in_features=64, out_features=64, bias=True)\n",
       "      (7): ReLU()\n",
       "    )\n",
       "  )\n",
       "  (encoder): PointerEncoder(\n",
       "    (lstm): LSTM(128, 32, num_layers=2, batch_first=True, dropout=0.05, bidirectional=True)\n",
       "  )\n",
       "  (decoder): PointerDecoder(\n",
       "    (input_to_hidden): Linear(in_features=128, out_features=256, bias=True)\n",
       "    (hidden_to_hidden): Linear(in_features=64, out_features=256, bias=True)\n",
       "    (hidden_out): Linear(in_features=128, out_features=64, bias=True)\n",
       "    (att): PointerAttention(\n",
       "      (input_linear): Linear(in_features=64, out_features=64, bias=True)\n",
       "      (context_linear): Conv1d(64, 64, kernel_size=(1,), stride=(1,))\n",
       "      (soft): Softmax(dim=1)\n",
       "    )\n",
       "  )\n",
       ")"
      ]
     },
     "execution_count": 128,
     "metadata": {},
     "output_type": "execute_result"
    }
   ],
   "source": [
    "model_deepsets.eval()  # if we had dropout or batchnorm, we must do this"
   ]
  },
  {
   "cell_type": "raw",
   "metadata": {},
   "source": [
    "# actual metrics\n",
    "results_deepsets, _ = test_model_custom(model_deepsets, test_dataloader, compare_solved_sort_unique, print_every=999999, x_name=0, y_name=1)\n",
    "print('Result: {:.4f}'.format(results_deepsets))"
   ]
  },
  {
   "cell_type": "raw",
   "metadata": {},
   "source": [
    "# show rank correlations only with mask on\n",
    "print('K-Tau: {:.4f}, % valid: {}'.format(*get_batch_rank_correlation_and_perc_valid(test_dataloader, model_deepsets, get_single_kendall_tau, print_every=999999)))\n",
    "print('S-Rho: {:.4f}, % valid: {}'.format(*get_batch_rank_correlation_and_perc_valid(test_dataloader, model_deepsets, get_single_spearman_rho, print_every=999999)))"
   ]
  },
  {
   "cell_type": "markdown",
   "metadata": {},
   "source": [
    "#### Sacred Experiment | Model DeepSets\n",
    "We'll want to track the dataset, model params and the result of tests."
   ]
  },
  {
   "cell_type": "code",
   "execution_count": 129,
   "metadata": {},
   "outputs": [
    {
     "name": "stderr",
     "output_type": "stream",
     "text": [
      "INFO - real_catalogs_PROCAT_mini_mask_True - Running command 'run_model_tests'\n",
      "INFO - real_catalogs_PROCAT_mini_mask_True - Started run with ID \"348\"\n"
     ]
    },
    {
     "name": "stdout",
     "output_type": "stream",
     "text": [
      "Model:  <class 'procat_models.DeepSetsPointerCatalogNetwork'>\n",
      "Result: 0.0054\n",
      "K-Tau: -0.1922, perc_valid: 100.0\n"
     ]
    },
    {
     "name": "stderr",
     "output_type": "stream",
     "text": [
      "INFO - real_catalogs_PROCAT_mini_mask_True - Result: 0.00542\n",
      "INFO - real_catalogs_PROCAT_mini_mask_True - Completed after 0:00:05\n"
     ]
    },
    {
     "name": "stdout",
     "output_type": "stream",
     "text": [
      "S-Rho: -0.2861, perc_valid: 100.0\n"
     ]
    }
   ],
   "source": [
    "# experiment config\n",
    "current_tested_model = model_deepsets\n",
    "current_optimizer = optimizer_deepsets\n",
    "current_last_loss = last_loss_deepsets\n",
    "\n",
    "config_update = {\n",
    "    'model': current_tested_model.__class__.__name__,\n",
    "    'final_training_loss': round(current_last_loss.item(), 10),\n",
    "    'optimizer': current_optimizer.__class__.__name__,\n",
    "    'cfg': config,\n",
    "}\n",
    "\n",
    "# run the experiment, with updated config\n",
    "run_info = ex.run(config_updates=config_update)"
   ]
  },
  {
   "cell_type": "markdown",
   "metadata": {},
   "source": [
    "#### Show predictions\n",
    "See what it predicts."
   ]
  },
  {
   "cell_type": "markdown",
   "metadata": {},
   "source": [
    "##### Specific catalog prediction, with offer text features"
   ]
  },
  {
   "cell_type": "code",
   "execution_count": 130,
   "metadata": {},
   "outputs": [],
   "source": [
    "# choose a catalog\n",
    "chosen_catalog_id = '0003leq'"
   ]
  },
  {
   "cell_type": "raw",
   "metadata": {},
   "source": [
    "# show correct\n",
    "show_correct_catalog(\n",
    "    catalog_id=chosen_catalog_id,\n",
    "    catalogs_dataframe=df_catalogs,\n",
    "    offers_dataframe=df)"
   ]
  },
  {
   "cell_type": "markdown",
   "metadata": {},
   "source": [
    "Use premade function to nicely display a single prediction.\n",
    "\n",
    "**Models that do not properly ensure permutation invariance will give different prediction on each run** regardless of being put in .eval() mode."
   ]
  },
  {
   "cell_type": "code",
   "execution_count": 131,
   "metadata": {},
   "outputs": [
    {
     "name": "stdout",
     "output_type": "stream",
     "text": [
      "\t36f3y0fY h: Danpo • Frikadeller • Medister. 400 gram, d: • Frikadeller • Medister. 400 gram\n",
      "\t ?NOT_REAL_OFFER?\n",
      "\t614ebqfY h: Hellmann's mayonnaise • I glas • I tube., d: • I glas • I tube. 225-400 gram\n",
      "\t9937SqfY h: Salater 150-175 gram. GRAASTEN. Mange va, d: 150-175 gram. GRAASTEN. Mange varianter\n",
      "\t ?NOT_REAL_OFFER?\n",
      "\t0da4f0fY h: Primitivo di manduria • Carlo Sani. Denn, d: • Carlo Sani. Denne Primitivo har været \n",
      "\t ?NOT_REAL_OFFER?\n",
      "\tfbff20fY h: Elvital Alle varianter. 200-250 ml. • Sh, d: Alle varianter. 200-250 ml. • Shampoo • \n",
      "\td638dqfY h: Frigodan ISKOLD PRIS. • Broccoli • Fine , d: ISKOLD PRIS. • Broccoli • Fine ærter • M\n",
      "\t222fcqfY h: Bbq mørbrad 450 gram. JENSENS, d: 450 gram. JENSENS\n",
      "\t280auqfY h: Kartoffelmos 4 breve. á 125 gram. QUEEN, d: 4 breve. á 125 gram. QUEEN\n",
      "\t ?NOT_REAL_OFFER?\n",
      "\t ?NOT_REAL_OFFER?\n",
      "\t ?NOT_REAL_OFFER?\n",
      "\t ?NOT_REAL_OFFER?\n",
      "\t ?NOT_REAL_OFFER?\n",
      "\t ?NOT_REAL_OFFER?\n",
      "\tdb3fNqfY h: Andelår JULIUS. 160-200 gram. CHOK PRIS, d: JULIUS. 160-200 gram. CHOK PRIS\n",
      "\t29c0BqfY h: stærk chili sauce, sur/sød sauce eller s, d: 200-250 ml. 100 gram\n",
      "\tb25flqfY h: Andebryst 130-150 gram. JULIUS, d: 130-150 gram. JULIUS\n",
      "\t ?NOT_REAL_OFFER?\n",
      "\t ?NOT_REAL_OFFER?\n",
      "\t ?NOT_REAL_OFFER?\n",
      "\t539csqfY h: Mou kødboller 650 gram, d: 650 gram\n",
      "\tfed3AqfY h: Påskebryg 33 cl. KYLLE - KYLLE. 3 33. + , d: 33 cl. KYLLE - KYLLE. 3 33. + PANT. Sælg\n",
      "\t ?NOT_REAL_OFFER?\n",
      "\t ?NOT_REAL_OFFER?\n",
      "\t ?NOT_REAL_OFFER?\n",
      "\t ?NOT_REAL_OFFER?\n",
      "\t ?NOT_REAL_OFFER?\n",
      "\t ?NOT_REAL_OFFER?\n",
      "\t ?NOT_REAL_OFFER?\n",
      "\t ?NOT_REAL_OFFER?\n",
      "\t ?NOT_REAL_OFFER?\n",
      "\t ?NOT_REAL_OFFER?\n",
      "\t ?NOT_REAL_OFFER?\n",
      "\t ?NOT_REAL_OFFER?\n",
      "\t ?NOT_REAL_OFFER?\n",
      "\t ?NOT_REAL_OFFER?\n",
      "\t ?NOT_REAL_OFFER?\n",
      "\t ?NOT_REAL_OFFER?\n",
      "\t ?NOT_REAL_OFFER?\n",
      "\t ?NOT_REAL_OFFER?\n",
      "\t ?NOT_REAL_OFFER?\n",
      "\t ?NOT_REAL_OFFER?\n",
      "\t00b64qfY h: avokado, squash, forårsløg eller radiser, d: Bundt\n",
      "\t ?NOT_REAL_OFFER?\n",
      "\t ?NOT_REAL_OFFER?\n",
      "\t ?NOT_REAL_OFFER?\n",
      "\t ?NOT_REAL_OFFER?\n",
      "\t ?NOT_REAL_OFFER?\n",
      "\t ?NOT_REAL_OFFER?\n",
      "\t ?NOT_REAL_OFFER?\n",
      "\t ?NOT_REAL_OFFER?\n",
      "\t ?NOT_REAL_OFFER?\n",
      "\t ?NOT_REAL_OFFER?\n",
      "\t ?NOT_REAL_OFFER?\n",
      "\t ?NOT_REAL_OFFER?\n",
      "\t ?NOT_REAL_OFFER?\n",
      "\t ?NOT_REAL_OFFER?\n",
      "\t ?NOT_REAL_OFFER?\n",
      "\t ?NOT_REAL_OFFER?\n",
      "\t ?NOT_REAL_OFFER?\n",
      "\t ?NOT_REAL_OFFER?\n",
      "\t ?NOT_REAL_OFFER?\n",
      "\t ?NOT_REAL_OFFER?\n",
      "\t ?NOT_REAL_OFFER?\n",
      "\t ?NOT_REAL_OFFER?\n",
      "\t ?NOT_REAL_OFFER?\n",
      "\t ?NOT_REAL_OFFER?\n",
      "\t ?NOT_REAL_OFFER?\n",
      "\t ?NOT_REAL_OFFER?\n",
      "\t ?NOT_REAL_OFFER?\n",
      "\t ?NOT_REAL_OFFER?\n",
      "\t ?NOT_REAL_OFFER?\n",
      "\t ?NOT_REAL_OFFER?\n",
      "\t067bTqfY h: Knorr • Orientalsk risret • Indisk risre, d: • Orientalsk risret • Indisk risret • Ch\n",
      "\t257as0fY h: Lays chips, bugles eller doritos Sour Cr, d: Sour Cream & Onion - BBQ - Salt - • - Or\n",
      "\t ?NOT_REAL_OFFER?\n",
      "\t ?NOT_REAL_OFFER?\n",
      "\t ?NOT_REAL_OFFER?\n",
      "\t ?NOT_REAL_OFFER?\n",
      "\t ?NOT_REAL_OFFER?\n",
      "\t ?NOT_REAL_OFFER?\n",
      "\t ?NOT_REAL_OFFER?\n",
      "\t ?NOT_REAL_OFFER?\n",
      "\t ?NOT_REAL_OFFER?\n",
      "\t ?NOT_REAL_OFFER?\n",
      "\t1864JqfY h: Santa maria nudler 250 gram. VILDT BILLI, d: 250 gram. VILDT BILLIGT\n",
      "\t ?NOT_REAL_OFFER?\n",
      "\t ?NOT_REAL_OFFER?\n",
      "\t ?NOT_REAL_OFFER?\n",
      "\t183cY0fY h: Marabou chokoladebars 35-46 gram. • Fran, d: 35-46 gram. • Fransk Nougat • Marabou Or\n",
      "\t ?NOT_REAL_OFFER?\n",
      "\t ?NOT_REAL_OFFER?\n",
      "\t ?NOT_REAL_OFFER?\n",
      "\t ?NOT_REAL_OFFER?\n",
      "\t ?NOT_REAL_OFFER?\n",
      "\t ?NOT_REAL_OFFER?\n",
      "\te2835qfY h: Asparges FRISKE. 250 gram, d: FRISKE. 250 gram\n",
      "\t ?NOT_REAL_OFFER?\n",
      "\t ?NOT_REAL_OFFER?\n",
      "\t ?NOT_REAL_OFFER?\n",
      "\t ?NOT_REAL_OFFER?\n",
      "\t ?NOT_REAL_OFFER?\n",
      "\t ?NOT_REAL_OFFER?\n",
      "\t ?NOT_REAL_OFFER?\n",
      "\t ?NOT_REAL_OFFER?\n",
      "\t ?NOT_REAL_OFFER?\n",
      "\t ?NOT_REAL_OFFER?\n",
      "\t ?NOT_REAL_OFFER?\n",
      "\t ?NOT_REAL_OFFER?\n",
      "------------------------\n",
      "------------------------\n",
      "\t ?NOT_REAL_OFFER?\n",
      "\ta3ddnqfY h: Schulstad • Skovmand - Original - Ekstra, d: • Skovmand - Original - Ekstra grov. - M\n",
      "\t11bbPqfY h: Blomme tomater 500 gram, d: 500 gram\n",
      "------------------------\n",
      "\t ?NOT_REAL_OFFER?\n",
      "\t ?NOT_REAL_OFFER?\n",
      "\ta259L0fY h: Sild i spand 800/400-700 gram. • Mariner, d: 800/400-700 gram. • Marinerede hele file\n",
      "\t ?NOT_REAL_OFFER?\n",
      "\t97f9K0fY h: Kylling I ovnklar stegepose 1500 gram. H, d: I ovnklar stegepose 1500 gram. HEL DANSK\n",
      "\tce94wqfY h: Ice cap rejer 125 gram, d: 125 gram\n",
      "\t3531u0fY h: Bio-tex • Flydende vask. - Color - White, d: • Flydende vask. - Color - White - Black\n",
      "\t ?NOT_REAL_OFFER?\n",
      "\t3cf8qqfY h: Oreo eller prince chokoladekiks 154-240 , d: 154-240 gram. Flere varianter\n",
      "------------------------\n",
      "\t4815F0fY h: Sodavand 150 cl. Flere varianter. + PANT, d: 150 cl. Flere varianter. + PANT. 3. • Ni\n",
      "\te545VqfY h: Viennetta is 650 ml. ISKOLD PRIS, d: 650 ml. ISKOLD PRIS\n",
      "\t ?NOT_REAL_OFFER?\n",
      "------------------------\n",
      "\t7c1eeqfY h: Kokosmælk 17-19%. 400 ml, d: 17-19%. 400 ml\n",
      "------------------------\n",
      "\t6429tqfY h: Nordjyder 500. • Frankfurter • Røde knæk, d: 500. • Frankfurter • Røde knækpølser • G\n",
      "\t ?NOT_REAL_OFFER?\n",
      "\t4daaRqfY h: 3-stjernet • Kødpølse • Røget medister •, d: • Kødpølse • Røget medister • Jægerpølse\n",
      "\t ?NOT_REAL_OFFER?\n",
      "\t59cchqfY h: Flødehavarti 300 gram. VILDT BILLIGT, d: 300 gram. VILDT BILLIGT\n",
      "\td8f9oqfY h: Margarine •. 500 gram. BINE. BILLIGST PÅ, d: •. 500 gram. BINE. BILLIGST PÅ HELE INDK\n",
      "\t0cbffqfY h: Pålækker 80-90 gram. - Classic - Tomat. , d: 80-90 gram. - Classic - Tomat. VILDT BIL\n",
      "\t5b2ag0fY h: Amanda luksusrogn Pr, d: Pr\n",
      "\tf1a9z0fY h: Bki kaffe 500 gram. • Classic Gold • ABC, d: 500 gram. • Classic Gold • ABC - hele bø\n",
      "\tdb9dGqfY h: God morgen juice Appelsin/blodgrape Appe, d: Appelsin/blodgrape Appelsin. LITER. FIND\n",
      "\t11aaxqfY h: Kyllingeburger I alt 1000 gram. Af kylli, d: I alt 1000 gram. Af kyllingebrystfilet\n",
      "\t44a2IqfY h: Tulip •. 300-350 gram. • Baconpostej • K, d: •. 300-350 gram. • Baconpostej • Krydder\n",
      "\tef59YqfY h: Corny müslibars 6 stk. • Nuts, d: 6 stk. • Nuts\n",
      "\ta4c88qfY h: Hatting fransk hotdog  gigant burgerboll, d: 4-6 stk. •\n",
      "\t5cb900fY h: Skinkestege 700-800 gram. • Orientalsk •, d: 700-800 gram. • Orientalsk • Mexico\n",
      "\te4e12qfY h: Frigodan • Bønnemix • Grønt m/karry • Gr, d: • Bønnemix • Grønt m/karry • Grønt m/tom\n",
      "\t18cdFqfY h: Hønskød i tern 400 gram. Kogt og klar ti, d: 400 gram. Kogt og klar til brug i f.eks.\n",
      "\t3672p0fY h: Duyvis nødder Flere varianter 175-225 gr, d: Flere varianter 175-225 gram\n",
      "\t4809E0fY h: Haribo POSE. DET ER BILLIGT. 100-135 gra, d: POSE. DET ER BILLIGT. 100-135 gram. • Sl\n",
      "\t283c80fY h: Nescafé gold STORT GLAS. • Instant kaffe, d: STORT GLAS. • Instant kaffe - Original -\n",
      "\t6d6e0qfY h: Carletti 73,5 gram. • Lys • Mørk. PÅLÆGS, d: 73,5 gram. • Lys • Mørk. PÅLÆGSCHOKOLADE\n",
      "\ta367w0fY h: Libresse Flere varianter. • Trusseindlæg, d: Flere varianter. • Trusseindlæg • Bind\n",
      "\tc941A0fY h: Weekend menu tilberedt Komplet MENU af d, d: tilberedt Komplet MENU af de menu TIL ti\n",
      "\t3030ZqfY h: Mou luksus suppe 1000 gram. Mange varian, d: 1000 gram. Mange varianter\n",
      "\tb84a9qfY h: bambusskud eller vandkastanjer 227 gram, d: 227 gram\n",
      "\t9381iqfY h: Tortilla chips SANTA MARIA. 185 gram. • , d: SANTA MARIA. 185 gram. • Salted • Cheese\n",
      "\t708e7qfY h: Cultura drik 500 ml. • Blåbær • Jordbær, d: 500 ml. • Blåbær • Jordbær\n",
      "\taeberqfY h: Yoggi yoghurt 1000 gram. . Flere variant, d: 1000 gram. . Flere varianter\n",
      "\tf4f4MqfY h: Tulip PAKKE. 200 gram. MIDDAGS- FRIKADEL, d: PAKKE. 200 gram. MIDDAGS- FRIKADELLER\n",
      "\te4b8a0fY h: L'oréal triple active creme Flere varian, d: Flere varianter. 50 ml\n",
      "\ta5caD0fY h: Jægerkoteletter Ca. 400 gram. Marinerede, d: Ca. 400 gram. Marinerede koteletter med \n",
      "\t070eU0fY h: Ribena • Original • Light. 850 ml, d: • Original • Light. 850 ml\n",
      "\t2502x0fY h: Leeuwenkuil TA' • Chenin Blanc • Shiraz , d: TA' • Chenin Blanc • Shiraz • Lion's Lai\n",
      "\tb3acOqfY h: Xl lagret ost Ca. 1400 gram, d: Ca. 1400 gram\n",
      "\t0be3HqfY h: Spegepølser 3-STJERNET. 200-230 gram. Fl, d: 3-STJERNET. 200-230 gram. Flere variante\n",
      "\tb8a3DqfY h: Sukkervafler BELGISKE. 550 gram, d: BELGISKE. 550 gram\n",
      "\t08cfm0fY h: Danpo hakket kylling 450 gram, d: 450 gram\n",
      "\tfb3cQ0fY h: Libero bleer • Comfort • UP&GO. 38-68 st, d: • Comfort • UP&GO. 38-68 stk. • •. 400. \n",
      "\t50b5vqfY h: Hvidløgsbaguettes PR. 525 gram, d: PR. 525 gram\n",
      "\tac74V0fY h: Hårspray ELNETT. • Extra kraftig • Stron, d: ELNETT. • Extra kraftig • Strong hold. 4\n",
      "------------------------\n",
      "\t28d5kqfY h: Babymajs 400 gram, d: 400 gram\n",
      "\t907ajqfY h: Æbler 2 kg. pink lady. vildt billigt, d: 2 kg. pink lady. vildt billigt\n",
      "\ta6a7Z0fY h: Diamond hill 3 LITER. • Chardonnay • Shi, d: 3 LITER. • Chardonnay • Shiraz • Shiraz/\n",
      "\t0d81d0fY h: Rexona deodoranter Flere varianter. 50-1, d: Flere varianter. 50-150 ml. • Spray • Ro\n",
      "\t3956N0fY h: Harpic wc-rens Flere varianter 750 ml. K, d: Flere varianter 750 ml. KÆMPE PARTI\n",
      "\tb553q0fY h: Helt kalkunbryst Ca. 800 gram, d: Ca. 800 gram\n",
      "\t0ef3QqfY h: Kyllingelår KUN 11,66 KR. PR. KG DET ER , d: KUN 11,66 KR. PR. KG DET ER BILLIGT. HEL\n",
      "\t5dbdl0fY h: Axe deodoranter Flere varianter. 150 ml., d: Flere varianter. 150 ml. • Spray\n",
      "\t7d7a10fY h: Nakkefilet DANSK. 1/2 KG. Skæres til nak, d: DANSK. 1/2 KG. Skæres til nakkekotelette\n",
      "\td4f0v0fY h: Zendium FRIT VALG. • Tandpasta • Tandbør, d: FRIT VALG. • Tandpasta • Tandbørster • M\n",
      "\t46df6qfY h: kalanchoe eller potteroser, d: \n",
      "\t0ba1i0fY h: Bamseline skyllemiddel Flere varianter 1, d: Flere varianter 1000 ml.\n",
      "\ta3abpqfY h: Steff houlberg • Brændende kærlighed • F, d: • Brændende kærlighed • Forloren hare • \n",
      "\tbd0fXqfY h: Riberhus 200 gram. I SKIVER. • Mellemlag, d: 200 gram. I SKIVER. • Mellemlagret\n",
      "\tb7fcb0fY h: Harpic Wc-blåt, d: \n",
      "\t0a4eEqfY h: Havregryn Ved køb af mere end 6 poser, e, d: Ved køb af mere end 6 poser, er prisen h\n",
      "\t029aT0fY h: Abena affaldsposer PR. SAM-PAK. 3 x, d: PR. SAM-PAK. 3 x\n",
      "\tab38CqfY h: BKI KAFFE  • Extra. 400 gram. Ved køb af, d: • Extra. 400 gram. Ved køb af mere end 1\n",
      "\t22edWqfY h: Flensted kartoffelgratin med fløde 500 g, d: med fløde 500 gram.\n",
      "\t431baqfY h: Toast 200-290 gram. • Pariser toast • Co, d: 200-290 gram. • Pariser toast • Cowboy t\n",
      "\t799dzqfY h: Frisk dansk mælk PR. LITER. Max. 24 time, d: PR. LITER. Max. 24 timer fra gård til bu\n",
      "\t ?NOT_REAL_OFFER?\n",
      "\tc90d30fY h: Steaks Ca. 1000 gram. AF UNGKVÆG. Små fi, d: Ca. 1000 gram. AF UNGKVÆG. Små fine hver\n",
      "\tfc78C0fY h: Hakket kalv- & flæsk . 8-12% Ca. 500 gra, d: . 8-12% Ca. 500 gram. SLAGTER NORLYK ER \n",
      "\t88a5UqfY h: Knækbrød LEKSANDS. Flere varianter 200 g, d: LEKSANDS. Flere varianter 200 gram\n"
     ]
    }
   ],
   "source": [
    "# show predicted\n",
    "# if the model is not permutation invariant, it will predict sth else\n",
    "# for every random permutation of the source catalog\n",
    "show_predicted_catalog(\n",
    "    catalog_id='0003leq',\n",
    "    a_model=model_deepsets,\n",
    "    catalogs_dataframe=df_catalogs,\n",
    "    offers_dataframe=df)"
   ]
  },
  {
   "cell_type": "markdown",
   "metadata": {},
   "source": [
    "## Model SetTransformer"
   ]
  },
  {
   "cell_type": "code",
   "execution_count": 132,
   "metadata": {},
   "outputs": [],
   "source": [
    "from procat_models import SetTransformer, SetTransformerPointerCatalogNetwork"
   ]
  },
  {
   "cell_type": "code",
   "execution_count": 133,
   "metadata": {},
   "outputs": [
    {
     "data": {
      "text/plain": [
       "SetTransformerPointerCatalogNetwork(\n",
       "  (word_embedding): Embedding(26169, 32)\n",
       "  (offer_embedding): PointerOfferEmbedder(\n",
       "    (offer_rnn): GRU(32, 64, num_layers=2, batch_first=True, dropout=0.05)\n",
       "  )\n",
       "  (set_embedding): SetTransformer(\n",
       "    (emb): Sequential(\n",
       "      (0): SAB(\n",
       "        (mab): MAB(\n",
       "          (fc_q): Linear(in_features=64, out_features=64, bias=True)\n",
       "          (fc_k): Linear(in_features=64, out_features=64, bias=True)\n",
       "          (fc_v): Linear(in_features=64, out_features=64, bias=True)\n",
       "          (fc_o): Linear(in_features=64, out_features=64, bias=True)\n",
       "        )\n",
       "      )\n",
       "      (1): SAB(\n",
       "        (mab): MAB(\n",
       "          (fc_q): Linear(in_features=64, out_features=64, bias=True)\n",
       "          (fc_k): Linear(in_features=64, out_features=64, bias=True)\n",
       "          (fc_v): Linear(in_features=64, out_features=64, bias=True)\n",
       "          (fc_o): Linear(in_features=64, out_features=64, bias=True)\n",
       "        )\n",
       "      )\n",
       "    )\n",
       "    (enc): Sequential(\n",
       "      (0): PMA(\n",
       "        (mab): MAB(\n",
       "          (fc_q): Linear(in_features=64, out_features=64, bias=True)\n",
       "          (fc_k): Linear(in_features=64, out_features=64, bias=True)\n",
       "          (fc_v): Linear(in_features=64, out_features=64, bias=True)\n",
       "          (fc_o): Linear(in_features=64, out_features=64, bias=True)\n",
       "        )\n",
       "      )\n",
       "      (1): SAB(\n",
       "        (mab): MAB(\n",
       "          (fc_q): Linear(in_features=64, out_features=64, bias=True)\n",
       "          (fc_k): Linear(in_features=64, out_features=64, bias=True)\n",
       "          (fc_v): Linear(in_features=64, out_features=64, bias=True)\n",
       "          (fc_o): Linear(in_features=64, out_features=64, bias=True)\n",
       "        )\n",
       "      )\n",
       "      (2): SAB(\n",
       "        (mab): MAB(\n",
       "          (fc_q): Linear(in_features=64, out_features=64, bias=True)\n",
       "          (fc_k): Linear(in_features=64, out_features=64, bias=True)\n",
       "          (fc_v): Linear(in_features=64, out_features=64, bias=True)\n",
       "          (fc_o): Linear(in_features=64, out_features=64, bias=True)\n",
       "        )\n",
       "      )\n",
       "      (3): Linear(in_features=64, out_features=64, bias=True)\n",
       "    )\n",
       "  )\n",
       "  (encoder): PointerEncoder(\n",
       "    (lstm): LSTM(128, 32, num_layers=2, batch_first=True, dropout=0.05, bidirectional=True)\n",
       "  )\n",
       "  (decoder): PointerDecoder(\n",
       "    (input_to_hidden): Linear(in_features=128, out_features=256, bias=True)\n",
       "    (hidden_to_hidden): Linear(in_features=64, out_features=256, bias=True)\n",
       "    (hidden_out): Linear(in_features=128, out_features=64, bias=True)\n",
       "    (att): PointerAttention(\n",
       "      (input_linear): Linear(in_features=64, out_features=64, bias=True)\n",
       "      (context_linear): Conv1d(64, 64, kernel_size=(1,), stride=(1,))\n",
       "      (soft): Softmax(dim=1)\n",
       "    )\n",
       "  )\n",
       ")"
      ]
     },
     "execution_count": 133,
     "metadata": {},
     "output_type": "execute_result"
    }
   ],
   "source": [
    "# instantiate the model\n",
    "model_settrans = SetTransformerPointerCatalogNetwork(\n",
    "    word_embedding_dim=config['ptr_word_emb_dim'],\n",
    "    offer_embedding_dim=config['ptr_offer_emb_dim'],\n",
    "    hidden_dim=config['ptr_hid_dim'],\n",
    "    offer_rnn_layers=config['ptr_offer_rnn_layers'],\n",
    "    catalog_rnn_layers=config['ptr_catalog_rnn_layers'],\n",
    "    dropout_offers=config['ptr_dropout_offers'],\n",
    "    dropout_catalogs=config['ptr_dropout_catalogs'],\n",
    "    bidir_offers=config['ptr_bidir_offers'],  # not handled 2021 04\n",
    "    bidir_catalogs=config['ptr_bidir_catalogs'],\n",
    "    masking=config['ptr_mask'],\n",
    "    vocab_size=len(word2idx),\n",
    ")\n",
    "\n",
    "model_settrans.float()"
   ]
  },
  {
   "cell_type": "code",
   "execution_count": 134,
   "metadata": {},
   "outputs": [
    {
     "name": "stdout",
     "output_type": "stream",
     "text": [
      "The model has 1,101,472 trainable parameters\n"
     ]
    }
   ],
   "source": [
    "# how many params\n",
    "count_params(model_settrans)"
   ]
  },
  {
   "cell_type": "code",
   "execution_count": 135,
   "metadata": {},
   "outputs": [],
   "source": [
    "# 2-elem batch\n",
    "batch_x = X_train_torch[:2]"
   ]
  },
  {
   "cell_type": "code",
   "execution_count": 136,
   "metadata": {},
   "outputs": [
    {
     "name": "stdout",
     "output_type": "stream",
     "text": [
      "torch.Size([2, 200, 200]) torch.Size([2, 200])\n"
     ]
    }
   ],
   "source": [
    "# predict\n",
    "_ = model_settrans(batch_x)\n",
    "print(_[0].size(), _[1].size())"
   ]
  },
  {
   "cell_type": "code",
   "execution_count": 137,
   "metadata": {},
   "outputs": [
    {
     "name": "stdout",
     "output_type": "stream",
     "text": [
      "torch.LongTensor\n"
     ]
    }
   ],
   "source": [
    "print(_[1].type())"
   ]
  },
  {
   "cell_type": "code",
   "execution_count": 138,
   "metadata": {},
   "outputs": [],
   "source": [
    "# loss\n",
    "CCE = torch.nn.CrossEntropyLoss()"
   ]
  },
  {
   "cell_type": "code",
   "execution_count": 139,
   "metadata": {},
   "outputs": [],
   "source": [
    "# optimizer\n",
    "optimizer_settrans = optim.Adam(\n",
    "    filter(lambda p: p.requires_grad, model_settrans.parameters()),\n",
    "    lr=config['learning_rate'])"
   ]
  },
  {
   "cell_type": "markdown",
   "metadata": {},
   "source": [
    "### Model Training | Set Transformer"
   ]
  },
  {
   "cell_type": "raw",
   "metadata": {},
   "source": [
    "# test untrained model\n",
    "results_settrans, _ = test_model_custom(model_settrans, test_dataloader, compare_solved_sort_unique, print_every=999999, x_name=0, y_name=1)\n",
    "print('Result: {:.4f}'.format(results_settrans))"
   ]
  },
  {
   "cell_type": "raw",
   "metadata": {},
   "source": [
    "# show rank correlations only with mask on\n",
    "print('K-Tau: {:.4f}, % valid: {}'.format(*get_batch_rank_correlation_and_perc_valid(test_dataloader, model_settrans, get_single_kendall_tau, print_every=999999)))\n",
    "print('S-Rho: {:.4f}, % valid: {}'.format(*get_batch_rank_correlation_and_perc_valid(test_dataloader, model_settrans, get_single_spearman_rho, print_every=999999)))"
   ]
  },
  {
   "cell_type": "code",
   "execution_count": 140,
   "metadata": {},
   "outputs": [
    {
     "name": "stderr",
     "output_type": "stream",
     "text": [
      "Epoch 1 / 1: 100%|██████████| 1/1 [00:17<00:00, 17.37s/ batches, avg_loss=5.29873]\n"
     ]
    }
   ],
   "source": [
    "# train\n",
    "last_loss_settrans = train_epochs(\n",
    "    model_settrans,\n",
    "    optimizer_settrans,\n",
    "    CCE,\n",
    "    train_dataloader,\n",
    "    config['num_epochs'],\n",
    "    allow_gpu=True,\n",
    "    x_name=0,\n",
    "    y_name=1)"
   ]
  },
  {
   "cell_type": "code",
   "execution_count": 141,
   "metadata": {},
   "outputs": [
    {
     "data": {
      "text/plain": [
       "5.298732757568359"
      ]
     },
     "execution_count": 141,
     "metadata": {},
     "output_type": "execute_result"
    }
   ],
   "source": [
    "last_loss_settrans.item()"
   ]
  },
  {
   "cell_type": "markdown",
   "metadata": {},
   "source": [
    "### Model Testing | Set Transformer\n",
    "Put the model in eval() mode first (prevents dropout and such from predicting sth else from the same permuted x)."
   ]
  },
  {
   "cell_type": "code",
   "execution_count": 142,
   "metadata": {},
   "outputs": [
    {
     "data": {
      "text/plain": [
       "SetTransformerPointerCatalogNetwork(\n",
       "  (word_embedding): Embedding(26169, 32)\n",
       "  (offer_embedding): PointerOfferEmbedder(\n",
       "    (offer_rnn): GRU(32, 64, num_layers=2, batch_first=True, dropout=0.05)\n",
       "  )\n",
       "  (set_embedding): SetTransformer(\n",
       "    (emb): Sequential(\n",
       "      (0): SAB(\n",
       "        (mab): MAB(\n",
       "          (fc_q): Linear(in_features=64, out_features=64, bias=True)\n",
       "          (fc_k): Linear(in_features=64, out_features=64, bias=True)\n",
       "          (fc_v): Linear(in_features=64, out_features=64, bias=True)\n",
       "          (fc_o): Linear(in_features=64, out_features=64, bias=True)\n",
       "        )\n",
       "      )\n",
       "      (1): SAB(\n",
       "        (mab): MAB(\n",
       "          (fc_q): Linear(in_features=64, out_features=64, bias=True)\n",
       "          (fc_k): Linear(in_features=64, out_features=64, bias=True)\n",
       "          (fc_v): Linear(in_features=64, out_features=64, bias=True)\n",
       "          (fc_o): Linear(in_features=64, out_features=64, bias=True)\n",
       "        )\n",
       "      )\n",
       "    )\n",
       "    (enc): Sequential(\n",
       "      (0): PMA(\n",
       "        (mab): MAB(\n",
       "          (fc_q): Linear(in_features=64, out_features=64, bias=True)\n",
       "          (fc_k): Linear(in_features=64, out_features=64, bias=True)\n",
       "          (fc_v): Linear(in_features=64, out_features=64, bias=True)\n",
       "          (fc_o): Linear(in_features=64, out_features=64, bias=True)\n",
       "        )\n",
       "      )\n",
       "      (1): SAB(\n",
       "        (mab): MAB(\n",
       "          (fc_q): Linear(in_features=64, out_features=64, bias=True)\n",
       "          (fc_k): Linear(in_features=64, out_features=64, bias=True)\n",
       "          (fc_v): Linear(in_features=64, out_features=64, bias=True)\n",
       "          (fc_o): Linear(in_features=64, out_features=64, bias=True)\n",
       "        )\n",
       "      )\n",
       "      (2): SAB(\n",
       "        (mab): MAB(\n",
       "          (fc_q): Linear(in_features=64, out_features=64, bias=True)\n",
       "          (fc_k): Linear(in_features=64, out_features=64, bias=True)\n",
       "          (fc_v): Linear(in_features=64, out_features=64, bias=True)\n",
       "          (fc_o): Linear(in_features=64, out_features=64, bias=True)\n",
       "        )\n",
       "      )\n",
       "      (3): Linear(in_features=64, out_features=64, bias=True)\n",
       "    )\n",
       "  )\n",
       "  (encoder): PointerEncoder(\n",
       "    (lstm): LSTM(128, 32, num_layers=2, batch_first=True, dropout=0.05, bidirectional=True)\n",
       "  )\n",
       "  (decoder): PointerDecoder(\n",
       "    (input_to_hidden): Linear(in_features=128, out_features=256, bias=True)\n",
       "    (hidden_to_hidden): Linear(in_features=64, out_features=256, bias=True)\n",
       "    (hidden_out): Linear(in_features=128, out_features=64, bias=True)\n",
       "    (att): PointerAttention(\n",
       "      (input_linear): Linear(in_features=64, out_features=64, bias=True)\n",
       "      (context_linear): Conv1d(64, 64, kernel_size=(1,), stride=(1,))\n",
       "      (soft): Softmax(dim=1)\n",
       "    )\n",
       "  )\n",
       ")"
      ]
     },
     "execution_count": 142,
     "metadata": {},
     "output_type": "execute_result"
    }
   ],
   "source": [
    "model_settrans.eval()  # if we had dropout or batchnorm, we must do this"
   ]
  },
  {
   "cell_type": "raw",
   "metadata": {},
   "source": [
    "# actual metrics\n",
    "results_settrans, _ = test_model_custom(model_settrans, test_dataloader, compare_solved_sort_unique, print_every=999999, x_name=0, y_name=1)\n",
    "print('Result: {:.4f}'.format(results_deepsets))"
   ]
  },
  {
   "cell_type": "raw",
   "metadata": {},
   "source": [
    "# show rank correlations only with mask on\n",
    "print('K-Tau: {:.4f}, % valid: {}'.format(*get_batch_rank_correlation_and_perc_valid(test_dataloader, model_settrans, get_single_kendall_tau, print_every=999999)))\n",
    "print('S-Rho: {:.4f}, % valid: {}'.format(*get_batch_rank_correlation_and_perc_valid(test_dataloader, model_settrans, get_single_spearman_rho, print_every=999999)))"
   ]
  },
  {
   "cell_type": "markdown",
   "metadata": {},
   "source": [
    "#### Sacred Experiment | Model Set Transformer\n",
    "We'll want to track the dataset, model params and the result of tests."
   ]
  },
  {
   "cell_type": "code",
   "execution_count": 143,
   "metadata": {},
   "outputs": [
    {
     "name": "stderr",
     "output_type": "stream",
     "text": [
      "INFO - real_catalogs_PROCAT_mini_mask_True - Running command 'run_model_tests'\n",
      "INFO - real_catalogs_PROCAT_mini_mask_True - Started run with ID \"349\"\n"
     ]
    },
    {
     "name": "stdout",
     "output_type": "stream",
     "text": [
      "Model:  <class 'procat_models.SetTransformerPointerCatalogNetwork'>\n",
      "Result: 0.0054\n",
      "K-Tau: -0.1089, perc_valid: 100.0\n"
     ]
    },
    {
     "name": "stderr",
     "output_type": "stream",
     "text": [
      "INFO - real_catalogs_PROCAT_mini_mask_True - Result: 0.00542\n",
      "INFO - real_catalogs_PROCAT_mini_mask_True - Completed after 0:00:05\n"
     ]
    },
    {
     "name": "stdout",
     "output_type": "stream",
     "text": [
      "S-Rho: -0.1646, perc_valid: 100.0\n"
     ]
    }
   ],
   "source": [
    "# experiment config\n",
    "current_tested_model = model_settrans\n",
    "current_optimizer = optimizer_settrans\n",
    "current_last_loss = last_loss_settrans\n",
    "\n",
    "config_update = {\n",
    "    'model': current_tested_model.__class__.__name__,\n",
    "    'final_training_loss': round(current_last_loss.item(), 10),\n",
    "    'optimizer': current_optimizer.__class__.__name__,\n",
    "    'cfg': config,\n",
    "}\n",
    "\n",
    "# run the experiment, with updated config\n",
    "run_info = ex.run(config_updates=config_update)"
   ]
  },
  {
   "cell_type": "markdown",
   "metadata": {},
   "source": [
    "#### Show predictions\n",
    "See what it predicts."
   ]
  },
  {
   "cell_type": "markdown",
   "metadata": {},
   "source": [
    "##### Specific catalog prediction, with offer text features"
   ]
  },
  {
   "cell_type": "code",
   "execution_count": 144,
   "metadata": {},
   "outputs": [],
   "source": [
    "# choose a catalog\n",
    "chosen_catalog_id = '0003leq'"
   ]
  },
  {
   "cell_type": "raw",
   "metadata": {},
   "source": [
    "# show correct\n",
    "show_correct_catalog(\n",
    "    catalog_id=chosen_catalog_id,\n",
    "    catalogs_dataframe=df_catalogs,\n",
    "    offers_dataframe=df)"
   ]
  },
  {
   "cell_type": "markdown",
   "metadata": {},
   "source": [
    "Use premade function to nicely display a single prediction.\n",
    "\n",
    "**Models that do not properly ensure permutation invariance will give different prediction on each run** regardless of being put in .eval() mode."
   ]
  },
  {
   "cell_type": "code",
   "execution_count": 145,
   "metadata": {},
   "outputs": [
    {
     "name": "stdout",
     "output_type": "stream",
     "text": [
      "\t ?NOT_REAL_OFFER?\n",
      "\t ?NOT_REAL_OFFER?\n",
      "\t ?NOT_REAL_OFFER?\n",
      "\ta367w0fY h: Libresse Flere varianter. • Trusseindlæg, d: Flere varianter. • Trusseindlæg • Bind\n",
      "------------------------\n",
      "\t ?NOT_REAL_OFFER?\n",
      "\t ?NOT_REAL_OFFER?\n",
      "\t ?NOT_REAL_OFFER?\n",
      "\tce94wqfY h: Ice cap rejer 125 gram, d: 125 gram\n",
      "\t ?NOT_REAL_OFFER?\n",
      "\t ?NOT_REAL_OFFER?\n",
      "\tc90d30fY h: Steaks Ca. 1000 gram. AF UNGKVÆG. Små fi, d: Ca. 1000 gram. AF UNGKVÆG. Små fine hver\n",
      "\t ?NOT_REAL_OFFER?\n",
      "\t ?NOT_REAL_OFFER?\n",
      "\ta3ddnqfY h: Schulstad • Skovmand - Original - Ekstra, d: • Skovmand - Original - Ekstra grov. - M\n",
      "\t ?NOT_REAL_OFFER?\n",
      "\t ?NOT_REAL_OFFER?\n",
      "\t08cfm0fY h: Danpo hakket kylling 450 gram, d: 450 gram\n",
      "\t ?NOT_REAL_OFFER?\n",
      "\t ?NOT_REAL_OFFER?\n",
      "\t ?NOT_REAL_OFFER?\n",
      "------------------------\n",
      "------------------------\n",
      "\t ?NOT_REAL_OFFER?\n",
      "\t ?NOT_REAL_OFFER?\n",
      "\t ?NOT_REAL_OFFER?\n",
      "\t0cbffqfY h: Pålækker 80-90 gram. - Classic - Tomat. , d: 80-90 gram. - Classic - Tomat. VILDT BIL\n",
      "\t ?NOT_REAL_OFFER?\n",
      "\t ?NOT_REAL_OFFER?\n",
      "\t ?NOT_REAL_OFFER?\n",
      "------------------------\n",
      "\t ?NOT_REAL_OFFER?\n",
      "\t ?NOT_REAL_OFFER?\n",
      "\t ?NOT_REAL_OFFER?\n",
      "\t ?NOT_REAL_OFFER?\n",
      "\t ?NOT_REAL_OFFER?\n",
      "\t ?NOT_REAL_OFFER?\n",
      "\tf4f4MqfY h: Tulip PAKKE. 200 gram. MIDDAGS- FRIKADEL, d: PAKKE. 200 gram. MIDDAGS- FRIKADELLER\n",
      "\tc941A0fY h: Weekend menu tilberedt Komplet MENU af d, d: tilberedt Komplet MENU af de menu TIL ti\n",
      "\t ?NOT_REAL_OFFER?\n",
      "\t ?NOT_REAL_OFFER?\n",
      "\t ?NOT_REAL_OFFER?\n",
      "\t ?NOT_REAL_OFFER?\n",
      "\t ?NOT_REAL_OFFER?\n",
      "\t ?NOT_REAL_OFFER?\n",
      "------------------------\n",
      "\t00b64qfY h: avokado, squash, forårsløg eller radiser, d: Bundt\n",
      "\t ?NOT_REAL_OFFER?\n",
      "\t0a4eEqfY h: Havregryn Ved køb af mere end 6 poser, e, d: Ved køb af mere end 6 poser, er prisen h\n",
      "\tbd0fXqfY h: Riberhus 200 gram. I SKIVER. • Mellemlag, d: 200 gram. I SKIVER. • Mellemlagret\n",
      "\t ?NOT_REAL_OFFER?\n",
      "\t ?NOT_REAL_OFFER?\n",
      "\t ?NOT_REAL_OFFER?\n",
      "\t257as0fY h: Lays chips, bugles eller doritos Sour Cr, d: Sour Cream & Onion - BBQ - Salt - • - Or\n",
      "\tfed3AqfY h: Påskebryg 33 cl. KYLLE - KYLLE. 3 33. + , d: 33 cl. KYLLE - KYLLE. 3 33. + PANT. Sælg\n",
      "\t ?NOT_REAL_OFFER?\n",
      "\t ?NOT_REAL_OFFER?\n",
      "\t ?NOT_REAL_OFFER?\n",
      "\tfbff20fY h: Elvital Alle varianter. 200-250 ml. • Sh, d: Alle varianter. 200-250 ml. • Shampoo • \n",
      "\t ?NOT_REAL_OFFER?\n",
      "\t ?NOT_REAL_OFFER?\n",
      "\t ?NOT_REAL_OFFER?\n",
      "\t ?NOT_REAL_OFFER?\n",
      "\t ?NOT_REAL_OFFER?\n",
      "\t ?NOT_REAL_OFFER?\n",
      "\t ?NOT_REAL_OFFER?\n",
      "\t ?NOT_REAL_OFFER?\n",
      "\t36f3y0fY h: Danpo • Frikadeller • Medister. 400 gram, d: • Frikadeller • Medister. 400 gram\n",
      "\tb3acOqfY h: Xl lagret ost Ca. 1400 gram, d: Ca. 1400 gram\n",
      "\td4f0v0fY h: Zendium FRIT VALG. • Tandpasta • Tandbør, d: FRIT VALG. • Tandpasta • Tandbørster • M\n",
      "\t ?NOT_REAL_OFFER?\n",
      "\t ?NOT_REAL_OFFER?\n",
      "\te2835qfY h: Asparges FRISKE. 250 gram, d: FRISKE. 250 gram\n",
      "\t ?NOT_REAL_OFFER?\n",
      "\t ?NOT_REAL_OFFER?\n",
      "\t ?NOT_REAL_OFFER?\n",
      "\t ?NOT_REAL_OFFER?\n",
      "\t ?NOT_REAL_OFFER?\n",
      "\t ?NOT_REAL_OFFER?\n",
      "------------------------\n",
      "\t6429tqfY h: Nordjyder 500. • Frankfurter • Røde knæk, d: 500. • Frankfurter • Røde knækpølser • G\n",
      "\t7d7a10fY h: Nakkefilet DANSK. 1/2 KG. Skæres til nak, d: DANSK. 1/2 KG. Skæres til nakkekotelette\n",
      "\tdb9dGqfY h: God morgen juice Appelsin/blodgrape Appe, d: Appelsin/blodgrape Appelsin. LITER. FIND\n",
      "\t ?NOT_REAL_OFFER?\n",
      "\t9381iqfY h: Tortilla chips SANTA MARIA. 185 gram. • , d: SANTA MARIA. 185 gram. • Salted • Cheese\n",
      "\t708e7qfY h: Cultura drik 500 ml. • Blåbær • Jordbær, d: 500 ml. • Blåbær • Jordbær\n",
      "\t ?NOT_REAL_OFFER?\n",
      "\t ?NOT_REAL_OFFER?\n",
      "\t ?NOT_REAL_OFFER?\n",
      "\t ?NOT_REAL_OFFER?\n",
      "\t11bbPqfY h: Blomme tomater 500 gram, d: 500 gram\n",
      "\t ?NOT_REAL_OFFER?\n",
      "\t ?NOT_REAL_OFFER?\n",
      "\t ?NOT_REAL_OFFER?\n",
      "\t ?NOT_REAL_OFFER?\n",
      "\t ?NOT_REAL_OFFER?\n",
      "\t ?NOT_REAL_OFFER?\n",
      "\t ?NOT_REAL_OFFER?\n",
      "\t50b5vqfY h: Hvidløgsbaguettes PR. 525 gram, d: PR. 525 gram\n",
      "\t ?NOT_REAL_OFFER?\n",
      "\t ?NOT_REAL_OFFER?\n",
      "\t ?NOT_REAL_OFFER?\n",
      "\t ?NOT_REAL_OFFER?\n",
      "\t ?NOT_REAL_OFFER?\n",
      "\t46df6qfY h: kalanchoe eller potteroser, d: \n",
      "\t539csqfY h: Mou kødboller 650 gram, d: 650 gram\n",
      "\t ?NOT_REAL_OFFER?\n",
      "\te4e12qfY h: Frigodan • Bønnemix • Grønt m/karry • Gr, d: • Bønnemix • Grønt m/karry • Grønt m/tom\n",
      "\t ?NOT_REAL_OFFER?\n",
      "\tb7fcb0fY h: Harpic Wc-blåt, d: \n",
      "\t ?NOT_REAL_OFFER?\n",
      "\t88a5UqfY h: Knækbrød LEKSANDS. Flere varianter 200 g, d: LEKSANDS. Flere varianter 200 gram\n",
      "\t ?NOT_REAL_OFFER?\n",
      "\t ?NOT_REAL_OFFER?\n",
      "\tdb3fNqfY h: Andelår JULIUS. 160-200 gram. CHOK PRIS, d: JULIUS. 160-200 gram. CHOK PRIS\n",
      "\t ?NOT_REAL_OFFER?\n",
      "\t0be3HqfY h: Spegepølser 3-STJERNET. 200-230 gram. Fl, d: 3-STJERNET. 200-230 gram. Flere variante\n",
      "\t3956N0fY h: Harpic wc-rens Flere varianter 750 ml. K, d: Flere varianter 750 ml. KÆMPE PARTI\n",
      "\t ?NOT_REAL_OFFER?\n",
      "\t5b2ag0fY h: Amanda luksusrogn Pr, d: Pr\n",
      "\t5cb900fY h: Skinkestege 700-800 gram. • Orientalsk •, d: 700-800 gram. • Orientalsk • Mexico\n",
      "------------------------\n",
      "\t ?NOT_REAL_OFFER?\n",
      "\tef59YqfY h: Corny müslibars 6 stk. • Nuts, d: 6 stk. • Nuts\n",
      "\t ?NOT_REAL_OFFER?\n",
      "\t97f9K0fY h: Kylling I ovnklar stegepose 1500 gram. H, d: I ovnklar stegepose 1500 gram. HEL DANSK\n",
      "\t067bTqfY h: Knorr • Orientalsk risret • Indisk risre, d: • Orientalsk risret • Indisk risret • Ch\n",
      "\t0ef3QqfY h: Kyllingelår KUN 11,66 KR. PR. KG DET ER , d: KUN 11,66 KR. PR. KG DET ER BILLIGT. HEL\n",
      "\t28d5kqfY h: Babymajs 400 gram, d: 400 gram\n",
      "\td638dqfY h: Frigodan ISKOLD PRIS. • Broccoli • Fine , d: ISKOLD PRIS. • Broccoli • Fine ærter • M\n",
      "\ta3abpqfY h: Steff houlberg • Brændende kærlighed • F, d: • Brændende kærlighed • Forloren hare • \n",
      "\t ?NOT_REAL_OFFER?\n",
      "\t3531u0fY h: Bio-tex • Flydende vask. - Color - White, d: • Flydende vask. - Color - White - Black\n",
      "\t18cdFqfY h: Hønskød i tern 400 gram. Kogt og klar ti, d: 400 gram. Kogt og klar til brug i f.eks.\n",
      "\t ?NOT_REAL_OFFER?\n",
      "\t0d81d0fY h: Rexona deodoranter Flere varianter. 50-1, d: Flere varianter. 50-150 ml. • Spray • Ro\n",
      "\te545VqfY h: Viennetta is 650 ml. ISKOLD PRIS, d: 650 ml. ISKOLD PRIS\n",
      "\t ?NOT_REAL_OFFER?\n",
      "\t ?NOT_REAL_OFFER?\n",
      "\t907ajqfY h: Æbler 2 kg. pink lady. vildt billigt, d: 2 kg. pink lady. vildt billigt\n",
      "\t ?NOT_REAL_OFFER?\n",
      "\t280auqfY h: Kartoffelmos 4 breve. á 125 gram. QUEEN, d: 4 breve. á 125 gram. QUEEN\n",
      "\t ?NOT_REAL_OFFER?\n",
      "\tac74V0fY h: Hårspray ELNETT. • Extra kraftig • Stron, d: ELNETT. • Extra kraftig • Strong hold. 4\n",
      "\ta259L0fY h: Sild i spand 800/400-700 gram. • Mariner, d: 800/400-700 gram. • Marinerede hele file\n",
      "\t3030ZqfY h: Mou luksus suppe 1000 gram. Mange varian, d: 1000 gram. Mange varianter\n",
      "\t ?NOT_REAL_OFFER?\n",
      "\t1864JqfY h: Santa maria nudler 250 gram. VILDT BILLI, d: 250 gram. VILDT BILLIGT\n",
      "\t ?NOT_REAL_OFFER?\n",
      "\t431baqfY h: Toast 200-290 gram. • Pariser toast • Co, d: 200-290 gram. • Pariser toast • Cowboy t\n",
      "\t ?NOT_REAL_OFFER?\n",
      "\t ?NOT_REAL_OFFER?\n",
      "\tb25flqfY h: Andebryst 130-150 gram. JULIUS, d: 130-150 gram. JULIUS\n",
      "\t ?NOT_REAL_OFFER?\n",
      "\t799dzqfY h: Frisk dansk mælk PR. LITER. Max. 24 time, d: PR. LITER. Max. 24 timer fra gård til bu\n",
      "\t3cf8qqfY h: Oreo eller prince chokoladekiks 154-240 , d: 154-240 gram. Flere varianter\n",
      "\t59cchqfY h: Flødehavarti 300 gram. VILDT BILLIGT, d: 300 gram. VILDT BILLIGT\n",
      "\t4809E0fY h: Haribo POSE. DET ER BILLIGT. 100-135 gra, d: POSE. DET ER BILLIGT. 100-135 gram. • Sl\n",
      "\tb553q0fY h: Helt kalkunbryst Ca. 800 gram, d: Ca. 800 gram\n",
      "\t2502x0fY h: Leeuwenkuil TA' • Chenin Blanc • Shiraz , d: TA' • Chenin Blanc • Shiraz • Lion's Lai\n",
      "\ta6a7Z0fY h: Diamond hill 3 LITER. • Chardonnay • Shi, d: 3 LITER. • Chardonnay • Shiraz • Shiraz/\n",
      "\t ?NOT_REAL_OFFER?\n",
      "\t44a2IqfY h: Tulip •. 300-350 gram. • Baconpostej • K, d: •. 300-350 gram. • Baconpostej • Krydder\n",
      "\t3672p0fY h: Duyvis nødder Flere varianter 175-225 gr, d: Flere varianter 175-225 gram\n",
      "\t0da4f0fY h: Primitivo di manduria • Carlo Sani. Denn, d: • Carlo Sani. Denne Primitivo har været \n",
      "\t ?NOT_REAL_OFFER?\n",
      "\ta4c88qfY h: Hatting fransk hotdog  gigant burgerboll, d: 4-6 stk. •\n",
      "\t4daaRqfY h: 3-stjernet • Kødpølse • Røget medister •, d: • Kødpølse • Røget medister • Jægerpølse\n",
      "\t7c1eeqfY h: Kokosmælk 17-19%. 400 ml, d: 17-19%. 400 ml\n",
      "\t4815F0fY h: Sodavand 150 cl. Flere varianter. + PANT, d: 150 cl. Flere varianter. + PANT. 3. • Ni\n",
      "\t222fcqfY h: Bbq mørbrad 450 gram. JENSENS, d: 450 gram. JENSENS\n",
      "\taeberqfY h: Yoggi yoghurt 1000 gram. . Flere variant, d: 1000 gram. . Flere varianter\n",
      "\t070eU0fY h: Ribena • Original • Light. 850 ml, d: • Original • Light. 850 ml\n",
      "\t22edWqfY h: Flensted kartoffelgratin med fløde 500 g, d: med fløde 500 gram.\n",
      "\tfb3cQ0fY h: Libero bleer • Comfort • UP&GO. 38-68 st, d: • Comfort • UP&GO. 38-68 stk. • •. 400. \n",
      "\t ?NOT_REAL_OFFER?\n",
      "\tb8a3DqfY h: Sukkervafler BELGISKE. 550 gram, d: BELGISKE. 550 gram\n",
      "\tf1a9z0fY h: Bki kaffe 500 gram. • Classic Gold • ABC, d: 500 gram. • Classic Gold • ABC - hele bø\n",
      "\t0ba1i0fY h: Bamseline skyllemiddel Flere varianter 1, d: Flere varianter 1000 ml.\n",
      "\te4b8a0fY h: L'oréal triple active creme Flere varian, d: Flere varianter. 50 ml\n",
      "\td8f9oqfY h: Margarine •. 500 gram. BINE. BILLIGST PÅ, d: •. 500 gram. BINE. BILLIGST PÅ HELE INDK\n",
      "\t283c80fY h: Nescafé gold STORT GLAS. • Instant kaffe, d: STORT GLAS. • Instant kaffe - Original -\n",
      "\ta5caD0fY h: Jægerkoteletter Ca. 400 gram. Marinerede, d: Ca. 400 gram. Marinerede koteletter med \n",
      "\t614ebqfY h: Hellmann's mayonnaise • I glas • I tube., d: • I glas • I tube. 225-400 gram\n",
      "\tb84a9qfY h: bambusskud eller vandkastanjer 227 gram, d: 227 gram\n",
      "\tfc78C0fY h: Hakket kalv- & flæsk . 8-12% Ca. 500 gra, d: . 8-12% Ca. 500 gram. SLAGTER NORLYK ER \n",
      "\t9937SqfY h: Salater 150-175 gram. GRAASTEN. Mange va, d: 150-175 gram. GRAASTEN. Mange varianter\n",
      "\t5dbdl0fY h: Axe deodoranter Flere varianter. 150 ml., d: Flere varianter. 150 ml. • Spray\n",
      "\t ?NOT_REAL_OFFER?\n",
      "\t6d6e0qfY h: Carletti 73,5 gram. • Lys • Mørk. PÅLÆGS, d: 73,5 gram. • Lys • Mørk. PÅLÆGSCHOKOLADE\n",
      "\t ?NOT_REAL_OFFER?\n",
      "\t ?NOT_REAL_OFFER?\n",
      "\t183cY0fY h: Marabou chokoladebars 35-46 gram. • Fran, d: 35-46 gram. • Fransk Nougat • Marabou Or\n",
      "\t ?NOT_REAL_OFFER?\n",
      "\t ?NOT_REAL_OFFER?\n",
      "\tab38CqfY h: BKI KAFFE  • Extra. 400 gram. Ved køb af, d: • Extra. 400 gram. Ved køb af mere end 1\n",
      "\t11aaxqfY h: Kyllingeburger I alt 1000 gram. Af kylli, d: I alt 1000 gram. Af kyllingebrystfilet\n",
      "\t29c0BqfY h: stærk chili sauce, sur/sød sauce eller s, d: 200-250 ml. 100 gram\n",
      "\t029aT0fY h: Abena affaldsposer PR. SAM-PAK. 3 x, d: PR. SAM-PAK. 3 x\n",
      "\t ?NOT_REAL_OFFER?\n"
     ]
    }
   ],
   "source": [
    "# show predicted\n",
    "# if the model is not permutation invariant, it will predict sth else\n",
    "# for every random permutation of the source catalog\n",
    "show_predicted_catalog(\n",
    "    catalog_id='0003leq',\n",
    "    a_model=model_settrans,\n",
    "    catalogs_dataframe=df_catalogs,\n",
    "    offers_dataframe=df)"
   ]
  },
  {
   "cell_type": "markdown",
   "metadata": {},
   "source": [
    "## Model Custom"
   ]
  },
  {
   "cell_type": "code",
   "execution_count": 146,
   "metadata": {},
   "outputs": [],
   "source": [
    "from procat_models import CustomAttentionSetLayer, CustomAttentionSetEmbedder, CustomAttentionPointerCatalogNetwork"
   ]
  },
  {
   "cell_type": "code",
   "execution_count": 147,
   "metadata": {},
   "outputs": [
    {
     "data": {
      "text/plain": [
       "CustomAttentionPointerCatalogNetwork(\n",
       "  (word_embedding): Embedding(26169, 32)\n",
       "  (offer_embedding): PointerOfferEmbedder(\n",
       "    (offer_rnn): GRU(32, 64, num_layers=2, batch_first=True, dropout=0.05)\n",
       "  )\n",
       "  (set_embedding): CustomAttentionSetEmbedder(\n",
       "    (l1): CustomAttentionSetLayer(\n",
       "      (e): Sequential(\n",
       "        (0): Linear(in_features=64, out_features=64, bias=True)\n",
       "        (1): ReLU()\n",
       "        (2): Linear(in_features=64, out_features=64, bias=True)\n",
       "        (3): ReLU()\n",
       "      )\n",
       "      (s): Sequential(\n",
       "        (0): Linear(in_features=64, out_features=64, bias=True)\n",
       "        (1): ReLU()\n",
       "        (2): Linear(in_features=64, out_features=1, bias=True)\n",
       "        (3): ReLU()\n",
       "      )\n",
       "      (a): Sequential(\n",
       "        (0): Linear(in_features=64, out_features=64, bias=True)\n",
       "        (1): ReLU()\n",
       "        (2): Linear(in_features=64, out_features=64, bias=True)\n",
       "        (3): ReLU()\n",
       "      )\n",
       "    )\n",
       "    (l2): CustomAttentionSetLayer(\n",
       "      (e): Sequential(\n",
       "        (0): Linear(in_features=64, out_features=64, bias=True)\n",
       "        (1): ReLU()\n",
       "        (2): Linear(in_features=64, out_features=64, bias=True)\n",
       "        (3): ReLU()\n",
       "      )\n",
       "      (s): Sequential(\n",
       "        (0): Linear(in_features=64, out_features=64, bias=True)\n",
       "        (1): ReLU()\n",
       "        (2): Linear(in_features=64, out_features=1, bias=True)\n",
       "        (3): ReLU()\n",
       "      )\n",
       "      (a): Sequential(\n",
       "        (0): Linear(in_features=64, out_features=64, bias=True)\n",
       "        (1): ReLU()\n",
       "        (2): Linear(in_features=64, out_features=64, bias=True)\n",
       "        (3): ReLU()\n",
       "      )\n",
       "    )\n",
       "    (l3): CustomAttentionSetLayer(\n",
       "      (e): Sequential(\n",
       "        (0): Linear(in_features=64, out_features=64, bias=True)\n",
       "        (1): ReLU()\n",
       "        (2): Linear(in_features=64, out_features=64, bias=True)\n",
       "        (3): ReLU()\n",
       "      )\n",
       "      (s): Sequential(\n",
       "        (0): Linear(in_features=64, out_features=64, bias=True)\n",
       "        (1): ReLU()\n",
       "        (2): Linear(in_features=64, out_features=1, bias=True)\n",
       "        (3): ReLU()\n",
       "      )\n",
       "      (a): Sequential(\n",
       "        (0): Linear(in_features=64, out_features=64, bias=True)\n",
       "        (1): ReLU()\n",
       "        (2): Linear(in_features=64, out_features=64, bias=True)\n",
       "        (3): ReLU()\n",
       "      )\n",
       "    )\n",
       "    (l4): CustomAttentionSetLayer(\n",
       "      (e): Sequential(\n",
       "        (0): Linear(in_features=64, out_features=64, bias=True)\n",
       "        (1): ReLU()\n",
       "        (2): Linear(in_features=64, out_features=64, bias=True)\n",
       "        (3): ReLU()\n",
       "      )\n",
       "      (s): Sequential(\n",
       "        (0): Linear(in_features=64, out_features=64, bias=True)\n",
       "        (1): ReLU()\n",
       "        (2): Linear(in_features=64, out_features=1, bias=True)\n",
       "        (3): ReLU()\n",
       "      )\n",
       "      (a): Sequential(\n",
       "        (0): Linear(in_features=64, out_features=64, bias=True)\n",
       "        (1): ReLU()\n",
       "        (2): Linear(in_features=64, out_features=64, bias=True)\n",
       "        (3): ReLU()\n",
       "      )\n",
       "    )\n",
       "  )\n",
       "  (encoder): PointerEncoder(\n",
       "    (lstm): LSTM(128, 32, num_layers=2, batch_first=True, dropout=0.05, bidirectional=True)\n",
       "  )\n",
       "  (decoder): PointerDecoder(\n",
       "    (input_to_hidden): Linear(in_features=128, out_features=256, bias=True)\n",
       "    (hidden_to_hidden): Linear(in_features=64, out_features=256, bias=True)\n",
       "    (hidden_out): Linear(in_features=128, out_features=64, bias=True)\n",
       "    (att): PointerAttention(\n",
       "      (input_linear): Linear(in_features=64, out_features=64, bias=True)\n",
       "      (context_linear): Conv1d(64, 64, kernel_size=(1,), stride=(1,))\n",
       "      (soft): Softmax(dim=1)\n",
       "    )\n",
       "  )\n",
       ")"
      ]
     },
     "execution_count": 147,
     "metadata": {},
     "output_type": "execute_result"
    }
   ],
   "source": [
    "# instantiate the model\n",
    "model_custom = CustomAttentionPointerCatalogNetwork(\n",
    "    word_embedding_dim=config['ptr_word_emb_dim'],\n",
    "    offer_embedding_dim=config['ptr_offer_emb_dim'],\n",
    "    hidden_dim=config['ptr_hid_dim'],\n",
    "    offer_rnn_layers=config['ptr_offer_rnn_layers'],\n",
    "    catalog_rnn_layers=config['ptr_catalog_rnn_layers'],\n",
    "    dropout_offers=config['ptr_dropout_offers'],\n",
    "    dropout_catalogs=config['ptr_dropout_catalogs'],\n",
    "    bidir_offers=config['ptr_bidir_offers'],  # not handled 2021 04\n",
    "    bidir_catalogs=config['ptr_bidir_catalogs'],\n",
    "    masking=config['ptr_mask'],\n",
    "    vocab_size=len(word2idx),\n",
    ")\n",
    "\n",
    "model_custom.float()"
   ]
  },
  {
   "cell_type": "code",
   "execution_count": 148,
   "metadata": {},
   "outputs": [
    {
     "name": "stdout",
     "output_type": "stream",
     "text": [
      "The model has 1,097,508 trainable parameters\n"
     ]
    }
   ],
   "source": [
    "# how many params\n",
    "count_params(model_custom)"
   ]
  },
  {
   "cell_type": "code",
   "execution_count": 149,
   "metadata": {},
   "outputs": [],
   "source": [
    "# 2-elem batch\n",
    "batch_x = X_train_torch[:2]"
   ]
  },
  {
   "cell_type": "code",
   "execution_count": 150,
   "metadata": {},
   "outputs": [
    {
     "name": "stdout",
     "output_type": "stream",
     "text": [
      "torch.Size([2, 200, 200]) torch.Size([2, 200])\n"
     ]
    }
   ],
   "source": [
    "# predict\n",
    "_ = model_custom(batch_x)\n",
    "print(_[0].size(), _[1].size())"
   ]
  },
  {
   "cell_type": "code",
   "execution_count": 151,
   "metadata": {},
   "outputs": [
    {
     "name": "stdout",
     "output_type": "stream",
     "text": [
      "torch.LongTensor\n"
     ]
    }
   ],
   "source": [
    "print(_[1].type())"
   ]
  },
  {
   "cell_type": "code",
   "execution_count": 152,
   "metadata": {},
   "outputs": [],
   "source": [
    "# loss\n",
    "CCE = torch.nn.CrossEntropyLoss()"
   ]
  },
  {
   "cell_type": "code",
   "execution_count": 153,
   "metadata": {},
   "outputs": [],
   "source": [
    "# optimizer\n",
    "optimizer_custom = optim.Adam(\n",
    "    filter(lambda p: p.requires_grad, model_custom.parameters()),\n",
    "    lr=config['learning_rate'])"
   ]
  },
  {
   "cell_type": "markdown",
   "metadata": {},
   "source": [
    "### Model Training | Custom"
   ]
  },
  {
   "cell_type": "raw",
   "metadata": {},
   "source": [
    "# test untrained model\n",
    "results, _ = test_model_custom(model_custom, test_dataloader, compare_solved_sort_unique, print_every=999999, x_name=0, y_name=1)\n",
    "print('Result: {:.4f}'.format(results))"
   ]
  },
  {
   "cell_type": "raw",
   "metadata": {},
   "source": [
    "# show rank correlations only with mask on\n",
    "print('K-Tau: {:.4f}, % valid: {}'.format(*get_batch_rank_correlation_and_perc_valid(test_dataloader, model_custom, get_single_kendall_tau, print_every=999999)))\n",
    "print('S-Rho: {:.4f}, % valid: {}'.format(*get_batch_rank_correlation_and_perc_valid(test_dataloader, model_custom, get_single_spearman_rho, print_every=999999)))"
   ]
  },
  {
   "cell_type": "code",
   "execution_count": 154,
   "metadata": {},
   "outputs": [
    {
     "name": "stderr",
     "output_type": "stream",
     "text": [
      "Epoch 1 / 1: 100%|██████████| 1/1 [00:16<00:00, 16.24s/ batches, avg_loss=5.29863]\n"
     ]
    }
   ],
   "source": [
    "# train\n",
    "last_loss_custom = train_epochs(\n",
    "    model_custom,\n",
    "    optimizer_custom,\n",
    "    CCE,\n",
    "    train_dataloader,\n",
    "    config['num_epochs'],\n",
    "    allow_gpu=True,\n",
    "    x_name=0,\n",
    "    y_name=1)"
   ]
  },
  {
   "cell_type": "code",
   "execution_count": 155,
   "metadata": {},
   "outputs": [
    {
     "data": {
      "text/plain": [
       "5.298625946044922"
      ]
     },
     "execution_count": 155,
     "metadata": {},
     "output_type": "execute_result"
    }
   ],
   "source": [
    "last_loss_custom.item()"
   ]
  },
  {
   "cell_type": "markdown",
   "metadata": {},
   "source": [
    "### Model Testing | Custom\n",
    "Put the model in eval() mode first (prevents dropout and such from predicting sth else from the same permuted x)."
   ]
  },
  {
   "cell_type": "code",
   "execution_count": 156,
   "metadata": {},
   "outputs": [
    {
     "data": {
      "text/plain": [
       "CustomAttentionPointerCatalogNetwork(\n",
       "  (word_embedding): Embedding(26169, 32)\n",
       "  (offer_embedding): PointerOfferEmbedder(\n",
       "    (offer_rnn): GRU(32, 64, num_layers=2, batch_first=True, dropout=0.05)\n",
       "  )\n",
       "  (set_embedding): CustomAttentionSetEmbedder(\n",
       "    (l1): CustomAttentionSetLayer(\n",
       "      (e): Sequential(\n",
       "        (0): Linear(in_features=64, out_features=64, bias=True)\n",
       "        (1): ReLU()\n",
       "        (2): Linear(in_features=64, out_features=64, bias=True)\n",
       "        (3): ReLU()\n",
       "      )\n",
       "      (s): Sequential(\n",
       "        (0): Linear(in_features=64, out_features=64, bias=True)\n",
       "        (1): ReLU()\n",
       "        (2): Linear(in_features=64, out_features=1, bias=True)\n",
       "        (3): ReLU()\n",
       "      )\n",
       "      (a): Sequential(\n",
       "        (0): Linear(in_features=64, out_features=64, bias=True)\n",
       "        (1): ReLU()\n",
       "        (2): Linear(in_features=64, out_features=64, bias=True)\n",
       "        (3): ReLU()\n",
       "      )\n",
       "    )\n",
       "    (l2): CustomAttentionSetLayer(\n",
       "      (e): Sequential(\n",
       "        (0): Linear(in_features=64, out_features=64, bias=True)\n",
       "        (1): ReLU()\n",
       "        (2): Linear(in_features=64, out_features=64, bias=True)\n",
       "        (3): ReLU()\n",
       "      )\n",
       "      (s): Sequential(\n",
       "        (0): Linear(in_features=64, out_features=64, bias=True)\n",
       "        (1): ReLU()\n",
       "        (2): Linear(in_features=64, out_features=1, bias=True)\n",
       "        (3): ReLU()\n",
       "      )\n",
       "      (a): Sequential(\n",
       "        (0): Linear(in_features=64, out_features=64, bias=True)\n",
       "        (1): ReLU()\n",
       "        (2): Linear(in_features=64, out_features=64, bias=True)\n",
       "        (3): ReLU()\n",
       "      )\n",
       "    )\n",
       "    (l3): CustomAttentionSetLayer(\n",
       "      (e): Sequential(\n",
       "        (0): Linear(in_features=64, out_features=64, bias=True)\n",
       "        (1): ReLU()\n",
       "        (2): Linear(in_features=64, out_features=64, bias=True)\n",
       "        (3): ReLU()\n",
       "      )\n",
       "      (s): Sequential(\n",
       "        (0): Linear(in_features=64, out_features=64, bias=True)\n",
       "        (1): ReLU()\n",
       "        (2): Linear(in_features=64, out_features=1, bias=True)\n",
       "        (3): ReLU()\n",
       "      )\n",
       "      (a): Sequential(\n",
       "        (0): Linear(in_features=64, out_features=64, bias=True)\n",
       "        (1): ReLU()\n",
       "        (2): Linear(in_features=64, out_features=64, bias=True)\n",
       "        (3): ReLU()\n",
       "      )\n",
       "    )\n",
       "    (l4): CustomAttentionSetLayer(\n",
       "      (e): Sequential(\n",
       "        (0): Linear(in_features=64, out_features=64, bias=True)\n",
       "        (1): ReLU()\n",
       "        (2): Linear(in_features=64, out_features=64, bias=True)\n",
       "        (3): ReLU()\n",
       "      )\n",
       "      (s): Sequential(\n",
       "        (0): Linear(in_features=64, out_features=64, bias=True)\n",
       "        (1): ReLU()\n",
       "        (2): Linear(in_features=64, out_features=1, bias=True)\n",
       "        (3): ReLU()\n",
       "      )\n",
       "      (a): Sequential(\n",
       "        (0): Linear(in_features=64, out_features=64, bias=True)\n",
       "        (1): ReLU()\n",
       "        (2): Linear(in_features=64, out_features=64, bias=True)\n",
       "        (3): ReLU()\n",
       "      )\n",
       "    )\n",
       "  )\n",
       "  (encoder): PointerEncoder(\n",
       "    (lstm): LSTM(128, 32, num_layers=2, batch_first=True, dropout=0.05, bidirectional=True)\n",
       "  )\n",
       "  (decoder): PointerDecoder(\n",
       "    (input_to_hidden): Linear(in_features=128, out_features=256, bias=True)\n",
       "    (hidden_to_hidden): Linear(in_features=64, out_features=256, bias=True)\n",
       "    (hidden_out): Linear(in_features=128, out_features=64, bias=True)\n",
       "    (att): PointerAttention(\n",
       "      (input_linear): Linear(in_features=64, out_features=64, bias=True)\n",
       "      (context_linear): Conv1d(64, 64, kernel_size=(1,), stride=(1,))\n",
       "      (soft): Softmax(dim=1)\n",
       "    )\n",
       "  )\n",
       ")"
      ]
     },
     "execution_count": 156,
     "metadata": {},
     "output_type": "execute_result"
    }
   ],
   "source": [
    "model_custom.eval()  # if we had dropout or batchnorm, we must do this"
   ]
  },
  {
   "cell_type": "raw",
   "metadata": {},
   "source": [
    "# actual metrics\n",
    "results, _ = test_model_custom(model_custom, test_dataloader, compare_solved_sort_unique, print_every=999999, x_name=0, y_name=1)\n",
    "print('Result: {:.4f}'.format(results))"
   ]
  },
  {
   "cell_type": "raw",
   "metadata": {},
   "source": [
    "# show rank correlations only with mask on\n",
    "print('K-Tau: {:.4f}, % valid: {}'.format(*get_batch_rank_correlation_and_perc_valid(test_dataloader, model_custom, get_single_kendall_tau, print_every=999999)))\n",
    "print('S-Rho: {:.4f}, % valid: {}'.format(*get_batch_rank_correlation_and_perc_valid(test_dataloader, model_custom, get_single_spearman_rho, print_every=999999)))"
   ]
  },
  {
   "cell_type": "markdown",
   "metadata": {},
   "source": [
    "#### Sacred Experiment | Model Custom\n",
    "We'll want to track the dataset, model params and the result of tests."
   ]
  },
  {
   "cell_type": "code",
   "execution_count": 157,
   "metadata": {},
   "outputs": [
    {
     "name": "stderr",
     "output_type": "stream",
     "text": [
      "INFO - real_catalogs_PROCAT_mini_mask_True - Running command 'run_model_tests'\n",
      "INFO - real_catalogs_PROCAT_mini_mask_True - Started run with ID \"350\"\n"
     ]
    },
    {
     "name": "stdout",
     "output_type": "stream",
     "text": [
      "Model:  <class 'procat_models.CustomAttentionPointerCatalogNetwork'>\n",
      "Result: 0.0071\n",
      "K-Tau: 0.0145, perc_valid: 100.0\n"
     ]
    },
    {
     "name": "stderr",
     "output_type": "stream",
     "text": [
      "INFO - real_catalogs_PROCAT_mini_mask_True - Result: 0.00708\n",
      "INFO - real_catalogs_PROCAT_mini_mask_True - Completed after 0:00:05\n"
     ]
    },
    {
     "name": "stdout",
     "output_type": "stream",
     "text": [
      "S-Rho: 0.0214, perc_valid: 100.0\n"
     ]
    }
   ],
   "source": [
    "# experiment config\n",
    "current_tested_model = model_custom\n",
    "current_optimizer = optimizer_custom\n",
    "current_last_loss = last_loss_custom\n",
    "\n",
    "config_update = {\n",
    "    'model': current_tested_model.__class__.__name__,\n",
    "    'final_training_loss': round(current_last_loss.item(), 10),\n",
    "    'optimizer': current_optimizer.__class__.__name__,\n",
    "    'cfg': config,\n",
    "}\n",
    "\n",
    "# run the experiment, with updated config\n",
    "run_info = ex.run(config_updates=config_update)"
   ]
  },
  {
   "cell_type": "markdown",
   "metadata": {},
   "source": [
    "#### Show predictions\n",
    "See what it predicts."
   ]
  },
  {
   "cell_type": "markdown",
   "metadata": {},
   "source": [
    "##### Specific catalog prediction, with offer text features"
   ]
  },
  {
   "cell_type": "code",
   "execution_count": 158,
   "metadata": {},
   "outputs": [],
   "source": [
    "# choose a catalog\n",
    "chosen_catalog_id = '0003leq'"
   ]
  },
  {
   "cell_type": "code",
   "execution_count": 160,
   "metadata": {},
   "outputs": [
    {
     "name": "stdout",
     "output_type": "stream",
     "text": [
      "\t2502x0fY h: Leeuwenkuil TA' • Chenin Blanc • Shiraz , d: TA' • Chenin Blanc • Shiraz • Lion's Lai\n",
      "\t070eU0fY h: Ribena • Original • Light. 850 ml, d: • Original • Light. 850 ml\n",
      "\ta6a7Z0fY h: Diamond hill 3 LITER. • Chardonnay • Shi, d: 3 LITER. • Chardonnay • Shiraz • Shiraz/\n",
      "\t183cY0fY h: Marabou chokoladebars 35-46 gram. • Fran, d: 35-46 gram. • Fransk Nougat • Marabou Or\n",
      "\t257as0fY h: Lays chips, bugles eller doritos Sour Cr, d: Sour Cream & Onion - BBQ - Salt - • - Or\n",
      "\t0da4f0fY h: Primitivo di manduria • Carlo Sani. Denn, d: • Carlo Sani. Denne Primitivo har været \n",
      "\t4809E0fY h: Haribo POSE. DET ER BILLIGT. 100-135 gra, d: POSE. DET ER BILLIGT. 100-135 gram. • Sl\n",
      "\t4815F0fY h: Sodavand 150 cl. Flere varianter. + PANT, d: 150 cl. Flere varianter. + PANT. 3. • Ni\n",
      "\tf1a9z0fY h: Bki kaffe 500 gram. • Classic Gold • ABC, d: 500 gram. • Classic Gold • ABC - hele bø\n",
      "\t3672p0fY h: Duyvis nødder Flere varianter 175-225 gr, d: Flere varianter 175-225 gram\n",
      "\t283c80fY h: Nescafé gold STORT GLAS. • Instant kaffe, d: STORT GLAS. • Instant kaffe - Original -\n",
      "------------------------\n",
      "\tb553q0fY h: Helt kalkunbryst Ca. 800 gram, d: Ca. 800 gram\n",
      "\t36f3y0fY h: Danpo • Frikadeller • Medister. 400 gram, d: • Frikadeller • Medister. 400 gram\n",
      "\t222fcqfY h: Bbq mørbrad 450 gram. JENSENS, d: 450 gram. JENSENS\n",
      "\t5cb900fY h: Skinkestege 700-800 gram. • Orientalsk •, d: 700-800 gram. • Orientalsk • Mexico\n",
      "\t7d7a10fY h: Nakkefilet DANSK. 1/2 KG. Skæres til nak, d: DANSK. 1/2 KG. Skæres til nakkekotelette\n",
      "\t97f9K0fY h: Kylling I ovnklar stegepose 1500 gram. H, d: I ovnklar stegepose 1500 gram. HEL DANSK\n",
      "\tfc78C0fY h: Hakket kalv- & flæsk . 8-12% Ca. 500 gra, d: . 8-12% Ca. 500 gram. SLAGTER NORLYK ER \n",
      "\tc90d30fY h: Steaks Ca. 1000 gram. AF UNGKVÆG. Små fi, d: Ca. 1000 gram. AF UNGKVÆG. Små fine hver\n",
      "\t5b2ag0fY h: Amanda luksusrogn Pr, d: Pr\n",
      "\tc941A0fY h: Weekend menu tilberedt Komplet MENU af d, d: tilberedt Komplet MENU af de menu TIL ti\n",
      "\ta259L0fY h: Sild i spand 800/400-700 gram. • Mariner, d: 800/400-700 gram. • Marinerede hele file\n",
      "\t6429tqfY h: Nordjyder 500. • Frankfurter • Røde knæk, d: 500. • Frankfurter • Røde knækpølser • G\n",
      "\ta5caD0fY h: Jægerkoteletter Ca. 400 gram. Marinerede, d: Ca. 400 gram. Marinerede koteletter med \n",
      "\t08cfm0fY h: Danpo hakket kylling 450 gram, d: 450 gram\n",
      "\t22edWqfY h: Flensted kartoffelgratin med fløde 500 g, d: med fløde 500 gram.\n",
      "------------------------\n",
      "\tb7fcb0fY h: Harpic Wc-blåt, d: \n",
      "\td4f0v0fY h: Zendium FRIT VALG. • Tandpasta • Tandbør, d: FRIT VALG. • Tandpasta • Tandbørster • M\n",
      "\tfb3cQ0fY h: Libero bleer • Comfort • UP&GO. 38-68 st, d: • Comfort • UP&GO. 38-68 stk. • •. 400. \n",
      "\t0ba1i0fY h: Bamseline skyllemiddel Flere varianter 1, d: Flere varianter 1000 ml.\n",
      "\ta367w0fY h: Libresse Flere varianter. • Trusseindlæg, d: Flere varianter. • Trusseindlæg • Bind\n",
      "\tac74V0fY h: Hårspray ELNETT. • Extra kraftig • Stron, d: ELNETT. • Extra kraftig • Strong hold. 4\n",
      "\t3531u0fY h: Bio-tex • Flydende vask. - Color - White, d: • Flydende vask. - Color - White - Black\n",
      "\tfbff20fY h: Elvital Alle varianter. 200-250 ml. • Sh, d: Alle varianter. 200-250 ml. • Shampoo • \n",
      "\te4b8a0fY h: L'oréal triple active creme Flere varian, d: Flere varianter. 50 ml\n",
      "\t3956N0fY h: Harpic wc-rens Flere varianter 750 ml. K, d: Flere varianter 750 ml. KÆMPE PARTI\n",
      "\t0d81d0fY h: Rexona deodoranter Flere varianter. 50-1, d: Flere varianter. 50-150 ml. • Spray • Ro\n",
      "\t029aT0fY h: Abena affaldsposer PR. SAM-PAK. 3 x, d: PR. SAM-PAK. 3 x\n",
      "\t5dbdl0fY h: Axe deodoranter Flere varianter. 150 ml., d: Flere varianter. 150 ml. • Spray\n",
      "------------------------\n",
      "\tfed3AqfY h: Påskebryg 33 cl. KYLLE - KYLLE. 3 33. + , d: 33 cl. KYLLE - KYLLE. 3 33. + PANT. Sælg\n",
      "\t799dzqfY h: Frisk dansk mælk PR. LITER. Max. 24 time, d: PR. LITER. Max. 24 timer fra gård til bu\n",
      "\tb8a3DqfY h: Sukkervafler BELGISKE. 550 gram, d: BELGISKE. 550 gram\n",
      "\ta4c88qfY h: Hatting fransk hotdog  gigant burgerboll, d: 4-6 stk. •\n",
      "\t3cf8qqfY h: Oreo eller prince chokoladekiks 154-240 , d: 154-240 gram. Flere varianter\n",
      "\t88a5UqfY h: Knækbrød LEKSANDS. Flere varianter 200 g, d: LEKSANDS. Flere varianter 200 gram\n",
      "\t6d6e0qfY h: Carletti 73,5 gram. • Lys • Mørk. PÅLÆGS, d: 73,5 gram. • Lys • Mørk. PÅLÆGSCHOKOLADE\n",
      "\tef59YqfY h: Corny müslibars 6 stk. • Nuts, d: 6 stk. • Nuts\n",
      "\tab38CqfY h: BKI KAFFE  • Extra. 400 gram. Ved køb af, d: • Extra. 400 gram. Ved køb af mere end 1\n",
      "\t0cbffqfY h: Pålækker 80-90 gram. - Classic - Tomat. , d: 80-90 gram. - Classic - Tomat. VILDT BIL\n",
      "\t0a4eEqfY h: Havregryn Ved køb af mere end 6 poser, e, d: Ved køb af mere end 6 poser, er prisen h\n",
      "------------------------\n",
      "\t0ef3QqfY h: Kyllingelår KUN 11,66 KR. PR. KG DET ER , d: KUN 11,66 KR. PR. KG DET ER BILLIGT. HEL\n",
      "\ta3abpqfY h: Steff houlberg • Brændende kærlighed • F, d: • Brændende kærlighed • Forloren hare • \n",
      "\tce94wqfY h: Ice cap rejer 125 gram, d: 125 gram\n",
      "\te545VqfY h: Viennetta is 650 ml. ISKOLD PRIS, d: 650 ml. ISKOLD PRIS\n",
      "\t11aaxqfY h: Kyllingeburger I alt 1000 gram. Af kylli, d: I alt 1000 gram. Af kyllingebrystfilet\n",
      "\te4e12qfY h: Frigodan • Bønnemix • Grønt m/karry • Gr, d: • Bønnemix • Grønt m/karry • Grønt m/tom\n",
      "\t431baqfY h: Toast 200-290 gram. • Pariser toast • Co, d: 200-290 gram. • Pariser toast • Cowboy t\n",
      "\t3030ZqfY h: Mou luksus suppe 1000 gram. Mange varian, d: 1000 gram. Mange varianter\n",
      "\tdb3fNqfY h: Andelår JULIUS. 160-200 gram. CHOK PRIS, d: JULIUS. 160-200 gram. CHOK PRIS\n",
      "\td638dqfY h: Frigodan ISKOLD PRIS. • Broccoli • Fine , d: ISKOLD PRIS. • Broccoli • Fine ærter • M\n",
      "\t539csqfY h: Mou kødboller 650 gram, d: 650 gram\n",
      "\tb25flqfY h: Andebryst 130-150 gram. JULIUS, d: 130-150 gram. JULIUS\n",
      "\t18cdFqfY h: Hønskød i tern 400 gram. Kogt og klar ti, d: 400 gram. Kogt og klar til brug i f.eks.\n",
      "\t50b5vqfY h: Hvidløgsbaguettes PR. 525 gram, d: PR. 525 gram\n",
      "------------------------\n",
      "\tdb9dGqfY h: God morgen juice Appelsin/blodgrape Appe, d: Appelsin/blodgrape Appelsin. LITER. FIND\n",
      "\t4daaRqfY h: 3-stjernet • Kødpølse • Røget medister •, d: • Kødpølse • Røget medister • Jægerpølse\n",
      "\tbd0fXqfY h: Riberhus 200 gram. I SKIVER. • Mellemlag, d: 200 gram. I SKIVER. • Mellemlagret\n",
      "\t9937SqfY h: Salater 150-175 gram. GRAASTEN. Mange va, d: 150-175 gram. GRAASTEN. Mange varianter\n",
      "\ta3ddnqfY h: Schulstad • Skovmand - Original - Ekstra, d: • Skovmand - Original - Ekstra grov. - M\n",
      "\t59cchqfY h: Flødehavarti 300 gram. VILDT BILLIGT, d: 300 gram. VILDT BILLIGT\n",
      "\td8f9oqfY h: Margarine •. 500 gram. BINE. BILLIGST PÅ, d: •. 500 gram. BINE. BILLIGST PÅ HELE INDK\n",
      "\t0be3HqfY h: Spegepølser 3-STJERNET. 200-230 gram. Fl, d: 3-STJERNET. 200-230 gram. Flere variante\n",
      "\tb3acOqfY h: Xl lagret ost Ca. 1400 gram, d: Ca. 1400 gram\n",
      "\taeberqfY h: Yoggi yoghurt 1000 gram. . Flere variant, d: 1000 gram. . Flere varianter\n",
      "\t44a2IqfY h: Tulip •. 300-350 gram. • Baconpostej • K, d: •. 300-350 gram. • Baconpostej • Krydder\n",
      "\t708e7qfY h: Cultura drik 500 ml. • Blåbær • Jordbær, d: 500 ml. • Blåbær • Jordbær\n",
      "\tf4f4MqfY h: Tulip PAKKE. 200 gram. MIDDAGS- FRIKADEL, d: PAKKE. 200 gram. MIDDAGS- FRIKADELLER\n",
      "------------------------\n",
      "\t29c0BqfY h: stærk chili sauce, sur/sød sauce eller s, d: 200-250 ml. 100 gram\n",
      "\t9381iqfY h: Tortilla chips SANTA MARIA. 185 gram. • , d: SANTA MARIA. 185 gram. • Salted • Cheese\n",
      "\t907ajqfY h: Æbler 2 kg. pink lady. vildt billigt, d: 2 kg. pink lady. vildt billigt\n",
      "\t28d5kqfY h: Babymajs 400 gram, d: 400 gram\n",
      "\t280auqfY h: Kartoffelmos 4 breve. á 125 gram. QUEEN, d: 4 breve. á 125 gram. QUEEN\n",
      "\t00b64qfY h: avokado, squash, forårsløg eller radiser, d: Bundt\n",
      "\t1864JqfY h: Santa maria nudler 250 gram. VILDT BILLI, d: 250 gram. VILDT BILLIGT\n",
      "\te2835qfY h: Asparges FRISKE. 250 gram, d: FRISKE. 250 gram\n",
      "\t7c1eeqfY h: Kokosmælk 17-19%. 400 ml, d: 17-19%. 400 ml\n",
      "\t067bTqfY h: Knorr • Orientalsk risret • Indisk risre, d: • Orientalsk risret • Indisk risret • Ch\n",
      "\t46df6qfY h: kalanchoe eller potteroser, d: \n",
      "\tb84a9qfY h: bambusskud eller vandkastanjer 227 gram, d: 227 gram\n",
      "\t614ebqfY h: Hellmann's mayonnaise • I glas • I tube., d: • I glas • I tube. 225-400 gram\n",
      "\t11bbPqfY h: Blomme tomater 500 gram, d: 500 gram\n",
      "------------------------\n",
      "\t ?NOT_REAL_OFFER?\n",
      "\t ?NOT_REAL_OFFER?\n",
      "\t ?NOT_REAL_OFFER?\n",
      "\t ?NOT_REAL_OFFER?\n",
      "\t ?NOT_REAL_OFFER?\n",
      "\t ?NOT_REAL_OFFER?\n",
      "\t ?NOT_REAL_OFFER?\n",
      "\t ?NOT_REAL_OFFER?\n",
      "\t ?NOT_REAL_OFFER?\n",
      "\t ?NOT_REAL_OFFER?\n",
      "\t ?NOT_REAL_OFFER?\n",
      "\t ?NOT_REAL_OFFER?\n",
      "\t ?NOT_REAL_OFFER?\n",
      "\t ?NOT_REAL_OFFER?\n",
      "\t ?NOT_REAL_OFFER?\n",
      "\t ?NOT_REAL_OFFER?\n",
      "\t ?NOT_REAL_OFFER?\n",
      "\t ?NOT_REAL_OFFER?\n",
      "\t ?NOT_REAL_OFFER?\n",
      "\t ?NOT_REAL_OFFER?\n",
      "\t ?NOT_REAL_OFFER?\n",
      "\t ?NOT_REAL_OFFER?\n",
      "\t ?NOT_REAL_OFFER?\n",
      "\t ?NOT_REAL_OFFER?\n",
      "\t ?NOT_REAL_OFFER?\n",
      "\t ?NOT_REAL_OFFER?\n",
      "\t ?NOT_REAL_OFFER?\n",
      "\t ?NOT_REAL_OFFER?\n",
      "\t ?NOT_REAL_OFFER?\n",
      "\t ?NOT_REAL_OFFER?\n",
      "\t ?NOT_REAL_OFFER?\n",
      "\t ?NOT_REAL_OFFER?\n",
      "\t ?NOT_REAL_OFFER?\n",
      "\t ?NOT_REAL_OFFER?\n",
      "\t ?NOT_REAL_OFFER?\n",
      "\t ?NOT_REAL_OFFER?\n",
      "\t ?NOT_REAL_OFFER?\n",
      "\t ?NOT_REAL_OFFER?\n",
      "\t ?NOT_REAL_OFFER?\n",
      "\t ?NOT_REAL_OFFER?\n",
      "\t ?NOT_REAL_OFFER?\n",
      "\t ?NOT_REAL_OFFER?\n",
      "\t ?NOT_REAL_OFFER?\n",
      "\t ?NOT_REAL_OFFER?\n",
      "\t ?NOT_REAL_OFFER?\n",
      "\t ?NOT_REAL_OFFER?\n",
      "\t ?NOT_REAL_OFFER?\n",
      "\t ?NOT_REAL_OFFER?\n",
      "\t ?NOT_REAL_OFFER?\n",
      "\t ?NOT_REAL_OFFER?\n",
      "\t ?NOT_REAL_OFFER?\n",
      "\t ?NOT_REAL_OFFER?\n",
      "\t ?NOT_REAL_OFFER?\n",
      "\t ?NOT_REAL_OFFER?\n",
      "\t ?NOT_REAL_OFFER?\n",
      "\t ?NOT_REAL_OFFER?\n",
      "\t ?NOT_REAL_OFFER?\n",
      "\t ?NOT_REAL_OFFER?\n",
      "\t ?NOT_REAL_OFFER?\n",
      "\t ?NOT_REAL_OFFER?\n",
      "\t ?NOT_REAL_OFFER?\n",
      "\t ?NOT_REAL_OFFER?\n",
      "\t ?NOT_REAL_OFFER?\n",
      "\t ?NOT_REAL_OFFER?\n",
      "\t ?NOT_REAL_OFFER?\n",
      "\t ?NOT_REAL_OFFER?\n",
      "\t ?NOT_REAL_OFFER?\n",
      "\t ?NOT_REAL_OFFER?\n",
      "\t ?NOT_REAL_OFFER?\n",
      "\t ?NOT_REAL_OFFER?\n",
      "\t ?NOT_REAL_OFFER?\n",
      "\t ?NOT_REAL_OFFER?\n",
      "\t ?NOT_REAL_OFFER?\n",
      "\t ?NOT_REAL_OFFER?\n",
      "\t ?NOT_REAL_OFFER?\n",
      "\t ?NOT_REAL_OFFER?\n",
      "\t ?NOT_REAL_OFFER?\n",
      "\t ?NOT_REAL_OFFER?\n",
      "\t ?NOT_REAL_OFFER?\n",
      "\t ?NOT_REAL_OFFER?\n",
      "\t ?NOT_REAL_OFFER?\n",
      "\t ?NOT_REAL_OFFER?\n",
      "\t ?NOT_REAL_OFFER?\n",
      "\t ?NOT_REAL_OFFER?\n",
      "\t ?NOT_REAL_OFFER?\n",
      "\t ?NOT_REAL_OFFER?\n",
      "\t ?NOT_REAL_OFFER?\n",
      "\t ?NOT_REAL_OFFER?\n",
      "\t ?NOT_REAL_OFFER?\n",
      "\t ?NOT_REAL_OFFER?\n",
      "\t ?NOT_REAL_OFFER?\n",
      "\t ?NOT_REAL_OFFER?\n",
      "\t ?NOT_REAL_OFFER?\n",
      "\t ?NOT_REAL_OFFER?\n",
      "\t ?NOT_REAL_OFFER?\n",
      "\t ?NOT_REAL_OFFER?\n",
      "\t ?NOT_REAL_OFFER?\n",
      "\t ?NOT_REAL_OFFER?\n",
      "\t ?NOT_REAL_OFFER?\n",
      "\t ?NOT_REAL_OFFER?\n",
      "\t ?NOT_REAL_OFFER?\n",
      "\t ?NOT_REAL_OFFER?\n"
     ]
    }
   ],
   "source": [
    "# show correct\n",
    "show_correct_catalog(\n",
    "    catalog_id=chosen_catalog_id,\n",
    "    catalogs_dataframe=df_catalogs,\n",
    "    offers_dataframe=df)"
   ]
  },
  {
   "cell_type": "code",
   "execution_count": 159,
   "metadata": {},
   "outputs": [
    {
     "name": "stdout",
     "output_type": "stream",
     "text": [
      "\t1864JqfY h: Santa maria nudler 250 gram. VILDT BILLI, d: 250 gram. VILDT BILLIGT\n",
      "\t ?NOT_REAL_OFFER?\n",
      "\t ?NOT_REAL_OFFER?\n",
      "\t ?NOT_REAL_OFFER?\n",
      "\t7c1eeqfY h: Kokosmælk 17-19%. 400 ml, d: 17-19%. 400 ml\n",
      "\t ?NOT_REAL_OFFER?\n",
      "\t ?NOT_REAL_OFFER?\n",
      "\t7d7a10fY h: Nakkefilet DANSK. 1/2 KG. Skæres til nak, d: DANSK. 1/2 KG. Skæres til nakkekotelette\n",
      "\t ?NOT_REAL_OFFER?\n",
      "\t ?NOT_REAL_OFFER?\n",
      "\t ?NOT_REAL_OFFER?\n",
      "\t ?NOT_REAL_OFFER?\n",
      "\tf4f4MqfY h: Tulip PAKKE. 200 gram. MIDDAGS- FRIKADEL, d: PAKKE. 200 gram. MIDDAGS- FRIKADELLER\n",
      "\tf1a9z0fY h: Bki kaffe 500 gram. • Classic Gold • ABC, d: 500 gram. • Classic Gold • ABC - hele bø\n",
      "\t ?NOT_REAL_OFFER?\n",
      "\t ?NOT_REAL_OFFER?\n",
      "\t9937SqfY h: Salater 150-175 gram. GRAASTEN. Mange va, d: 150-175 gram. GRAASTEN. Mange varianter\n",
      "\t ?NOT_REAL_OFFER?\n",
      "\t708e7qfY h: Cultura drik 500 ml. • Blåbær • Jordbær, d: 500 ml. • Blåbær • Jordbær\n",
      "\t ?NOT_REAL_OFFER?\n",
      "\tdb9dGqfY h: God morgen juice Appelsin/blodgrape Appe, d: Appelsin/blodgrape Appelsin. LITER. FIND\n",
      "\td4f0v0fY h: Zendium FRIT VALG. • Tandpasta • Tandbør, d: FRIT VALG. • Tandpasta • Tandbørster • M\n",
      "\ta5caD0fY h: Jægerkoteletter Ca. 400 gram. Marinerede, d: Ca. 400 gram. Marinerede koteletter med \n",
      "\t ?NOT_REAL_OFFER?\n",
      "\tfed3AqfY h: Påskebryg 33 cl. KYLLE - KYLLE. 3 33. + , d: 33 cl. KYLLE - KYLLE. 3 33. + PANT. Sælg\n",
      "\t ?NOT_REAL_OFFER?\n",
      "\t431baqfY h: Toast 200-290 gram. • Pariser toast • Co, d: 200-290 gram. • Pariser toast • Cowboy t\n",
      "\t ?NOT_REAL_OFFER?\n",
      "\t614ebqfY h: Hellmann's mayonnaise • I glas • I tube., d: • I glas • I tube. 225-400 gram\n",
      "\t ?NOT_REAL_OFFER?\n",
      "\t907ajqfY h: Æbler 2 kg. pink lady. vildt billigt, d: 2 kg. pink lady. vildt billigt\n",
      "\tdb3fNqfY h: Andelår JULIUS. 160-200 gram. CHOK PRIS, d: JULIUS. 160-200 gram. CHOK PRIS\n",
      "\t18cdFqfY h: Hønskød i tern 400 gram. Kogt og klar ti, d: 400 gram. Kogt og klar til brug i f.eks.\n",
      "\t ?NOT_REAL_OFFER?\n",
      "\t0ba1i0fY h: Bamseline skyllemiddel Flere varianter 1, d: Flere varianter 1000 ml.\n",
      "\t4815F0fY h: Sodavand 150 cl. Flere varianter. + PANT, d: 150 cl. Flere varianter. + PANT. 3. • Ni\n",
      "\t4daaRqfY h: 3-stjernet • Kødpølse • Røget medister •, d: • Kødpølse • Røget medister • Jægerpølse\n",
      "\tfbff20fY h: Elvital Alle varianter. 200-250 ml. • Sh, d: Alle varianter. 200-250 ml. • Shampoo • \n",
      "\t ?NOT_REAL_OFFER?\n",
      "\t08cfm0fY h: Danpo hakket kylling 450 gram, d: 450 gram\n",
      "\t2502x0fY h: Leeuwenkuil TA' • Chenin Blanc • Shiraz , d: TA' • Chenin Blanc • Shiraz • Lion's Lai\n",
      "\t0d81d0fY h: Rexona deodoranter Flere varianter. 50-1, d: Flere varianter. 50-150 ml. • Spray • Ro\n",
      "\t9381iqfY h: Tortilla chips SANTA MARIA. 185 gram. • , d: SANTA MARIA. 185 gram. • Salted • Cheese\n",
      "\t ?NOT_REAL_OFFER?\n",
      "\t ?NOT_REAL_OFFER?\n",
      "\tbd0fXqfY h: Riberhus 200 gram. I SKIVER. • Mellemlag, d: 200 gram. I SKIVER. • Mellemlagret\n",
      "\t ?NOT_REAL_OFFER?\n",
      "\ta6a7Z0fY h: Diamond hill 3 LITER. • Chardonnay • Shi, d: 3 LITER. • Chardonnay • Shiraz • Shiraz/\n",
      "\t ?NOT_REAL_OFFER?\n",
      "------------------------\n",
      "\t ?NOT_REAL_OFFER?\n",
      "\t070eU0fY h: Ribena • Original • Light. 850 ml, d: • Original • Light. 850 ml\n",
      "\t ?NOT_REAL_OFFER?\n",
      "\t ?NOT_REAL_OFFER?\n",
      "\tc941A0fY h: Weekend menu tilberedt Komplet MENU af d, d: tilberedt Komplet MENU af de menu TIL ti\n",
      "\t ?NOT_REAL_OFFER?\n",
      "\t ?NOT_REAL_OFFER?\n",
      "\t ?NOT_REAL_OFFER?\n",
      "\t ?NOT_REAL_OFFER?\n",
      "\t ?NOT_REAL_OFFER?\n",
      "\t5b2ag0fY h: Amanda luksusrogn Pr, d: Pr\n",
      "\ta259L0fY h: Sild i spand 800/400-700 gram. • Mariner, d: 800/400-700 gram. • Marinerede hele file\n",
      "\t11aaxqfY h: Kyllingeburger I alt 1000 gram. Af kylli, d: I alt 1000 gram. Af kyllingebrystfilet\n",
      "\t36f3y0fY h: Danpo • Frikadeller • Medister. 400 gram, d: • Frikadeller • Medister. 400 gram\n",
      "\t ?NOT_REAL_OFFER?\n",
      "\t ?NOT_REAL_OFFER?\n",
      "\t ?NOT_REAL_OFFER?\n",
      "\t ?NOT_REAL_OFFER?\n",
      "\t ?NOT_REAL_OFFER?\n",
      "\t ?NOT_REAL_OFFER?\n",
      "\t44a2IqfY h: Tulip •. 300-350 gram. • Baconpostej • K, d: •. 300-350 gram. • Baconpostej • Krydder\n",
      "------------------------\n",
      "\t ?NOT_REAL_OFFER?\n",
      "\ta3abpqfY h: Steff houlberg • Brændende kærlighed • F, d: • Brændende kærlighed • Forloren hare • \n",
      "\t ?NOT_REAL_OFFER?\n",
      "\tce94wqfY h: Ice cap rejer 125 gram, d: 125 gram\n",
      "\ta367w0fY h: Libresse Flere varianter. • Trusseindlæg, d: Flere varianter. • Trusseindlæg • Bind\n",
      "\t ?NOT_REAL_OFFER?\n",
      "\t3672p0fY h: Duyvis nødder Flere varianter 175-225 gr, d: Flere varianter 175-225 gram\n",
      "------------------------\n",
      "\t ?NOT_REAL_OFFER?\n",
      "\t ?NOT_REAL_OFFER?\n",
      "\t ?NOT_REAL_OFFER?\n",
      "\t ?NOT_REAL_OFFER?\n",
      "\t ?NOT_REAL_OFFER?\n",
      "\t539csqfY h: Mou kødboller 650 gram, d: 650 gram\n",
      "\t ?NOT_REAL_OFFER?\n",
      "\t ?NOT_REAL_OFFER?\n",
      "\t59cchqfY h: Flødehavarti 300 gram. VILDT BILLIGT, d: 300 gram. VILDT BILLIGT\n",
      "\t ?NOT_REAL_OFFER?\n",
      "\tb8a3DqfY h: Sukkervafler BELGISKE. 550 gram, d: BELGISKE. 550 gram\n",
      "\t ?NOT_REAL_OFFER?\n",
      "\t222fcqfY h: Bbq mørbrad 450 gram. JENSENS, d: 450 gram. JENSENS\n",
      "\taeberqfY h: Yoggi yoghurt 1000 gram. . Flere variant, d: 1000 gram. . Flere varianter\n",
      "\t ?NOT_REAL_OFFER?\n",
      "------------------------\n",
      "\t28d5kqfY h: Babymajs 400 gram, d: 400 gram\n",
      "\t ?NOT_REAL_OFFER?\n",
      "\t29c0BqfY h: stærk chili sauce, sur/sød sauce eller s, d: 200-250 ml. 100 gram\n",
      "------------------------\n",
      "\t0da4f0fY h: Primitivo di manduria • Carlo Sani. Denn, d: • Carlo Sani. Denne Primitivo har været \n",
      "\t ?NOT_REAL_OFFER?\n",
      "\t3cf8qqfY h: Oreo eller prince chokoladekiks 154-240 , d: 154-240 gram. Flere varianter\n",
      "\t ?NOT_REAL_OFFER?\n",
      "\t ?NOT_REAL_OFFER?\n",
      "\t46df6qfY h: kalanchoe eller potteroser, d: \n",
      "\tab38CqfY h: BKI KAFFE  • Extra. 400 gram. Ved køb af, d: • Extra. 400 gram. Ved køb af mere end 1\n",
      "\t ?NOT_REAL_OFFER?\n",
      "\t ?NOT_REAL_OFFER?\n",
      "\tb84a9qfY h: bambusskud eller vandkastanjer 227 gram, d: 227 gram\n",
      "\t6429tqfY h: Nordjyder 500. • Frankfurter • Røde knæk, d: 500. • Frankfurter • Røde knækpølser • G\n",
      "\t6d6e0qfY h: Carletti 73,5 gram. • Lys • Mørk. PÅLÆGS, d: 73,5 gram. • Lys • Mørk. PÅLÆGSCHOKOLADE\n",
      "\t ?NOT_REAL_OFFER?\n",
      "\t ?NOT_REAL_OFFER?\n",
      "\t ?NOT_REAL_OFFER?\n",
      "\t ?NOT_REAL_OFFER?\n",
      "\t283c80fY h: Nescafé gold STORT GLAS. • Instant kaffe, d: STORT GLAS. • Instant kaffe - Original -\n",
      "\te2835qfY h: Asparges FRISKE. 250 gram, d: FRISKE. 250 gram\n",
      "\t ?NOT_REAL_OFFER?\n",
      "\t067bTqfY h: Knorr • Orientalsk risret • Indisk risre, d: • Orientalsk risret • Indisk risret • Ch\n",
      "\t257as0fY h: Lays chips, bugles eller doritos Sour Cr, d: Sour Cream & Onion - BBQ - Salt - • - Or\n",
      "\t ?NOT_REAL_OFFER?\n",
      "\tc90d30fY h: Steaks Ca. 1000 gram. AF UNGKVÆG. Små fi, d: Ca. 1000 gram. AF UNGKVÆG. Små fine hver\n",
      "\t ?NOT_REAL_OFFER?\n",
      "\t5dbdl0fY h: Axe deodoranter Flere varianter. 150 ml., d: Flere varianter. 150 ml. • Spray\n",
      "\tb553q0fY h: Helt kalkunbryst Ca. 800 gram, d: Ca. 800 gram\n",
      "\t183cY0fY h: Marabou chokoladebars 35-46 gram. • Fran, d: 35-46 gram. • Fransk Nougat • Marabou Or\n",
      "\t ?NOT_REAL_OFFER?\n",
      "\t0be3HqfY h: Spegepølser 3-STJERNET. 200-230 gram. Fl, d: 3-STJERNET. 200-230 gram. Flere variante\n",
      "\t ?NOT_REAL_OFFER?\n",
      "\t280auqfY h: Kartoffelmos 4 breve. á 125 gram. QUEEN, d: 4 breve. á 125 gram. QUEEN\n",
      "------------------------\n",
      "\t ?NOT_REAL_OFFER?\n",
      "\t ?NOT_REAL_OFFER?\n",
      "\tb7fcb0fY h: Harpic Wc-blåt, d: \n",
      "\t0a4eEqfY h: Havregryn Ved køb af mere end 6 poser, e, d: Ved køb af mere end 6 poser, er prisen h\n",
      "\t97f9K0fY h: Kylling I ovnklar stegepose 1500 gram. H, d: I ovnklar stegepose 1500 gram. HEL DANSK\n",
      "\te4e12qfY h: Frigodan • Bønnemix • Grønt m/karry • Gr, d: • Bønnemix • Grønt m/karry • Grønt m/tom\n",
      "\t88a5UqfY h: Knækbrød LEKSANDS. Flere varianter 200 g, d: LEKSANDS. Flere varianter 200 gram\n",
      "\t ?NOT_REAL_OFFER?\n",
      "\tfb3cQ0fY h: Libero bleer • Comfort • UP&GO. 38-68 st, d: • Comfort • UP&GO. 38-68 stk. • •. 400. \n",
      "\t22edWqfY h: Flensted kartoffelgratin med fløde 500 g, d: med fløde 500 gram.\n",
      "\t ?NOT_REAL_OFFER?\n",
      "\te545VqfY h: Viennetta is 650 ml. ISKOLD PRIS, d: 650 ml. ISKOLD PRIS\n",
      "\td8f9oqfY h: Margarine •. 500 gram. BINE. BILLIGST PÅ, d: •. 500 gram. BINE. BILLIGST PÅ HELE INDK\n",
      "\tef59YqfY h: Corny müslibars 6 stk. • Nuts, d: 6 stk. • Nuts\n",
      "\t ?NOT_REAL_OFFER?\n",
      "\t ?NOT_REAL_OFFER?\n",
      "\t ?NOT_REAL_OFFER?\n",
      "\t ?NOT_REAL_OFFER?\n",
      "\t3030ZqfY h: Mou luksus suppe 1000 gram. Mange varian, d: 1000 gram. Mange varianter\n",
      "\t ?NOT_REAL_OFFER?\n",
      "\t ?NOT_REAL_OFFER?\n",
      "\t ?NOT_REAL_OFFER?\n",
      "\ta3ddnqfY h: Schulstad • Skovmand - Original - Ekstra, d: • Skovmand - Original - Ekstra grov. - M\n",
      "\t11bbPqfY h: Blomme tomater 500 gram, d: 500 gram\n",
      "\t ?NOT_REAL_OFFER?\n",
      "\t ?NOT_REAL_OFFER?\n",
      "\t ?NOT_REAL_OFFER?\n",
      "\tb25flqfY h: Andebryst 130-150 gram. JULIUS, d: 130-150 gram. JULIUS\n",
      "\t ?NOT_REAL_OFFER?\n",
      "\t029aT0fY h: Abena affaldsposer PR. SAM-PAK. 3 x, d: PR. SAM-PAK. 3 x\n",
      "\t ?NOT_REAL_OFFER?\n",
      "\t ?NOT_REAL_OFFER?\n",
      "\t ?NOT_REAL_OFFER?\n",
      "\t ?NOT_REAL_OFFER?\n",
      "\t ?NOT_REAL_OFFER?\n",
      "\t3956N0fY h: Harpic wc-rens Flere varianter 750 ml. K, d: Flere varianter 750 ml. KÆMPE PARTI\n",
      "\t5cb900fY h: Skinkestege 700-800 gram. • Orientalsk •, d: 700-800 gram. • Orientalsk • Mexico\n",
      "\t ?NOT_REAL_OFFER?\n",
      "\t ?NOT_REAL_OFFER?\n",
      "\t4809E0fY h: Haribo POSE. DET ER BILLIGT. 100-135 gra, d: POSE. DET ER BILLIGT. 100-135 gram. • Sl\n",
      "\t0cbffqfY h: Pålækker 80-90 gram. - Classic - Tomat. , d: 80-90 gram. - Classic - Tomat. VILDT BIL\n",
      "\t ?NOT_REAL_OFFER?\n",
      "\t ?NOT_REAL_OFFER?\n",
      "\t ?NOT_REAL_OFFER?\n",
      "\td638dqfY h: Frigodan ISKOLD PRIS. • Broccoli • Fine , d: ISKOLD PRIS. • Broccoli • Fine ærter • M\n",
      "\t799dzqfY h: Frisk dansk mælk PR. LITER. Max. 24 time, d: PR. LITER. Max. 24 timer fra gård til bu\n",
      "\tac74V0fY h: Hårspray ELNETT. • Extra kraftig • Stron, d: ELNETT. • Extra kraftig • Strong hold. 4\n",
      "\t ?NOT_REAL_OFFER?\n",
      "\t ?NOT_REAL_OFFER?\n",
      "\t50b5vqfY h: Hvidløgsbaguettes PR. 525 gram, d: PR. 525 gram\n",
      "\t ?NOT_REAL_OFFER?\n",
      "\t ?NOT_REAL_OFFER?\n",
      "\te4b8a0fY h: L'oréal triple active creme Flere varian, d: Flere varianter. 50 ml\n",
      "\tfc78C0fY h: Hakket kalv- & flæsk . 8-12% Ca. 500 gra, d: . 8-12% Ca. 500 gram. SLAGTER NORLYK ER \n",
      "\t3531u0fY h: Bio-tex • Flydende vask. - Color - White, d: • Flydende vask. - Color - White - Black\n",
      "\t ?NOT_REAL_OFFER?\n",
      "\t00b64qfY h: avokado, squash, forårsløg eller radiser, d: Bundt\n",
      "\ta4c88qfY h: Hatting fransk hotdog  gigant burgerboll, d: 4-6 stk. •\n",
      "\t ?NOT_REAL_OFFER?\n",
      "\t ?NOT_REAL_OFFER?\n",
      "\t ?NOT_REAL_OFFER?\n",
      "------------------------\n",
      "\t ?NOT_REAL_OFFER?\n",
      "\t ?NOT_REAL_OFFER?\n",
      "\tb3acOqfY h: Xl lagret ost Ca. 1400 gram, d: Ca. 1400 gram\n",
      "\t0ef3QqfY h: Kyllingelår KUN 11,66 KR. PR. KG DET ER , d: KUN 11,66 KR. PR. KG DET ER BILLIGT. HEL\n",
      "\t ?NOT_REAL_OFFER?\n",
      "\t ?NOT_REAL_OFFER?\n"
     ]
    }
   ],
   "source": [
    "# show predicted\n",
    "# if the model is not permutation invariant, it will predict sth else\n",
    "# for every random permutation of the source catalog\n",
    "show_predicted_catalog(\n",
    "    catalog_id='0003leq',\n",
    "    a_model=model_custom,\n",
    "    catalogs_dataframe=df_catalogs,\n",
    "    offers_dataframe=df)"
   ]
  }
 ],
 "metadata": {
  "kernelspec": {
   "display_name": "Python 3",
   "language": "python",
   "name": "python3"
  },
  "language_info": {
   "codemirror_mode": {
    "name": "ipython",
    "version": 3
   },
   "file_extension": ".py",
   "mimetype": "text/x-python",
   "name": "python",
   "nbconvert_exporter": "python",
   "pygments_lexer": "ipython3",
   "version": "3.6.5"
  }
 },
 "nbformat": 4,
 "nbformat_minor": 4
}
