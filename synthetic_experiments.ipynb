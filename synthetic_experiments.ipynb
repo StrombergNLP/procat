{
 "cells": [
  {
   "cell_type": "markdown",
   "metadata": {},
   "source": [
    "# Synthetic Experiments\n",
    "\n",
    "This aims to be an easily runnable notebook, reporting results to sacred + omniboard + mongodb, which compares a couple set2seq methods (pure PtrNet, DeepSets+ptr, SetTransformer+ptr and Custom+ptr) on the synthetic, functional task, with **more robust metrics** regarding performance on these different structural rules we put into the catalogs."
   ]
  },
  {
   "cell_type": "markdown",
   "metadata": {},
   "source": [
    "##### Imports"
   ]
  },
  {
   "cell_type": "code",
   "execution_count": 1,
   "metadata": {},
   "outputs": [],
   "source": [
    "import copy\n",
    "import json\n",
    "import numpy as np\n",
    "import os\n",
    "import pandas as pd\n",
    "import random\n",
    "import time\n",
    "\n",
    "import torch\n",
    "import torch.backends.cudnn as cudnn\n",
    "import torch.nn as nn\n",
    "import torch.nn.functional as F\n",
    "\n",
    "from torch import optim\n",
    "from torch.utils.data import TensorDataset, DataLoader\n",
    "from torch.nn import Parameter\n",
    "from torch.autograd import Variable\n",
    "\n",
    "from matplotlib import pyplot as plt\n",
    "from tqdm import tqdm\n",
    "\n",
    "# visuals\n",
    "from IPython.display import Image\n",
    "import matplotlib.pyplot as plt\n",
    "import matplotlib.image as mpimg\n",
    "from matplotlib import rcParams\n",
    "%matplotlib inline\n",
    "\n",
    "import warnings\n",
    "warnings.filterwarnings(\"ignore\", category=UserWarning)"
   ]
  },
  {
   "cell_type": "code",
   "execution_count": 2,
   "metadata": {},
   "outputs": [],
   "source": [
    "# sacred experiment tracking with omniboard\n",
    "from sacred import Experiment\n",
    "from sacred.observers import MongoObserver"
   ]
  },
  {
   "cell_type": "code",
   "execution_count": 3,
   "metadata": {},
   "outputs": [],
   "source": [
    "# custom utils\n",
    "from synthetic_functional import *\n",
    "from utils import count_params, train_epochs\n",
    "from data import test_model_custom, compare_solved_sort_unique, \\\n",
    "    get_single_kendall_tau, get_single_spearman_rho, get_batch_rank_correlation, get_batch_rank_correlation_and_perc_valid"
   ]
  },
  {
   "cell_type": "code",
   "execution_count": 4,
   "metadata": {},
   "outputs": [],
   "source": [
    "# reload if saved changes in modules\n",
    "%load_ext autoreload\n",
    "%autoreload 2"
   ]
  },
  {
   "cell_type": "code",
   "execution_count": 5,
   "metadata": {},
   "outputs": [],
   "source": [
    "# base img path\n",
    "path_visuals = os.path.join(os.getcwd(), 'img')\n",
    "\n",
    "r = os.path.join(path_visuals, 'red_offer.png')\n",
    "b = os.path.join(path_visuals, 'blue_offer.png')\n",
    "y = os.path.join(path_visuals, 'yellow_offer.png')\n",
    "g = os.path.join(path_visuals, 'green_offer.png')\n",
    "p = os.path.join(path_visuals, 'purple_offer.png')\n",
    "\n",
    "pb = os.path.join(path_visuals, 'page_break.png')\n",
    "cs = os.path.join(path_visuals, 'catalog_start.png')\n",
    "ce = os.path.join(path_visuals, 'catalog_end.png')\n",
    "\n",
    "# map human-readable catalog elem names to img paths\n",
    "img_path_map = dict(r=r, b=b, y=y, g=g, p=p,\n",
    "                    page_break=pb, catalog_start=cs, catalog_end=ce)"
   ]
  },
  {
   "cell_type": "code",
   "execution_count": 6,
   "metadata": {},
   "outputs": [],
   "source": [
    "img_path_map_ind = {1:r, 0:b, 2:y, 3:g, 4:p,\n",
    "                        6:pb, 5:cs, 7:ce}"
   ]
  },
  {
   "cell_type": "markdown",
   "metadata": {},
   "source": [
    "## Config"
   ]
  },
  {
   "cell_type": "code",
   "execution_count": 7,
   "metadata": {},
   "outputs": [],
   "source": [
    "config = dict()"
   ]
  },
  {
   "cell_type": "code",
   "execution_count": 8,
   "metadata": {},
   "outputs": [],
   "source": [
    "# sacred experiment\n",
    "config['ptr_mask'] = True\n",
    "config['task'] = 'set_to_sequence_functional_synthetic'\n",
    "config['experiment_name'] = config['task'] + '_mask_' + str(config['ptr_mask'])\n",
    "config['db_name'] = 'sacred'\n",
    "config['db_url'] = 'localhost:27017'"
   ]
  },
  {
   "cell_type": "code",
   "execution_count": 9,
   "metadata": {},
   "outputs": [],
   "source": [
    "# dataset\n",
    "config['n_catalogs'] = 50000\n",
    "config['n_mset_shuffles'] = 1\n",
    "config['train_proportion'] = 0.8\n",
    "config['n_tokens'] = 16\n",
    "config['n_offers'] = 12\n",
    "config['max_pages'] = 6\n",
    "config['min_pages'] = 3\n",
    "config['offer_distributions'] = {\n",
    "    'b': 100,\n",
    "    'r': 100,\n",
    "    'y': 100,\n",
    "    'g': 10,\n",
    "    'p': 5}\n",
    "config['word2idx'] = {'b': 0, 'r': 1, 'y': 2, 'g': 3, 'p': 4, 'catalog_start': 5, 'page_break': 6, 'catalog_end': 7}\n",
    "config['idx2word'] = {v: k for k, v in config['word2idx'].items()}\n",
    "config['dataset_path'] = os.path.join(os.getcwd(), 'data', '{}_c{}'.format(\n",
    "    config['task'],\n",
    "    config['n_catalogs']))\n",
    "config['dataset_name'] = '{}_c{}_ntok{}_noff{}'.format(\n",
    "    config['task'],\n",
    "    config['n_catalogs'],\n",
    "    config['n_tokens'],\n",
    "    config['n_offers'])\n",
    "\n",
    "# paths\n",
    "path_to_dataset_train = os.path.join(config['dataset_path'], 'train.pb')\n",
    "path_to_dataset_cv =  os.path.join(config['dataset_path'], 'cv.pb')\n",
    "path_to_dataset_test = os.path.join(config['dataset_path'], 'test.pb')"
   ]
  },
  {
   "cell_type": "code",
   "execution_count": 10,
   "metadata": {},
   "outputs": [],
   "source": [
    "# training\n",
    "config['batch_size'] = 64\n",
    "config['learning_rate'] =  0.0001\n",
    "config['num_epochs'] = 20 # needs to be much higher for full experiments"
   ]
  },
  {
   "cell_type": "code",
   "execution_count": 11,
   "metadata": {},
   "outputs": [],
   "source": [
    "# model\n",
    "config['ptr_elem_dim'] = 1\n",
    "config['ptr_emb_dim'] = 128\n",
    "config['ptr_hid_dim'] = 128\n",
    "config['ptr_lstm_lay'] = 2\n",
    "config['ptr_lstm_lay_plus_for_ptrnet_raw'] = 5\n",
    "config['ptr_dropout'] = 0.05\n",
    "config['ptr_bidir'] = True"
   ]
  },
  {
   "cell_type": "markdown",
   "metadata": {},
   "source": [
    "### Structural Rules"
   ]
  },
  {
   "cell_type": "markdown",
   "metadata": {},
   "source": [
    "#### Structural Rules Description\n",
    "\n",
    "This set of rules includes pairwise and higher-order interactions between offers. E.g. the presence of a (G)reen changes the interaction between (R) and (Y), and the presence of both (G) and (P) simultaneously changes the entire output sequence order (rules for start and end page).\n",
    "\n",
    "1. Page composition rules:\n",
    "    1. fully one of these colours,  **but never** fully (G)reen: \n",
    "        * (R)ed\n",
    "        * (Y)ellow\n",
    "        * (B)lue\n",
    "        * (P)urple\n",
    "    2. if there is **no (G) and no (P)** offer in the set:\n",
    "        * a 50/50 mix of (R) and (Y)\n",
    "    3. if there **is (G) but no (P)** in the set:\n",
    "        * a 50/50 mix of (R) and **(G)**\n",
    "2. Offers per page rules:\n",
    "   * as specified in config, usually between 1-4, or either 2 or 4 for mixed pages to allow for the proportion.\n",
    "3. Pages per catalog rules:\n",
    "   * as specified, approximate due to hard same-number-of-tokens rule\n",
    "4. Catalog start rules:\n",
    "   1. if **no (P)** offer in the set:\n",
    "       * start with full (R) page\n",
    "   2. if **(P) but no (G)** offer present:\n",
    "       * start with full (B) page\n",
    "5. Catalog end rules:\n",
    "   1. if **not (P) and not (G)** offer in the set:\n",
    "       * end with full (B) page\n",
    "   2. if **both (P) and (G)** offers are present:\n",
    "       * end with full (P) page\n",
    "6. Distributional rules:\n",
    "    * as specified in config (the proportional chance of an offer being present in the input set)"
   ]
  },
  {
   "cell_type": "code",
   "execution_count": 12,
   "metadata": {},
   "outputs": [],
   "source": [
    "# catalog-level rules\n",
    "basic_catalog_rules = [\n",
    "    {'name': 'first_page',\n",
    "     'spec': 'all_red'\n",
    "     },\n",
    "    {'name': 'last_page',\n",
    "     'spec': 'all_blue'\n",
    "     },\n",
    "    {'name': 'max_pages',\n",
    "     'spec': config['max_pages']},\n",
    "    {'name': 'min_pages',\n",
    "     'spec': config['min_pages']}\n",
    "]\n",
    "\n",
    "green_only_catalog_rules = [\n",
    "    {'name': 'first_page',\n",
    "     'spec': 'all_red'\n",
    "     },\n",
    "    {'name': 'last_page',\n",
    "     'spec': 'all_blue'\n",
    "     },\n",
    "    {'name': 'max_pages',\n",
    "     'spec': config['max_pages']},\n",
    "    {'name': 'min_pages',\n",
    "     'spec': config['min_pages']}\n",
    "]\n",
    "\n",
    "purple_only_catalog_rules = [\n",
    "    {'name': 'first_page',\n",
    "     'spec': 'all_blue'\n",
    "     },\n",
    "    {'name': 'last_page',\n",
    "     'spec': 'all_blue'\n",
    "     },\n",
    "    {'name': 'max_pages',\n",
    "     'spec': config['max_pages']},\n",
    "    {'name': 'min_pages',\n",
    "     'spec': config['min_pages']}\n",
    "]\n",
    "\n",
    "purple_and_green_catalog_rules = [\n",
    "    {'name': 'first_page',\n",
    "     'spec': 'all_red'\n",
    "     },\n",
    "    {'name': 'last_page',\n",
    "     'spec': 'all_purple'\n",
    "     },\n",
    "    {'name': 'max_pages',\n",
    "     'spec': config['max_pages']},\n",
    "    {'name': 'min_pages',\n",
    "     'spec': config['min_pages']}\n",
    "]"
   ]
  },
  {
   "cell_type": "code",
   "execution_count": 13,
   "metadata": {},
   "outputs": [],
   "source": [
    "# valid section rules\n",
    "basic_valid_sections = [\n",
    "        {'name': 'all_red',\n",
    "         'mixed': False,\n",
    "         'allowed_offer_types': ['r'],\n",
    "         'offers_per_section': [4, 3, 2, 1],\n",
    "         },\n",
    "        {'name': 'all_blue',\n",
    "         'mixed': False,\n",
    "         'allowed_offer_types': ['b'],\n",
    "         'offers_per_section': [4, 3, 2, 1]\n",
    "         },\n",
    "        {'name': 'all_yellow',\n",
    "         'mixed': False,\n",
    "         'allowed_offer_types': ['y'],\n",
    "         'offers_per_section': [4, 3, 2, 1],\n",
    "         'min_offers': 1\n",
    "         },\n",
    "        {'name': 'mix_red_yellow',\n",
    "         'mixed': True,\n",
    "         'allowed_offer_types': ['r', 'y'],\n",
    "         'offers_per_section': [4, 2],\n",
    "         'mix_ratio': [0.5, 0.5]\n",
    "         }\n",
    "    ]\n",
    "\n",
    "green_only_valid_sections = [\n",
    "        {'name': 'all_red',\n",
    "         'mixed': False,\n",
    "         'allowed_offer_types': ['r'],\n",
    "         'offers_per_section': [4, 3, 2, 1],\n",
    "         },\n",
    "        {'name': 'all_blue',\n",
    "         'mixed': False,\n",
    "         'allowed_offer_types': ['b'],\n",
    "         'offers_per_section': [4, 3, 2, 1]\n",
    "         },\n",
    "        {'name': 'all_yellow',\n",
    "         'mixed': False,\n",
    "         'allowed_offer_types': ['y'],\n",
    "         'offers_per_section': [4, 3, 2, 1],\n",
    "         'min_offers': 1\n",
    "         },\n",
    "        {'name': 'mix_green_red',\n",
    "         'mixed': True,\n",
    "         'allowed_offer_types': ['r', 'g'],\n",
    "         'offers_per_section': [4, 2],\n",
    "         'mix_ratio': [0.5, 0.5]\n",
    "         }\n",
    "    ]\n",
    "\n",
    "purple_only_valid_sections = [\n",
    "        {'name': 'all_red',\n",
    "         'mixed': False,\n",
    "         'allowed_offer_types': ['r'],\n",
    "         'offers_per_section': [4, 3, 2, 1],\n",
    "         },\n",
    "        {'name': 'all_blue',\n",
    "         'mixed': False,\n",
    "         'allowed_offer_types': ['b'],\n",
    "         'offers_per_section': [4, 3, 2, 1]\n",
    "         },\n",
    "        {'name': 'all_yellow',\n",
    "         'mixed': False,\n",
    "         'allowed_offer_types': ['y'],\n",
    "         'offers_per_section': [4, 3, 2, 1],\n",
    "         'min_offers': 1\n",
    "         },\n",
    "        {'name': 'mix_red_yellow',\n",
    "         'mixed': True,\n",
    "         'allowed_offer_types': ['r', 'y'],\n",
    "         'offers_per_section': [4, 2],\n",
    "         'mix_ratio': [0.5, 0.5]\n",
    "         },\n",
    "        {'name': 'all_purple',\n",
    "         'mixed': False,\n",
    "         'allowed_offer_types': ['p'],\n",
    "         'offers_per_section': [4, 3, 2, 1],\n",
    "         }\n",
    "    ]\n",
    "\n",
    "purple_and_green_valid_sections = [\n",
    "        {'name': 'all_red',\n",
    "         'mixed': False,\n",
    "         'allowed_offer_types': ['r'],\n",
    "         'offers_per_section': [4, 3, 2, 1],\n",
    "         },\n",
    "        {'name': 'all_blue',\n",
    "         'mixed': False,\n",
    "         'allowed_offer_types': ['b'],\n",
    "         'offers_per_section': [4, 3, 2, 1]\n",
    "         },\n",
    "        {'name': 'all_yellow',\n",
    "         'mixed': False,\n",
    "         'allowed_offer_types': ['y'],\n",
    "         'offers_per_section': [4, 3, 2, 1],\n",
    "         'min_offers': 1\n",
    "         },\n",
    "        {'name': 'mix_red_yellow',\n",
    "         'mixed': True,\n",
    "         'allowed_offer_types': ['r', 'y'],\n",
    "         'offers_per_section': [4, 2],\n",
    "         'mix_ratio': [0.5, 0.5]\n",
    "         },\n",
    "        {'name': 'all_purple',\n",
    "         'mixed': False,\n",
    "         'allowed_offer_types': ['p'],\n",
    "         'offers_per_section': [4, 3, 2, 1],\n",
    "         },\n",
    "        {'name': 'mix_green_red',\n",
    "         'mixed': True,\n",
    "         'allowed_offer_types': ['r', 'g'],\n",
    "         'offers_per_section': [4, 2],\n",
    "         'mix_ratio': [0.5, 0.5]\n",
    "         }\n",
    "    ]"
   ]
  },
  {
   "cell_type": "code",
   "execution_count": 14,
   "metadata": {},
   "outputs": [],
   "source": [
    "# full rules, jointly\n",
    "rules = {'basic':\n",
    "                 {'catalog_rules': basic_catalog_rules,\n",
    "                  'valid_sections': basic_valid_sections},\n",
    "             'green_only':\n",
    "                 {'catalog_rules': green_only_catalog_rules,\n",
    "                  'valid_sections': green_only_valid_sections},\n",
    "             'purple_only':\n",
    "                 {'catalog_rules': purple_only_catalog_rules,\n",
    "                  'valid_sections': purple_only_valid_sections},\n",
    "             'purple_and_green':\n",
    "                 {'catalog_rules': purple_and_green_catalog_rules,\n",
    "                  'valid_sections': purple_and_green_valid_sections}\n",
    "             }"
   ]
  },
  {
   "cell_type": "code",
   "execution_count": 15,
   "metadata": {},
   "outputs": [],
   "source": [
    "config['rules'] = rules"
   ]
  },
  {
   "cell_type": "code",
   "execution_count": 16,
   "metadata": {},
   "outputs": [
    {
     "data": {
      "text/plain": [
       "{'ptr_mask': True,\n",
       " 'task': 'set_to_sequence_functional_synthetic',\n",
       " 'experiment_name': 'set_to_sequence_functional_synthetic_mask_True',\n",
       " 'db_name': 'sacred',\n",
       " 'db_url': 'localhost:27017',\n",
       " 'n_catalogs': 50000,\n",
       " 'n_mset_shuffles': 1,\n",
       " 'train_proportion': 0.8,\n",
       " 'n_tokens': 16,\n",
       " 'n_offers': 12,\n",
       " 'max_pages': 6,\n",
       " 'min_pages': 3,\n",
       " 'offer_distributions': {'b': 100, 'r': 100, 'y': 100, 'g': 10, 'p': 5},\n",
       " 'word2idx': {'b': 0,\n",
       "  'r': 1,\n",
       "  'y': 2,\n",
       "  'g': 3,\n",
       "  'p': 4,\n",
       "  'catalog_start': 5,\n",
       "  'page_break': 6,\n",
       "  'catalog_end': 7},\n",
       " 'idx2word': {0: 'b',\n",
       "  1: 'r',\n",
       "  2: 'y',\n",
       "  3: 'g',\n",
       "  4: 'p',\n",
       "  5: 'catalog_start',\n",
       "  6: 'page_break',\n",
       "  7: 'catalog_end'},\n",
       " 'dataset_path': '/home/paperspace/procat/data/set_to_sequence_functional_synthetic_c50000',\n",
       " 'dataset_name': 'set_to_sequence_functional_synthetic_c50000_ntok16_noff12',\n",
       " 'batch_size': 64,\n",
       " 'learning_rate': 0.0001,\n",
       " 'num_epochs': 20,\n",
       " 'ptr_elem_dim': 1,\n",
       " 'ptr_emb_dim': 128,\n",
       " 'ptr_hid_dim': 128,\n",
       " 'ptr_lstm_lay': 2,\n",
       " 'ptr_lstm_lay_plus_for_ptrnet_raw': 5,\n",
       " 'ptr_dropout': 0.05,\n",
       " 'ptr_bidir': True,\n",
       " 'rules': {'basic': {'catalog_rules': [{'name': 'first_page',\n",
       "     'spec': 'all_red'},\n",
       "    {'name': 'last_page', 'spec': 'all_blue'},\n",
       "    {'name': 'max_pages', 'spec': 6},\n",
       "    {'name': 'min_pages', 'spec': 3}],\n",
       "   'valid_sections': [{'name': 'all_red',\n",
       "     'mixed': False,\n",
       "     'allowed_offer_types': ['r'],\n",
       "     'offers_per_section': [4, 3, 2, 1]},\n",
       "    {'name': 'all_blue',\n",
       "     'mixed': False,\n",
       "     'allowed_offer_types': ['b'],\n",
       "     'offers_per_section': [4, 3, 2, 1]},\n",
       "    {'name': 'all_yellow',\n",
       "     'mixed': False,\n",
       "     'allowed_offer_types': ['y'],\n",
       "     'offers_per_section': [4, 3, 2, 1],\n",
       "     'min_offers': 1},\n",
       "    {'name': 'mix_red_yellow',\n",
       "     'mixed': True,\n",
       "     'allowed_offer_types': ['r', 'y'],\n",
       "     'offers_per_section': [4, 2],\n",
       "     'mix_ratio': [0.5, 0.5]}]},\n",
       "  'green_only': {'catalog_rules': [{'name': 'first_page', 'spec': 'all_red'},\n",
       "    {'name': 'last_page', 'spec': 'all_blue'},\n",
       "    {'name': 'max_pages', 'spec': 6},\n",
       "    {'name': 'min_pages', 'spec': 3}],\n",
       "   'valid_sections': [{'name': 'all_red',\n",
       "     'mixed': False,\n",
       "     'allowed_offer_types': ['r'],\n",
       "     'offers_per_section': [4, 3, 2, 1]},\n",
       "    {'name': 'all_blue',\n",
       "     'mixed': False,\n",
       "     'allowed_offer_types': ['b'],\n",
       "     'offers_per_section': [4, 3, 2, 1]},\n",
       "    {'name': 'all_yellow',\n",
       "     'mixed': False,\n",
       "     'allowed_offer_types': ['y'],\n",
       "     'offers_per_section': [4, 3, 2, 1],\n",
       "     'min_offers': 1},\n",
       "    {'name': 'mix_green_red',\n",
       "     'mixed': True,\n",
       "     'allowed_offer_types': ['r', 'g'],\n",
       "     'offers_per_section': [4, 2],\n",
       "     'mix_ratio': [0.5, 0.5]}]},\n",
       "  'purple_only': {'catalog_rules': [{'name': 'first_page', 'spec': 'all_blue'},\n",
       "    {'name': 'last_page', 'spec': 'all_blue'},\n",
       "    {'name': 'max_pages', 'spec': 6},\n",
       "    {'name': 'min_pages', 'spec': 3}],\n",
       "   'valid_sections': [{'name': 'all_red',\n",
       "     'mixed': False,\n",
       "     'allowed_offer_types': ['r'],\n",
       "     'offers_per_section': [4, 3, 2, 1]},\n",
       "    {'name': 'all_blue',\n",
       "     'mixed': False,\n",
       "     'allowed_offer_types': ['b'],\n",
       "     'offers_per_section': [4, 3, 2, 1]},\n",
       "    {'name': 'all_yellow',\n",
       "     'mixed': False,\n",
       "     'allowed_offer_types': ['y'],\n",
       "     'offers_per_section': [4, 3, 2, 1],\n",
       "     'min_offers': 1},\n",
       "    {'name': 'mix_red_yellow',\n",
       "     'mixed': True,\n",
       "     'allowed_offer_types': ['r', 'y'],\n",
       "     'offers_per_section': [4, 2],\n",
       "     'mix_ratio': [0.5, 0.5]},\n",
       "    {'name': 'all_purple',\n",
       "     'mixed': False,\n",
       "     'allowed_offer_types': ['p'],\n",
       "     'offers_per_section': [4, 3, 2, 1]}]},\n",
       "  'purple_and_green': {'catalog_rules': [{'name': 'first_page',\n",
       "     'spec': 'all_red'},\n",
       "    {'name': 'last_page', 'spec': 'all_purple'},\n",
       "    {'name': 'max_pages', 'spec': 6},\n",
       "    {'name': 'min_pages', 'spec': 3}],\n",
       "   'valid_sections': [{'name': 'all_red',\n",
       "     'mixed': False,\n",
       "     'allowed_offer_types': ['r'],\n",
       "     'offers_per_section': [4, 3, 2, 1]},\n",
       "    {'name': 'all_blue',\n",
       "     'mixed': False,\n",
       "     'allowed_offer_types': ['b'],\n",
       "     'offers_per_section': [4, 3, 2, 1]},\n",
       "    {'name': 'all_yellow',\n",
       "     'mixed': False,\n",
       "     'allowed_offer_types': ['y'],\n",
       "     'offers_per_section': [4, 3, 2, 1],\n",
       "     'min_offers': 1},\n",
       "    {'name': 'mix_red_yellow',\n",
       "     'mixed': True,\n",
       "     'allowed_offer_types': ['r', 'y'],\n",
       "     'offers_per_section': [4, 2],\n",
       "     'mix_ratio': [0.5, 0.5]},\n",
       "    {'name': 'all_purple',\n",
       "     'mixed': False,\n",
       "     'allowed_offer_types': ['p'],\n",
       "     'offers_per_section': [4, 3, 2, 1]},\n",
       "    {'name': 'mix_green_red',\n",
       "     'mixed': True,\n",
       "     'allowed_offer_types': ['r', 'g'],\n",
       "     'offers_per_section': [4, 2],\n",
       "     'mix_ratio': [0.5, 0.5]}]}}}"
      ]
     },
     "execution_count": 16,
     "metadata": {},
     "output_type": "execute_result"
    }
   ],
   "source": [
    "config"
   ]
  },
  {
   "cell_type": "markdown",
   "metadata": {},
   "source": [
    "### Experiment Tracking via Sacred"
   ]
  },
  {
   "cell_type": "code",
   "execution_count": 17,
   "metadata": {},
   "outputs": [],
   "source": [
    "# initiate the experiment\n",
    "ex = Experiment(name=config['experiment_name'], interactive=True)\n",
    "\n",
    "# add an observer, storing experiment info\n",
    "ex.observers.append(MongoObserver(url=config['db_url'], db_name=config['db_name']))"
   ]
  },
  {
   "cell_type": "code",
   "execution_count": 18,
   "metadata": {},
   "outputs": [],
   "source": [
    "# experiment config\n",
    "@ex.config\n",
    "def ex_config():\n",
    "    \n",
    "    # general\n",
    "    learning_rate = config['learning_rate']\n",
    "    dataset = config['dataset_name'] \n",
    "    epochs = config['num_epochs']\n",
    "    cfg = config\n",
    "    \n",
    "    # model\n",
    "    model = None\n",
    "    final_training_loss = None\n",
    "    optimizer = None\n",
    "    \n",
    "    # db \n",
    "    db_name = config['db_name']\n",
    "    db_url = config['db_url']"
   ]
  },
  {
   "cell_type": "code",
   "execution_count": 19,
   "metadata": {},
   "outputs": [],
   "source": [
    "# experiment run function\n",
    "@ex.main\n",
    "def run_model_tests():\n",
    "\n",
    "    # run all tests, get all results\n",
    "    result_general, result_tau, result_spearman, rank_valid_perc, catalogs_testable, catalogs_corrent_n_tokens,\\\n",
    "           catalogs_num_offers_match, valid_sections_avg, \\\n",
    "           valid_sections_avg_basic, valid_sections_avg_green_only,\\\n",
    "           valid_sections_avg_purple_only, valid_sections_avg_purple_and_green, \\\n",
    "           valid_struture_avg, valid_struture_avg_basic, \\\n",
    "           valid_struture_avg_green_only, valid_struture_avg_purple_only, \\\n",
    "           valid_struture_avg_purple_and_green = run_tests(current_tested_model, test_dataloader, config)\n",
    "    \n",
    "    # log params and results\n",
    "    log_experiment_results(result_general, result_tau, result_spearman, rank_valid_perc,\n",
    "                           catalogs_testable, catalogs_corrent_n_tokens,\n",
    "                           catalogs_num_offers_match, valid_sections_avg,\n",
    "                           valid_sections_avg_basic, valid_sections_avg_green_only, \n",
    "                           valid_sections_avg_purple_only, valid_sections_avg_purple_and_green, \n",
    "                           valid_struture_avg, valid_struture_avg_basic, \n",
    "                           valid_struture_avg_green_only, valid_struture_avg_purple_only, \n",
    "                           valid_struture_avg_purple_and_green)\n",
    "    \n",
    "    return round(result_general, 5)"
   ]
  },
  {
   "cell_type": "code",
   "execution_count": 20,
   "metadata": {},
   "outputs": [],
   "source": [
    "def run_tests(a_model, a_dataloader, a_config):\n",
    "    \n",
    "    print('Model: ', a_model.__class__)\n",
    "\n",
    "    a_model.eval() \n",
    "    \n",
    "    # general accuracy\n",
    "    result_general, _ = test_model_custom(a_model, a_dataloader, compare_solved_sort_unique, print_every=999999, x_name=0, y_name=1)\n",
    "    print('Result: {:.4f}'.format(result_general))\n",
    "    \n",
    "    # functional metrics\n",
    "    catalogs_testable, catalogs_corrent_n_tokens,\\\n",
    "           catalogs_num_offers_match, valid_sections_avg, \\\n",
    "           valid_sections_avg_basic, valid_sections_avg_green_only,\\\n",
    "           valid_sections_avg_purple_only, valid_sections_avg_purple_and_green, \\\n",
    "           valid_struture_avg, valid_struture_avg_basic, \\\n",
    "           valid_struture_avg_green_only, valid_struture_avg_purple_only, \\\n",
    "           valid_struture_avg_purple_and_green = test_model_functional(a_model, a_dataloader, a_config)\n",
    "\n",
    "    \n",
    "    result_tau, rank_valid_perc = get_batch_rank_correlation_and_perc_valid(a_dataloader, a_model, get_single_kendall_tau, print_every=999999)\n",
    "    print('K-Tau: {:.4f}, perc_valid: {}'.format(result_tau, rank_valid_perc))\n",
    "\n",
    "    result_spearman, rank_valid_perc = get_batch_rank_correlation_and_perc_valid(a_dataloader, a_model, get_single_spearman_rho, print_every=999999)\n",
    "    print('S-Rho: {:.4f}, perc_valid: {}'.format(result_spearman, rank_valid_perc))\n",
    "\n",
    "    a_model.train()\n",
    "    \n",
    "    return result_general, result_tau, result_spearman, rank_valid_perc, catalogs_testable, catalogs_corrent_n_tokens,\\\n",
    "           catalogs_num_offers_match, valid_sections_avg, \\\n",
    "           valid_sections_avg_basic, valid_sections_avg_green_only,\\\n",
    "           valid_sections_avg_purple_only, valid_sections_avg_purple_and_green, \\\n",
    "           valid_struture_avg, valid_struture_avg_basic, \\\n",
    "           valid_struture_avg_green_only, valid_struture_avg_purple_only, \\\n",
    "           valid_struture_avg_purple_and_green"
   ]
  },
  {
   "cell_type": "code",
   "execution_count": 21,
   "metadata": {},
   "outputs": [],
   "source": [
    "def log_experiment_results(r_general, r_tau, r_spearman, rank_valid_perc, catalogs_testable, catalogs_corrent_n_tokens,\n",
    "                           catalogs_num_offers_match, valid_sections_avg, valid_sections_avg_basic, valid_sections_avg_green_only, \n",
    "                           valid_sections_avg_purple_only, valid_sections_avg_purple_and_green, valid_struture_avg, valid_struture_avg_basic,\n",
    "                           valid_struture_avg_green_only, valid_struture_avg_purple_only, valid_struture_avg_purple_and_green):\n",
    "    \n",
    "    # round if not none\n",
    "    if r_tau:\n",
    "        r_tau = round(r_tau, 5)\n",
    "    if r_spearman:\n",
    "        r_spearman = round(r_spearman, 5)\n",
    "    \n",
    "    # log the results\n",
    "    ex.log_scalar('test.general', r_general)\n",
    "    ex.log_scalar('test.rank_correlation_valid_perc', rank_valid_perc)\n",
    "    ex.log_scalar('test.tau', r_tau, 5)\n",
    "    ex.log_scalar('test.rho', r_spearman, 5)\n",
    "    \n",
    "    # general\n",
    "    ex.log_scalar('test.gen_c_testable', catalogs_testable)\n",
    "    ex.log_scalar('test.gen_c_corr_n_tokens', catalogs_corrent_n_tokens)\n",
    "    ex.log_scalar('test.gen_c_num_off_match', catalogs_num_offers_match)\n",
    "    \n",
    "    # sections\n",
    "    ex.log_scalar('test.sec_valid_s_avg', valid_sections_avg)\n",
    "    ex.log_scalar('test.sec_valid_basic', valid_sections_avg_basic)\n",
    "    ex.log_scalar('test.sec_valid_green', valid_sections_avg_green_only)\n",
    "    ex.log_scalar('test.sec_valid_purple', valid_sections_avg_purple_only)\n",
    "    ex.log_scalar('test.sec_valid_p_and_g', valid_sections_avg_purple_and_green)\n",
    "    \n",
    "    # structural\n",
    "    ex.log_scalar('test.struct_valid_avg', valid_struture_avg)\n",
    "    ex.log_scalar('test.struct_avg_basic', valid_struture_avg_basic)\n",
    "    ex.log_scalar('test.struct_avg_green', valid_struture_avg_green_only)\n",
    "    ex.log_scalar('test.struct_avg_purple', valid_struture_avg_purple_only)\n",
    "    ex.log_scalar('test.struct_avg_p_and_g', valid_struture_avg_purple_and_green)"
   ]
  },
  {
   "cell_type": "code",
   "execution_count": 22,
   "metadata": {},
   "outputs": [],
   "source": [
    "def test_model_functional(model, dataloader, a_config):\n",
    "    \n",
    "    # predict all catalogs from dataloader\n",
    "    predicted_catalogs_as_indices = predict_catalogs_as_indices(dataloader, model)\n",
    "    predicted_catalogs_as_raw = from_indices_to_raw(predicted_catalogs_as_indices, a_config)\n",
    "    predicted_catalogs_as_instances = instantiate_catalogs(predicted_catalogs_as_raw, a_config)\n",
    "    \n",
    "    # get structural / functional metrics\n",
    "    metrics = get_rule_metrics(predicted_catalogs_as_indices, a_config['rules'], a_config)\n",
    "    \n",
    "    # show\n",
    "    show_metrics(metrics)\n",
    "\n",
    "    # return unpacked\n",
    "    # this has to be hardcoded for now\n",
    "    \n",
    "    # general\n",
    "    catalogs_testable = metrics['valid_catalogs_%']\n",
    "    catalogs_corrent_n_tokens = metrics['correct_n_tokens_%']\n",
    "    catalogs_num_offers_match = metrics['num_offers_match_config_%']\n",
    "    \n",
    "    # sections\n",
    "    valid_sections_avg = metrics['valid_sections_%_avg']\n",
    "    valid_sections_avg_basic = metrics['valid_sections_%_per_ruleset']['basic']\n",
    "    valid_sections_avg_green_only = metrics['valid_sections_%_per_ruleset']['green_only']\n",
    "    valid_sections_avg_purple_only = metrics['valid_sections_%_per_ruleset']['purple_only']\n",
    "    valid_sections_avg_purple_and_green = metrics['valid_sections_%_per_ruleset']['purple_and_green']\n",
    "    \n",
    "    # structure\n",
    "    valid_struture_avg = metrics['valid_structure_%_total']\n",
    "    valid_struture_avg_basic = metrics['valid_structure_%_per_ruleset']['basic']\n",
    "    valid_struture_avg_green_only = metrics['valid_structure_%_per_ruleset']['green_only']\n",
    "    valid_struture_avg_purple_only = metrics['valid_structure_%_per_ruleset']['purple_only']\n",
    "    valid_struture_avg_purple_and_green = metrics['valid_structure_%_per_ruleset']['purple_and_green']\n",
    "    \n",
    "    return catalogs_testable, catalogs_corrent_n_tokens,\\\n",
    "           catalogs_num_offers_match, valid_sections_avg, \\\n",
    "           valid_sections_avg_basic, valid_sections_avg_green_only,\\\n",
    "           valid_sections_avg_purple_only, valid_sections_avg_purple_and_green, \\\n",
    "           valid_struture_avg, valid_struture_avg_basic, \\\n",
    "           valid_struture_avg_green_only, valid_struture_avg_purple_only, \\\n",
    "           valid_struture_avg_purple_and_green"
   ]
  },
  {
   "cell_type": "markdown",
   "metadata": {},
   "source": [
    "## Data\n",
    "Look into the available data and transform it to our needs."
   ]
  },
  {
   "cell_type": "markdown",
   "metadata": {},
   "source": [
    "### Data Generation\n",
    "Create catalogs following the config and specified rules (from above)."
   ]
  },
  {
   "cell_type": "code",
   "execution_count": 23,
   "metadata": {},
   "outputs": [],
   "source": [
    "# generate the raw catalogs\n",
    "catalogs_raw = generate_from_rules(rules, config, debug=False)"
   ]
  },
  {
   "cell_type": "code",
   "execution_count": 24,
   "metadata": {},
   "outputs": [],
   "source": [
    "# optionally throw out catalogs that didn't match target n tokens from config\n",
    "catalogs_raw = discard_catalogs_with_wrong_n_tokens(catalogs_raw, config)"
   ]
  },
  {
   "cell_type": "code",
   "execution_count": 25,
   "metadata": {},
   "outputs": [
    {
     "name": "stdout",
     "output_type": "stream",
     "text": [
      "Total offer counts:  {'b': 99411, 'r': 120005, 'y': 93208, 'g': 17116, 'p': 9094}\n",
      "Total offer %:  {'b': 29.34, 'r': 35.42, 'y': 27.51, 'g': 5.05, 'p': 2.68}\n",
      "Average offers per catalog: 11.21\n",
      "Standard Dev offers per catalog: 0.47\n",
      "Catalogs per num offers:  {11: 40827, 12: 7792, 13: 1381}\n",
      "Catalogs per offer type:  {'b': 49699, 'r': 49511, 'y': 47537, 'g': 15745, 'p': 8715}\n",
      "Catalogs per offer type %:  {'b': 99.4, 'r': 99.02, 'y': 95.07, 'g': 31.49, 'p': 17.43, 'p_and_g': 5.07}\n",
      "Catalogs per number of sections: {4: 1381, 5: 7792, 6: 40827}\n",
      "Catalogs per number of sections %: {4: 2.76, 5: 15.58, 6: 81.65}\n",
      "Section count by number of offers: {1: 123855, 2: 95008, 3: 35649, 4: 34934}\n",
      "Section % by number of offers: {1: 42.79, 2: 32.82, 3: 12.32, 4: 12.07}\n"
     ]
    }
   ],
   "source": [
    "# report stats\n",
    "stats = report_catalog_stats(catalogs_raw, config)"
   ]
  },
  {
   "cell_type": "code",
   "execution_count": 26,
   "metadata": {},
   "outputs": [],
   "source": [
    "# instantiate class objects\n",
    "catalogs_instantiated = instantiate_catalogs(catalogs_raw, config)"
   ]
  },
  {
   "cell_type": "code",
   "execution_count": 27,
   "metadata": {},
   "outputs": [
    {
     "name": "stdout",
     "output_type": "stream",
     "text": [
      "[5, 1, 6, 1, 2, 1, 2, 6, 0, 6, 2, 2, 6, 1, 6, 0, 0, 7]\n"
     ]
    }
   ],
   "source": [
    "# turn to indices\n",
    "catalogs_as_indices = [c.as_indices() for c in catalogs_instantiated]\n",
    "print(catalogs_as_indices[0])"
   ]
  },
  {
   "cell_type": "code",
   "execution_count": 28,
   "metadata": {},
   "outputs": [
    {
     "name": "stdout",
     "output_type": "stream",
     "text": [
      "*** METRICS ***\n",
      "                                GENERAL:\n",
      "              Total testable catalogs %:      100.0%\n",
      "       Catalogs with corrent n tokens %:      100.0%\n",
      "      Catalogs with target num offers %:      15.58%\n",
      "\n",
      "                               SECTIONS:\n",
      "                Valid section average %:      99.91%\n",
      "           Valid section per ruleset % :\n",
      "                                        basic      99.88%\n",
      "                                   green_only      100.0%\n",
      "                                  purple_only      99.84%\n",
      "                             purple_and_green      99.93%\n",
      "\n",
      "                             STRUCTURAL:\n",
      "              Valid catalog structure %:       99.9%\n",
      "            Valid catalog % per ruleset:\n",
      "                                        basic      100.0%\n",
      "                                   green_only      100.0%\n",
      "                                  purple_only      99.21%\n",
      "                             purple_and_green      100.0%\n",
      "           Valid catalog % per sub rule:\n",
      "                                        basic\n",
      "                                first_page_all_red      100.0%\n",
      "                                last_page_all_blue      100.0%\n",
      "                                       max_pages_6      100.0%\n",
      "                                       min_pages_3      100.0%\n",
      "                                   green_only\n",
      "                                first_page_all_red      100.0%\n",
      "                                last_page_all_blue      100.0%\n",
      "                                       max_pages_6      100.0%\n",
      "                                       min_pages_3      100.0%\n",
      "                                  purple_only\n",
      "                               first_page_all_blue      99.21%\n",
      "                                last_page_all_blue      99.21%\n",
      "                                       max_pages_6      100.0%\n",
      "                                       min_pages_3      100.0%\n",
      "                             purple_and_green\n",
      "                                first_page_all_red      100.0%\n",
      "                              last_page_all_purple      100.0%\n",
      "                                       max_pages_6      100.0%\n",
      "                                       min_pages_3      100.0%\n"
     ]
    }
   ],
   "source": [
    "# show metrics (we expect 100%)\n",
    "metrics = get_rule_metrics(catalogs_as_indices, rules, config)\n",
    "show_metrics(metrics)"
   ]
  },
  {
   "cell_type": "markdown",
   "metadata": {},
   "source": [
    "#### Visualize\n",
    "Show the catalog sequence graphically."
   ]
  },
  {
   "cell_type": "code",
   "execution_count": 29,
   "metadata": {},
   "outputs": [],
   "source": [
    "random_idx = random.randint(0, len(catalogs_instantiated) - 1)"
   ]
  },
  {
   "cell_type": "code",
   "execution_count": 30,
   "metadata": {},
   "outputs": [
    {
     "data": {
      "image/png": "[encoded data removed]",
      "text/plain": [
       "<Figure size 1512x144 with 18 Axes>"
      ]
     },
     "metadata": {
      "needs_background": "light"
     },
     "output_type": "display_data"
    }
   ],
   "source": [
    "show_catalog(catalogs_instantiated[random_idx].as_sequence(), img_path_map)"
   ]
  },
  {
   "cell_type": "code",
   "execution_count": 31,
   "metadata": {},
   "outputs": [
    {
     "data": {
      "image/png": "[encoded data removed]",
      "text/plain": [
       "<Figure size 1512x144 with 18 Axes>"
      ]
     },
     "metadata": {
      "needs_background": "light"
     },
     "output_type": "display_data"
    }
   ],
   "source": [
    "show_catalog(catalogs_instantiated[0].as_sequence(), img_path_map)"
   ]
  },
  {
   "cell_type": "markdown",
   "metadata": {},
   "source": [
    "### Get X and Y\n",
    "Now that we have our synthetic data, let's turn them into something our models will be able to understand."
   ]
  },
  {
   "cell_type": "code",
   "execution_count": 32,
   "metadata": {},
   "outputs": [],
   "source": [
    "# vectorize\n",
    "X, Y = get_xy(catalogs_instantiated, config['n_mset_shuffles'])"
   ]
  },
  {
   "cell_type": "code",
   "execution_count": 33,
   "metadata": {},
   "outputs": [
    {
     "data": {
      "text/plain": [
       "50000"
      ]
     },
     "execution_count": 33,
     "metadata": {},
     "output_type": "execute_result"
    }
   ],
   "source": [
    "# confirm\n",
    "len(X)"
   ]
  },
  {
   "cell_type": "code",
   "execution_count": 34,
   "metadata": {},
   "outputs": [
    {
     "name": "stdout",
     "output_type": "stream",
     "text": [
      "<class 'numpy.ndarray'>\n"
     ]
    }
   ],
   "source": [
    "print(type(X[0]))"
   ]
  },
  {
   "cell_type": "markdown",
   "metadata": {},
   "source": [
    "Show the first one or a random one."
   ]
  },
  {
   "cell_type": "code",
   "execution_count": 35,
   "metadata": {},
   "outputs": [
    {
     "data": {
      "image/png": "[encoded data removed]",
      "text/plain": [
       "<Figure size 1512x144 with 18 Axes>"
      ]
     },
     "metadata": {
      "needs_background": "light"
     },
     "output_type": "display_data"
    }
   ],
   "source": [
    "# show (same) random\n",
    "show_restored_catalog(X[random_idx], Y[random_idx], config, img_path_map)"
   ]
  },
  {
   "cell_type": "code",
   "execution_count": 36,
   "metadata": {},
   "outputs": [
    {
     "data": {
      "image/png": "[encoded data removed]",
      "text/plain": [
       "<Figure size 1512x144 with 18 Axes>"
      ]
     },
     "metadata": {
      "needs_background": "light"
     },
     "output_type": "display_data"
    }
   ],
   "source": [
    "# show first\n",
    "show_restored_catalog(X[0], Y[0], config, img_path_map)"
   ]
  },
  {
   "cell_type": "markdown",
   "metadata": {},
   "source": [
    "#### Train / CV / Test split\n",
    "This doesn't feel very necessary, since we're synthesizing the data according to the same exact simple distribution, but just to stay on the safe side let's do it."
   ]
  },
  {
   "cell_type": "code",
   "execution_count": 37,
   "metadata": {},
   "outputs": [
    {
     "data": {
      "text/plain": [
       "0.8"
      ]
     },
     "execution_count": 37,
     "metadata": {},
     "output_type": "execute_result"
    }
   ],
   "source": [
    "# remind\n",
    "config['train_proportion']"
   ]
  },
  {
   "cell_type": "code",
   "execution_count": 38,
   "metadata": {},
   "outputs": [
    {
     "data": {
      "text/plain": [
       "40000"
      ]
     },
     "execution_count": 38,
     "metadata": {},
     "output_type": "execute_result"
    }
   ],
   "source": [
    "# train split\n",
    "train_split_idx = int(len(X) * config['train_proportion'])\n",
    "train_split_idx"
   ]
  },
  {
   "cell_type": "code",
   "execution_count": 39,
   "metadata": {},
   "outputs": [
    {
     "data": {
      "text/plain": [
       "40000"
      ]
     },
     "execution_count": 39,
     "metadata": {},
     "output_type": "execute_result"
    }
   ],
   "source": [
    "# train set\n",
    "X_train = X[:train_split_idx]\n",
    "Y_train = Y[:train_split_idx]\n",
    "len(X_train)"
   ]
  },
  {
   "cell_type": "markdown",
   "metadata": {},
   "source": [
    "CV and test should be of equal length."
   ]
  },
  {
   "cell_type": "code",
   "execution_count": 40,
   "metadata": {},
   "outputs": [
    {
     "data": {
      "text/plain": [
       "5000"
      ]
     },
     "execution_count": 40,
     "metadata": {},
     "output_type": "execute_result"
    }
   ],
   "source": [
    "# cv / test split\n",
    "validation_split_idx = int((len(X) - train_split_idx)/2)\n",
    "validation_split_idx"
   ]
  },
  {
   "cell_type": "code",
   "execution_count": 41,
   "metadata": {},
   "outputs": [
    {
     "data": {
      "text/plain": [
       "5000"
      ]
     },
     "execution_count": 41,
     "metadata": {},
     "output_type": "execute_result"
    }
   ],
   "source": [
    "# cv set\n",
    "X_cv = X[train_split_idx:train_split_idx + validation_split_idx]\n",
    "Y_cv = Y[train_split_idx:train_split_idx + validation_split_idx]\n",
    "len(X_cv)"
   ]
  },
  {
   "cell_type": "code",
   "execution_count": 42,
   "metadata": {},
   "outputs": [
    {
     "data": {
      "text/plain": [
       "5000"
      ]
     },
     "execution_count": 42,
     "metadata": {},
     "output_type": "execute_result"
    }
   ],
   "source": [
    "# test set\n",
    "X_test = X[train_split_idx + validation_split_idx:]\n",
    "Y_test = Y[train_split_idx + validation_split_idx:]\n",
    "len(X_test)"
   ]
  },
  {
   "cell_type": "markdown",
   "metadata": {},
   "source": [
    "#### Torch tensors"
   ]
  },
  {
   "cell_type": "code",
   "execution_count": 43,
   "metadata": {},
   "outputs": [],
   "source": [
    "# need them as torch tensors first\n",
    "X_train = torch.from_numpy(np.asarray(X_train))\n",
    "X_cv = torch.from_numpy(np.asarray(X_cv))\n",
    "X_test = torch.from_numpy(np.asarray(X_test))"
   ]
  },
  {
   "cell_type": "code",
   "execution_count": 44,
   "metadata": {},
   "outputs": [],
   "source": [
    "# now Y\n",
    "Y_train = torch.from_numpy(np.asarray(Y_train))\n",
    "Y_cv = torch.from_numpy(np.asarray(Y_cv))\n",
    "Y_test = torch.from_numpy(np.asarray(Y_test))"
   ]
  },
  {
   "cell_type": "code",
   "execution_count": 45,
   "metadata": {},
   "outputs": [],
   "source": [
    "# into datasets\n",
    "dataset_train = TensorDataset(X_train, Y_train)\n",
    "dataset_cv = TensorDataset(X_cv, Y_cv)\n",
    "dataset_test = TensorDataset(X_test, Y_test)"
   ]
  },
  {
   "cell_type": "code",
   "execution_count": 46,
   "metadata": {},
   "outputs": [],
   "source": [
    "# loader\n",
    "check_dataloader = DataLoader(dataset_train, batch_size=64)"
   ]
  },
  {
   "cell_type": "code",
   "execution_count": 47,
   "metadata": {},
   "outputs": [
    {
     "data": {
      "text/plain": [
       "(torch.Size([64, 18]), torch.Size([64, 18]))"
      ]
     },
     "execution_count": 47,
     "metadata": {},
     "output_type": "execute_result"
    }
   ],
   "source": [
    "# check\n",
    "x_batch, y_batch = next(iter(check_dataloader))\n",
    "x_batch.size(), y_batch.size()"
   ]
  },
  {
   "cell_type": "code",
   "execution_count": 48,
   "metadata": {},
   "outputs": [
    {
     "data": {
      "text/plain": [
       "tensor([2, 1, 0, 2, 1, 6, 2, 0, 6, 7, 1, 1, 6, 0, 5, 6, 2, 6])"
      ]
     },
     "execution_count": 48,
     "metadata": {},
     "output_type": "execute_result"
    }
   ],
   "source": [
    "# check single\n",
    "x_single = x_batch[0]\n",
    "x_single"
   ]
  },
  {
   "cell_type": "code",
   "execution_count": 49,
   "metadata": {},
   "outputs": [
    {
     "name": "stdout",
     "output_type": "stream",
     "text": [
      "tensor([14, 11,  8,  1,  6,  4,  3, 12,  7,  5, 16,  0, 15, 10, 17, 13,  2,  9])\n"
     ]
    }
   ],
   "source": [
    "y_single = y_batch[0]\n",
    "print(y_single)"
   ]
  },
  {
   "cell_type": "code",
   "execution_count": 50,
   "metadata": {},
   "outputs": [
    {
     "data": {
      "text/plain": [
       "tensor([2, 1, 0, 2, 1, 6, 2, 0, 6, 7, 1, 1, 6, 0, 5, 6, 2, 6])"
      ]
     },
     "execution_count": 50,
     "metadata": {},
     "output_type": "execute_result"
    }
   ],
   "source": [
    "x_single"
   ]
  },
  {
   "cell_type": "code",
   "execution_count": 51,
   "metadata": {},
   "outputs": [
    {
     "data": {
      "image/png": "[encoded data removed]",
      "text/plain": [
       "<Figure size 1512x144 with 18 Axes>"
      ]
     },
     "metadata": {
      "needs_background": "light"
     },
     "output_type": "display_data"
    }
   ],
   "source": [
    "# confirm\n",
    "show_restored_catalog(x_single, y_single, config, img_path_map)"
   ]
  },
  {
   "cell_type": "markdown",
   "metadata": {},
   "source": [
    "### Persist & Reload\n",
    "Another good practice - have the small dataset loaded from disk, for perfect repeatability."
   ]
  },
  {
   "cell_type": "code",
   "execution_count": 52,
   "metadata": {},
   "outputs": [
    {
     "data": {
      "text/plain": [
       "'/home/paperspace/procat/data/set_to_sequence_functional_synthetic_c50000'"
      ]
     },
     "execution_count": 52,
     "metadata": {},
     "output_type": "execute_result"
    }
   ],
   "source": [
    "config['dataset_path']"
   ]
  },
  {
   "cell_type": "markdown",
   "metadata": {},
   "source": [
    "If this directory doesn't exist, create it."
   ]
  },
  {
   "cell_type": "code",
   "execution_count": 53,
   "metadata": {},
   "outputs": [
    {
     "name": "stdout",
     "output_type": "stream",
     "text": [
      "found\n"
     ]
    }
   ],
   "source": [
    "if os.path.isdir(config['dataset_path']):\n",
    "    print('found')\n",
    "else:\n",
    "    os.makedirs(config['dataset_path'])\n",
    "    print('directory created')"
   ]
  },
  {
   "cell_type": "markdown",
   "metadata": {},
   "source": [
    "### Save data loaders"
   ]
  },
  {
   "cell_type": "code",
   "execution_count": 54,
   "metadata": {},
   "outputs": [],
   "source": [
    "# save train\n",
    "torch.save(dataset_train, path_to_dataset_train)"
   ]
  },
  {
   "cell_type": "code",
   "execution_count": 55,
   "metadata": {},
   "outputs": [],
   "source": [
    "# save cv\n",
    "torch.save(dataset_cv, path_to_dataset_cv)"
   ]
  },
  {
   "cell_type": "code",
   "execution_count": 56,
   "metadata": {},
   "outputs": [],
   "source": [
    "# save cv\n",
    "torch.save(dataset_test, path_to_dataset_test)"
   ]
  },
  {
   "cell_type": "markdown",
   "metadata": {},
   "source": [
    "### Reload data loaders"
   ]
  },
  {
   "cell_type": "code",
   "execution_count": 57,
   "metadata": {},
   "outputs": [],
   "source": [
    "# reload all and turn into dataloaders\n",
    "train_dataset = torch.load(path_to_dataset_train)\n",
    "cv_dataset = torch.load(path_to_dataset_cv)\n",
    "test_dataset = torch.load(path_to_dataset_test)\n",
    "\n",
    "train_dataloader = DataLoader(train_dataset, batch_size=64, shuffle=True, num_workers=4)\n",
    "cv_dataloader = DataLoader(cv_dataset, batch_size=64, shuffle=True, num_workers=4)\n",
    "test_dataloader = DataLoader(test_dataset, batch_size=64, shuffle=True, num_workers=4)"
   ]
  },
  {
   "cell_type": "code",
   "execution_count": 58,
   "metadata": {},
   "outputs": [
    {
     "data": {
      "image/png": "[encoded data removed]",
      "text/plain": [
       "<Figure size 1512x144 with 18 Axes>"
      ]
     },
     "metadata": {
      "needs_background": "light"
     },
     "output_type": "display_data"
    }
   ],
   "source": [
    "# confirm\n",
    "x, y = get_example(train_dataloader)\n",
    "show_restored_catalog(x, y, config, img_path_map)"
   ]
  },
  {
   "cell_type": "code",
   "execution_count": 59,
   "metadata": {},
   "outputs": [
    {
     "data": {
      "text/plain": [
       "torch.Tensor"
      ]
     },
     "execution_count": 59,
     "metadata": {},
     "output_type": "execute_result"
    }
   ],
   "source": [
    "type(x)"
   ]
  },
  {
   "cell_type": "markdown",
   "metadata": {},
   "source": [
    "# Models"
   ]
  },
  {
   "cell_type": "markdown",
   "metadata": {},
   "source": [
    "## Model PtrNet"
   ]
  },
  {
   "cell_type": "code",
   "execution_count": 60,
   "metadata": {},
   "outputs": [],
   "source": [
    "from models import PointerNetwork, PointerEncoder, PointerAttention, PointerDecoder"
   ]
  },
  {
   "cell_type": "code",
   "execution_count": 61,
   "metadata": {},
   "outputs": [],
   "source": [
    "# instantiate the model\n",
    "model_ptrnet = PointerNetwork(\n",
    "    elem_dims=config['ptr_elem_dim'], # not used if embedding_by_dict=True\n",
    "    embedding_dim=config['ptr_emb_dim'],\n",
    "    hidden_dim=config['ptr_hid_dim'],\n",
    "    lstm_layers=config['ptr_lstm_lay']+ config['ptr_lstm_lay_plus_for_ptrnet_raw'],\n",
    "    dropout=config['ptr_dropout'],\n",
    "    bidir=config['ptr_bidir'],\n",
    "    masking=config['ptr_mask'],\n",
    "    embedding_by_dict=True,  # input is not pre-embedded, it's dictionary tokens\n",
    "    embedding_by_dict_size=len(config['word2idx'])\n",
    ")"
   ]
  },
  {
   "cell_type": "code",
   "execution_count": 62,
   "metadata": {},
   "outputs": [
    {
     "name": "stdout",
     "output_type": "stream",
     "text": [
      "The model has 894,464 trainable parameters\n"
     ]
    }
   ],
   "source": [
    "count_params(model_ptrnet)"
   ]
  },
  {
   "cell_type": "code",
   "execution_count": 63,
   "metadata": {},
   "outputs": [],
   "source": [
    "# loss\n",
    "CCE = torch.nn.CrossEntropyLoss()"
   ]
  },
  {
   "cell_type": "code",
   "execution_count": 64,
   "metadata": {},
   "outputs": [],
   "source": [
    "# optimizer\n",
    "optimizer_ptrnet = optim.Adam(\n",
    "    filter(lambda p: p.requires_grad, model_ptrnet.parameters()),\n",
    "    lr=config['learning_rate'])"
   ]
  },
  {
   "cell_type": "markdown",
   "metadata": {},
   "source": [
    "### Model Training"
   ]
  },
  {
   "cell_type": "code",
   "execution_count": 65,
   "metadata": {},
   "outputs": [
    {
     "name": "stdout",
     "output_type": "stream",
     "text": [
      "Result: 0.0570\n"
     ]
    }
   ],
   "source": [
    "# test untrained model\n",
    "results_ptrnet, _ = test_model_custom(model_ptrnet, test_dataloader, compare_solved_sort_unique, print_every=999999, x_name=0, y_name=1)\n",
    "print('Result: {:.4f}'.format(results_ptrnet))"
   ]
  },
  {
   "cell_type": "code",
   "execution_count": 66,
   "metadata": {},
   "outputs": [
    {
     "name": "stdout",
     "output_type": "stream",
     "text": [
      "K-Tau: -0.0003, % valid: 100.0\n",
      "S-Rho: 0.0011, % valid: 100.0\n"
     ]
    }
   ],
   "source": [
    "# show rank correlations only with mask on\n",
    "print('K-Tau: {:.4f}, % valid: {}'.format(*get_batch_rank_correlation_and_perc_valid(test_dataloader, model_ptrnet, get_single_kendall_tau, print_every=999999)))\n",
    "print('S-Rho: {:.4f}, % valid: {}'.format(*get_batch_rank_correlation_and_perc_valid(test_dataloader, model_ptrnet, get_single_spearman_rho, print_every=999999)))"
   ]
  },
  {
   "cell_type": "code",
   "execution_count": 67,
   "metadata": {},
   "outputs": [
    {
     "name": "stdout",
     "output_type": "stream",
     "text": [
      "CUDA available, using GPU:\n",
      "Quadro P6000\n"
     ]
    },
    {
     "name": "stderr",
     "output_type": "stream",
     "text": [
      "Epoch 1 / 20: 100%|██████████| 625/625 [01:13<00:00,  8.48 batches/s, avg_loss=2.81487]\n",
      "Epoch 2 / 20: 100%|██████████| 625/625 [01:13<00:00,  8.51 batches/s, avg_loss=2.74791]\n",
      "Epoch 3 / 20: 100%|██████████| 625/625 [01:14<00:00,  8.42 batches/s, avg_loss=2.74689]\n",
      "Epoch 4 / 20: 100%|██████████| 625/625 [01:14<00:00,  8.39 batches/s, avg_loss=2.74605]\n",
      "Epoch 5 / 20: 100%|██████████| 625/625 [01:14<00:00,  8.37 batches/s, avg_loss=2.74577]\n",
      "Epoch 6 / 20: 100%|██████████| 625/625 [01:14<00:00,  8.43 batches/s, avg_loss=2.74521]\n",
      "Epoch 7 / 20: 100%|██████████| 625/625 [01:14<00:00,  8.35 batches/s, avg_loss=2.75270]\n",
      "Epoch 8 / 20: 100%|██████████| 625/625 [01:14<00:00,  8.36 batches/s, avg_loss=2.76477]\n",
      "Epoch 9 / 20: 100%|██████████| 625/625 [01:14<00:00,  8.37 batches/s, avg_loss=2.76755]\n",
      "Epoch 10 / 20: 100%|██████████| 625/625 [01:14<00:00,  8.38 batches/s, avg_loss=2.76712]\n",
      "Epoch 11 / 20: 100%|██████████| 625/625 [01:14<00:00,  8.40 batches/s, avg_loss=2.76822]\n",
      "Epoch 12 / 20: 100%|██████████| 625/625 [01:14<00:00,  8.36 batches/s, avg_loss=2.76839]\n",
      "Epoch 13 / 20: 100%|██████████| 625/625 [01:14<00:00,  8.37 batches/s, avg_loss=2.76844]\n",
      "Epoch 14 / 20: 100%|██████████| 625/625 [01:14<00:00,  8.39 batches/s, avg_loss=2.76813]\n",
      "Epoch 15 / 20: 100%|██████████| 625/625 [01:14<00:00,  8.43 batches/s, avg_loss=2.76894]\n",
      "Epoch 16 / 20: 100%|██████████| 625/625 [01:14<00:00,  8.39 batches/s, avg_loss=2.77000]\n",
      "Epoch 17 / 20: 100%|██████████| 625/625 [01:15<00:00,  8.28 batches/s, avg_loss=2.76961]\n",
      "Epoch 18 / 20: 100%|██████████| 625/625 [01:13<00:00,  8.47 batches/s, avg_loss=2.76950]\n",
      "Epoch 19 / 20: 100%|██████████| 625/625 [01:14<00:00,  8.42 batches/s, avg_loss=2.77094]\n",
      "Epoch 20 / 20: 100%|██████████| 625/625 [01:14<00:00,  8.35 batches/s, avg_loss=2.77043]\n"
     ]
    }
   ],
   "source": [
    "# train\n",
    "last_loss_ptrnet = train_epochs(\n",
    "    model_ptrnet,\n",
    "    optimizer_ptrnet,\n",
    "    CCE,\n",
    "    train_dataloader,\n",
    "    config['num_epochs'],\n",
    "    allow_gpu=True,\n",
    "    x_name=0,\n",
    "    y_name=1)"
   ]
  },
  {
   "cell_type": "code",
   "execution_count": 68,
   "metadata": {},
   "outputs": [
    {
     "data": {
      "text/plain": [
       "2.770432710647583"
      ]
     },
     "execution_count": 68,
     "metadata": {},
     "output_type": "execute_result"
    }
   ],
   "source": [
    "last_loss_ptrnet.item()"
   ]
  },
  {
   "cell_type": "code",
   "execution_count": 69,
   "metadata": {},
   "outputs": [
    {
     "name": "stdout",
     "output_type": "stream",
     "text": [
      "Result: 0.1853\n"
     ]
    }
   ],
   "source": [
    "# test\n",
    "model_ptrnet.eval()  # if we had dropout or batchnorm, we must do this\n",
    "\n",
    "# actual metrics\n",
    "results_ptrnet, _ = test_model_custom(model_ptrnet, test_dataloader, compare_solved_sort_unique, print_every=999999, x_name=0, y_name=1)\n",
    "print('Result: {:.4f}'.format(results_ptrnet))"
   ]
  },
  {
   "cell_type": "code",
   "execution_count": 70,
   "metadata": {},
   "outputs": [
    {
     "name": "stdout",
     "output_type": "stream",
     "text": [
      "K-Tau: 0.3905, % valid: 100.0\n",
      "S-Rho: 0.5056, % valid: 100.0\n"
     ]
    }
   ],
   "source": [
    "# show rank correlations only with mask on\n",
    "print('K-Tau: {:.4f}, % valid: {}'.format(*get_batch_rank_correlation_and_perc_valid(test_dataloader, model_ptrnet, get_single_kendall_tau, print_every=999999)))\n",
    "print('S-Rho: {:.4f}, % valid: {}'.format(*get_batch_rank_correlation_and_perc_valid(test_dataloader, model_ptrnet, get_single_spearman_rho, print_every=999999)))"
   ]
  },
  {
   "cell_type": "markdown",
   "metadata": {},
   "source": [
    "### Manual test\n",
    "See what it predicts."
   ]
  },
  {
   "cell_type": "code",
   "execution_count": 71,
   "metadata": {},
   "outputs": [],
   "source": [
    "# get x y\n",
    "single_x, single_y = get_example(test_dataloader, x_name=0, y_name=1)"
   ]
  },
  {
   "cell_type": "code",
   "execution_count": 72,
   "metadata": {},
   "outputs": [
    {
     "data": {
      "image/png": "[encoded data removed]",
      "text/plain": [
       "<Figure size 1512x144 with 18 Axes>"
      ]
     },
     "metadata": {
      "needs_background": "light"
     },
     "output_type": "display_data"
    }
   ],
   "source": [
    "# show real sequence\n",
    "show_restored_catalog(single_x, single_y, config, img_path_map)"
   ]
  },
  {
   "cell_type": "code",
   "execution_count": 73,
   "metadata": {},
   "outputs": [
    {
     "data": {
      "image/png": "[encoded data removed]",
      "text/plain": [
       "<Figure size 1512x144 with 18 Axes>"
      ]
     },
     "metadata": {
      "needs_background": "light"
     },
     "output_type": "display_data"
    }
   ],
   "source": [
    "# predict & show\n",
    "_, single_pred = model_ptrnet(single_x.unsqueeze(0))\n",
    "show_restored_catalog(single_x, single_pred, config, img_path_map)"
   ]
  },
  {
   "cell_type": "code",
   "execution_count": 74,
   "metadata": {},
   "outputs": [
    {
     "name": "stdout",
     "output_type": "stream",
     "text": [
      "[5, 1, 1, 1, 2, 2, 1, 6, 6, 6, 6, 6, 1, 0, 0, 0, 7, 1]\n"
     ]
    }
   ],
   "source": [
    "print(restore_catalog(single_x, single_pred[0]))"
   ]
  },
  {
   "cell_type": "markdown",
   "metadata": {},
   "source": [
    "### Predict all catalogs"
   ]
  },
  {
   "cell_type": "code",
   "execution_count": 75,
   "metadata": {},
   "outputs": [
    {
     "name": "stdout",
     "output_type": "stream",
     "text": [
      "[5, 1, 1, 1, 2, 2, 2, 2, 6, 6, 6, 1, 0, 0, 0, 0, 0, 7]\n"
     ]
    }
   ],
   "source": [
    "# get predicted catalogs as indices\n",
    "ptrnet_predicted_catalogs_as_indices = predict_catalogs_as_indices(test_dataloader, model_ptrnet)\n",
    "print(ptrnet_predicted_catalogs_as_indices[0])"
   ]
  },
  {
   "cell_type": "code",
   "execution_count": 76,
   "metadata": {},
   "outputs": [
    {
     "name": "stdout",
     "output_type": "stream",
     "text": [
      "[['r', 'r', 'r', 'y', 'y', 'y', 'y'], [], [], ['r', 'b', 'b', 'b', 'b', 'b']]\n"
     ]
    }
   ],
   "source": [
    "# get them as raw\n",
    "ptrnet_predicted_catalogs_as_raw = from_indices_to_raw(ptrnet_predicted_catalogs_as_indices, config)\n",
    "print(ptrnet_predicted_catalogs_as_raw[0])"
   ]
  },
  {
   "cell_type": "code",
   "execution_count": 77,
   "metadata": {},
   "outputs": [
    {
     "name": "stdout",
     "output_type": "stream",
     "text": [
      "['catalog_start', 'r', 'r', 'r', 'y', 'y', 'y', 'y', 'page_break', 'page_break', 'page_break', 'r', 'b', 'b', 'b', 'b', 'b', 'catalog_end']\n"
     ]
    }
   ],
   "source": [
    "# get them as Catalog() instances\n",
    "ptrnet_predicted_catalogs_as_instances = instantiate_catalogs(ptrnet_predicted_catalogs_as_raw, config)\n",
    "print(ptrnet_predicted_catalogs_as_instances[0].as_sequence())"
   ]
  },
  {
   "cell_type": "markdown",
   "metadata": {},
   "source": [
    "### Metrics\n",
    "We want to see how the predicted catalogs match up with the structural rules and the distributional stats of the original train set."
   ]
  },
  {
   "cell_type": "markdown",
   "metadata": {},
   "source": [
    "#### Structural Metrics"
   ]
  },
  {
   "cell_type": "code",
   "execution_count": 78,
   "metadata": {},
   "outputs": [
    {
     "name": "stdout",
     "output_type": "stream",
     "text": [
      "*** METRICS ***\n",
      "                                GENERAL:\n",
      "              Total testable catalogs %:       0.02%\n",
      "       Catalogs with corrent n tokens %:      100.0%\n",
      "      Catalogs with target num offers %:      15.94%\n",
      "\n",
      "                               SECTIONS:\n",
      "                Valid section average %:      12.61%\n",
      "           Valid section per ruleset % :\n",
      "                                        basic      11.77%\n",
      "                                   green_only      12.51%\n",
      "                                  purple_only      18.09%\n",
      "                             purple_and_green      12.28%\n",
      "\n",
      "                             STRUCTURAL:\n",
      "              Valid catalog structure %:        0.0%\n",
      "            Valid catalog % per ruleset:\n",
      "                                        basic        0.0%\n",
      "                                   green_only        0.0%\n",
      "                                  purple_only        0.0%\n",
      "                             purple_and_green        0.0%\n",
      "           Valid catalog % per sub rule:\n",
      "                                        basic\n",
      "                                first_page_all_red       2.33%\n",
      "                                last_page_all_blue      17.75%\n",
      "                                       max_pages_6      100.0%\n",
      "                                       min_pages_3      100.0%\n",
      "                                   green_only\n",
      "                                first_page_all_red        0.0%\n",
      "                                last_page_all_blue      20.35%\n",
      "                                       max_pages_6      100.0%\n",
      "                                       min_pages_3      100.0%\n",
      "                                  purple_only\n",
      "                               first_page_all_blue        0.0%\n",
      "                                last_page_all_blue      50.67%\n",
      "                                       max_pages_6      100.0%\n",
      "                                       min_pages_3      100.0%\n",
      "                             purple_and_green\n",
      "                                first_page_all_red        0.0%\n",
      "                              last_page_all_purple      12.19%\n",
      "                                       max_pages_6      100.0%\n",
      "                                       min_pages_3      100.0%\n"
     ]
    }
   ],
   "source": [
    "# get metrics for adherence to the rules\n",
    "ptrnet_metrics = get_rule_metrics(ptrnet_predicted_catalogs_as_indices, rules, config)\n",
    "\n",
    "# show metrics nicely\n",
    "show_metrics(ptrnet_metrics)"
   ]
  },
  {
   "cell_type": "markdown",
   "metadata": {},
   "source": [
    "#### Statistical / Distributional Metrics"
   ]
  },
  {
   "cell_type": "code",
   "execution_count": 79,
   "metadata": {},
   "outputs": [
    {
     "name": "stdout",
     "output_type": "stream",
     "text": [
      "Total offer counts:  {'b': 4964, 'r': 8705, 'y': 4766, 'g': 1606, 'p': 915}\n",
      "Total offer %:  {'b': 23.69, 'r': 41.54, 'y': 22.74, 'g': 7.66, 'p': 4.37}\n",
      "Average offers per catalog: 11.21\n",
      "Standard Dev offers per catalog: 0.46\n",
      "Catalogs per num offers:  {13: 124, 11: 4079, 12: 797}\n",
      "Catalogs per offer type:  {'b': 4964, 'r': 4951, 'y': 4759, 'g': 1606, 'p': 879}\n",
      "Catalogs per offer type %:  {'b': 9.93, 'r': 9.9, 'y': 9.52, 'g': 3.21, 'p': 1.76, 'p_and_g': 0.558}\n",
      "Catalogs per number of sections: {4: 150, 5: 1683, 6: 3167}\n",
      "Catalogs per number of sections %: {4: 0.3, 5: 3.37, 6: 6.33}\n",
      "Section count by number of offers: {0: 16186, 1: 1468, 2: 814, 3: 1027, 4: 1951, 5: 1870, 6: 1997, 7: 1442, 8: 801, 9: 383, 10: 75, 11: 3}\n",
      "Section % by number of offers: {0: 57.77, 1: 5.24, 2: 2.91, 3: 3.67, 4: 6.96, 5: 6.67, 6: 7.13, 7: 5.15, 8: 2.86, 9: 1.37, 10: 0.27, 11: 0.01}\n"
     ]
    }
   ],
   "source": [
    "ptrnet_stats = report_catalog_stats(ptrnet_predicted_catalogs_as_raw, config)"
   ]
  },
  {
   "cell_type": "markdown",
   "metadata": {},
   "source": [
    "#### Sacred Experiment | Model PtrNet\n",
    "We'll want to track the dataset, model params and the result of tests."
   ]
  },
  {
   "cell_type": "markdown",
   "metadata": {},
   "source": [
    "**Sacred will blow up if we give it a config consisting of nested dicts, so we'll need to turn things to list or str.**"
   ]
  },
  {
   "cell_type": "code",
   "execution_count": 80,
   "metadata": {},
   "outputs": [
    {
     "name": "stdout",
     "output_type": "stream",
     "text": [
      "offer_distributions\n",
      "word2idx\n",
      "idx2word\n",
      "rules\n"
     ]
    }
   ],
   "source": [
    "# find nested dicts, show then, turn their values to strings, preserve them for later re-insertion\n",
    "config_safe_copy = dict()\n",
    "for k, v in config.items():\n",
    "    if type(v) == dict:\n",
    "        print(k)\n",
    "        config_safe_copy[k] = str(v)\n",
    "    else:\n",
    "        config_safe_copy[k] = v"
   ]
  },
  {
   "cell_type": "code",
   "execution_count": 81,
   "metadata": {},
   "outputs": [
    {
     "name": "stderr",
     "output_type": "stream",
     "text": [
      "WARNING - root - Changed type of config entry \"cfg.offer_distributions\" from dict to str\n",
      "WARNING - root - Changed type of config entry \"cfg.word2idx\" from dict to str\n",
      "WARNING - root - Changed type of config entry \"cfg.idx2word\" from dict to str\n",
      "WARNING - root - Changed type of config entry \"cfg.rules\" from dict to str\n",
      "INFO - set_to_sequence_functional_synthetic_mask_True - Running command 'run_model_tests'\n",
      "INFO - set_to_sequence_functional_synthetic_mask_True - Started run with ID \"86\"\n"
     ]
    },
    {
     "name": "stdout",
     "output_type": "stream",
     "text": [
      "Model:  <class 'models.PointerNetwork'>\n",
      "Result: 0.1853\n",
      "*** METRICS ***\n",
      "                                GENERAL:\n",
      "              Total testable catalogs %:       0.02%\n",
      "       Catalogs with corrent n tokens %:      100.0%\n",
      "      Catalogs with target num offers %:      15.94%\n",
      "\n",
      "                               SECTIONS:\n",
      "                Valid section average %:      12.61%\n",
      "           Valid section per ruleset % :\n",
      "                                        basic      11.77%\n",
      "                                   green_only      12.51%\n",
      "                                  purple_only      18.09%\n",
      "                             purple_and_green      12.28%\n",
      "\n",
      "                             STRUCTURAL:\n",
      "              Valid catalog structure %:        0.0%\n",
      "            Valid catalog % per ruleset:\n",
      "                                        basic        0.0%\n",
      "                                   green_only        0.0%\n",
      "                                  purple_only        0.0%\n",
      "                             purple_and_green        0.0%\n",
      "           Valid catalog % per sub rule:\n",
      "                                        basic\n",
      "                                first_page_all_red       2.33%\n",
      "                                last_page_all_blue      17.75%\n",
      "                                       max_pages_6      100.0%\n",
      "                                       min_pages_3      100.0%\n",
      "                                   green_only\n",
      "                                first_page_all_red        0.0%\n",
      "                                last_page_all_blue      20.35%\n",
      "                                       max_pages_6      100.0%\n",
      "                                       min_pages_3      100.0%\n",
      "                                  purple_only\n",
      "                               first_page_all_blue        0.0%\n",
      "                                last_page_all_blue      50.67%\n",
      "                                       max_pages_6      100.0%\n",
      "                                       min_pages_3      100.0%\n",
      "                             purple_and_green\n",
      "                                first_page_all_red        0.0%\n",
      "                              last_page_all_purple      12.19%\n",
      "                                       max_pages_6      100.0%\n",
      "                                       min_pages_3      100.0%\n",
      "K-Tau: 0.3905, perc_valid: 100.0\n"
     ]
    },
    {
     "name": "stderr",
     "output_type": "stream",
     "text": [
      "INFO - set_to_sequence_functional_synthetic_mask_True - Result: 0.18526\n",
      "INFO - set_to_sequence_functional_synthetic_mask_True - Completed after 0:01:09\n"
     ]
    },
    {
     "name": "stdout",
     "output_type": "stream",
     "text": [
      "S-Rho: 0.5056, perc_valid: 100.0\n"
     ]
    }
   ],
   "source": [
    "# experiment config\n",
    "current_tested_model = model_ptrnet\n",
    "current_optimizer = optimizer_ptrnet\n",
    "current_last_loss = last_loss_ptrnet\n",
    "\n",
    "config_update = {\n",
    "    'model': current_tested_model.__class__.__name__,\n",
    "    'final_training_loss': round(current_last_loss.item(), 10),\n",
    "    'optimizer': current_optimizer.__class__.__name__,\n",
    "    'cfg': config_safe_copy,\n",
    "}\n",
    "\n",
    "# run the experiment, with updated config\n",
    "run_info = ex.run(config_updates=config_update)"
   ]
  },
  {
   "cell_type": "code",
   "execution_count": 82,
   "metadata": {},
   "outputs": [
    {
     "data": {
      "image/png": "[encoded data removed]",
      "text/plain": [
       "<Figure size 1512x144 with 18 Axes>"
      ]
     },
     "metadata": {
      "needs_background": "light"
     },
     "output_type": "display_data"
    },
    {
     "data": {
      "image/png": "[encoded data removed]",
      "text/plain": [
       "<Figure size 1512x144 with 18 Axes>"
      ]
     },
     "metadata": {
      "needs_background": "light"
     },
     "output_type": "display_data"
    }
   ],
   "source": [
    "# show preds\n",
    "single_x, single_y = get_example(test_dataloader, x_name=0, y_name=1)\n",
    "show_restored_catalog(single_x, single_y, config, img_path_map)\n",
    "_, single_pred = model_ptrnet(single_x.unsqueeze(0))\n",
    "show_restored_catalog(single_x, single_pred, config, img_path_map)"
   ]
  },
  {
   "cell_type": "markdown",
   "metadata": {},
   "source": [
    "### DeepSets + PtrNet\n",
    "Let's use deep sets to concatenate the representation of the entire set with each element, and then do PtrNet on it."
   ]
  },
  {
   "cell_type": "code",
   "execution_count": 83,
   "metadata": {},
   "outputs": [],
   "source": [
    "from torch.nn import Parameter\n",
    "from models import DeepSets, DeepSetsPointerNetwork"
   ]
  },
  {
   "cell_type": "markdown",
   "metadata": {},
   "source": [
    "#### Initialize DeepSets+PtrNet model"
   ]
  },
  {
   "cell_type": "code",
   "execution_count": 84,
   "metadata": {},
   "outputs": [
    {
     "data": {
      "text/plain": [
       "DeepSetsPointerNetwork(\n",
       "  (embedding): Embedding(8, 128)\n",
       "  (set_embedding): DeepSets(\n",
       "    (encode): Sequential(\n",
       "      (0): Linear(in_features=128, out_features=128, bias=True)\n",
       "      (1): ReLU()\n",
       "      (2): Linear(in_features=128, out_features=128, bias=True)\n",
       "      (3): ReLU()\n",
       "      (4): Linear(in_features=128, out_features=128, bias=True)\n",
       "      (5): ReLU()\n",
       "      (6): Linear(in_features=128, out_features=256, bias=True)\n",
       "      (7): ReLU()\n",
       "      (8): Linear(in_features=256, out_features=256, bias=True)\n",
       "      (9): ReLU()\n",
       "      (10): Linear(in_features=256, out_features=256, bias=True)\n",
       "      (11): ReLU()\n",
       "      (12): Linear(in_features=256, out_features=128, bias=True)\n",
       "      (13): ReLU()\n",
       "    )\n",
       "    (out): Sequential(\n",
       "      (0): Linear(in_features=128, out_features=128, bias=True)\n",
       "      (1): ReLU()\n",
       "      (2): Linear(in_features=128, out_features=256, bias=True)\n",
       "      (3): ReLU()\n",
       "      (4): Linear(in_features=256, out_features=128, bias=True)\n",
       "      (5): ReLU()\n",
       "      (6): Linear(in_features=128, out_features=128, bias=True)\n",
       "      (7): ReLU()\n",
       "    )\n",
       "  )\n",
       "  (encoder): PointerEncoder(\n",
       "    (lstm): LSTM(256, 64, num_layers=2, batch_first=True, dropout=0.05, bidirectional=True)\n",
       "  )\n",
       "  (decoder): PointerDecoder(\n",
       "    (input_to_hidden): Linear(in_features=256, out_features=512, bias=True)\n",
       "    (hidden_to_hidden): Linear(in_features=128, out_features=512, bias=True)\n",
       "    (hidden_out): Linear(in_features=256, out_features=128, bias=True)\n",
       "    (att): PointerAttention(\n",
       "      (input_linear): Linear(in_features=128, out_features=128, bias=True)\n",
       "      (context_linear): Conv1d(128, 128, kernel_size=(1,), stride=(1,))\n",
       "      (soft): Softmax(dim=1)\n",
       "    )\n",
       "  )\n",
       ")"
      ]
     },
     "execution_count": 84,
     "metadata": {},
     "output_type": "execute_result"
    }
   ],
   "source": [
    "# instantiate the model\n",
    "model_deep_sets = DeepSetsPointerNetwork(\n",
    "    elem_dims=config['ptr_elem_dim'],\n",
    "    embedding_dim=config['ptr_emb_dim'],\n",
    "    hidden_dim=config['ptr_hid_dim'],\n",
    "    lstm_layers=config['ptr_lstm_lay'],\n",
    "    dropout=config['ptr_dropout'],\n",
    "    bidir=config['ptr_bidir'],\n",
    "    masking=config['ptr_mask'],\n",
    "    embedding_by_dict=True,\n",
    "    embedding_by_dict_size=len(config['word2idx'])\n",
    ")\n",
    "\n",
    "model_deep_sets.float()"
   ]
  },
  {
   "cell_type": "code",
   "execution_count": 85,
   "metadata": {},
   "outputs": [
    {
     "name": "stdout",
     "output_type": "stream",
     "text": [
      "The model has 874,880 trainable parameters\n"
     ]
    }
   ],
   "source": [
    "count_params(model_deep_sets)"
   ]
  },
  {
   "cell_type": "code",
   "execution_count": 86,
   "metadata": {},
   "outputs": [],
   "source": [
    "# loss\n",
    "CCE = torch.nn.CrossEntropyLoss()"
   ]
  },
  {
   "cell_type": "code",
   "execution_count": 87,
   "metadata": {},
   "outputs": [],
   "source": [
    "# optimizer\n",
    "optimizer_deep_sets = optim.Adam(\n",
    "    filter(lambda p: p.requires_grad, model_deep_sets.parameters()),\n",
    "    lr=config['learning_rate'])"
   ]
  },
  {
   "cell_type": "code",
   "execution_count": 88,
   "metadata": {},
   "outputs": [
    {
     "name": "stdout",
     "output_type": "stream",
     "text": [
      "Result: 0.0557\n"
     ]
    }
   ],
   "source": [
    "# test untrained model\n",
    "results_deep_sets, _ = test_model_custom(model_deep_sets, test_dataloader, compare_solved_sort_unique, print_every=999999, x_name=0, y_name=1)\n",
    "print('Result: {:.4f}'.format(results_deep_sets))"
   ]
  },
  {
   "cell_type": "code",
   "execution_count": 89,
   "metadata": {},
   "outputs": [
    {
     "name": "stdout",
     "output_type": "stream",
     "text": [
      "K-Tau: -0.0002, % valid: 100.0\n",
      "S-Rho: 0.0009, % valid: 100.0\n"
     ]
    }
   ],
   "source": [
    "# show rank correlations only with mask on\n",
    "print('K-Tau: {:.4f}, % valid: {}'.format(*get_batch_rank_correlation_and_perc_valid(test_dataloader, model_deep_sets, get_single_kendall_tau, print_every=999999)))\n",
    "print('S-Rho: {:.4f}, % valid: {}'.format(*get_batch_rank_correlation_and_perc_valid(test_dataloader, model_deep_sets, get_single_spearman_rho, print_every=999999)))"
   ]
  },
  {
   "cell_type": "code",
   "execution_count": 90,
   "metadata": {},
   "outputs": [
    {
     "name": "stdout",
     "output_type": "stream",
     "text": [
      "CUDA available, using GPU:\n",
      "Quadro P6000\n"
     ]
    },
    {
     "name": "stderr",
     "output_type": "stream",
     "text": [
      "Epoch 1 / 20: 100%|██████████| 625/625 [01:07<00:00,  9.31 batches/s, avg_loss=2.76504]\n",
      "Epoch 2 / 20: 100%|██████████| 625/625 [01:06<00:00,  9.35 batches/s, avg_loss=2.74808]\n",
      "Epoch 3 / 20: 100%|██████████| 625/625 [01:06<00:00,  9.36 batches/s, avg_loss=2.76559]\n",
      "Epoch 4 / 20: 100%|██████████| 625/625 [01:06<00:00,  9.35 batches/s, avg_loss=2.76665]\n",
      "Epoch 5 / 20: 100%|██████████| 625/625 [01:06<00:00,  9.41 batches/s, avg_loss=2.76798]\n",
      "Epoch 6 / 20: 100%|██████████| 625/625 [01:06<00:00,  9.33 batches/s, avg_loss=2.76962]\n",
      "Epoch 7 / 20: 100%|██████████| 625/625 [01:06<00:00,  9.38 batches/s, avg_loss=2.76954]\n",
      "Epoch 8 / 20: 100%|██████████| 625/625 [01:06<00:00,  9.37 batches/s, avg_loss=2.76795]\n",
      "Epoch 9 / 20: 100%|██████████| 625/625 [01:06<00:00,  9.33 batches/s, avg_loss=2.76936]\n",
      "Epoch 10 / 20: 100%|██████████| 625/625 [01:07<00:00,  9.33 batches/s, avg_loss=2.76952]\n",
      "Epoch 11 / 20: 100%|██████████| 625/625 [01:06<00:00,  9.36 batches/s, avg_loss=2.76901]\n",
      "Epoch 12 / 20: 100%|██████████| 625/625 [01:06<00:00,  9.38 batches/s, avg_loss=2.76805]\n",
      "Epoch 13 / 20: 100%|██████████| 625/625 [01:06<00:00,  9.36 batches/s, avg_loss=2.76781]\n",
      "Epoch 14 / 20: 100%|██████████| 625/625 [01:06<00:00,  9.34 batches/s, avg_loss=2.76830]\n",
      "Epoch 15 / 20: 100%|██████████| 625/625 [01:06<00:00,  9.35 batches/s, avg_loss=2.76748]\n",
      "Epoch 16 / 20: 100%|██████████| 625/625 [01:06<00:00,  9.34 batches/s, avg_loss=2.76777]\n",
      "Epoch 17 / 20: 100%|██████████| 625/625 [01:07<00:00,  9.29 batches/s, avg_loss=2.76832]\n",
      "Epoch 18 / 20: 100%|██████████| 625/625 [01:06<00:00,  9.36 batches/s, avg_loss=2.76776]\n",
      "Epoch 19 / 20: 100%|██████████| 625/625 [01:07<00:00,  9.27 batches/s, avg_loss=2.76683]\n",
      "Epoch 20 / 20: 100%|██████████| 625/625 [01:07<00:00,  9.25 batches/s, avg_loss=2.76643]\n"
     ]
    }
   ],
   "source": [
    "# train\n",
    "last_loss_deep_sets = train_epochs(\n",
    "    model_deep_sets,\n",
    "    optimizer_deep_sets,\n",
    "    CCE,\n",
    "    train_dataloader,\n",
    "    config['num_epochs'],\n",
    "    allow_gpu=True,\n",
    "    x_name=0,\n",
    "    y_name=1)"
   ]
  },
  {
   "cell_type": "code",
   "execution_count": 91,
   "metadata": {},
   "outputs": [
    {
     "data": {
      "text/plain": [
       "2.766432046890259"
      ]
     },
     "execution_count": 91,
     "metadata": {},
     "output_type": "execute_result"
    }
   ],
   "source": [
    "last_loss_deep_sets.item()"
   ]
  },
  {
   "cell_type": "code",
   "execution_count": 92,
   "metadata": {},
   "outputs": [
    {
     "name": "stdout",
     "output_type": "stream",
     "text": [
      "Result: 0.2069\n"
     ]
    }
   ],
   "source": [
    "# test\n",
    "model_deep_sets.eval()  # if we had dropout or batchnorm, we must do this\n",
    "\n",
    "# actual metrics\n",
    "results_deep_sets, _ = test_model_custom(model_deep_sets, test_dataloader, compare_solved_sort_unique, print_every=999999, x_name=0, y_name=1)\n",
    "print('Result: {:.4f}'.format(results_deep_sets))"
   ]
  },
  {
   "cell_type": "code",
   "execution_count": 93,
   "metadata": {},
   "outputs": [
    {
     "name": "stdout",
     "output_type": "stream",
     "text": [
      "K-Tau: 0.4067, % valid: 100.0\n",
      "S-Rho: 0.5277, % valid: 100.0\n"
     ]
    }
   ],
   "source": [
    "# show rank correlations only with mask on\n",
    "print('K-Tau: {:.4f}, % valid: {}'.format(*get_batch_rank_correlation_and_perc_valid(test_dataloader, model_deep_sets, get_single_kendall_tau, print_every=999999)))\n",
    "print('S-Rho: {:.4f}, % valid: {}'.format(*get_batch_rank_correlation_and_perc_valid(test_dataloader, model_deep_sets, get_single_spearman_rho, print_every=999999)))"
   ]
  },
  {
   "cell_type": "code",
   "execution_count": 94,
   "metadata": {},
   "outputs": [],
   "source": [
    "# get x y\n",
    "single_x, single_y = get_example(test_dataloader, x_name=0, y_name=1)"
   ]
  },
  {
   "cell_type": "code",
   "execution_count": 95,
   "metadata": {},
   "outputs": [
    {
     "data": {
      "image/png": "[encoded data removed]",
      "text/plain": [
       "<Figure size 1512x144 with 18 Axes>"
      ]
     },
     "metadata": {
      "needs_background": "light"
     },
     "output_type": "display_data"
    }
   ],
   "source": [
    "# show real sequence\n",
    "show_restored_catalog(single_x, single_y, config, img_path_map)"
   ]
  },
  {
   "cell_type": "code",
   "execution_count": 96,
   "metadata": {},
   "outputs": [
    {
     "data": {
      "image/png": "[encoded data removed]",
      "text/plain": [
       "<Figure size 1512x144 with 18 Axes>"
      ]
     },
     "metadata": {
      "needs_background": "light"
     },
     "output_type": "display_data"
    }
   ],
   "source": [
    "# predict & show\n",
    "_, single_pred = model_deep_sets(single_x.unsqueeze(0))\n",
    "show_restored_catalog(single_x, single_pred, config, img_path_map)"
   ]
  },
  {
   "cell_type": "code",
   "execution_count": 97,
   "metadata": {},
   "outputs": [
    {
     "name": "stdout",
     "output_type": "stream",
     "text": [
      "[5, 1, 1, 1, 1, 2, 2, 2, 2, 6, 6, 6, 6, 1, 0, 0, 0, 7]\n"
     ]
    }
   ],
   "source": [
    "print(restore_catalog(single_x, single_pred[0]))"
   ]
  },
  {
   "cell_type": "markdown",
   "metadata": {},
   "source": [
    "### Predict all catalogs"
   ]
  },
  {
   "cell_type": "code",
   "execution_count": 98,
   "metadata": {},
   "outputs": [
    {
     "name": "stdout",
     "output_type": "stream",
     "text": [
      "[5, 1, 1, 2, 2, 2, 2, 2, 2, 6, 6, 6, 6, 0, 0, 0, 6, 7]\n"
     ]
    }
   ],
   "source": [
    "# get predicted catalogs as indices\n",
    "deep_sets_predicted_catalogs_as_indices = predict_catalogs_as_indices(test_dataloader, model_deep_sets)\n",
    "print(deep_sets_predicted_catalogs_as_indices[0])"
   ]
  },
  {
   "cell_type": "code",
   "execution_count": 99,
   "metadata": {},
   "outputs": [
    {
     "name": "stdout",
     "output_type": "stream",
     "text": [
      "[['r', 'r', 'y', 'y', 'y', 'y', 'y', 'y'], [], [], [], ['b', 'b', 'b']]\n"
     ]
    }
   ],
   "source": [
    "# get them as raw\n",
    "deep_sets_predicted_catalogs_as_raw = from_indices_to_raw(deep_sets_predicted_catalogs_as_indices, config)\n",
    "print(deep_sets_predicted_catalogs_as_raw[0])"
   ]
  },
  {
   "cell_type": "code",
   "execution_count": 100,
   "metadata": {},
   "outputs": [
    {
     "name": "stdout",
     "output_type": "stream",
     "text": [
      "['catalog_start', 'r', 'r', 'y', 'y', 'y', 'y', 'y', 'y', 'page_break', 'page_break', 'page_break', 'page_break', 'b', 'b', 'b', 'catalog_end']\n"
     ]
    }
   ],
   "source": [
    "# get them as Catalog() instances\n",
    "deep_sets_predicted_catalogs_as_instances = instantiate_catalogs(deep_sets_predicted_catalogs_as_raw, config)\n",
    "print(deep_sets_predicted_catalogs_as_instances[0].as_sequence())"
   ]
  },
  {
   "cell_type": "markdown",
   "metadata": {},
   "source": [
    "### Metrics | Deep Sets\n",
    "We want to see how the predicted catalogs match up with the structural rules and the distributional stats of the original train set."
   ]
  },
  {
   "cell_type": "markdown",
   "metadata": {},
   "source": [
    "#### Structural Metrics"
   ]
  },
  {
   "cell_type": "code",
   "execution_count": 101,
   "metadata": {},
   "outputs": [
    {
     "name": "stdout",
     "output_type": "stream",
     "text": [
      "*** METRICS ***\n",
      "                                GENERAL:\n",
      "              Total testable catalogs %:       0.62%\n",
      "       Catalogs with corrent n tokens %:      100.0%\n",
      "      Catalogs with target num offers %:      15.94%\n",
      "\n",
      "                               SECTIONS:\n",
      "                Valid section average %:      19.06%\n",
      "           Valid section per ruleset % :\n",
      "                                        basic      15.73%\n",
      "                                   green_only      24.47%\n",
      "                                  purple_only      19.26%\n",
      "                             purple_and_green      25.78%\n",
      "\n",
      "                             STRUCTURAL:\n",
      "              Valid catalog structure %:        4.0%\n",
      "            Valid catalog % per ruleset:\n",
      "                                        basic       7.16%\n",
      "                                   green_only        0.0%\n",
      "                                  purple_only        0.0%\n",
      "                             purple_and_green        0.0%\n",
      "           Valid catalog % per sub rule:\n",
      "                                        basic\n",
      "                                first_page_all_red      10.49%\n",
      "                                last_page_all_blue       36.9%\n",
      "                                       max_pages_6      100.0%\n",
      "                                       min_pages_3      100.0%\n",
      "                                   green_only\n",
      "                                first_page_all_red        0.0%\n",
      "                                last_page_all_blue      15.07%\n",
      "                                       max_pages_6      100.0%\n",
      "                                       min_pages_3      100.0%\n",
      "                                  purple_only\n",
      "                               first_page_all_blue        0.0%\n",
      "                                last_page_all_blue       49.0%\n",
      "                                       max_pages_6      100.0%\n",
      "                                       min_pages_3      100.0%\n",
      "                             purple_and_green\n",
      "                                first_page_all_red        0.0%\n",
      "                              last_page_all_purple      10.04%\n",
      "                                       max_pages_6      100.0%\n",
      "                                       min_pages_3      100.0%\n"
     ]
    }
   ],
   "source": [
    "# get metrics for adherence to the rules\n",
    "deep_sets_metrics = get_rule_metrics(deep_sets_predicted_catalogs_as_indices, rules, config)\n",
    "\n",
    "# show metrics nicely\n",
    "show_metrics(deep_sets_metrics)"
   ]
  },
  {
   "cell_type": "markdown",
   "metadata": {},
   "source": [
    "#### Statistical / Distributional Metrics"
   ]
  },
  {
   "cell_type": "code",
   "execution_count": 102,
   "metadata": {},
   "outputs": [
    {
     "name": "stdout",
     "output_type": "stream",
     "text": [
      "Total offer counts:  {'b': 4964, 'r': 8730, 'y': 5262, 'g': 1609, 'p': 889}\n",
      "Total offer %:  {'b': 23.14, 'r': 40.69, 'y': 24.53, 'g': 7.5, 'p': 4.14}\n",
      "Average offers per catalog: 11.21\n",
      "Standard Dev offers per catalog: 0.46\n",
      "Catalogs per num offers:  {11: 4079, 12: 797, 13: 124}\n",
      "Catalogs per offer type:  {'b': 4964, 'r': 4951, 'y': 4759, 'g': 1606, 'p': 879}\n",
      "Catalogs per offer type %:  {'b': 9.93, 'r': 9.9, 'y': 9.52, 'g': 3.21, 'p': 1.76, 'p_and_g': 0.558}\n",
      "Catalogs per number of sections: {4: 131, 5: 1502, 6: 3367}\n",
      "Catalogs per number of sections %: {4: 0.26, 5: 3.0, 6: 6.73}\n",
      "Section count by number of offers: {0: 15061, 1: 1374, 2: 1440, 3: 1929, 4: 3193, 5: 1806, 6: 1375, 7: 1018, 8: 636, 9: 311, 10: 84, 11: 9}\n",
      "Section % by number of offers: {0: 53.34, 1: 4.87, 2: 5.1, 3: 6.83, 4: 11.31, 5: 6.4, 6: 4.87, 7: 3.61, 8: 2.25, 9: 1.1, 10: 0.3, 11: 0.03}\n"
     ]
    }
   ],
   "source": [
    "deep_sets_stats = report_catalog_stats(deep_sets_predicted_catalogs_as_raw, config)"
   ]
  },
  {
   "cell_type": "markdown",
   "metadata": {},
   "source": [
    "#### Sacred Experiment | Model DeepSets\n",
    "We'll want to track the dataset, model params and the result of tests."
   ]
  },
  {
   "cell_type": "markdown",
   "metadata": {},
   "source": [
    "**Sacred will blow up if we give it a config consisting of nested dicts, so we'll need to turn things to list or str.**"
   ]
  },
  {
   "cell_type": "code",
   "execution_count": 103,
   "metadata": {},
   "outputs": [
    {
     "name": "stdout",
     "output_type": "stream",
     "text": [
      "offer_distributions\n",
      "word2idx\n",
      "idx2word\n",
      "rules\n"
     ]
    }
   ],
   "source": [
    "# find nested dicts, show then, turn their values to strings, preserve them for later re-insertion\n",
    "config_safe_copy = dict()\n",
    "for k, v in config.items():\n",
    "    if type(v) == dict:\n",
    "        print(k)\n",
    "        config_safe_copy[k] = str(v)\n",
    "    else:\n",
    "        config_safe_copy[k] = v"
   ]
  },
  {
   "cell_type": "code",
   "execution_count": 104,
   "metadata": {},
   "outputs": [
    {
     "name": "stderr",
     "output_type": "stream",
     "text": [
      "WARNING - root - Changed type of config entry \"cfg.offer_distributions\" from dict to str\n",
      "WARNING - root - Changed type of config entry \"cfg.word2idx\" from dict to str\n",
      "WARNING - root - Changed type of config entry \"cfg.idx2word\" from dict to str\n",
      "WARNING - root - Changed type of config entry \"cfg.rules\" from dict to str\n",
      "INFO - set_to_sequence_functional_synthetic_mask_True - Running command 'run_model_tests'\n",
      "INFO - set_to_sequence_functional_synthetic_mask_True - Started run with ID \"87\"\n"
     ]
    },
    {
     "name": "stdout",
     "output_type": "stream",
     "text": [
      "Model:  <class 'models.DeepSetsPointerNetwork'>\n",
      "Result: 0.2069\n",
      "*** METRICS ***\n",
      "                                GENERAL:\n",
      "              Total testable catalogs %:       0.62%\n",
      "       Catalogs with corrent n tokens %:      100.0%\n",
      "      Catalogs with target num offers %:      15.94%\n",
      "\n",
      "                               SECTIONS:\n",
      "                Valid section average %:      19.06%\n",
      "           Valid section per ruleset % :\n",
      "                                        basic      15.73%\n",
      "                                   green_only      24.47%\n",
      "                                  purple_only      19.26%\n",
      "                             purple_and_green      25.78%\n",
      "\n",
      "                             STRUCTURAL:\n",
      "              Valid catalog structure %:        4.0%\n",
      "            Valid catalog % per ruleset:\n",
      "                                        basic       7.16%\n",
      "                                   green_only        0.0%\n",
      "                                  purple_only        0.0%\n",
      "                             purple_and_green        0.0%\n",
      "           Valid catalog % per sub rule:\n",
      "                                        basic\n",
      "                                first_page_all_red      10.49%\n",
      "                                last_page_all_blue       36.9%\n",
      "                                       max_pages_6      100.0%\n",
      "                                       min_pages_3      100.0%\n",
      "                                   green_only\n",
      "                                first_page_all_red        0.0%\n",
      "                                last_page_all_blue      15.07%\n",
      "                                       max_pages_6      100.0%\n",
      "                                       min_pages_3      100.0%\n",
      "                                  purple_only\n",
      "                               first_page_all_blue        0.0%\n",
      "                                last_page_all_blue       49.0%\n",
      "                                       max_pages_6      100.0%\n",
      "                                       min_pages_3      100.0%\n",
      "                             purple_and_green\n",
      "                                first_page_all_red        0.0%\n",
      "                              last_page_all_purple      10.04%\n",
      "                                       max_pages_6      100.0%\n",
      "                                       min_pages_3      100.0%\n",
      "K-Tau: 0.4067, perc_valid: 100.0\n"
     ]
    },
    {
     "name": "stderr",
     "output_type": "stream",
     "text": [
      "INFO - set_to_sequence_functional_synthetic_mask_True - Result: 0.20686\n",
      "INFO - set_to_sequence_functional_synthetic_mask_True - Completed after 0:00:57\n"
     ]
    },
    {
     "name": "stdout",
     "output_type": "stream",
     "text": [
      "S-Rho: 0.5277, perc_valid: 100.0\n"
     ]
    }
   ],
   "source": [
    "# experiment config\n",
    "current_tested_model = model_deep_sets\n",
    "current_optimizer = optimizer_deep_sets\n",
    "current_last_loss = last_loss_deep_sets\n",
    "\n",
    "config_update = {\n",
    "    'model': current_tested_model.__class__.__name__,\n",
    "    'final_training_loss': round(current_last_loss.item(), 10),\n",
    "    'optimizer': current_optimizer.__class__.__name__,\n",
    "    'cfg': config_safe_copy,\n",
    "}\n",
    "\n",
    "# run the experiment, with updated config\n",
    "run_info = ex.run(config_updates=config_update)"
   ]
  },
  {
   "cell_type": "code",
   "execution_count": 105,
   "metadata": {},
   "outputs": [
    {
     "data": {
      "image/png": "[encoded data removed]",
      "text/plain": [
       "<Figure size 1512x144 with 18 Axes>"
      ]
     },
     "metadata": {
      "needs_background": "light"
     },
     "output_type": "display_data"
    },
    {
     "data": {
      "image/png": "[encoded data removed]",
      "text/plain": [
       "<Figure size 1512x144 with 18 Axes>"
      ]
     },
     "metadata": {
      "needs_background": "light"
     },
     "output_type": "display_data"
    }
   ],
   "source": [
    "# show preds\n",
    "single_x, single_y = get_example(test_dataloader, x_name=0, y_name=1)\n",
    "show_restored_catalog(single_x, single_y, config, img_path_map)\n",
    "_, single_pred = model_deep_sets(single_x.unsqueeze(0))\n",
    "show_restored_catalog(single_x, single_pred, config, img_path_map)"
   ]
  },
  {
   "cell_type": "markdown",
   "metadata": {},
   "source": [
    "### Set Transformer + PtrNet\n",
    "Let's use deep sets to concatenate the representation of the entire set with each element, and then do PtrNet on it."
   ]
  },
  {
   "cell_type": "code",
   "execution_count": 106,
   "metadata": {},
   "outputs": [],
   "source": [
    "from models import SetTransformer, SetTransformerPointerNetwork"
   ]
  },
  {
   "cell_type": "markdown",
   "metadata": {},
   "source": [
    "#### Initialize Set Transformer + PtrNet model"
   ]
  },
  {
   "cell_type": "code",
   "execution_count": 107,
   "metadata": {},
   "outputs": [
    {
     "data": {
      "text/plain": [
       "SetTransformerPointerNetwork(\n",
       "  (embedding): Embedding(8, 128)\n",
       "  (set_embedding): SetTransformer(\n",
       "    (emb): Sequential(\n",
       "      (0): SAB(\n",
       "        (mab): MAB(\n",
       "          (fc_q): Linear(in_features=128, out_features=128, bias=True)\n",
       "          (fc_k): Linear(in_features=128, out_features=128, bias=True)\n",
       "          (fc_v): Linear(in_features=128, out_features=128, bias=True)\n",
       "          (fc_o): Linear(in_features=128, out_features=128, bias=True)\n",
       "        )\n",
       "      )\n",
       "      (1): SAB(\n",
       "        (mab): MAB(\n",
       "          (fc_q): Linear(in_features=128, out_features=128, bias=True)\n",
       "          (fc_k): Linear(in_features=128, out_features=128, bias=True)\n",
       "          (fc_v): Linear(in_features=128, out_features=128, bias=True)\n",
       "          (fc_o): Linear(in_features=128, out_features=128, bias=True)\n",
       "        )\n",
       "      )\n",
       "    )\n",
       "    (enc): Sequential(\n",
       "      (0): PMA(\n",
       "        (mab): MAB(\n",
       "          (fc_q): Linear(in_features=128, out_features=128, bias=True)\n",
       "          (fc_k): Linear(in_features=128, out_features=128, bias=True)\n",
       "          (fc_v): Linear(in_features=128, out_features=128, bias=True)\n",
       "          (fc_o): Linear(in_features=128, out_features=128, bias=True)\n",
       "        )\n",
       "      )\n",
       "      (1): SAB(\n",
       "        (mab): MAB(\n",
       "          (fc_q): Linear(in_features=128, out_features=128, bias=True)\n",
       "          (fc_k): Linear(in_features=128, out_features=128, bias=True)\n",
       "          (fc_v): Linear(in_features=128, out_features=128, bias=True)\n",
       "          (fc_o): Linear(in_features=128, out_features=128, bias=True)\n",
       "        )\n",
       "      )\n",
       "      (2): SAB(\n",
       "        (mab): MAB(\n",
       "          (fc_q): Linear(in_features=128, out_features=128, bias=True)\n",
       "          (fc_k): Linear(in_features=128, out_features=128, bias=True)\n",
       "          (fc_v): Linear(in_features=128, out_features=128, bias=True)\n",
       "          (fc_o): Linear(in_features=128, out_features=128, bias=True)\n",
       "        )\n",
       "      )\n",
       "      (3): Linear(in_features=128, out_features=128, bias=True)\n",
       "    )\n",
       "  )\n",
       "  (encoder): PointerEncoder(\n",
       "    (lstm): LSTM(256, 64, num_layers=2, batch_first=True, dropout=0.05, bidirectional=True)\n",
       "  )\n",
       "  (decoder): PointerDecoder(\n",
       "    (input_to_hidden): Linear(in_features=256, out_features=512, bias=True)\n",
       "    (hidden_to_hidden): Linear(in_features=128, out_features=512, bias=True)\n",
       "    (hidden_out): Linear(in_features=256, out_features=128, bias=True)\n",
       "    (att): PointerAttention(\n",
       "      (input_linear): Linear(in_features=128, out_features=128, bias=True)\n",
       "      (context_linear): Conv1d(128, 128, kernel_size=(1,), stride=(1,))\n",
       "      (soft): Softmax(dim=1)\n",
       "    )\n",
       "  )\n",
       ")"
      ]
     },
     "execution_count": 107,
     "metadata": {},
     "output_type": "execute_result"
    }
   ],
   "source": [
    "# instantiate the model\n",
    "model_set_trans = SetTransformerPointerNetwork(\n",
    "    elem_dims=config['ptr_elem_dim'],\n",
    "    embedding_dim=config['ptr_emb_dim'],\n",
    "    hidden_dim=config['ptr_hid_dim'],\n",
    "    lstm_layers=config['ptr_lstm_lay'],\n",
    "    dropout=config['ptr_dropout'],\n",
    "    bidir=config['ptr_bidir'],\n",
    "    masking=config['ptr_mask'],\n",
    "    embedding_by_dict=True,\n",
    "    embedding_by_dict_size=len(config['word2idx'])\n",
    ")\n",
    "\n",
    "# NEED TO TURN BOTH MODEL AND INPUT DATA TO EITHER .float() or .double() for 32 or 64 bit precision\n",
    "model_set_trans.float()"
   ]
  },
  {
   "cell_type": "code",
   "execution_count": 108,
   "metadata": {},
   "outputs": [
    {
     "name": "stdout",
     "output_type": "stream",
     "text": [
      "The model has 875,776 trainable parameters\n"
     ]
    }
   ],
   "source": [
    "count_params(model_set_trans)"
   ]
  },
  {
   "cell_type": "code",
   "execution_count": 109,
   "metadata": {},
   "outputs": [],
   "source": [
    "# loss\n",
    "CCE = torch.nn.CrossEntropyLoss()"
   ]
  },
  {
   "cell_type": "code",
   "execution_count": 110,
   "metadata": {},
   "outputs": [],
   "source": [
    "# optimizer\n",
    "optimizer_set_trans = optim.Adam(\n",
    "    filter(lambda p: p.requires_grad, model_set_trans.parameters()),\n",
    "    lr=config['learning_rate'])"
   ]
  },
  {
   "cell_type": "code",
   "execution_count": 111,
   "metadata": {},
   "outputs": [
    {
     "name": "stdout",
     "output_type": "stream",
     "text": [
      "Result: 0.0475\n"
     ]
    }
   ],
   "source": [
    "# test untrained model\n",
    "results_set_trans, _ = test_model_custom(model_set_trans, test_dataloader, compare_solved_sort_unique, print_every=999999, x_name=0, y_name=1)\n",
    "print('Result: {:.4f}'.format(results_set_trans))"
   ]
  },
  {
   "cell_type": "code",
   "execution_count": 112,
   "metadata": {},
   "outputs": [
    {
     "name": "stdout",
     "output_type": "stream",
     "text": [
      "K-Tau: -0.0976, % valid: 100.0\n",
      "S-Rho: -0.1399, % valid: 100.0\n"
     ]
    }
   ],
   "source": [
    "# show rank correlations only with mask on\n",
    "print('K-Tau: {:.4f}, % valid: {}'.format(*get_batch_rank_correlation_and_perc_valid(test_dataloader, model_set_trans, get_single_kendall_tau, print_every=999999)))\n",
    "print('S-Rho: {:.4f}, % valid: {}'.format(*get_batch_rank_correlation_and_perc_valid(test_dataloader, model_set_trans, get_single_spearman_rho, print_every=999999)))"
   ]
  },
  {
   "cell_type": "code",
   "execution_count": 113,
   "metadata": {},
   "outputs": [
    {
     "name": "stdout",
     "output_type": "stream",
     "text": [
      "CUDA available, using GPU:\n",
      "Quadro P6000\n"
     ]
    },
    {
     "name": "stderr",
     "output_type": "stream",
     "text": [
      "Epoch 1 / 20: 100%|██████████| 625/625 [01:15<00:00,  8.24 batches/s, avg_loss=2.75426]\n",
      "Epoch 2 / 20: 100%|██████████| 625/625 [01:15<00:00,  8.28 batches/s, avg_loss=2.76650]\n",
      "Epoch 3 / 20: 100%|██████████| 625/625 [01:16<00:00,  8.20 batches/s, avg_loss=2.76738]\n",
      "Epoch 4 / 20: 100%|██████████| 625/625 [01:16<00:00,  8.21 batches/s, avg_loss=2.76849]\n",
      "Epoch 5 / 20: 100%|██████████| 625/625 [01:15<00:00,  8.24 batches/s, avg_loss=2.76984]\n",
      "Epoch 6 / 20: 100%|██████████| 625/625 [01:15<00:00,  8.25 batches/s, avg_loss=2.76801]\n",
      "Epoch 7 / 20: 100%|██████████| 625/625 [01:16<00:00,  8.21 batches/s, avg_loss=2.76590]\n",
      "Epoch 8 / 20: 100%|██████████| 625/625 [01:16<00:00,  8.21 batches/s, avg_loss=2.76418]\n",
      "Epoch 9 / 20: 100%|██████████| 625/625 [01:16<00:00,  8.21 batches/s, avg_loss=2.76304]\n",
      "Epoch 10 / 20: 100%|██████████| 625/625 [01:15<00:00,  8.23 batches/s, avg_loss=2.76348]\n",
      "Epoch 11 / 20: 100%|██████████| 625/625 [01:16<00:00,  8.19 batches/s, avg_loss=2.76239]\n",
      "Epoch 12 / 20: 100%|██████████| 625/625 [01:16<00:00,  8.16 batches/s, avg_loss=2.76348]\n",
      "Epoch 13 / 20: 100%|██████████| 625/625 [01:15<00:00,  8.23 batches/s, avg_loss=2.76130]\n",
      "Epoch 14 / 20: 100%|██████████| 625/625 [01:16<00:00,  8.15 batches/s, avg_loss=2.76154]\n",
      "Epoch 15 / 20: 100%|██████████| 625/625 [01:16<00:00,  8.19 batches/s, avg_loss=2.76168]\n",
      "Epoch 16 / 20: 100%|██████████| 625/625 [01:16<00:00,  8.20 batches/s, avg_loss=2.76256]\n",
      "Epoch 17 / 20: 100%|██████████| 625/625 [01:16<00:00,  8.20 batches/s, avg_loss=2.76195]\n",
      "Epoch 18 / 20: 100%|██████████| 625/625 [01:15<00:00,  8.24 batches/s, avg_loss=2.76202]\n",
      "Epoch 19 / 20: 100%|██████████| 625/625 [01:16<00:00,  8.20 batches/s, avg_loss=2.76241]\n",
      "Epoch 20 / 20: 100%|██████████| 625/625 [01:16<00:00,  8.20 batches/s, avg_loss=2.76080]\n"
     ]
    }
   ],
   "source": [
    "# train\n",
    "last_loss_set_trans = train_epochs(\n",
    "    model_set_trans,\n",
    "    optimizer_set_trans,\n",
    "    CCE,\n",
    "    train_dataloader,\n",
    "    config['num_epochs'],\n",
    "    allow_gpu=True,\n",
    "    x_name=0,\n",
    "    y_name=1)"
   ]
  },
  {
   "cell_type": "code",
   "execution_count": 114,
   "metadata": {},
   "outputs": [
    {
     "data": {
      "text/plain": [
       "2.7607996463775635"
      ]
     },
     "execution_count": 114,
     "metadata": {},
     "output_type": "execute_result"
    }
   ],
   "source": [
    "last_loss_set_trans.item()"
   ]
  },
  {
   "cell_type": "code",
   "execution_count": 115,
   "metadata": {},
   "outputs": [
    {
     "name": "stdout",
     "output_type": "stream",
     "text": [
      "Result: 0.2007\n"
     ]
    }
   ],
   "source": [
    "# test\n",
    "model_set_trans.eval()  # if we had dropout or batchnorm, we must do this\n",
    "\n",
    "# actual metrics\n",
    "results_set_trans, _ = test_model_custom(model_set_trans, test_dataloader, compare_solved_sort_unique, print_every=999999, x_name=0, y_name=1)\n",
    "print('Result: {:.4f}'.format(results_set_trans))"
   ]
  },
  {
   "cell_type": "code",
   "execution_count": 116,
   "metadata": {},
   "outputs": [
    {
     "name": "stdout",
     "output_type": "stream",
     "text": [
      "K-Tau: 0.3937, % valid: 100.0\n",
      "S-Rho: 0.5107, % valid: 100.0\n"
     ]
    }
   ],
   "source": [
    "# show rank correlations only with mask on\n",
    "print('K-Tau: {:.4f}, % valid: {}'.format(*get_batch_rank_correlation_and_perc_valid(test_dataloader, model_set_trans, get_single_kendall_tau, print_every=999999)))\n",
    "print('S-Rho: {:.4f}, % valid: {}'.format(*get_batch_rank_correlation_and_perc_valid(test_dataloader, model_set_trans, get_single_spearman_rho, print_every=999999)))"
   ]
  },
  {
   "cell_type": "code",
   "execution_count": 117,
   "metadata": {},
   "outputs": [],
   "source": [
    "# get x y\n",
    "single_x, single_y = get_example(test_dataloader, x_name=0, y_name=1)"
   ]
  },
  {
   "cell_type": "code",
   "execution_count": 118,
   "metadata": {},
   "outputs": [
    {
     "data": {
      "image/png": "[encoded data removed]",
      "text/plain": [
       "<Figure size 1512x144 with 18 Axes>"
      ]
     },
     "metadata": {
      "needs_background": "light"
     },
     "output_type": "display_data"
    }
   ],
   "source": [
    "# show real sequence\n",
    "show_restored_catalog(single_x, single_y, config, img_path_map)"
   ]
  },
  {
   "cell_type": "code",
   "execution_count": 119,
   "metadata": {},
   "outputs": [
    {
     "data": {
      "image/png": "[encoded data removed]",
      "text/plain": [
       "<Figure size 1512x144 with 18 Axes>"
      ]
     },
     "metadata": {
      "needs_background": "light"
     },
     "output_type": "display_data"
    }
   ],
   "source": [
    "# predict & show\n",
    "_, single_pred = model_set_trans(single_x.unsqueeze(0))\n",
    "show_restored_catalog(single_x, single_pred, config, img_path_map)"
   ]
  },
  {
   "cell_type": "code",
   "execution_count": 120,
   "metadata": {},
   "outputs": [
    {
     "name": "stdout",
     "output_type": "stream",
     "text": [
      "[5, 1, 1, 1, 2, 2, 2, 6, 6, 6, 1, 6, 0, 0, 0, 0, 7, 1]\n"
     ]
    }
   ],
   "source": [
    "print(restore_catalog(single_x, single_pred[0]))"
   ]
  },
  {
   "cell_type": "markdown",
   "metadata": {},
   "source": [
    "#### Predict all catalogs"
   ]
  },
  {
   "cell_type": "code",
   "execution_count": 121,
   "metadata": {},
   "outputs": [
    {
     "name": "stdout",
     "output_type": "stream",
     "text": [
      "[5, 1, 1, 1, 2, 2, 2, 6, 6, 6, 6, 6, 1, 0, 0, 0, 7, 1]\n"
     ]
    }
   ],
   "source": [
    "# get predicted catalogs as indices\n",
    "set_trans_predicted_catalogs_as_indices = predict_catalogs_as_indices(test_dataloader, model_set_trans)\n",
    "print(set_trans_predicted_catalogs_as_indices[0])"
   ]
  },
  {
   "cell_type": "code",
   "execution_count": 122,
   "metadata": {},
   "outputs": [
    {
     "name": "stdout",
     "output_type": "stream",
     "text": [
      "[['r', 'r', 'r', 'y', 'y', 'y'], [], [], [], [], ['r', 'b', 'b', 'b', 'r']]\n"
     ]
    }
   ],
   "source": [
    "# get them as raw\n",
    "set_trans_predicted_catalogs_as_raw = from_indices_to_raw(set_trans_predicted_catalogs_as_indices, config)\n",
    "print(set_trans_predicted_catalogs_as_raw[0])"
   ]
  },
  {
   "cell_type": "code",
   "execution_count": 123,
   "metadata": {},
   "outputs": [
    {
     "name": "stdout",
     "output_type": "stream",
     "text": [
      "['catalog_start', 'r', 'r', 'r', 'y', 'y', 'y', 'page_break', 'page_break', 'page_break', 'page_break', 'page_break', 'r', 'b', 'b', 'b', 'r', 'catalog_end']\n"
     ]
    }
   ],
   "source": [
    "# get them as Catalog() instances\n",
    "set_trans_predicted_catalogs_as_instances = instantiate_catalogs(set_trans_predicted_catalogs_as_raw, config)\n",
    "print(set_trans_predicted_catalogs_as_instances[0].as_sequence())"
   ]
  },
  {
   "cell_type": "markdown",
   "metadata": {},
   "source": [
    "### Metrics | Set Transformer\n",
    "We want to see how the predicted catalogs match up with the structural rules and the distributional stats of the original train set."
   ]
  },
  {
   "cell_type": "markdown",
   "metadata": {},
   "source": [
    "#### Structural Metrics"
   ]
  },
  {
   "cell_type": "code",
   "execution_count": 124,
   "metadata": {},
   "outputs": [
    {
     "name": "stdout",
     "output_type": "stream",
     "text": [
      "*** METRICS ***\n",
      "                                GENERAL:\n",
      "              Total testable catalogs %:       3.46%\n",
      "       Catalogs with corrent n tokens %:      100.0%\n",
      "      Catalogs with target num offers %:      15.94%\n",
      "\n",
      "                               SECTIONS:\n",
      "                Valid section average %:      28.22%\n",
      "           Valid section per ruleset % :\n",
      "                                        basic      18.89%\n",
      "                                   green_only      42.21%\n",
      "                                  purple_only      30.67%\n",
      "                             purple_and_green      37.19%\n",
      "\n",
      "                             STRUCTURAL:\n",
      "              Valid catalog structure %:       10.0%\n",
      "            Valid catalog % per ruleset:\n",
      "                                        basic      10.81%\n",
      "                                   green_only       8.52%\n",
      "                                  purple_only        0.0%\n",
      "                             purple_and_green      30.47%\n",
      "           Valid catalog % per sub rule:\n",
      "                                        basic\n",
      "                                first_page_all_red      25.34%\n",
      "                                last_page_all_blue      29.74%\n",
      "                                       max_pages_6      100.0%\n",
      "                                       min_pages_3      100.0%\n",
      "                                   green_only\n",
      "                                first_page_all_red      86.06%\n",
      "                                last_page_all_blue      11.15%\n",
      "                                       max_pages_6      100.0%\n",
      "                                       min_pages_3      100.0%\n",
      "                                  purple_only\n",
      "                               first_page_all_blue        0.0%\n",
      "                                last_page_all_blue      51.83%\n",
      "                                       max_pages_6      100.0%\n",
      "                                       min_pages_3      100.0%\n",
      "                             purple_and_green\n",
      "                                first_page_all_red      67.03%\n",
      "                              last_page_all_purple      51.97%\n",
      "                                       max_pages_6      100.0%\n",
      "                                       min_pages_3      100.0%\n"
     ]
    }
   ],
   "source": [
    "# get metrics for adherence to the rules\n",
    "set_trans_metrics = get_rule_metrics(set_trans_predicted_catalogs_as_indices, rules, config)\n",
    "\n",
    "# show metrics nicely\n",
    "show_metrics(set_trans_metrics)"
   ]
  },
  {
   "cell_type": "markdown",
   "metadata": {},
   "source": [
    "#### Statistical / Distributional Metrics"
   ]
  },
  {
   "cell_type": "code",
   "execution_count": 125,
   "metadata": {},
   "outputs": [
    {
     "name": "stdout",
     "output_type": "stream",
     "text": [
      "Total offer counts:  {'b': 5130, 'r': 8514, 'y': 5734, 'g': 1626, 'p': 879}\n",
      "Total offer %:  {'b': 23.44, 'r': 38.91, 'y': 26.2, 'g': 7.43, 'p': 4.02}\n",
      "Average offers per catalog: 11.21\n",
      "Standard Dev offers per catalog: 0.46\n",
      "Catalogs per num offers:  {11: 4079, 12: 797, 13: 124}\n",
      "Catalogs per offer type:  {'b': 4964, 'r': 4951, 'y': 4759, 'g': 1606, 'p': 879}\n",
      "Catalogs per offer type %:  {'b': 9.93, 'r': 9.9, 'y': 9.52, 'g': 3.21, 'p': 1.76, 'p_and_g': 0.558}\n",
      "Catalogs per number of sections: {3: 16, 4: 186, 5: 1446, 6: 3352}\n",
      "Catalogs per number of sections %: {3: 0.03, 4: 0.37, 5: 2.89, 6: 6.7}\n",
      "Section count by number of offers: {0: 12549, 1: 3920, 2: 2100, 3: 1822, 4: 2278, 5: 2050, 6: 1772, 7: 921, 8: 505, 9: 192, 10: 25}\n",
      "Section % by number of offers: {0: 44.6, 1: 13.93, 2: 7.46, 3: 6.48, 4: 8.1, 5: 7.29, 6: 6.3, 7: 3.27, 8: 1.79, 9: 0.68, 10: 0.09}\n"
     ]
    }
   ],
   "source": [
    "set_trans_stats = report_catalog_stats(set_trans_predicted_catalogs_as_raw, config)"
   ]
  },
  {
   "cell_type": "markdown",
   "metadata": {},
   "source": [
    "#### Sacred Experiment | Model SetTrans\n",
    "We'll want to track the dataset, model params and the result of tests."
   ]
  },
  {
   "cell_type": "markdown",
   "metadata": {},
   "source": [
    "**Sacred will blow up if we give it a config consisting of nested dicts, so we'll need to turn things to list or str.**"
   ]
  },
  {
   "cell_type": "code",
   "execution_count": 126,
   "metadata": {},
   "outputs": [
    {
     "name": "stdout",
     "output_type": "stream",
     "text": [
      "offer_distributions\n",
      "word2idx\n",
      "idx2word\n",
      "rules\n"
     ]
    }
   ],
   "source": [
    "# find nested dicts, show then, turn their values to strings, preserve them for later re-insertion\n",
    "config_safe_copy = dict()\n",
    "for k, v in config.items():\n",
    "    if type(v) == dict:\n",
    "        print(k)\n",
    "        config_safe_copy[k] = str(v)\n",
    "    else:\n",
    "        config_safe_copy[k] = v"
   ]
  },
  {
   "cell_type": "code",
   "execution_count": 127,
   "metadata": {},
   "outputs": [
    {
     "name": "stderr",
     "output_type": "stream",
     "text": [
      "WARNING - root - Changed type of config entry \"cfg.offer_distributions\" from dict to str\n",
      "WARNING - root - Changed type of config entry \"cfg.word2idx\" from dict to str\n",
      "WARNING - root - Changed type of config entry \"cfg.idx2word\" from dict to str\n",
      "WARNING - root - Changed type of config entry \"cfg.rules\" from dict to str\n",
      "INFO - set_to_sequence_functional_synthetic_mask_True - Running command 'run_model_tests'\n",
      "INFO - set_to_sequence_functional_synthetic_mask_True - Started run with ID \"88\"\n"
     ]
    },
    {
     "name": "stdout",
     "output_type": "stream",
     "text": [
      "Model:  <class 'models.SetTransformerPointerNetwork'>\n",
      "Result: 0.2007\n",
      "*** METRICS ***\n",
      "                                GENERAL:\n",
      "              Total testable catalogs %:       3.46%\n",
      "       Catalogs with corrent n tokens %:      100.0%\n",
      "      Catalogs with target num offers %:      15.94%\n",
      "\n",
      "                               SECTIONS:\n",
      "                Valid section average %:      28.22%\n",
      "           Valid section per ruleset % :\n",
      "                                        basic      18.89%\n",
      "                                   green_only      42.21%\n",
      "                                  purple_only      30.67%\n",
      "                             purple_and_green      37.19%\n",
      "\n",
      "                             STRUCTURAL:\n",
      "              Valid catalog structure %:       10.0%\n",
      "            Valid catalog % per ruleset:\n",
      "                                        basic      10.81%\n",
      "                                   green_only       8.52%\n",
      "                                  purple_only        0.0%\n",
      "                             purple_and_green      30.47%\n",
      "           Valid catalog % per sub rule:\n",
      "                                        basic\n",
      "                                first_page_all_red      25.34%\n",
      "                                last_page_all_blue      29.74%\n",
      "                                       max_pages_6      100.0%\n",
      "                                       min_pages_3      100.0%\n",
      "                                   green_only\n",
      "                                first_page_all_red      86.06%\n",
      "                                last_page_all_blue      11.15%\n",
      "                                       max_pages_6      100.0%\n",
      "                                       min_pages_3      100.0%\n",
      "                                  purple_only\n",
      "                               first_page_all_blue        0.0%\n",
      "                                last_page_all_blue      51.83%\n",
      "                                       max_pages_6      100.0%\n",
      "                                       min_pages_3      100.0%\n",
      "                             purple_and_green\n",
      "                                first_page_all_red      67.03%\n",
      "                              last_page_all_purple      51.97%\n",
      "                                       max_pages_6      100.0%\n",
      "                                       min_pages_3      100.0%\n",
      "K-Tau: 0.3937, perc_valid: 100.0\n"
     ]
    },
    {
     "name": "stderr",
     "output_type": "stream",
     "text": [
      "INFO - set_to_sequence_functional_synthetic_mask_True - Result: 0.20069\n",
      "INFO - set_to_sequence_functional_synthetic_mask_True - Completed after 0:01:02\n"
     ]
    },
    {
     "name": "stdout",
     "output_type": "stream",
     "text": [
      "S-Rho: 0.5107, perc_valid: 100.0\n"
     ]
    }
   ],
   "source": [
    "# experiment config\n",
    "current_tested_model = model_set_trans\n",
    "current_optimizer = optimizer_set_trans\n",
    "current_last_loss = last_loss_set_trans\n",
    "\n",
    "config_update = {\n",
    "    'model': current_tested_model.__class__.__name__,\n",
    "    'final_training_loss': round(current_last_loss.item(), 10),\n",
    "    'optimizer': current_optimizer.__class__.__name__,\n",
    "    'cfg': config_safe_copy,\n",
    "}\n",
    "\n",
    "# run the experiment, with updated config\n",
    "run_info = ex.run(config_updates=config_update)"
   ]
  },
  {
   "cell_type": "code",
   "execution_count": 128,
   "metadata": {},
   "outputs": [
    {
     "data": {
      "image/png": "[encoded data removed]",
      "text/plain": [
       "<Figure size 1512x144 with 18 Axes>"
      ]
     },
     "metadata": {
      "needs_background": "light"
     },
     "output_type": "display_data"
    },
    {
     "data": {
      "image/png": "[encoded data removed]",
      "text/plain": [
       "<Figure size 1512x144 with 18 Axes>"
      ]
     },
     "metadata": {
      "needs_background": "light"
     },
     "output_type": "display_data"
    }
   ],
   "source": [
    "# show preds\n",
    "single_x, single_y = get_example(test_dataloader, x_name=0, y_name=1)\n",
    "show_restored_catalog(single_x, single_y, config, img_path_map)\n",
    "_, single_pred = model_set_trans(single_x.unsqueeze(0))\n",
    "show_restored_catalog(single_x, single_pred, config, img_path_map)"
   ]
  },
  {
   "cell_type": "markdown",
   "metadata": {},
   "source": [
    "### Custom Set Embedder + PtrNet\n",
    "Let's use deep sets to concatenate the representation of the entire set with each element, and then do PtrNet on it."
   ]
  },
  {
   "cell_type": "code",
   "execution_count": 129,
   "metadata": {},
   "outputs": [],
   "source": [
    "from models import CustomAttentionSetEmbedder, CustomAttentionPointerNetwork"
   ]
  },
  {
   "cell_type": "markdown",
   "metadata": {},
   "source": [
    "#### Initialize Set Transformer + PtrNet model"
   ]
  },
  {
   "cell_type": "code",
   "execution_count": 130,
   "metadata": {},
   "outputs": [
    {
     "data": {
      "text/plain": [
       "CustomAttentionPointerNetwork(\n",
       "  (embedding): Embedding(8, 128)\n",
       "  (set_embedding): CustomAttentionSetEmbedder(\n",
       "    (l1): CustomAttentionSetLayer(\n",
       "      (e): Sequential(\n",
       "        (0): Linear(in_features=128, out_features=128, bias=True)\n",
       "        (1): ReLU()\n",
       "        (2): Linear(in_features=128, out_features=128, bias=True)\n",
       "        (3): ReLU()\n",
       "      )\n",
       "      (s): Sequential(\n",
       "        (0): Linear(in_features=128, out_features=128, bias=True)\n",
       "        (1): ReLU()\n",
       "        (2): Linear(in_features=128, out_features=1, bias=True)\n",
       "        (3): ReLU()\n",
       "      )\n",
       "      (a): Sequential(\n",
       "        (0): Linear(in_features=128, out_features=128, bias=True)\n",
       "        (1): ReLU()\n",
       "        (2): Linear(in_features=128, out_features=128, bias=True)\n",
       "        (3): ReLU()\n",
       "      )\n",
       "    )\n",
       "    (l2): CustomAttentionSetLayer(\n",
       "      (e): Sequential(\n",
       "        (0): Linear(in_features=128, out_features=128, bias=True)\n",
       "        (1): ReLU()\n",
       "        (2): Linear(in_features=128, out_features=128, bias=True)\n",
       "        (3): ReLU()\n",
       "      )\n",
       "      (s): Sequential(\n",
       "        (0): Linear(in_features=128, out_features=128, bias=True)\n",
       "        (1): ReLU()\n",
       "        (2): Linear(in_features=128, out_features=1, bias=True)\n",
       "        (3): ReLU()\n",
       "      )\n",
       "      (a): Sequential(\n",
       "        (0): Linear(in_features=128, out_features=128, bias=True)\n",
       "        (1): ReLU()\n",
       "        (2): Linear(in_features=128, out_features=128, bias=True)\n",
       "        (3): ReLU()\n",
       "      )\n",
       "    )\n",
       "  )\n",
       "  (encoder): PointerEncoder(\n",
       "    (lstm): LSTM(256, 64, num_layers=2, batch_first=True, dropout=0.05, bidirectional=True)\n",
       "  )\n",
       "  (decoder): PointerDecoder(\n",
       "    (input_to_hidden): Linear(in_features=256, out_features=512, bias=True)\n",
       "    (hidden_to_hidden): Linear(in_features=128, out_features=512, bias=True)\n",
       "    (hidden_out): Linear(in_features=256, out_features=128, bias=True)\n",
       "    (att): PointerAttention(\n",
       "      (input_linear): Linear(in_features=128, out_features=128, bias=True)\n",
       "      (context_linear): Conv1d(128, 128, kernel_size=(1,), stride=(1,))\n",
       "      (soft): Softmax(dim=1)\n",
       "    )\n",
       "  )\n",
       ")"
      ]
     },
     "execution_count": 130,
     "metadata": {},
     "output_type": "execute_result"
    }
   ],
   "source": [
    "# instantiate the model\n",
    "model_custom = CustomAttentionPointerNetwork(\n",
    "    elem_dims=config['ptr_elem_dim'],\n",
    "    embedding_dim=config['ptr_emb_dim'],\n",
    "    hidden_dim=config['ptr_hid_dim'],\n",
    "    lstm_layers=config['ptr_lstm_lay'],\n",
    "    dropout=config['ptr_dropout'],\n",
    "    bidir=config['ptr_bidir'],\n",
    "    masking=config['ptr_mask'],\n",
    "    embedding_by_dict=True,\n",
    "    embedding_by_dict_size=len(config['word2idx'])\n",
    ")\n",
    "\n",
    "# NEED TO TURN BOTH MODEL AND INPUT DATA TO EITHER .float() or .double() for 32 or 64 bit precision\n",
    "model_custom.float()"
   ]
  },
  {
   "cell_type": "code",
   "execution_count": 131,
   "metadata": {},
   "outputs": [
    {
     "name": "stdout",
     "output_type": "stream",
     "text": [
      "The model has 694,274 trainable parameters\n"
     ]
    }
   ],
   "source": [
    "count_params(model_custom)"
   ]
  },
  {
   "cell_type": "code",
   "execution_count": 132,
   "metadata": {},
   "outputs": [],
   "source": [
    "# loss\n",
    "CCE = torch.nn.CrossEntropyLoss()"
   ]
  },
  {
   "cell_type": "code",
   "execution_count": 133,
   "metadata": {},
   "outputs": [],
   "source": [
    "# optimizer\n",
    "optimizer_custom = optim.Adam(\n",
    "    filter(lambda p: p.requires_grad, model_custom.parameters()),\n",
    "    lr=config['learning_rate'])"
   ]
  },
  {
   "cell_type": "code",
   "execution_count": 134,
   "metadata": {},
   "outputs": [
    {
     "name": "stdout",
     "output_type": "stream",
     "text": [
      "Result: 0.0539\n"
     ]
    }
   ],
   "source": [
    "# test untrained model\n",
    "results_custom, _ = test_model_custom(model_custom, test_dataloader, compare_solved_sort_unique, print_every=999999, x_name=0, y_name=1)\n",
    "print('Result: {:.4f}'.format(results_custom))"
   ]
  },
  {
   "cell_type": "code",
   "execution_count": 135,
   "metadata": {},
   "outputs": [
    {
     "name": "stdout",
     "output_type": "stream",
     "text": [
      "K-Tau: 0.0031, % valid: 100.0\n",
      "S-Rho: 0.0033, % valid: 100.0\n"
     ]
    }
   ],
   "source": [
    "# show rank correlations only with mask on\n",
    "print('K-Tau: {:.4f}, % valid: {}'.format(*get_batch_rank_correlation_and_perc_valid(test_dataloader, model_custom, get_single_kendall_tau, print_every=999999)))\n",
    "print('S-Rho: {:.4f}, % valid: {}'.format(*get_batch_rank_correlation_and_perc_valid(test_dataloader, model_custom, get_single_spearman_rho, print_every=999999)))"
   ]
  },
  {
   "cell_type": "code",
   "execution_count": 136,
   "metadata": {},
   "outputs": [
    {
     "name": "stdout",
     "output_type": "stream",
     "text": [
      "CUDA available, using GPU:\n",
      "Quadro P6000\n"
     ]
    },
    {
     "name": "stderr",
     "output_type": "stream",
     "text": [
      "Epoch 1 / 20: 100%|██████████| 625/625 [01:28<00:00,  7.05 batches/s, avg_loss=2.75684]\n",
      "Epoch 2 / 20: 100%|██████████| 625/625 [01:29<00:00,  6.96 batches/s, avg_loss=2.75828]\n",
      "Epoch 3 / 20: 100%|██████████| 625/625 [01:29<00:00,  6.99 batches/s, avg_loss=2.76292]\n",
      "Epoch 4 / 20: 100%|██████████| 625/625 [01:29<00:00,  7.01 batches/s, avg_loss=2.76405]\n",
      "Epoch 5 / 20: 100%|██████████| 625/625 [01:29<00:00,  6.97 batches/s, avg_loss=2.76264]\n",
      "Epoch 6 / 20: 100%|██████████| 625/625 [01:29<00:00,  7.00 batches/s, avg_loss=2.76454]\n",
      "Epoch 7 / 20: 100%|██████████| 625/625 [01:29<00:00,  6.99 batches/s, avg_loss=2.76557]\n",
      "Epoch 8 / 20: 100%|██████████| 625/625 [01:29<00:00,  7.00 batches/s, avg_loss=2.76543]\n",
      "Epoch 9 / 20: 100%|██████████| 625/625 [01:29<00:00,  6.96 batches/s, avg_loss=2.76404]\n",
      "Epoch 10 / 20: 100%|██████████| 625/625 [01:29<00:00,  6.98 batches/s, avg_loss=2.76500]\n",
      "Epoch 11 / 20: 100%|██████████| 625/625 [01:30<00:00,  6.91 batches/s, avg_loss=2.76426]\n",
      "Epoch 12 / 20: 100%|██████████| 625/625 [01:29<00:00,  6.99 batches/s, avg_loss=2.76556]\n",
      "Epoch 13 / 20: 100%|██████████| 625/625 [01:29<00:00,  6.95 batches/s, avg_loss=2.76457]\n",
      "Epoch 14 / 20: 100%|██████████| 625/625 [01:29<00:00,  6.96 batches/s, avg_loss=2.76690]\n",
      "Epoch 15 / 20: 100%|██████████| 625/625 [01:29<00:00,  6.98 batches/s, avg_loss=2.76620]\n",
      "Epoch 16 / 20: 100%|██████████| 625/625 [01:30<00:00,  6.94 batches/s, avg_loss=2.76623]\n",
      "Epoch 17 / 20: 100%|██████████| 625/625 [01:29<00:00,  7.01 batches/s, avg_loss=2.76421]\n",
      "Epoch 18 / 20: 100%|██████████| 625/625 [01:29<00:00,  7.00 batches/s, avg_loss=2.76299]\n",
      "Epoch 19 / 20: 100%|██████████| 625/625 [01:29<00:00,  6.97 batches/s, avg_loss=2.76458]\n",
      "Epoch 20 / 20: 100%|██████████| 625/625 [01:29<00:00,  6.96 batches/s, avg_loss=2.76352]\n"
     ]
    }
   ],
   "source": [
    "# train\n",
    "last_loss_custom = train_epochs(\n",
    "    model_custom,\n",
    "    optimizer_custom,\n",
    "    CCE,\n",
    "    train_dataloader,\n",
    "    config['num_epochs'],\n",
    "    allow_gpu=True,\n",
    "    x_name=0,\n",
    "    y_name=1)"
   ]
  },
  {
   "cell_type": "code",
   "execution_count": 137,
   "metadata": {},
   "outputs": [
    {
     "data": {
      "text/plain": [
       "2.7635226249694824"
      ]
     },
     "execution_count": 137,
     "metadata": {},
     "output_type": "execute_result"
    }
   ],
   "source": [
    "last_loss_custom.item()"
   ]
  },
  {
   "cell_type": "code",
   "execution_count": 138,
   "metadata": {},
   "outputs": [
    {
     "name": "stdout",
     "output_type": "stream",
     "text": [
      "Result: 0.1792\n"
     ]
    }
   ],
   "source": [
    "# test\n",
    "model_custom.eval()  # if we had dropout or batchnorm, we must do this\n",
    "\n",
    "# actual metrics\n",
    "results_custom, _ = test_model_custom(model_custom, test_dataloader, compare_solved_sort_unique, print_every=999999, x_name=0, y_name=1)\n",
    "print('Result: {:.4f}'.format(results_custom))"
   ]
  },
  {
   "cell_type": "code",
   "execution_count": 139,
   "metadata": {},
   "outputs": [
    {
     "name": "stdout",
     "output_type": "stream",
     "text": [
      "K-Tau: 0.3771, % valid: 100.0\n",
      "S-Rho: 0.4851, % valid: 100.0\n"
     ]
    }
   ],
   "source": [
    "# show rank correlations only with mask on\n",
    "print('K-Tau: {:.4f}, % valid: {}'.format(*get_batch_rank_correlation_and_perc_valid(test_dataloader, model_custom, get_single_kendall_tau, print_every=999999)))\n",
    "print('S-Rho: {:.4f}, % valid: {}'.format(*get_batch_rank_correlation_and_perc_valid(test_dataloader, model_custom, get_single_spearman_rho, print_every=999999)))"
   ]
  },
  {
   "cell_type": "code",
   "execution_count": 140,
   "metadata": {},
   "outputs": [],
   "source": [
    "# get x y\n",
    "single_x, single_y = get_example(test_dataloader, x_name=0, y_name=1)"
   ]
  },
  {
   "cell_type": "code",
   "execution_count": 141,
   "metadata": {},
   "outputs": [
    {
     "data": {
      "image/png": "[encoded data removed]",
      "text/plain": [
       "<Figure size 1512x144 with 18 Axes>"
      ]
     },
     "metadata": {
      "needs_background": "light"
     },
     "output_type": "display_data"
    }
   ],
   "source": [
    "# show real sequence\n",
    "show_restored_catalog(single_x, single_y, config, img_path_map)"
   ]
  },
  {
   "cell_type": "code",
   "execution_count": 142,
   "metadata": {},
   "outputs": [
    {
     "data": {
      "image/png": "[encoded data removed]",
      "text/plain": [
       "<Figure size 1512x144 with 18 Axes>"
      ]
     },
     "metadata": {
      "needs_background": "light"
     },
     "output_type": "display_data"
    }
   ],
   "source": [
    "# predict & show\n",
    "_, single_pred = model_custom(single_x.unsqueeze(0))\n",
    "show_restored_catalog(single_x, single_pred, config, img_path_map)"
   ]
  },
  {
   "cell_type": "code",
   "execution_count": 143,
   "metadata": {},
   "outputs": [
    {
     "name": "stdout",
     "output_type": "stream",
     "text": [
      "[5, 1, 1, 1, 6, 2, 2, 2, 6, 1, 1, 1, 1, 1, 6, 0, 0, 7]\n"
     ]
    }
   ],
   "source": [
    "print(restore_catalog(single_x, single_pred[0]))"
   ]
  },
  {
   "cell_type": "markdown",
   "metadata": {},
   "source": [
    "#### Predict all catalogs"
   ]
  },
  {
   "cell_type": "code",
   "execution_count": 144,
   "metadata": {},
   "outputs": [
    {
     "name": "stdout",
     "output_type": "stream",
     "text": [
      "[5, 1, 1, 2, 2, 2, 6, 6, 6, 6, 0, 0, 0, 0, 0, 0, 6, 7]\n"
     ]
    }
   ],
   "source": [
    "# get predicted catalogs as indices\n",
    "custom_predicted_catalogs_as_indices = predict_catalogs_as_indices(test_dataloader, model_custom)\n",
    "print(custom_predicted_catalogs_as_indices[0])"
   ]
  },
  {
   "cell_type": "code",
   "execution_count": 145,
   "metadata": {},
   "outputs": [
    {
     "name": "stdout",
     "output_type": "stream",
     "text": [
      "[['r', 'r', 'y', 'y', 'y'], [], [], [], ['b', 'b', 'b', 'b', 'b', 'b']]\n"
     ]
    }
   ],
   "source": [
    "# get them as raw\n",
    "custom_predicted_catalogs_as_raw = from_indices_to_raw(custom_predicted_catalogs_as_indices, config)\n",
    "print(custom_predicted_catalogs_as_raw[0])"
   ]
  },
  {
   "cell_type": "code",
   "execution_count": 146,
   "metadata": {},
   "outputs": [
    {
     "name": "stdout",
     "output_type": "stream",
     "text": [
      "['catalog_start', 'r', 'r', 'y', 'y', 'y', 'page_break', 'page_break', 'page_break', 'page_break', 'b', 'b', 'b', 'b', 'b', 'b', 'catalog_end']\n"
     ]
    }
   ],
   "source": [
    "# get them as Catalog() instances\n",
    "custom_predicted_catalogs_as_instances = instantiate_catalogs(custom_predicted_catalogs_as_raw, config)\n",
    "print(custom_predicted_catalogs_as_instances[0].as_sequence())"
   ]
  },
  {
   "cell_type": "markdown",
   "metadata": {},
   "source": [
    "### Metrics | Custom Set Embedder\n",
    "We want to see how the predicted catalogs match up with the structural rules and the distributional stats of the original train set."
   ]
  },
  {
   "cell_type": "markdown",
   "metadata": {},
   "source": [
    "#### Structural Metrics"
   ]
  },
  {
   "cell_type": "code",
   "execution_count": 147,
   "metadata": {},
   "outputs": [
    {
     "name": "stdout",
     "output_type": "stream",
     "text": [
      "*** METRICS ***\n",
      "                                GENERAL:\n",
      "              Total testable catalogs %:       0.12%\n",
      "       Catalogs with corrent n tokens %:      100.0%\n",
      "      Catalogs with target num offers %:      15.94%\n",
      "\n",
      "                               SECTIONS:\n",
      "                Valid section average %:      14.66%\n",
      "           Valid section per ruleset % :\n",
      "                                        basic       8.64%\n",
      "                                   green_only      10.61%\n",
      "                                  purple_only      47.42%\n",
      "                             purple_and_green      20.18%\n",
      "\n",
      "                             STRUCTURAL:\n",
      "              Valid catalog structure %:       1.72%\n",
      "            Valid catalog % per ruleset:\n",
      "                                        basic       3.08%\n",
      "                                   green_only        0.0%\n",
      "                                  purple_only        0.0%\n",
      "                             purple_and_green        0.0%\n",
      "           Valid catalog % per sub rule:\n",
      "                                        basic\n",
      "                                first_page_all_red      10.16%\n",
      "                                last_page_all_blue      13.53%\n",
      "                                       max_pages_6      100.0%\n",
      "                                       min_pages_3      100.0%\n",
      "                                   green_only\n",
      "                                first_page_all_red      28.71%\n",
      "                                last_page_all_blue       2.11%\n",
      "                                       max_pages_6      100.0%\n",
      "                                       min_pages_3      100.0%\n",
      "                                  purple_only\n",
      "                               first_page_all_blue        0.0%\n",
      "                                last_page_all_blue      51.83%\n",
      "                                       max_pages_6      100.0%\n",
      "                                       min_pages_3      100.0%\n",
      "                             purple_and_green\n",
      "                                first_page_all_red      40.14%\n",
      "                              last_page_all_purple        0.0%\n",
      "                                       max_pages_6      100.0%\n",
      "                                       min_pages_3      100.0%\n"
     ]
    }
   ],
   "source": [
    "# get metrics for adherence to the rules\n",
    "custom_metrics = get_rule_metrics(custom_predicted_catalogs_as_indices, rules, config)\n",
    "\n",
    "# show metrics nicely\n",
    "show_metrics(custom_metrics)"
   ]
  },
  {
   "cell_type": "markdown",
   "metadata": {},
   "source": [
    "#### Statistical / Distributional Metrics"
   ]
  },
  {
   "cell_type": "code",
   "execution_count": 148,
   "metadata": {},
   "outputs": [
    {
     "name": "stdout",
     "output_type": "stream",
     "text": [
      "Total offer counts:  {'b': 4999, 'r': 9086, 'y': 4759, 'g': 1606, 'p': 879}\n",
      "Total offer %:  {'b': 23.44, 'r': 42.6, 'y': 22.31, 'g': 7.53, 'p': 4.12}\n",
      "Average offers per catalog: 11.21\n",
      "Standard Dev offers per catalog: 0.46\n",
      "Catalogs per num offers:  {11: 4079, 12: 797, 13: 124}\n",
      "Catalogs per offer type:  {'b': 4964, 'r': 4951, 'y': 4759, 'g': 1606, 'p': 879}\n",
      "Catalogs per offer type %:  {'b': 9.93, 'r': 9.9, 'y': 9.52, 'g': 3.21, 'p': 1.76, 'p_and_g': 0.558}\n",
      "Catalogs per number of sections: {4: 135, 5: 1079, 6: 3786}\n",
      "Catalogs per number of sections %: {4: 0.27, 5: 2.16, 6: 7.57}\n",
      "Section count by number of offers: {0: 15976, 1: 2115, 2: 854, 3: 1150, 4: 1851, 5: 2359, 6: 2034, 7: 1412, 8: 647, 9: 222, 10: 30, 11: 1}\n",
      "Section % by number of offers: {0: 55.76, 1: 7.38, 2: 2.98, 3: 4.01, 4: 6.46, 5: 8.23, 6: 7.1, 7: 4.93, 8: 2.26, 9: 0.77, 10: 0.1, 11: 0.0}\n"
     ]
    }
   ],
   "source": [
    "custom_stats = report_catalog_stats(custom_predicted_catalogs_as_raw, config)"
   ]
  },
  {
   "cell_type": "markdown",
   "metadata": {},
   "source": [
    "#### Sacred Experiment | Model Custom\n",
    "We'll want to track the dataset, model params and the result of tests."
   ]
  },
  {
   "cell_type": "markdown",
   "metadata": {},
   "source": [
    "**Sacred will blow up if we give it a config consisting of nested dicts, so we'll need to turn things to list or str.**"
   ]
  },
  {
   "cell_type": "code",
   "execution_count": 149,
   "metadata": {},
   "outputs": [
    {
     "name": "stdout",
     "output_type": "stream",
     "text": [
      "offer_distributions\n",
      "word2idx\n",
      "idx2word\n",
      "rules\n"
     ]
    }
   ],
   "source": [
    "# find nested dicts, show then, turn their values to strings, preserve them for later re-insertion\n",
    "config_safe_copy = dict()\n",
    "for k, v in config.items():\n",
    "    if type(v) == dict:\n",
    "        print(k)\n",
    "        config_safe_copy[k] = str(v)\n",
    "    else:\n",
    "        config_safe_copy[k] = v"
   ]
  },
  {
   "cell_type": "code",
   "execution_count": 150,
   "metadata": {},
   "outputs": [
    {
     "name": "stderr",
     "output_type": "stream",
     "text": [
      "WARNING - root - Changed type of config entry \"cfg.offer_distributions\" from dict to str\n",
      "WARNING - root - Changed type of config entry \"cfg.word2idx\" from dict to str\n",
      "WARNING - root - Changed type of config entry \"cfg.idx2word\" from dict to str\n",
      "WARNING - root - Changed type of config entry \"cfg.rules\" from dict to str\n",
      "INFO - set_to_sequence_functional_synthetic_mask_True - Running command 'run_model_tests'\n",
      "INFO - set_to_sequence_functional_synthetic_mask_True - Started run with ID \"89\"\n"
     ]
    },
    {
     "name": "stdout",
     "output_type": "stream",
     "text": [
      "Model:  <class 'models.CustomAttentionPointerNetwork'>\n",
      "Result: 0.1792\n",
      "*** METRICS ***\n",
      "                                GENERAL:\n",
      "              Total testable catalogs %:       0.12%\n",
      "       Catalogs with corrent n tokens %:      100.0%\n",
      "      Catalogs with target num offers %:      15.94%\n",
      "\n",
      "                               SECTIONS:\n",
      "                Valid section average %:      14.66%\n",
      "           Valid section per ruleset % :\n",
      "                                        basic       8.64%\n",
      "                                   green_only      10.61%\n",
      "                                  purple_only      47.42%\n",
      "                             purple_and_green      20.18%\n",
      "\n",
      "                             STRUCTURAL:\n",
      "              Valid catalog structure %:       1.72%\n",
      "            Valid catalog % per ruleset:\n",
      "                                        basic       3.08%\n",
      "                                   green_only        0.0%\n",
      "                                  purple_only        0.0%\n",
      "                             purple_and_green        0.0%\n",
      "           Valid catalog % per sub rule:\n",
      "                                        basic\n",
      "                                first_page_all_red      10.16%\n",
      "                                last_page_all_blue      13.53%\n",
      "                                       max_pages_6      100.0%\n",
      "                                       min_pages_3      100.0%\n",
      "                                   green_only\n",
      "                                first_page_all_red      28.71%\n",
      "                                last_page_all_blue       2.11%\n",
      "                                       max_pages_6      100.0%\n",
      "                                       min_pages_3      100.0%\n",
      "                                  purple_only\n",
      "                               first_page_all_blue        0.0%\n",
      "                                last_page_all_blue      51.83%\n",
      "                                       max_pages_6      100.0%\n",
      "                                       min_pages_3      100.0%\n",
      "                             purple_and_green\n",
      "                                first_page_all_red      40.14%\n",
      "                              last_page_all_purple        0.0%\n",
      "                                       max_pages_6      100.0%\n",
      "                                       min_pages_3      100.0%\n",
      "K-Tau: 0.3771, perc_valid: 100.0\n"
     ]
    },
    {
     "name": "stderr",
     "output_type": "stream",
     "text": [
      "INFO - set_to_sequence_functional_synthetic_mask_True - Result: 0.17919\n",
      "INFO - set_to_sequence_functional_synthetic_mask_True - Completed after 0:01:03\n"
     ]
    },
    {
     "name": "stdout",
     "output_type": "stream",
     "text": [
      "S-Rho: 0.4851, perc_valid: 100.0\n"
     ]
    }
   ],
   "source": [
    "# experiment config\n",
    "current_tested_model = model_custom\n",
    "current_optimizer = optimizer_custom\n",
    "current_last_loss = last_loss_custom\n",
    "\n",
    "config_update = {\n",
    "    'model': current_tested_model.__class__.__name__,\n",
    "    'final_training_loss': round(current_last_loss.item(), 10),\n",
    "    'optimizer': current_optimizer.__class__.__name__,\n",
    "    'cfg': config_safe_copy,\n",
    "}\n",
    "\n",
    "# run the experiment, with updated config\n",
    "run_info = ex.run(config_updates=config_update)"
   ]
  },
  {
   "cell_type": "code",
   "execution_count": 151,
   "metadata": {},
   "outputs": [
    {
     "data": {
      "image/png": "[encoded data removed]",
      "text/plain": [
       "<Figure size 1512x144 with 18 Axes>"
      ]
     },
     "metadata": {
      "needs_background": "light"
     },
     "output_type": "display_data"
    },
    {
     "data": {
      "image/png": "[encoded data removed]",
      "text/plain": [
       "<Figure size 1512x144 with 18 Axes>"
      ]
     },
     "metadata": {
      "needs_background": "light"
     },
     "output_type": "display_data"
    }
   ],
   "source": [
    "# show preds\n",
    "single_x, single_y = get_example(test_dataloader, x_name=0, y_name=1)\n",
    "show_restored_catalog(single_x, single_y, config, img_path_map)\n",
    "_, single_pred = model_custom(single_x.unsqueeze(0))\n",
    "show_restored_catalog(single_x, single_pred, config, img_path_map)"
   ]
  }
 ],
 "metadata": {
  "kernelspec": {
   "display_name": "Python 3",
   "language": "python",
   "name": "python3"
  },
  "language_info": {
   "codemirror_mode": {
    "name": "ipython",
    "version": 3
   },
   "file_extension": ".py",
   "mimetype": "text/x-python",
   "name": "python",
   "nbconvert_exporter": "python",
   "pygments_lexer": "ipython3",
   "version": "3.6.5"
  }
 },
 "nbformat": 4,
 "nbformat_minor": 4
}
