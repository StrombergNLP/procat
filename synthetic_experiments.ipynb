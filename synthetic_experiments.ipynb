{
 "cells": [
  {
   "cell_type": "markdown",
   "metadata": {},
   "source": [
    "# Synthetic Experiments\n",
    "\n",
    "This aims to be an easily runnable notebook, reporting results to sacred + omniboard + mongodb, which compares a couple set2seq methods (pure PtrNet, DeepSets+ptr, SetTransformer+ptr and Custom+ptr) on the synthetic, functional task, with **more robust metrics** regarding performance on these different structural rules we put into the catalogs."
   ]
  },
  {
   "cell_type": "markdown",
   "metadata": {},
   "source": [
    "##### Imports"
   ]
  },
  {
   "cell_type": "code",
   "execution_count": 1,
   "metadata": {},
   "outputs": [],
   "source": [
    "import copy\n",
    "import json\n",
    "import numpy as np\n",
    "import os\n",
    "import pandas as pd\n",
    "import random\n",
    "import time\n",
    "\n",
    "import torch\n",
    "import torch.backends.cudnn as cudnn\n",
    "import torch.nn as nn\n",
    "import torch.nn.functional as F\n",
    "\n",
    "from torch import optim\n",
    "from torch.utils.data import TensorDataset, DataLoader\n",
    "from torch.nn import Parameter\n",
    "from torch.autograd import Variable\n",
    "\n",
    "from matplotlib import pyplot as plt\n",
    "from tqdm import tqdm\n",
    "\n",
    "# visuals\n",
    "from IPython.display import Image\n",
    "import matplotlib.pyplot as plt\n",
    "import matplotlib.image as mpimg\n",
    "from matplotlib import rcParams\n",
    "%matplotlib inline\n",
    "\n",
    "import warnings\n",
    "warnings.filterwarnings(\"ignore\", category=UserWarning)"
   ]
  },
  {
   "cell_type": "code",
   "execution_count": 2,
   "metadata": {},
   "outputs": [],
   "source": [
    "# sacred experiment tracking with omniboard\n",
    "from sacred import Experiment\n",
    "from sacred.observers import MongoObserver"
   ]
  },
  {
   "cell_type": "code",
   "execution_count": 3,
   "metadata": {},
   "outputs": [],
   "source": [
    "# custom utils\n",
    "from synthetic_functional import *\n",
    "from utils import count_params, train_epochs\n",
    "from data import test_model_custom, compare_solved_sort_unique, \\\n",
    "    get_single_kendall_tau, get_single_spearman_rho, get_batch_rank_correlation, get_batch_rank_correlation_and_perc_valid"
   ]
  },
  {
   "cell_type": "code",
   "execution_count": 4,
   "metadata": {},
   "outputs": [],
   "source": [
    "# reload if saved changes in modules\n",
    "%load_ext autoreload\n",
    "%autoreload 2"
   ]
  },
  {
   "cell_type": "code",
   "execution_count": 6,
   "metadata": {},
   "outputs": [],
   "source": [
    "# base img path\n",
    "path_visuals = os.path.join(os.getcwd(), 'img')\n",
    "\n",
    "r = os.path.join(path_visuals, 'red_offer.png')\n",
    "b = os.path.join(path_visuals, 'blue_offer.png')\n",
    "y = os.path.join(path_visuals, 'yellow_offer.png')\n",
    "g = os.path.join(path_visuals, 'green_offer.png')\n",
    "p = os.path.join(path_visuals, 'purple_offer.png')\n",
    "\n",
    "pb = os.path.join(path_visuals, 'page_break.png')\n",
    "cs = os.path.join(path_visuals, 'catalog_start.png')\n",
    "ce = os.path.join(path_visuals, 'catalog_end.png')\n",
    "\n",
    "# map human-readable catalog elem names to img paths\n",
    "img_path_map = dict(r=r, b=b, y=y, g=g, p=p,\n",
    "                    page_break=pb, catalog_start=cs, catalog_end=ce)"
   ]
  },
  {
   "cell_type": "code",
   "execution_count": 7,
   "metadata": {},
   "outputs": [],
   "source": [
    "img_path_map_ind = {1:r, 0:b, 2:y, 3:g, 4:p,\n",
    "                        6:pb, 5:cs, 7:ce}"
   ]
  },
  {
   "cell_type": "markdown",
   "metadata": {},
   "source": [
    "## Config"
   ]
  },
  {
   "cell_type": "code",
   "execution_count": 8,
   "metadata": {},
   "outputs": [],
   "source": [
    "config = dict()"
   ]
  },
  {
   "cell_type": "code",
   "execution_count": 9,
   "metadata": {},
   "outputs": [],
   "source": [
    "# sacred experiment\n",
    "config['ptr_mask'] = True\n",
    "config['task'] = 'set_to_sequence_functional_synthetic'\n",
    "config['experiment_name'] = config['task'] + '_mask_' + str(config['ptr_mask'])\n",
    "config['db_name'] = 'sacred'\n",
    "config['db_url'] = 'localhost:27017'"
   ]
  },
  {
   "cell_type": "code",
   "execution_count": 10,
   "metadata": {},
   "outputs": [],
   "source": [
    "# dataset\n",
    "config['n_catalogs'] = 10000\n",
    "config['n_mset_shuffles'] = 1\n",
    "config['train_proportion'] = 0.8\n",
    "config['n_tokens'] = 20\n",
    "config['n_offers'] = 15\n",
    "config['max_pages'] = 10\n",
    "config['min_pages'] = 3\n",
    "config['offer_distributions'] = {\n",
    "    'b': 100,\n",
    "    'r': 100,\n",
    "    'y': 100,\n",
    "    'g': 5,\n",
    "    'p': 3}\n",
    "config['word2idx'] = {'b': 0, 'r': 1, 'y': 2, 'g': 3, 'p': 4, 'catalog_start': 5, 'page_break': 6, 'catalog_end': 7}\n",
    "config['idx2word'] = {v: k for k, v in config['word2idx'].items()}\n",
    "config['dataset_path'] = os.path.join(os.getcwd(), 'data', '{}_c{}'.format(\n",
    "    config['task'],\n",
    "    config['n_catalogs']))\n",
    "config['dataset_name'] = '{}_c{}_ntok{}_noff{}'.format(\n",
    "    config['task'],\n",
    "    config['n_catalogs'],\n",
    "    config['n_tokens'],\n",
    "    config['n_offers'])\n",
    "\n",
    "# paths\n",
    "path_to_dataset_train = os.path.join(config['dataset_path'], 'train.pb')\n",
    "path_to_dataset_cv =  os.path.join(config['dataset_path'], 'cv.pb')\n",
    "path_to_dataset_test = os.path.join(config['dataset_path'], 'test.pb')"
   ]
  },
  {
   "cell_type": "code",
   "execution_count": 11,
   "metadata": {},
   "outputs": [],
   "source": [
    "# training\n",
    "config['batch_size'] = 64\n",
    "config['learning_rate'] =  0.0001\n",
    "config['num_epochs'] = 1"
   ]
  },
  {
   "cell_type": "code",
   "execution_count": 12,
   "metadata": {},
   "outputs": [],
   "source": [
    "# model\n",
    "config['ptr_elem_dim'] = 1\n",
    "config['ptr_emb_dim'] = 64\n",
    "config['ptr_hid_dim'] = 64\n",
    "config['ptr_lstm_lay'] = 2\n",
    "config['ptr_lstm_lay_plus_for_ptrnet_raw'] = 5\n",
    "config['ptr_dropout'] = 0.05\n",
    "config['ptr_bidir'] = True"
   ]
  },
  {
   "cell_type": "markdown",
   "metadata": {},
   "source": [
    "### Structural Rules"
   ]
  },
  {
   "cell_type": "markdown",
   "metadata": {},
   "source": [
    "#### Structural Rules Description\n",
    "\n",
    "This set of rules includes pairwise and higher-order interactions between offers. E.g. the presence of a (G)reen changes the interaction between (R) and (Y), and the presence of both (G) and (P) simultaneously changes the entire output sequence order (rules for start and end page).\n",
    "\n",
    "1. Page composition rules:\n",
    "    1. fully one of these colours,  **but never** fully (G)reen: \n",
    "        * (R)ed\n",
    "        * (Y)ellow\n",
    "        * (B)lue\n",
    "        * (P)urple\n",
    "    2. if there is **no (G) and no (P)** offer in the set:\n",
    "        * a 50/50 mix of (R) and (Y)\n",
    "    3. if there **is (G) but no (P)** in the set:\n",
    "        * a 50/50 mix of (R) and **(G)**\n",
    "2. Offers per page rules:\n",
    "   * as specified in config, usually between 1-4, or either 2 or 4 for mixed pages to allow for the proportion.\n",
    "3. Pages per catalog rules:\n",
    "   * as specified, approximate due to hard same-number-of-tokens rule\n",
    "4. Catalog start rules:\n",
    "   1. if **no (P)** offer in the set:\n",
    "       * start with full (R) page\n",
    "   2. if **(P) but no (G)** offer present:\n",
    "       * start with full (B) page\n",
    "5. Catalog end rules:\n",
    "   1. if **not (P) and not (G)** offer in the set:\n",
    "       * end with full (B) page\n",
    "   2. if **both (P) and (G)** offers are present:\n",
    "       * end with full (P) page\n",
    "6. Distributional rules:\n",
    "    * as specified in config (the proportional chance of an offer being present in the input set)"
   ]
  },
  {
   "cell_type": "code",
   "execution_count": 13,
   "metadata": {},
   "outputs": [],
   "source": [
    "# catalog-level rules\n",
    "basic_catalog_rules = [\n",
    "    {'name': 'first_page',\n",
    "     'spec': 'all_red'\n",
    "     },\n",
    "    {'name': 'last_page',\n",
    "     'spec': 'all_blue'\n",
    "     },\n",
    "    {'name': 'max_pages',\n",
    "     'spec': config['max_pages']},\n",
    "    {'name': 'min_pages',\n",
    "     'spec': config['min_pages']}\n",
    "]\n",
    "\n",
    "green_only_catalog_rules = [\n",
    "    {'name': 'first_page',\n",
    "     'spec': 'all_red'\n",
    "     },\n",
    "    {'name': 'last_page',\n",
    "     'spec': 'all_blue'\n",
    "     },\n",
    "    {'name': 'max_pages',\n",
    "     'spec': config['max_pages']},\n",
    "    {'name': 'min_pages',\n",
    "     'spec': config['min_pages']}\n",
    "]\n",
    "\n",
    "purple_only_catalog_rules = [\n",
    "    {'name': 'first_page',\n",
    "     'spec': 'all_blue'\n",
    "     },\n",
    "    {'name': 'last_page',\n",
    "     'spec': 'all_blue'\n",
    "     },\n",
    "    {'name': 'max_pages',\n",
    "     'spec': config['max_pages']},\n",
    "    {'name': 'min_pages',\n",
    "     'spec': config['min_pages']}\n",
    "]\n",
    "\n",
    "purple_and_green_catalog_rules = [\n",
    "    {'name': 'first_page',\n",
    "     'spec': 'all_red'\n",
    "     },\n",
    "    {'name': 'last_page',\n",
    "     'spec': 'all_purple'\n",
    "     },\n",
    "    {'name': 'max_pages',\n",
    "     'spec': config['max_pages']},\n",
    "    {'name': 'min_pages',\n",
    "     'spec': config['min_pages']}\n",
    "]"
   ]
  },
  {
   "cell_type": "code",
   "execution_count": 14,
   "metadata": {},
   "outputs": [],
   "source": [
    "# valid section rules\n",
    "basic_valid_sections = [\n",
    "        {'name': 'all_red',\n",
    "         'mixed': False,\n",
    "         'allowed_offer_types': ['r'],\n",
    "         'offers_per_section': [4, 3, 2, 1],\n",
    "         },\n",
    "        {'name': 'all_blue',\n",
    "         'mixed': False,\n",
    "         'allowed_offer_types': ['b'],\n",
    "         'offers_per_section': [4, 3, 2, 1]\n",
    "         },\n",
    "        {'name': 'all_yellow',\n",
    "         'mixed': False,\n",
    "         'allowed_offer_types': ['y'],\n",
    "         'offers_per_section': [4, 3, 2, 1],\n",
    "         'min_offers': 1\n",
    "         },\n",
    "        {'name': 'mix_red_yellow',\n",
    "         'mixed': True,\n",
    "         'allowed_offer_types': ['r', 'y'],\n",
    "         'offers_per_section': [4, 2],\n",
    "         'mix_ratio': [0.5, 0.5]\n",
    "         }\n",
    "    ]\n",
    "\n",
    "green_only_valid_sections = [\n",
    "        {'name': 'all_red',\n",
    "         'mixed': False,\n",
    "         'allowed_offer_types': ['r'],\n",
    "         'offers_per_section': [4, 3, 2, 1],\n",
    "         },\n",
    "        {'name': 'all_blue',\n",
    "         'mixed': False,\n",
    "         'allowed_offer_types': ['b'],\n",
    "         'offers_per_section': [4, 3, 2, 1]\n",
    "         },\n",
    "        {'name': 'all_yellow',\n",
    "         'mixed': False,\n",
    "         'allowed_offer_types': ['y'],\n",
    "         'offers_per_section': [4, 3, 2, 1],\n",
    "         'min_offers': 1\n",
    "         },\n",
    "        {'name': 'mix_green_red',\n",
    "         'mixed': True,\n",
    "         'allowed_offer_types': ['r', 'g'],\n",
    "         'offers_per_section': [4, 2],\n",
    "         'mix_ratio': [0.5, 0.5]\n",
    "         }\n",
    "    ]\n",
    "\n",
    "purple_only_valid_sections = [\n",
    "        {'name': 'all_red',\n",
    "         'mixed': False,\n",
    "         'allowed_offer_types': ['r'],\n",
    "         'offers_per_section': [4, 3, 2, 1],\n",
    "         },\n",
    "        {'name': 'all_blue',\n",
    "         'mixed': False,\n",
    "         'allowed_offer_types': ['b'],\n",
    "         'offers_per_section': [4, 3, 2, 1]\n",
    "         },\n",
    "        {'name': 'all_yellow',\n",
    "         'mixed': False,\n",
    "         'allowed_offer_types': ['y'],\n",
    "         'offers_per_section': [4, 3, 2, 1],\n",
    "         'min_offers': 1\n",
    "         },\n",
    "        {'name': 'mix_red_yellow',\n",
    "         'mixed': True,\n",
    "         'allowed_offer_types': ['r', 'y'],\n",
    "         'offers_per_section': [4, 2],\n",
    "         'mix_ratio': [0.5, 0.5]\n",
    "         },\n",
    "        {'name': 'all_purple',\n",
    "         'mixed': False,\n",
    "         'allowed_offer_types': ['p'],\n",
    "         'offers_per_section': [4, 3, 2, 1],\n",
    "         }\n",
    "    ]\n",
    "\n",
    "purple_and_green_valid_sections = [\n",
    "        {'name': 'all_red',\n",
    "         'mixed': False,\n",
    "         'allowed_offer_types': ['r'],\n",
    "         'offers_per_section': [4, 3, 2, 1],\n",
    "         },\n",
    "        {'name': 'all_blue',\n",
    "         'mixed': False,\n",
    "         'allowed_offer_types': ['b'],\n",
    "         'offers_per_section': [4, 3, 2, 1]\n",
    "         },\n",
    "        {'name': 'all_yellow',\n",
    "         'mixed': False,\n",
    "         'allowed_offer_types': ['y'],\n",
    "         'offers_per_section': [4, 3, 2, 1],\n",
    "         'min_offers': 1\n",
    "         },\n",
    "        {'name': 'mix_red_yellow',\n",
    "         'mixed': True,\n",
    "         'allowed_offer_types': ['r', 'y'],\n",
    "         'offers_per_section': [4, 2],\n",
    "         'mix_ratio': [0.5, 0.5]\n",
    "         },\n",
    "        {'name': 'all_purple',\n",
    "         'mixed': False,\n",
    "         'allowed_offer_types': ['p'],\n",
    "         'offers_per_section': [4, 3, 2, 1],\n",
    "         },\n",
    "        {'name': 'mix_green_red',\n",
    "         'mixed': True,\n",
    "         'allowed_offer_types': ['r', 'g'],\n",
    "         'offers_per_section': [4, 2],\n",
    "         'mix_ratio': [0.5, 0.5]\n",
    "         }\n",
    "    ]"
   ]
  },
  {
   "cell_type": "code",
   "execution_count": 15,
   "metadata": {},
   "outputs": [],
   "source": [
    "# full rules, jointly\n",
    "rules = {'basic':\n",
    "                 {'catalog_rules': basic_catalog_rules,\n",
    "                  'valid_sections': basic_valid_sections},\n",
    "             'green_only':\n",
    "                 {'catalog_rules': green_only_catalog_rules,\n",
    "                  'valid_sections': green_only_valid_sections},\n",
    "             'purple_only':\n",
    "                 {'catalog_rules': purple_only_catalog_rules,\n",
    "                  'valid_sections': purple_only_valid_sections},\n",
    "             'purple_and_green':\n",
    "                 {'catalog_rules': purple_and_green_catalog_rules,\n",
    "                  'valid_sections': purple_and_green_valid_sections}\n",
    "             }"
   ]
  },
  {
   "cell_type": "code",
   "execution_count": 16,
   "metadata": {},
   "outputs": [],
   "source": [
    "config['rules'] = rules"
   ]
  },
  {
   "cell_type": "code",
   "execution_count": 17,
   "metadata": {},
   "outputs": [
    {
     "data": {
      "text/plain": [
       "{'ptr_mask': False,\n",
       " 'task': 'set_to_sequence_functional_synthetic',\n",
       " 'experiment_name': 'set_to_sequence_functional_synthetic_mask_False',\n",
       " 'db_name': 'sacred',\n",
       " 'db_url': 'localhost:27017',\n",
       " 'n_catalogs': 10000,\n",
       " 'n_mset_shuffles': 1,\n",
       " 'train_proportion': 0.8,\n",
       " 'n_tokens': 20,\n",
       " 'n_offers': 15,\n",
       " 'max_pages': 10,\n",
       " 'min_pages': 3,\n",
       " 'offer_distributions': {'b': 100, 'r': 100, 'y': 100, 'g': 5, 'p': 3},\n",
       " 'word2idx': {'b': 0,\n",
       "  'r': 1,\n",
       "  'y': 2,\n",
       "  'g': 3,\n",
       "  'p': 4,\n",
       "  'catalog_start': 5,\n",
       "  'page_break': 6,\n",
       "  'catalog_end': 7},\n",
       " 'idx2word': {0: 'b',\n",
       "  1: 'r',\n",
       "  2: 'y',\n",
       "  3: 'g',\n",
       "  4: 'p',\n",
       "  5: 'catalog_start',\n",
       "  6: 'page_break',\n",
       "  7: 'catalog_end'},\n",
       " 'dataset_path': '/Users/mateuszjurewicz/Documents/PhD/PhD Generative Data/scripts/procat/data/set_to_sequence_functional_synthetic_c10000',\n",
       " 'dataset_name': 'set_to_sequence_functional_synthetic_c10000_ntok20_noff15',\n",
       " 'batch_size': 64,\n",
       " 'learning_rate': 0.0001,\n",
       " 'num_epochs': 1,\n",
       " 'ptr_elem_dim': 1,\n",
       " 'ptr_emb_dim': 64,\n",
       " 'ptr_hid_dim': 64,\n",
       " 'ptr_lstm_lay': 2,\n",
       " 'ptr_lstm_lay_plus_for_ptrnet_raw': 5,\n",
       " 'ptr_dropout': 0.05,\n",
       " 'ptr_bidir': True,\n",
       " 'rules': {'basic': {'catalog_rules': [{'name': 'first_page',\n",
       "     'spec': 'all_red'},\n",
       "    {'name': 'last_page', 'spec': 'all_blue'},\n",
       "    {'name': 'max_pages', 'spec': 10},\n",
       "    {'name': 'min_pages', 'spec': 3}],\n",
       "   'valid_sections': [{'name': 'all_red',\n",
       "     'mixed': False,\n",
       "     'allowed_offer_types': ['r'],\n",
       "     'offers_per_section': [4, 3, 2, 1]},\n",
       "    {'name': 'all_blue',\n",
       "     'mixed': False,\n",
       "     'allowed_offer_types': ['b'],\n",
       "     'offers_per_section': [4, 3, 2, 1]},\n",
       "    {'name': 'all_yellow',\n",
       "     'mixed': False,\n",
       "     'allowed_offer_types': ['y'],\n",
       "     'offers_per_section': [4, 3, 2, 1],\n",
       "     'min_offers': 1},\n",
       "    {'name': 'mix_red_yellow',\n",
       "     'mixed': True,\n",
       "     'allowed_offer_types': ['r', 'y'],\n",
       "     'offers_per_section': [4, 2],\n",
       "     'mix_ratio': [0.5, 0.5]}]},\n",
       "  'green_only': {'catalog_rules': [{'name': 'first_page', 'spec': 'all_red'},\n",
       "    {'name': 'last_page', 'spec': 'all_blue'},\n",
       "    {'name': 'max_pages', 'spec': 10},\n",
       "    {'name': 'min_pages', 'spec': 3}],\n",
       "   'valid_sections': [{'name': 'all_red',\n",
       "     'mixed': False,\n",
       "     'allowed_offer_types': ['r'],\n",
       "     'offers_per_section': [4, 3, 2, 1]},\n",
       "    {'name': 'all_blue',\n",
       "     'mixed': False,\n",
       "     'allowed_offer_types': ['b'],\n",
       "     'offers_per_section': [4, 3, 2, 1]},\n",
       "    {'name': 'all_yellow',\n",
       "     'mixed': False,\n",
       "     'allowed_offer_types': ['y'],\n",
       "     'offers_per_section': [4, 3, 2, 1],\n",
       "     'min_offers': 1},\n",
       "    {'name': 'mix_green_red',\n",
       "     'mixed': True,\n",
       "     'allowed_offer_types': ['r', 'g'],\n",
       "     'offers_per_section': [4, 2],\n",
       "     'mix_ratio': [0.5, 0.5]}]},\n",
       "  'purple_only': {'catalog_rules': [{'name': 'first_page', 'spec': 'all_blue'},\n",
       "    {'name': 'last_page', 'spec': 'all_blue'},\n",
       "    {'name': 'max_pages', 'spec': 10},\n",
       "    {'name': 'min_pages', 'spec': 3}],\n",
       "   'valid_sections': [{'name': 'all_red',\n",
       "     'mixed': False,\n",
       "     'allowed_offer_types': ['r'],\n",
       "     'offers_per_section': [4, 3, 2, 1]},\n",
       "    {'name': 'all_blue',\n",
       "     'mixed': False,\n",
       "     'allowed_offer_types': ['b'],\n",
       "     'offers_per_section': [4, 3, 2, 1]},\n",
       "    {'name': 'all_yellow',\n",
       "     'mixed': False,\n",
       "     'allowed_offer_types': ['y'],\n",
       "     'offers_per_section': [4, 3, 2, 1],\n",
       "     'min_offers': 1},\n",
       "    {'name': 'mix_red_yellow',\n",
       "     'mixed': True,\n",
       "     'allowed_offer_types': ['r', 'y'],\n",
       "     'offers_per_section': [4, 2],\n",
       "     'mix_ratio': [0.5, 0.5]},\n",
       "    {'name': 'all_purple',\n",
       "     'mixed': False,\n",
       "     'allowed_offer_types': ['p'],\n",
       "     'offers_per_section': [4, 3, 2, 1]}]},\n",
       "  'purple_and_green': {'catalog_rules': [{'name': 'first_page',\n",
       "     'spec': 'all_red'},\n",
       "    {'name': 'last_page', 'spec': 'all_purple'},\n",
       "    {'name': 'max_pages', 'spec': 10},\n",
       "    {'name': 'min_pages', 'spec': 3}],\n",
       "   'valid_sections': [{'name': 'all_red',\n",
       "     'mixed': False,\n",
       "     'allowed_offer_types': ['r'],\n",
       "     'offers_per_section': [4, 3, 2, 1]},\n",
       "    {'name': 'all_blue',\n",
       "     'mixed': False,\n",
       "     'allowed_offer_types': ['b'],\n",
       "     'offers_per_section': [4, 3, 2, 1]},\n",
       "    {'name': 'all_yellow',\n",
       "     'mixed': False,\n",
       "     'allowed_offer_types': ['y'],\n",
       "     'offers_per_section': [4, 3, 2, 1],\n",
       "     'min_offers': 1},\n",
       "    {'name': 'mix_red_yellow',\n",
       "     'mixed': True,\n",
       "     'allowed_offer_types': ['r', 'y'],\n",
       "     'offers_per_section': [4, 2],\n",
       "     'mix_ratio': [0.5, 0.5]},\n",
       "    {'name': 'all_purple',\n",
       "     'mixed': False,\n",
       "     'allowed_offer_types': ['p'],\n",
       "     'offers_per_section': [4, 3, 2, 1]},\n",
       "    {'name': 'mix_green_red',\n",
       "     'mixed': True,\n",
       "     'allowed_offer_types': ['r', 'g'],\n",
       "     'offers_per_section': [4, 2],\n",
       "     'mix_ratio': [0.5, 0.5]}]}}}"
      ]
     },
     "execution_count": 17,
     "metadata": {},
     "output_type": "execute_result"
    }
   ],
   "source": [
    "config"
   ]
  },
  {
   "cell_type": "markdown",
   "metadata": {},
   "source": [
    "### Experiment Tracking via Sacred"
   ]
  },
  {
   "cell_type": "code",
   "execution_count": 18,
   "metadata": {},
   "outputs": [],
   "source": [
    "# initiate the experiment\n",
    "ex = Experiment(name=config['experiment_name'], interactive=True)\n",
    "\n",
    "# add an observer, storing experiment info\n",
    "ex.observers.append(MongoObserver(url=config['db_url'], db_name=config['db_name']))"
   ]
  },
  {
   "cell_type": "code",
   "execution_count": 19,
   "metadata": {},
   "outputs": [],
   "source": [
    "# experiment config\n",
    "@ex.config\n",
    "def ex_config():\n",
    "    \n",
    "    # general\n",
    "    learning_rate = config['learning_rate']\n",
    "    dataset = config['dataset_name'] \n",
    "    epochs = config['num_epochs']\n",
    "    cfg = config\n",
    "    \n",
    "    # model\n",
    "    model = None\n",
    "    final_training_loss = None\n",
    "    optimizer = None\n",
    "    \n",
    "    # db \n",
    "    db_name = config['db_name']\n",
    "    db_url = config['db_url']"
   ]
  },
  {
   "cell_type": "code",
   "execution_count": 20,
   "metadata": {},
   "outputs": [],
   "source": [
    "# experiment run function\n",
    "@ex.main\n",
    "def run_model_tests():\n",
    "\n",
    "    # run all tests, get all results\n",
    "    result_general, result_tau, result_spearman, rank_valid_perc, catalogs_testable, catalogs_corrent_n_tokens,\\\n",
    "           catalogs_num_offers_match, valid_sections_avg, \\\n",
    "           valid_sections_avg_basic, valid_sections_avg_green_only,\\\n",
    "           valid_sections_avg_purple_only, valid_sections_avg_purple_and_green, \\\n",
    "           valid_struture_avg, valid_struture_avg_basic, \\\n",
    "           valid_struture_avg_green_only, valid_struture_avg_purple_only, \\\n",
    "           valid_struture_avg_purple_and_green = run_tests(current_tested_model, test_dataloader, config)\n",
    "    \n",
    "    # log params and results\n",
    "    log_experiment_results(result_general, result_tau, result_spearman, rank_valid_perc,\n",
    "                           catalogs_testable, catalogs_corrent_n_tokens,\n",
    "                           catalogs_num_offers_match, valid_sections_avg,\n",
    "                           valid_sections_avg_basic, valid_sections_avg_green_only, \n",
    "                           valid_sections_avg_purple_only, valid_sections_avg_purple_and_green, \n",
    "                           valid_struture_avg, valid_struture_avg_basic, \n",
    "                           valid_struture_avg_green_only, valid_struture_avg_purple_only, \n",
    "                           valid_struture_avg_purple_and_green)\n",
    "    \n",
    "    return round(result_general, 5)"
   ]
  },
  {
   "cell_type": "code",
   "execution_count": 21,
   "metadata": {},
   "outputs": [],
   "source": [
    "def run_tests(a_model, a_dataloader, a_config):\n",
    "    \n",
    "    print('Model: ', a_model.__class__)\n",
    "\n",
    "    a_model.eval() \n",
    "    \n",
    "    # general accuracy\n",
    "    result_general, _ = test_model_custom(a_model, a_dataloader, compare_solved_sort_unique, print_every=999999, x_name=0, y_name=1)\n",
    "    print('Result: {:.4f}'.format(result_general))\n",
    "    \n",
    "    # functional metrics\n",
    "    catalogs_testable, catalogs_corrent_n_tokens,\\\n",
    "           catalogs_num_offers_match, valid_sections_avg, \\\n",
    "           valid_sections_avg_basic, valid_sections_avg_green_only,\\\n",
    "           valid_sections_avg_purple_only, valid_sections_avg_purple_and_green, \\\n",
    "           valid_struture_avg, valid_struture_avg_basic, \\\n",
    "           valid_struture_avg_green_only, valid_struture_avg_purple_only, \\\n",
    "           valid_struture_avg_purple_and_green = test_model_functional(a_model, a_dataloader, a_config)\n",
    "\n",
    "    \n",
    "    result_tau, rank_valid_perc = get_batch_rank_correlation_and_perc_valid(a_dataloader, a_model, get_single_kendall_tau, print_every=999999)\n",
    "    print('K-Tau: {:.4f}, perc_valid: {}'.format(result_tau, rank_valid_perc))\n",
    "\n",
    "    result_spearman, rank_valid_perc = get_batch_rank_correlation_and_perc_valid(a_dataloader, a_model, get_single_spearman_rho, print_every=999999)\n",
    "    print('S-Rho: {:.4f}, perc_valid: {}'.format(result_spearman, rank_valid_perc))\n",
    "\n",
    "    a_model.train()\n",
    "    \n",
    "    return result_general, result_tau, result_spearman, rank_valid_perc, catalogs_testable, catalogs_corrent_n_tokens,\\\n",
    "           catalogs_num_offers_match, valid_sections_avg, \\\n",
    "           valid_sections_avg_basic, valid_sections_avg_green_only,\\\n",
    "           valid_sections_avg_purple_only, valid_sections_avg_purple_and_green, \\\n",
    "           valid_struture_avg, valid_struture_avg_basic, \\\n",
    "           valid_struture_avg_green_only, valid_struture_avg_purple_only, \\\n",
    "           valid_struture_avg_purple_and_green"
   ]
  },
  {
   "cell_type": "code",
   "execution_count": 22,
   "metadata": {},
   "outputs": [],
   "source": [
    "def log_experiment_results(r_general, r_tau, r_spearman, rank_valid_perc, catalogs_testable, catalogs_corrent_n_tokens,\n",
    "                           catalogs_num_offers_match, valid_sections_avg, valid_sections_avg_basic, valid_sections_avg_green_only, \n",
    "                           valid_sections_avg_purple_only, valid_sections_avg_purple_and_green, valid_struture_avg, valid_struture_avg_basic,\n",
    "                           valid_struture_avg_green_only, valid_struture_avg_purple_only, valid_struture_avg_purple_and_green):\n",
    "    \n",
    "    # round if not none\n",
    "    if r_tau:\n",
    "        r_tau = round(r_tau, 5)\n",
    "    if r_spearman:\n",
    "        r_spearman = round(r_spearman, 5)\n",
    "    \n",
    "    # log the results\n",
    "    ex.log_scalar('test.general', r_general)\n",
    "    ex.log_scalar('test.rank_correlation_valid_perc', rank_valid_perc)\n",
    "    ex.log_scalar('test.tau', r_tau, 5)\n",
    "    ex.log_scalar('test.rho', r_spearman, 5)\n",
    "    \n",
    "    # general\n",
    "    ex.log_scalar('test.gen_c_testable', catalogs_testable)\n",
    "    ex.log_scalar('test.gen_c_corr_n_tokens', catalogs_corrent_n_tokens)\n",
    "    ex.log_scalar('test.gen_c_num_off_match', catalogs_num_offers_match)\n",
    "    \n",
    "    # sections\n",
    "    ex.log_scalar('test.sec_valid_s_avg', valid_sections_avg)\n",
    "    ex.log_scalar('test.sec_valid_basic', valid_sections_avg_basic)\n",
    "    ex.log_scalar('test.sec_valid_green', valid_sections_avg_green_only)\n",
    "    ex.log_scalar('test.sec_valid_purple', valid_sections_avg_purple_only)\n",
    "    ex.log_scalar('test.sec_valid_p_and_g', valid_sections_avg_purple_and_green)\n",
    "    \n",
    "    # structural\n",
    "    ex.log_scalar('test.struct_valid_avg', valid_struture_avg)\n",
    "    ex.log_scalar('test.struct_avg_basic', valid_struture_avg_basic)\n",
    "    ex.log_scalar('test.struct_avg_green', valid_struture_avg_green_only)\n",
    "    ex.log_scalar('test.struct_avg_purple', valid_struture_avg_purple_only)\n",
    "    ex.log_scalar('test.struct_avg_p_and_g', valid_struture_avg_purple_and_green)"
   ]
  },
  {
   "cell_type": "code",
   "execution_count": 23,
   "metadata": {},
   "outputs": [],
   "source": [
    "def test_model_functional(model, dataloader, a_config):\n",
    "    \n",
    "    # predict all catalogs from dataloader\n",
    "    predicted_catalogs_as_indices = predict_catalogs_as_indices(dataloader, model)\n",
    "    predicted_catalogs_as_raw = from_indices_to_raw(predicted_catalogs_as_indices, a_config)\n",
    "    predicted_catalogs_as_instances = instantiate_catalogs(predicted_catalogs_as_raw, a_config)\n",
    "    \n",
    "    # get structural / functional metrics\n",
    "    metrics = get_rule_metrics(predicted_catalogs_as_indices, a_config['rules'], a_config)\n",
    "    \n",
    "    # show\n",
    "    show_metrics(metrics)\n",
    "\n",
    "    # return unpacked\n",
    "    # this has to be hardcoded for now\n",
    "    \n",
    "    # general\n",
    "    catalogs_testable = metrics['valid_catalogs_%']\n",
    "    catalogs_corrent_n_tokens = metrics['correct_n_tokens_%']\n",
    "    catalogs_num_offers_match = metrics['num_offers_match_config_%']\n",
    "    \n",
    "    # sections\n",
    "    valid_sections_avg = metrics['valid_sections_%_avg']\n",
    "    valid_sections_avg_basic = metrics['valid_sections_%_per_ruleset']['basic']\n",
    "    valid_sections_avg_green_only = metrics['valid_sections_%_per_ruleset']['green_only']\n",
    "    valid_sections_avg_purple_only = metrics['valid_sections_%_per_ruleset']['purple_only']\n",
    "    valid_sections_avg_purple_and_green = metrics['valid_sections_%_per_ruleset']['purple_and_green']\n",
    "    \n",
    "    # structure\n",
    "    valid_struture_avg = metrics['valid_structure_%_total']\n",
    "    valid_struture_avg_basic = metrics['valid_structure_%_per_ruleset']['basic']\n",
    "    valid_struture_avg_green_only = metrics['valid_structure_%_per_ruleset']['green_only']\n",
    "    valid_struture_avg_purple_only = metrics['valid_structure_%_per_ruleset']['purple_only']\n",
    "    valid_struture_avg_purple_and_green = metrics['valid_structure_%_per_ruleset']['purple_and_green']\n",
    "    \n",
    "    return catalogs_testable, catalogs_corrent_n_tokens,\\\n",
    "           catalogs_num_offers_match, valid_sections_avg, \\\n",
    "           valid_sections_avg_basic, valid_sections_avg_green_only,\\\n",
    "           valid_sections_avg_purple_only, valid_sections_avg_purple_and_green, \\\n",
    "           valid_struture_avg, valid_struture_avg_basic, \\\n",
    "           valid_struture_avg_green_only, valid_struture_avg_purple_only, \\\n",
    "           valid_struture_avg_purple_and_green"
   ]
  },
  {
   "cell_type": "markdown",
   "metadata": {},
   "source": [
    "## Data\n",
    "Look into the available data and transform it to our needs."
   ]
  },
  {
   "cell_type": "markdown",
   "metadata": {},
   "source": [
    "### Data Generation\n",
    "Create catalogs following the config and specified rules (from above)."
   ]
  },
  {
   "cell_type": "code",
   "execution_count": 24,
   "metadata": {},
   "outputs": [],
   "source": [
    "# generate the raw catalogs\n",
    "catalogs_raw = generate_from_rules(rules, config, debug=False)"
   ]
  },
  {
   "cell_type": "code",
   "execution_count": 25,
   "metadata": {},
   "outputs": [],
   "source": [
    "# optionally throw out catalogs that didn't match target n tokens from config\n",
    "catalogs_raw = discard_catalogs_with_wrong_n_tokens(catalogs_raw, config)"
   ]
  },
  {
   "cell_type": "code",
   "execution_count": 26,
   "metadata": {},
   "outputs": [
    {
     "name": "stdout",
     "output_type": "stream",
     "text": [
      "Total offer counts:  {'b': 25474, 'r': 30440, 'y': 29053, 'g': 2262, 'p': 1386}\n",
      "Total offer %:  {'b': 28.75, 'r': 34.35, 'y': 32.79, 'g': 2.55, 'p': 1.56}\n",
      "Average offers per catalog: 13.4\n",
      "Standard Dev offers per catalog: 1.22\n",
      "Catalogs per num offers:  {11: 696, 12: 1603, 13: 2901, 14: 2934, 15: 1533, 16: 323}\n",
      "Catalogs per offer type:  {'b': 9988, 'r': 9981, 'y': 9949, 'g': 2142, 'p': 1336}\n",
      "Catalogs per offer type %:  {'b': 99.88, 'r': 99.81, 'y': 99.49, 'g': 21.42, 'p': 13.36, 'p_and_g': 2.62}\n",
      "Catalogs per number of sections: {5: 323, 6: 1533, 7: 2934, 8: 2901, 9: 1603, 10: 696}\n",
      "Catalogs per number of sections %: {5: 3.23, 6: 15.33, 7: 29.34, 8: 29.01, 9: 16.03, 10: 6.96}\n",
      "Section count by number of offers: {1: 41164, 2: 19743, 3: 6962, 4: 8077}\n",
      "Section % by number of offers: {1: 54.2, 2: 26.0, 3: 9.17, 4: 10.64}\n"
     ]
    }
   ],
   "source": [
    "# report stats\n",
    "stats = report_catalog_stats(catalogs_raw, config)"
   ]
  },
  {
   "cell_type": "code",
   "execution_count": 27,
   "metadata": {},
   "outputs": [],
   "source": [
    "# instantiate class objects\n",
    "catalogs_instantiated = instantiate_catalogs(catalogs_raw, config)"
   ]
  },
  {
   "cell_type": "code",
   "execution_count": 28,
   "metadata": {},
   "outputs": [
    {
     "name": "stdout",
     "output_type": "stream",
     "text": [
      "[5, 1, 6, 2, 6, 0, 6, 2, 6, 2, 6, 0, 6, 1, 1, 6, 2, 6, 0, 6, 0, 7]\n"
     ]
    }
   ],
   "source": [
    "# turn to indices\n",
    "catalogs_as_indices = [c.as_indices() for c in catalogs_instantiated]\n",
    "print(catalogs_as_indices[0])"
   ]
  },
  {
   "cell_type": "code",
   "execution_count": 29,
   "metadata": {},
   "outputs": [
    {
     "name": "stdout",
     "output_type": "stream",
     "text": [
      "*** METRICS ***\n",
      "                                GENERAL:\n",
      "              Total testable catalogs %:      100.0%\n",
      "       Catalogs with corrent n tokens %:      100.0%\n",
      "      Catalogs with target num offers %:      15.35%\n",
      "\n",
      "                               SECTIONS:\n",
      "                Valid section average %:      99.83%\n",
      "           Valid section per ruleset % :\n",
      "                                        basic      99.78%\n",
      "                                   green_only      100.0%\n",
      "                                  purple_only       99.7%\n",
      "                             purple_and_green      99.58%\n",
      "\n",
      "                             STRUCTURAL:\n",
      "              Valid catalog structure %:      99.98%\n",
      "            Valid catalog % per ruleset:\n",
      "                                        basic      100.0%\n",
      "                                   green_only      100.0%\n",
      "                                  purple_only      99.81%\n",
      "                             purple_and_green      100.0%\n",
      "           Valid catalog % per sub rule:\n",
      "                                        basic\n",
      "                                first_page_all_red      100.0%\n",
      "                                last_page_all_blue      100.0%\n",
      "                                      max_pages_10      100.0%\n",
      "                                       min_pages_3      100.0%\n",
      "                                   green_only\n",
      "                                first_page_all_red      100.0%\n",
      "                                last_page_all_blue      100.0%\n",
      "                                      max_pages_10      100.0%\n",
      "                                       min_pages_3      100.0%\n",
      "                                  purple_only\n",
      "                               first_page_all_blue      99.81%\n",
      "                                last_page_all_blue      99.81%\n",
      "                                      max_pages_10      100.0%\n",
      "                                       min_pages_3      100.0%\n",
      "                             purple_and_green\n",
      "                                first_page_all_red      100.0%\n",
      "                              last_page_all_purple      100.0%\n",
      "                                      max_pages_10      100.0%\n",
      "                                       min_pages_3      100.0%\n"
     ]
    }
   ],
   "source": [
    "# show metrics (we expect 100%)\n",
    "metrics = get_rule_metrics(catalogs_as_indices, rules, config)\n",
    "show_metrics(metrics)"
   ]
  },
  {
   "cell_type": "markdown",
   "metadata": {},
   "source": [
    "#### Visualize\n",
    "Show the catalog sequence graphically."
   ]
  },
  {
   "cell_type": "code",
   "execution_count": 30,
   "metadata": {},
   "outputs": [],
   "source": [
    "random_idx = random.randint(0, len(catalogs_instantiated) - 1)"
   ]
  },
  {
   "cell_type": "code",
   "execution_count": 31,
   "metadata": {},
   "outputs": [
    {
     "data": {
      "image/png": "[encoded data removed]",
      "text/plain": [
       "<Figure size 1512x144 with 22 Axes>"
      ]
     },
     "metadata": {
      "needs_background": "light"
     },
     "output_type": "display_data"
    }
   ],
   "source": [
    "show_catalog(catalogs_instantiated[random_idx].as_sequence(), img_path_map)"
   ]
  },
  {
   "cell_type": "code",
   "execution_count": 32,
   "metadata": {},
   "outputs": [
    {
     "data": {
      "image/png": "[encoded data removed]",
      "text/plain": [
       "<Figure size 1512x144 with 22 Axes>"
      ]
     },
     "metadata": {
      "needs_background": "light"
     },
     "output_type": "display_data"
    }
   ],
   "source": [
    "show_catalog(catalogs_instantiated[0].as_sequence(), img_path_map)"
   ]
  },
  {
   "cell_type": "markdown",
   "metadata": {},
   "source": [
    "### Get X and Y\n",
    "Now that we have our synthetic data, let's turn them into something our models will be able to understand."
   ]
  },
  {
   "cell_type": "code",
   "execution_count": 33,
   "metadata": {},
   "outputs": [],
   "source": [
    "# vectorize\n",
    "X, Y = get_xy(catalogs_instantiated, config['n_mset_shuffles'])"
   ]
  },
  {
   "cell_type": "code",
   "execution_count": 34,
   "metadata": {},
   "outputs": [
    {
     "data": {
      "text/plain": [
       "9990"
      ]
     },
     "execution_count": 34,
     "metadata": {},
     "output_type": "execute_result"
    }
   ],
   "source": [
    "# confirm\n",
    "len(X)"
   ]
  },
  {
   "cell_type": "code",
   "execution_count": 35,
   "metadata": {},
   "outputs": [
    {
     "name": "stdout",
     "output_type": "stream",
     "text": [
      "<class 'numpy.ndarray'>\n"
     ]
    }
   ],
   "source": [
    "print(type(X[0]))"
   ]
  },
  {
   "cell_type": "markdown",
   "metadata": {},
   "source": [
    "Show the first one or a random one."
   ]
  },
  {
   "cell_type": "code",
   "execution_count": 36,
   "metadata": {},
   "outputs": [
    {
     "data": {
      "image/png": "[encoded data removed]",
      "text/plain": [
       "<Figure size 1512x144 with 22 Axes>"
      ]
     },
     "metadata": {
      "needs_background": "light"
     },
     "output_type": "display_data"
    }
   ],
   "source": [
    "# show (same) random\n",
    "show_restored_catalog(X[random_idx], Y[random_idx], config, img_path_map)"
   ]
  },
  {
   "cell_type": "code",
   "execution_count": 37,
   "metadata": {},
   "outputs": [
    {
     "data": {
      "image/png": "[encoded data removed]",
      "text/plain": [
       "<Figure size 1512x144 with 22 Axes>"
      ]
     },
     "metadata": {
      "needs_background": "light"
     },
     "output_type": "display_data"
    }
   ],
   "source": [
    "# show first\n",
    "show_restored_catalog(X[0], Y[0], config, img_path_map)"
   ]
  },
  {
   "cell_type": "markdown",
   "metadata": {},
   "source": [
    "#### Train / CV / Test split\n",
    "This doesn't feel very necessary, since we're synthesizing the data according to the same exact simple distribution, but just to stay on the safe side let's do it."
   ]
  },
  {
   "cell_type": "code",
   "execution_count": 38,
   "metadata": {},
   "outputs": [
    {
     "data": {
      "text/plain": [
       "0.8"
      ]
     },
     "execution_count": 38,
     "metadata": {},
     "output_type": "execute_result"
    }
   ],
   "source": [
    "# remind\n",
    "config['train_proportion']"
   ]
  },
  {
   "cell_type": "code",
   "execution_count": 39,
   "metadata": {},
   "outputs": [
    {
     "data": {
      "text/plain": [
       "7992"
      ]
     },
     "execution_count": 39,
     "metadata": {},
     "output_type": "execute_result"
    }
   ],
   "source": [
    "# train split\n",
    "train_split_idx = int(len(X) * config['train_proportion'])\n",
    "train_split_idx"
   ]
  },
  {
   "cell_type": "code",
   "execution_count": 40,
   "metadata": {},
   "outputs": [
    {
     "data": {
      "text/plain": [
       "7992"
      ]
     },
     "execution_count": 40,
     "metadata": {},
     "output_type": "execute_result"
    }
   ],
   "source": [
    "# train set\n",
    "X_train = X[:train_split_idx]\n",
    "Y_train = Y[:train_split_idx]\n",
    "len(X_train)"
   ]
  },
  {
   "cell_type": "markdown",
   "metadata": {},
   "source": [
    "CV and test should be of equal length."
   ]
  },
  {
   "cell_type": "code",
   "execution_count": 41,
   "metadata": {},
   "outputs": [
    {
     "data": {
      "text/plain": [
       "999"
      ]
     },
     "execution_count": 41,
     "metadata": {},
     "output_type": "execute_result"
    }
   ],
   "source": [
    "# cv / test split\n",
    "validation_split_idx = int((len(X) - train_split_idx)/2)\n",
    "validation_split_idx"
   ]
  },
  {
   "cell_type": "code",
   "execution_count": 42,
   "metadata": {},
   "outputs": [
    {
     "data": {
      "text/plain": [
       "999"
      ]
     },
     "execution_count": 42,
     "metadata": {},
     "output_type": "execute_result"
    }
   ],
   "source": [
    "# cv set\n",
    "X_cv = X[train_split_idx:train_split_idx + validation_split_idx]\n",
    "Y_cv = Y[train_split_idx:train_split_idx + validation_split_idx]\n",
    "len(X_cv)"
   ]
  },
  {
   "cell_type": "code",
   "execution_count": 43,
   "metadata": {},
   "outputs": [
    {
     "data": {
      "text/plain": [
       "999"
      ]
     },
     "execution_count": 43,
     "metadata": {},
     "output_type": "execute_result"
    }
   ],
   "source": [
    "# test set\n",
    "X_test = X[train_split_idx + validation_split_idx:]\n",
    "Y_test = Y[train_split_idx + validation_split_idx:]\n",
    "len(X_test)"
   ]
  },
  {
   "cell_type": "markdown",
   "metadata": {},
   "source": [
    "#### Torch tensors"
   ]
  },
  {
   "cell_type": "code",
   "execution_count": 44,
   "metadata": {},
   "outputs": [],
   "source": [
    "# need them as torch tensors first\n",
    "X_train = torch.from_numpy(np.asarray(X_train))\n",
    "X_cv = torch.from_numpy(np.asarray(X_cv))\n",
    "X_test = torch.from_numpy(np.asarray(X_test))"
   ]
  },
  {
   "cell_type": "code",
   "execution_count": 45,
   "metadata": {},
   "outputs": [],
   "source": [
    "# now Y\n",
    "Y_train = torch.from_numpy(np.asarray(Y_train))\n",
    "Y_cv = torch.from_numpy(np.asarray(Y_cv))\n",
    "Y_test = torch.from_numpy(np.asarray(Y_test))"
   ]
  },
  {
   "cell_type": "code",
   "execution_count": 46,
   "metadata": {},
   "outputs": [],
   "source": [
    "# into datasets\n",
    "dataset_train = TensorDataset(X_train, Y_train)\n",
    "dataset_cv = TensorDataset(X_cv, Y_cv)\n",
    "dataset_test = TensorDataset(X_test, Y_test)"
   ]
  },
  {
   "cell_type": "code",
   "execution_count": 47,
   "metadata": {},
   "outputs": [],
   "source": [
    "# loader\n",
    "check_dataloader = DataLoader(dataset_train, batch_size=64)"
   ]
  },
  {
   "cell_type": "code",
   "execution_count": 48,
   "metadata": {},
   "outputs": [
    {
     "data": {
      "text/plain": [
       "(torch.Size([64, 22]), torch.Size([64, 22]))"
      ]
     },
     "execution_count": 48,
     "metadata": {},
     "output_type": "execute_result"
    }
   ],
   "source": [
    "# check\n",
    "x_batch, y_batch = next(iter(check_dataloader))\n",
    "x_batch.size(), y_batch.size()"
   ]
  },
  {
   "cell_type": "code",
   "execution_count": 49,
   "metadata": {},
   "outputs": [
    {
     "data": {
      "text/plain": [
       "tensor([6, 5, 6, 6, 6, 6, 0, 6, 7, 6, 2, 1, 0, 1, 0, 6, 2, 2, 0, 2, 1, 6])"
      ]
     },
     "execution_count": 49,
     "metadata": {},
     "output_type": "execute_result"
    }
   ],
   "source": [
    "# check single\n",
    "x_single = x_batch[0]\n",
    "x_single"
   ]
  },
  {
   "cell_type": "code",
   "execution_count": 50,
   "metadata": {},
   "outputs": [
    {
     "name": "stdout",
     "output_type": "stream",
     "text": [
      "tensor([ 1, 11,  4, 10,  9,  6,  7, 17,  2, 16, 15, 14,  0, 13, 20, 21, 19,  5,\n",
      "        18,  3, 12,  8])\n"
     ]
    }
   ],
   "source": [
    "y_single = y_batch[0]\n",
    "print(y_single)"
   ]
  },
  {
   "cell_type": "code",
   "execution_count": 51,
   "metadata": {},
   "outputs": [
    {
     "data": {
      "text/plain": [
       "tensor([6, 5, 6, 6, 6, 6, 0, 6, 7, 6, 2, 1, 0, 1, 0, 6, 2, 2, 0, 2, 1, 6])"
      ]
     },
     "execution_count": 51,
     "metadata": {},
     "output_type": "execute_result"
    }
   ],
   "source": [
    "x_single"
   ]
  },
  {
   "cell_type": "code",
   "execution_count": 52,
   "metadata": {},
   "outputs": [
    {
     "data": {
      "image/png": "[encoded data removed]",
      "text/plain": [
       "<Figure size 1512x144 with 22 Axes>"
      ]
     },
     "metadata": {
      "needs_background": "light"
     },
     "output_type": "display_data"
    }
   ],
   "source": [
    "# confirm\n",
    "show_restored_catalog(x_single, y_single, config, img_path_map)"
   ]
  },
  {
   "cell_type": "markdown",
   "metadata": {},
   "source": [
    "### Persist & Reload\n",
    "Another good practice - have the small dataset loaded from disk, for perfect repeatability."
   ]
  },
  {
   "cell_type": "code",
   "execution_count": 53,
   "metadata": {},
   "outputs": [
    {
     "data": {
      "text/plain": [
       "'/Users/mateuszjurewicz/Documents/PhD/PhD Generative Data/scripts/procat/data/set_to_sequence_functional_synthetic_c10000'"
      ]
     },
     "execution_count": 53,
     "metadata": {},
     "output_type": "execute_result"
    }
   ],
   "source": [
    "config['dataset_path']"
   ]
  },
  {
   "cell_type": "markdown",
   "metadata": {},
   "source": [
    "If this directory doesn't exist, create it."
   ]
  },
  {
   "cell_type": "code",
   "execution_count": 55,
   "metadata": {},
   "outputs": [
    {
     "name": "stdout",
     "output_type": "stream",
     "text": [
      "directory created\n"
     ]
    }
   ],
   "source": [
    "if os.path.isdir(config['dataset_path']):\n",
    "    print('found')\n",
    "else:\n",
    "    os.makedirs(config['dataset_path'])\n",
    "    print('directory created')"
   ]
  },
  {
   "cell_type": "markdown",
   "metadata": {},
   "source": [
    "### Save data loaders"
   ]
  },
  {
   "cell_type": "code",
   "execution_count": 56,
   "metadata": {},
   "outputs": [],
   "source": [
    "# save train\n",
    "torch.save(dataset_train, path_to_dataset_train)"
   ]
  },
  {
   "cell_type": "code",
   "execution_count": 57,
   "metadata": {},
   "outputs": [],
   "source": [
    "# save cv\n",
    "torch.save(dataset_cv, path_to_dataset_cv)"
   ]
  },
  {
   "cell_type": "code",
   "execution_count": 58,
   "metadata": {},
   "outputs": [],
   "source": [
    "# save cv\n",
    "torch.save(dataset_test, path_to_dataset_test)"
   ]
  },
  {
   "cell_type": "markdown",
   "metadata": {},
   "source": [
    "### Reload data loaders"
   ]
  },
  {
   "cell_type": "code",
   "execution_count": 59,
   "metadata": {},
   "outputs": [],
   "source": [
    "# reload all and turn into dataloaders\n",
    "train_dataset = torch.load(path_to_dataset_train)\n",
    "cv_dataset = torch.load(path_to_dataset_cv)\n",
    "test_dataset = torch.load(path_to_dataset_test)\n",
    "\n",
    "train_dataloader = DataLoader(train_dataset, batch_size=64, shuffle=True, num_workers=4)\n",
    "cv_dataloader = DataLoader(cv_dataset, batch_size=64, shuffle=True, num_workers=4)\n",
    "test_dataloader = DataLoader(test_dataset, batch_size=64, shuffle=True, num_workers=4)"
   ]
  },
  {
   "cell_type": "code",
   "execution_count": 60,
   "metadata": {},
   "outputs": [
    {
     "data": {
      "image/png": "[encoded data removed]",
      "text/plain": [
       "<Figure size 1512x144 with 22 Axes>"
      ]
     },
     "metadata": {
      "needs_background": "light"
     },
     "output_type": "display_data"
    }
   ],
   "source": [
    "# confirm\n",
    "x, y = get_example(train_dataloader)\n",
    "show_restored_catalog(x, y, config, img_path_map)"
   ]
  },
  {
   "cell_type": "code",
   "execution_count": 61,
   "metadata": {},
   "outputs": [
    {
     "data": {
      "text/plain": [
       "torch.Tensor"
      ]
     },
     "execution_count": 61,
     "metadata": {},
     "output_type": "execute_result"
    }
   ],
   "source": [
    "type(x)"
   ]
  },
  {
   "cell_type": "markdown",
   "metadata": {},
   "source": [
    "# Models"
   ]
  },
  {
   "cell_type": "markdown",
   "metadata": {},
   "source": [
    "## Model PtrNet"
   ]
  },
  {
   "cell_type": "code",
   "execution_count": 63,
   "metadata": {},
   "outputs": [],
   "source": [
    "from models import PointerNetwork, PointerEncoder, PointerAttention, PointerDecoder"
   ]
  },
  {
   "cell_type": "code",
   "execution_count": 64,
   "metadata": {},
   "outputs": [],
   "source": [
    "# instantiate the model\n",
    "model_ptrnet = PointerNetwork(\n",
    "    elem_dims=config['ptr_elem_dim'], # not used if embedding_by_dict=True\n",
    "    embedding_dim=config['ptr_emb_dim'],\n",
    "    hidden_dim=config['ptr_hid_dim'],\n",
    "    lstm_layers=config['ptr_lstm_lay']+ config['ptr_lstm_lay_plus_for_ptrnet_raw'],\n",
    "    dropout=config['ptr_dropout'],\n",
    "    bidir=config['ptr_bidir'],\n",
    "    masking=config['ptr_mask'],\n",
    "    embedding_by_dict=True,  # input is not pre-embedded, it's dictionary tokens\n",
    "    embedding_by_dict_size=len(config['word2idx'])\n",
    ")"
   ]
  },
  {
   "cell_type": "code",
   "execution_count": 65,
   "metadata": {},
   "outputs": [
    {
     "name": "stdout",
     "output_type": "stream",
     "text": [
      "The model has 226,048 trainable parameters\n"
     ]
    }
   ],
   "source": [
    "count_params(model_ptrnet)"
   ]
  },
  {
   "cell_type": "code",
   "execution_count": 66,
   "metadata": {},
   "outputs": [],
   "source": [
    "# loss\n",
    "CCE = torch.nn.CrossEntropyLoss()"
   ]
  },
  {
   "cell_type": "code",
   "execution_count": 67,
   "metadata": {},
   "outputs": [],
   "source": [
    "# optimizer\n",
    "optimizer_ptrnet = optim.Adam(\n",
    "    filter(lambda p: p.requires_grad, model_ptrnet.parameters()),\n",
    "    lr=config['learning_rate'])"
   ]
  },
  {
   "cell_type": "markdown",
   "metadata": {},
   "source": [
    "### Model Training"
   ]
  },
  {
   "cell_type": "code",
   "execution_count": 68,
   "metadata": {},
   "outputs": [
    {
     "name": "stdout",
     "output_type": "stream",
     "text": [
      "Result: 0.0455\n"
     ]
    }
   ],
   "source": [
    "# test untrained model\n",
    "results_ptrnet, _ = test_model_custom(model_ptrnet, test_dataloader, compare_solved_sort_unique, print_every=999999, x_name=0, y_name=1)\n",
    "print('Result: {:.4f}'.format(results_ptrnet))"
   ]
  },
  {
   "cell_type": "code",
   "execution_count": 69,
   "metadata": {},
   "outputs": [
    {
     "name": "stdout",
     "output_type": "stream",
     "text": [
      "K-Tau: 0.0000, % valid: 0.0\n",
      "S-Rho: 0.0000, % valid: 0.0\n"
     ]
    }
   ],
   "source": [
    "# show rank correlations only with mask on\n",
    "print('K-Tau: {:.4f}, % valid: {}'.format(*get_batch_rank_correlation_and_perc_valid(test_dataloader, model_ptrnet, get_single_kendall_tau, print_every=999999)))\n",
    "print('S-Rho: {:.4f}, % valid: {}'.format(*get_batch_rank_correlation_and_perc_valid(test_dataloader, model_ptrnet, get_single_spearman_rho, print_every=999999)))"
   ]
  },
  {
   "cell_type": "code",
   "execution_count": 70,
   "metadata": {},
   "outputs": [
    {
     "name": "stderr",
     "output_type": "stream",
     "text": [
      "Epoch 1 / 1: 100%|██████████| 125/125 [00:45<00:00,  2.73 batches/s, avg_loss=3.09104]\n"
     ]
    }
   ],
   "source": [
    "# train\n",
    "last_loss_ptrnet = train_epochs(\n",
    "    model_ptrnet,\n",
    "    optimizer_ptrnet,\n",
    "    CCE,\n",
    "    train_dataloader,\n",
    "    config['num_epochs'],\n",
    "    allow_gpu=True,\n",
    "    x_name=0,\n",
    "    y_name=1)"
   ]
  },
  {
   "cell_type": "code",
   "execution_count": 71,
   "metadata": {},
   "outputs": [
    {
     "data": {
      "text/plain": [
       "3.0910401344299316"
      ]
     },
     "execution_count": 71,
     "metadata": {},
     "output_type": "execute_result"
    }
   ],
   "source": [
    "last_loss_ptrnet.item()"
   ]
  },
  {
   "cell_type": "code",
   "execution_count": 72,
   "metadata": {},
   "outputs": [
    {
     "name": "stdout",
     "output_type": "stream",
     "text": [
      "Result: 0.0460\n"
     ]
    }
   ],
   "source": [
    "# test\n",
    "model_ptrnet.eval()  # if we had dropout or batchnorm, we must do this\n",
    "\n",
    "# actual metrics\n",
    "results_ptrnet, _ = test_model_custom(model_ptrnet, test_dataloader, compare_solved_sort_unique, print_every=999999, x_name=0, y_name=1)\n",
    "print('Result: {:.4f}'.format(results_ptrnet))"
   ]
  },
  {
   "cell_type": "code",
   "execution_count": 73,
   "metadata": {},
   "outputs": [
    {
     "name": "stdout",
     "output_type": "stream",
     "text": [
      "K-Tau: 0.0000, % valid: 0.0\n",
      "S-Rho: 0.0000, % valid: 0.0\n"
     ]
    }
   ],
   "source": [
    "# show rank correlations only with mask on\n",
    "print('K-Tau: {:.4f}, % valid: {}'.format(*get_batch_rank_correlation_and_perc_valid(test_dataloader, model_ptrnet, get_single_kendall_tau, print_every=999999)))\n",
    "print('S-Rho: {:.4f}, % valid: {}'.format(*get_batch_rank_correlation_and_perc_valid(test_dataloader, model_ptrnet, get_single_spearman_rho, print_every=999999)))"
   ]
  },
  {
   "cell_type": "markdown",
   "metadata": {},
   "source": [
    "### Manual test\n",
    "See what it predicts."
   ]
  },
  {
   "cell_type": "code",
   "execution_count": 74,
   "metadata": {},
   "outputs": [],
   "source": [
    "# get x y\n",
    "single_x, single_y = get_example(test_dataloader, x_name=0, y_name=1)"
   ]
  },
  {
   "cell_type": "code",
   "execution_count": 75,
   "metadata": {},
   "outputs": [
    {
     "data": {
      "image/png": "[encoded data removed]",
      "text/plain": [
       "<Figure size 1512x144 with 22 Axes>"
      ]
     },
     "metadata": {
      "needs_background": "light"
     },
     "output_type": "display_data"
    }
   ],
   "source": [
    "# show real sequence\n",
    "show_restored_catalog(single_x, single_y, config, img_path_map)"
   ]
  },
  {
   "cell_type": "code",
   "execution_count": 76,
   "metadata": {},
   "outputs": [
    {
     "data": {
      "image/png": "[encoded data removed]",
      "text/plain": [
       "<Figure size 1512x144 with 22 Axes>"
      ]
     },
     "metadata": {
      "needs_background": "light"
     },
     "output_type": "display_data"
    }
   ],
   "source": [
    "# predict & show\n",
    "_, single_pred = model_ptrnet(single_x.unsqueeze(0))\n",
    "show_restored_catalog(single_x, single_pred, config, img_path_map)"
   ]
  },
  {
   "cell_type": "code",
   "execution_count": 77,
   "metadata": {},
   "outputs": [
    {
     "name": "stdout",
     "output_type": "stream",
     "text": [
      "[6, 6, 6, 6, 6, 6, 6, 6, 6, 6, 6, 6, 6, 6, 6, 6, 6, 6, 6, 6, 6, 6]\n"
     ]
    }
   ],
   "source": [
    "print(restore_catalog(single_x, single_pred[0]))"
   ]
  },
  {
   "cell_type": "markdown",
   "metadata": {},
   "source": [
    "### Predict all catalogs"
   ]
  },
  {
   "cell_type": "code",
   "execution_count": 78,
   "metadata": {},
   "outputs": [
    {
     "name": "stdout",
     "output_type": "stream",
     "text": [
      "[6, 6, 6, 6, 6, 6, 6, 6, 6, 6, 6, 6, 6, 6, 6, 6, 6, 6, 6, 6, 6, 6]\n"
     ]
    }
   ],
   "source": [
    "# get predicted catalogs as indices\n",
    "ptrnet_predicted_catalogs_as_indices = predict_catalogs_as_indices(test_dataloader, model_ptrnet)\n",
    "print(ptrnet_predicted_catalogs_as_indices[0])"
   ]
  },
  {
   "cell_type": "code",
   "execution_count": 79,
   "metadata": {},
   "outputs": [
    {
     "name": "stdout",
     "output_type": "stream",
     "text": [
      "[[], [], [], [], [], [], [], [], [], [], [], [], [], [], [], [], [], [], [], [], [], []]\n"
     ]
    }
   ],
   "source": [
    "# get them as raw\n",
    "ptrnet_predicted_catalogs_as_raw = from_indices_to_raw(ptrnet_predicted_catalogs_as_indices, config)\n",
    "print(ptrnet_predicted_catalogs_as_raw[0])"
   ]
  },
  {
   "cell_type": "code",
   "execution_count": 80,
   "metadata": {},
   "outputs": [
    {
     "name": "stdout",
     "output_type": "stream",
     "text": [
      "['catalog_start', 'page_break', 'page_break', 'page_break', 'page_break', 'page_break', 'page_break', 'page_break', 'page_break', 'page_break', 'page_break', 'page_break', 'page_break', 'page_break', 'page_break', 'page_break', 'page_break', 'page_break', 'page_break', 'page_break', 'page_break', 'page_break', 'catalog_end']\n"
     ]
    }
   ],
   "source": [
    "# get them as Catalog() instances\n",
    "ptrnet_predicted_catalogs_as_instances = instantiate_catalogs(ptrnet_predicted_catalogs_as_raw, config)\n",
    "print(ptrnet_predicted_catalogs_as_instances[0].as_sequence())"
   ]
  },
  {
   "cell_type": "markdown",
   "metadata": {},
   "source": [
    "### Metrics\n",
    "We want to see how the predicted catalogs match up with the structural rules and the distributional stats of the original train set."
   ]
  },
  {
   "cell_type": "markdown",
   "metadata": {},
   "source": [
    "#### Structural Metrics"
   ]
  },
  {
   "cell_type": "code",
   "execution_count": 81,
   "metadata": {},
   "outputs": [
    {
     "name": "stdout",
     "output_type": "stream",
     "text": [
      "*** METRICS ***\n",
      "                                GENERAL:\n",
      "              Total testable catalogs %:        0.0%\n",
      "       Catalogs with corrent n tokens %:      100.0%\n",
      "      Catalogs with target num offers %:        2.6%\n",
      "\n",
      "                               SECTIONS:\n",
      "                Valid section average %:      11.73%\n",
      "           Valid section per ruleset % :\n",
      "                                        basic       9.12%\n",
      "                                   green_only      60.71%\n",
      "                                  purple_only      17.65%\n",
      "                             purple_and_green div by zero%\n",
      "\n",
      "                             STRUCTURAL:\n",
      "              Valid catalog structure %:        0.0%\n",
      "            Valid catalog % per ruleset:\n",
      "                                        basic        0.0%\n",
      "                                   green_only        0.0%\n",
      "                                  purple_only        0.0%\n",
      "                             purple_and_green        0.0%\n",
      "           Valid catalog % per sub rule:\n",
      "                                        basic\n",
      "                                first_page_all_red       6.71%\n",
      "                                last_page_all_blue       5.37%\n",
      "                                      max_pages_10      70.69%\n",
      "                                       min_pages_3      42.72%\n",
      "                                   green_only\n",
      "                                first_page_all_red        0.0%\n",
      "                                last_page_all_blue        0.0%\n",
      "                                      max_pages_10      100.0%\n",
      "                                       min_pages_3      31.58%\n",
      "                                  purple_only\n",
      "                               first_page_all_blue        0.0%\n",
      "                                last_page_all_blue        0.0%\n",
      "                                      max_pages_10      100.0%\n",
      "                                       min_pages_3      18.18%\n",
      "                             purple_and_green\n",
      "                                first_page_all_red        0.0%\n",
      "                              last_page_all_purple        0.0%\n",
      "                                      max_pages_10        0.0%\n",
      "                                       min_pages_3        0.0%\n"
     ]
    }
   ],
   "source": [
    "# get metrics for adherence to the rules\n",
    "ptrnet_metrics = get_rule_metrics(ptrnet_predicted_catalogs_as_indices, rules, config)\n",
    "\n",
    "# show metrics nicely\n",
    "show_metrics(ptrnet_metrics)"
   ]
  },
  {
   "cell_type": "markdown",
   "metadata": {},
   "source": [
    "#### Statistical / Distributional Metrics"
   ]
  },
  {
   "cell_type": "code",
   "execution_count": 82,
   "metadata": {},
   "outputs": [
    {
     "name": "stdout",
     "output_type": "stream",
     "text": [
      "Total offer counts:  {'b': 548, 'r': 612, 'y': 296, 'g': 56, 'p': 17}\n",
      "Total offer %:  {'b': 35.84, 'r': 40.03, 'y': 19.36, 'g': 3.66, 'p': 1.11}\n",
      "Average offers per catalog: 12.48\n",
      "Standard Dev offers per catalog: 10.16\n",
      "Catalogs per num offers:  {0: 387, 15: 26, 22: 429, 16: 24, 12: 12, 17: 60, 18: 31, 19: 11, 13: 2, 21: 5, 14: 7, 20: 5}\n",
      "Catalogs per offer type:  {'b': 233, 'r': 248, 'y': 296, 'g': 19, 'p': 11}\n",
      "Catalogs per offer type %:  {'b': 2.33, 'r': 2.48, 'y': 2.96, 'g': 0.19, 'p': 0.11, 'p_and_g': 0.0}\n",
      "Catalogs per number of sections: {0: 104, 1: 470, 2: 3, 3: 5, 4: 15, 5: 34, 6: 48, 7: 23, 8: 9, 9: 3, 10: 1, 11: 1, 22: 283}\n",
      "Catalogs per number of sections %: {0: 1.04, 1: 4.7, 2: 0.03, 3: 0.05, 4: 0.15, 5: 0.34, 6: 0.48, 7: 0.23, 8: 0.09, 9: 0.03, 10: 0.01, 11: 0.01, 22: 2.83}\n",
      "Section count by number of offers: {0: 6226, 1: 54, 2: 278, 3: 305, 4: 122, 5: 32, 6: 15, 7: 4, 8: 4, 10: 1, 11: 1, 12: 12, 13: 2, 14: 4, 15: 7, 16: 7, 17: 2, 18: 3, 19: 4, 20: 1, 21: 3, 22: 429}\n",
      "Section % by number of offers: {0: 82.84, 1: 0.72, 2: 3.7, 3: 4.06, 4: 1.62, 5: 0.43, 6: 0.2, 7: 0.05, 8: 0.05, 10: 0.01, 11: 0.01, 12: 0.16, 13: 0.03, 14: 0.05, 15: 0.09, 16: 0.09, 17: 0.03, 18: 0.04, 19: 0.05, 20: 0.01, 21: 0.04, 22: 5.71}\n"
     ]
    }
   ],
   "source": [
    "ptrnet_stats = report_catalog_stats(ptrnet_predicted_catalogs_as_raw, config)"
   ]
  },
  {
   "cell_type": "markdown",
   "metadata": {},
   "source": [
    "#### Sacred Experiment | Model PtrNet\n",
    "We'll want to track the dataset, model params and the result of tests."
   ]
  },
  {
   "cell_type": "markdown",
   "metadata": {},
   "source": [
    "**Sacred will blow up if we give it a config consisting of nested dicts, so we'll need to turn things to list or str.**"
   ]
  },
  {
   "cell_type": "code",
   "execution_count": 83,
   "metadata": {},
   "outputs": [
    {
     "name": "stdout",
     "output_type": "stream",
     "text": [
      "offer_distributions\n",
      "word2idx\n",
      "idx2word\n",
      "rules\n"
     ]
    }
   ],
   "source": [
    "# find nested dicts, show then, turn their values to strings, preserve them for later re-insertion\n",
    "config_safe_copy = dict()\n",
    "for k, v in config.items():\n",
    "    if type(v) == dict:\n",
    "        print(k)\n",
    "        config_safe_copy[k] = str(v)\n",
    "    else:\n",
    "        config_safe_copy[k] = v"
   ]
  },
  {
   "cell_type": "code",
   "execution_count": 84,
   "metadata": {},
   "outputs": [
    {
     "name": "stderr",
     "output_type": "stream",
     "text": [
      "WARNING - root - Changed type of config entry \"cfg.offer_distributions\" from dict to str\n",
      "WARNING - root - Changed type of config entry \"cfg.word2idx\" from dict to str\n",
      "WARNING - root - Changed type of config entry \"cfg.idx2word\" from dict to str\n",
      "WARNING - root - Changed type of config entry \"cfg.rules\" from dict to str\n",
      "INFO - set_to_sequence_functional_synthetic_mask_False - Running command 'run_model_tests'\n",
      "INFO - set_to_sequence_functional_synthetic_mask_False - Started run with ID \"343\"\n"
     ]
    },
    {
     "name": "stdout",
     "output_type": "stream",
     "text": [
      "Model:  <class 'models.PointerNetwork'>\n",
      "Result: 0.0460\n",
      "*** METRICS ***\n",
      "                                GENERAL:\n",
      "              Total testable catalogs %:        0.0%\n",
      "       Catalogs with corrent n tokens %:      100.0%\n",
      "      Catalogs with target num offers %:        2.6%\n",
      "\n",
      "                               SECTIONS:\n",
      "                Valid section average %:      11.73%\n",
      "           Valid section per ruleset % :\n",
      "                                        basic       9.12%\n",
      "                                   green_only      60.71%\n",
      "                                  purple_only      17.65%\n",
      "                             purple_and_green div by zero%\n",
      "\n",
      "                             STRUCTURAL:\n",
      "              Valid catalog structure %:        0.0%\n",
      "            Valid catalog % per ruleset:\n",
      "                                        basic        0.0%\n",
      "                                   green_only        0.0%\n",
      "                                  purple_only        0.0%\n",
      "                             purple_and_green        0.0%\n",
      "           Valid catalog % per sub rule:\n",
      "                                        basic\n",
      "                                first_page_all_red       6.71%\n",
      "                                last_page_all_blue       5.37%\n",
      "                                      max_pages_10      70.69%\n",
      "                                       min_pages_3      42.72%\n",
      "                                   green_only\n",
      "                                first_page_all_red        0.0%\n",
      "                                last_page_all_blue        0.0%\n",
      "                                      max_pages_10      100.0%\n",
      "                                       min_pages_3      31.58%\n",
      "                                  purple_only\n",
      "                               first_page_all_blue        0.0%\n",
      "                                last_page_all_blue        0.0%\n",
      "                                      max_pages_10      100.0%\n",
      "                                       min_pages_3      18.18%\n",
      "                             purple_and_green\n",
      "                                first_page_all_red        0.0%\n",
      "                              last_page_all_purple        0.0%\n",
      "                                      max_pages_10        0.0%\n",
      "                                       min_pages_3        0.0%\n",
      "K-Tau: 0.0000, perc_valid: 0.0\n"
     ]
    },
    {
     "name": "stderr",
     "output_type": "stream",
     "text": [
      "INFO - set_to_sequence_functional_synthetic_mask_False - Result: 0.04605\n",
      "INFO - set_to_sequence_functional_synthetic_mask_False - Completed after 0:00:10\n"
     ]
    },
    {
     "name": "stdout",
     "output_type": "stream",
     "text": [
      "S-Rho: 0.0000, perc_valid: 0.0\n"
     ]
    }
   ],
   "source": [
    "# experiment config\n",
    "current_tested_model = model_ptrnet\n",
    "current_optimizer = optimizer_ptrnet\n",
    "current_last_loss = last_loss_ptrnet\n",
    "\n",
    "config_update = {\n",
    "    'model': current_tested_model.__class__.__name__,\n",
    "    'final_training_loss': round(current_last_loss.item(), 10),\n",
    "    'optimizer': current_optimizer.__class__.__name__,\n",
    "    'cfg': config_safe_copy,\n",
    "}\n",
    "\n",
    "# run the experiment, with updated config\n",
    "run_info = ex.run(config_updates=config_update)"
   ]
  },
  {
   "cell_type": "code",
   "execution_count": 85,
   "metadata": {},
   "outputs": [
    {
     "data": {
      "image/png": "[encoded data removed]",
      "text/plain": [
       "<Figure size 1512x144 with 22 Axes>"
      ]
     },
     "metadata": {
      "needs_background": "light"
     },
     "output_type": "display_data"
    },
    {
     "data": {
      "image/png": "[encoded data removed]",
      "text/plain": [
       "<Figure size 1512x144 with 22 Axes>"
      ]
     },
     "metadata": {
      "needs_background": "light"
     },
     "output_type": "display_data"
    }
   ],
   "source": [
    "# show preds\n",
    "single_x, single_y = get_example(test_dataloader, x_name=0, y_name=1)\n",
    "show_restored_catalog(single_x, single_y, config, img_path_map)\n",
    "_, single_pred = model_ptrnet(single_x.unsqueeze(0))\n",
    "show_restored_catalog(single_x, single_pred, config, img_path_map)"
   ]
  },
  {
   "cell_type": "markdown",
   "metadata": {},
   "source": [
    "### DeepSets + PtrNet\n",
    "Let's use deep sets to concatenate the representation of the entire set with each element, and then do PtrNet on it."
   ]
  },
  {
   "cell_type": "code",
   "execution_count": 86,
   "metadata": {},
   "outputs": [],
   "source": [
    "from torch.nn import Parameter\n",
    "from models import DeepSets, DeepSetsPointerNetwork"
   ]
  },
  {
   "cell_type": "markdown",
   "metadata": {},
   "source": [
    "#### Initialize DeepSets+PtrNet model"
   ]
  },
  {
   "cell_type": "code",
   "execution_count": 87,
   "metadata": {},
   "outputs": [
    {
     "data": {
      "text/plain": [
       "DeepSetsPointerNetwork(\n",
       "  (embedding): Embedding(8, 64)\n",
       "  (set_embedding): DeepSets(\n",
       "    (encode): Sequential(\n",
       "      (0): Linear(in_features=64, out_features=64, bias=True)\n",
       "      (1): ReLU()\n",
       "      (2): Linear(in_features=64, out_features=64, bias=True)\n",
       "      (3): ReLU()\n",
       "      (4): Linear(in_features=64, out_features=64, bias=True)\n",
       "      (5): ReLU()\n",
       "      (6): Linear(in_features=64, out_features=128, bias=True)\n",
       "      (7): ReLU()\n",
       "      (8): Linear(in_features=128, out_features=128, bias=True)\n",
       "      (9): ReLU()\n",
       "      (10): Linear(in_features=128, out_features=128, bias=True)\n",
       "      (11): ReLU()\n",
       "      (12): Linear(in_features=128, out_features=64, bias=True)\n",
       "      (13): ReLU()\n",
       "    )\n",
       "    (out): Sequential(\n",
       "      (0): Linear(in_features=64, out_features=64, bias=True)\n",
       "      (1): ReLU()\n",
       "      (2): Linear(in_features=64, out_features=128, bias=True)\n",
       "      (3): ReLU()\n",
       "      (4): Linear(in_features=128, out_features=64, bias=True)\n",
       "      (5): ReLU()\n",
       "      (6): Linear(in_features=64, out_features=64, bias=True)\n",
       "      (7): ReLU()\n",
       "    )\n",
       "  )\n",
       "  (encoder): PointerEncoder(\n",
       "    (lstm): LSTM(128, 32, num_layers=2, batch_first=True, dropout=0.05, bidirectional=True)\n",
       "  )\n",
       "  (decoder): PointerDecoder(\n",
       "    (input_to_hidden): Linear(in_features=128, out_features=256, bias=True)\n",
       "    (hidden_to_hidden): Linear(in_features=64, out_features=256, bias=True)\n",
       "    (hidden_out): Linear(in_features=128, out_features=64, bias=True)\n",
       "    (att): PointerAttention(\n",
       "      (input_linear): Linear(in_features=64, out_features=64, bias=True)\n",
       "      (context_linear): Conv1d(64, 64, kernel_size=(1,), stride=(1,))\n",
       "      (soft): Softmax(dim=1)\n",
       "    )\n",
       "  )\n",
       ")"
      ]
     },
     "execution_count": 87,
     "metadata": {},
     "output_type": "execute_result"
    }
   ],
   "source": [
    "# instantiate the model\n",
    "model_deep_sets = DeepSetsPointerNetwork(\n",
    "    elem_dims=config['ptr_elem_dim'],\n",
    "    embedding_dim=config['ptr_emb_dim'],\n",
    "    hidden_dim=config['ptr_hid_dim'],\n",
    "    lstm_layers=config['ptr_lstm_lay'],\n",
    "    dropout=config['ptr_dropout'],\n",
    "    bidir=config['ptr_bidir'],\n",
    "    masking=config['ptr_mask'],\n",
    "    embedding_by_dict=True,\n",
    "    embedding_by_dict_size=len(config['word2idx'])\n",
    ")\n",
    "\n",
    "model_deep_sets.float()"
   ]
  },
  {
   "cell_type": "code",
   "execution_count": 88,
   "metadata": {},
   "outputs": [
    {
     "name": "stdout",
     "output_type": "stream",
     "text": [
      "The model has 220,352 trainable parameters\n"
     ]
    }
   ],
   "source": [
    "count_params(model_deep_sets)"
   ]
  },
  {
   "cell_type": "code",
   "execution_count": 89,
   "metadata": {},
   "outputs": [],
   "source": [
    "# loss\n",
    "CCE = torch.nn.CrossEntropyLoss()"
   ]
  },
  {
   "cell_type": "code",
   "execution_count": 90,
   "metadata": {},
   "outputs": [],
   "source": [
    "# optimizer\n",
    "optimizer_deep_sets = optim.Adam(\n",
    "    filter(lambda p: p.requires_grad, model_deep_sets.parameters()),\n",
    "    lr=config['learning_rate'])"
   ]
  },
  {
   "cell_type": "code",
   "execution_count": 91,
   "metadata": {},
   "outputs": [
    {
     "name": "stdout",
     "output_type": "stream",
     "text": [
      "Result: 0.0455\n"
     ]
    }
   ],
   "source": [
    "# test untrained model\n",
    "results_deep_sets, _ = test_model_custom(model_deep_sets, test_dataloader, compare_solved_sort_unique, print_every=999999, x_name=0, y_name=1)\n",
    "print('Result: {:.4f}'.format(results_deep_sets))"
   ]
  },
  {
   "cell_type": "code",
   "execution_count": 92,
   "metadata": {},
   "outputs": [
    {
     "name": "stdout",
     "output_type": "stream",
     "text": [
      "K-Tau: 0.0000, % valid: 0.0\n",
      "S-Rho: 0.0000, % valid: 0.0\n"
     ]
    }
   ],
   "source": [
    "# show rank correlations only with mask on\n",
    "print('K-Tau: {:.4f}, % valid: {}'.format(*get_batch_rank_correlation_and_perc_valid(test_dataloader, model_deep_sets, get_single_kendall_tau, print_every=999999)))\n",
    "print('S-Rho: {:.4f}, % valid: {}'.format(*get_batch_rank_correlation_and_perc_valid(test_dataloader, model_deep_sets, get_single_spearman_rho, print_every=999999)))"
   ]
  },
  {
   "cell_type": "code",
   "execution_count": 93,
   "metadata": {},
   "outputs": [
    {
     "name": "stderr",
     "output_type": "stream",
     "text": [
      "Epoch 1 / 1: 100%|██████████| 125/125 [00:39<00:00,  3.18 batches/s, avg_loss=3.09104]\n"
     ]
    }
   ],
   "source": [
    "# train\n",
    "last_loss_deep_sets = train_epochs(\n",
    "    model_deep_sets,\n",
    "    optimizer_deep_sets,\n",
    "    CCE,\n",
    "    train_dataloader,\n",
    "    config['num_epochs'],\n",
    "    allow_gpu=True,\n",
    "    x_name=0,\n",
    "    y_name=1)"
   ]
  },
  {
   "cell_type": "code",
   "execution_count": 94,
   "metadata": {},
   "outputs": [
    {
     "data": {
      "text/plain": [
       "3.0910401344299316"
      ]
     },
     "execution_count": 94,
     "metadata": {},
     "output_type": "execute_result"
    }
   ],
   "source": [
    "last_loss_deep_sets.item()"
   ]
  },
  {
   "cell_type": "code",
   "execution_count": 95,
   "metadata": {},
   "outputs": [
    {
     "name": "stdout",
     "output_type": "stream",
     "text": [
      "Result: 0.0482\n"
     ]
    }
   ],
   "source": [
    "# test\n",
    "model_deep_sets.eval()  # if we had dropout or batchnorm, we must do this\n",
    "\n",
    "# actual metrics\n",
    "results_deep_sets, _ = test_model_custom(model_deep_sets, test_dataloader, compare_solved_sort_unique, print_every=999999, x_name=0, y_name=1)\n",
    "print('Result: {:.4f}'.format(results_deep_sets))"
   ]
  },
  {
   "cell_type": "code",
   "execution_count": 96,
   "metadata": {},
   "outputs": [
    {
     "name": "stdout",
     "output_type": "stream",
     "text": [
      "K-Tau: 0.0000, % valid: 0.0\n",
      "S-Rho: 0.0000, % valid: 0.0\n"
     ]
    }
   ],
   "source": [
    "# show rank correlations only with mask on\n",
    "print('K-Tau: {:.4f}, % valid: {}'.format(*get_batch_rank_correlation_and_perc_valid(test_dataloader, model_deep_sets, get_single_kendall_tau, print_every=999999)))\n",
    "print('S-Rho: {:.4f}, % valid: {}'.format(*get_batch_rank_correlation_and_perc_valid(test_dataloader, model_deep_sets, get_single_spearman_rho, print_every=999999)))"
   ]
  },
  {
   "cell_type": "code",
   "execution_count": 97,
   "metadata": {},
   "outputs": [],
   "source": [
    "# get x y\n",
    "single_x, single_y = get_example(test_dataloader, x_name=0, y_name=1)"
   ]
  },
  {
   "cell_type": "code",
   "execution_count": 98,
   "metadata": {},
   "outputs": [
    {
     "data": {
      "image/png": "[encoded data removed]",
      "text/plain": [
       "<Figure size 1512x144 with 22 Axes>"
      ]
     },
     "metadata": {
      "needs_background": "light"
     },
     "output_type": "display_data"
    }
   ],
   "source": [
    "# show real sequence\n",
    "show_restored_catalog(single_x, single_y, config, img_path_map)"
   ]
  },
  {
   "cell_type": "code",
   "execution_count": 99,
   "metadata": {},
   "outputs": [
    {
     "data": {
      "image/png": "[encoded data removed]",
      "text/plain": [
       "<Figure size 1512x144 with 22 Axes>"
      ]
     },
     "metadata": {
      "needs_background": "light"
     },
     "output_type": "display_data"
    }
   ],
   "source": [
    "# predict & show\n",
    "_, single_pred = model_deep_sets(single_x.unsqueeze(0))\n",
    "show_restored_catalog(single_x, single_pred, config, img_path_map)"
   ]
  },
  {
   "cell_type": "code",
   "execution_count": 100,
   "metadata": {},
   "outputs": [
    {
     "name": "stdout",
     "output_type": "stream",
     "text": [
      "[1, 1, 1, 1, 1, 1, 0, 0, 0, 0, 0, 0, 0, 0, 0, 0, 0, 0, 0, 0, 0, 0]\n"
     ]
    }
   ],
   "source": [
    "print(restore_catalog(single_x, single_pred[0]))"
   ]
  },
  {
   "cell_type": "markdown",
   "metadata": {},
   "source": [
    "### Predict all catalogs"
   ]
  },
  {
   "cell_type": "code",
   "execution_count": 101,
   "metadata": {},
   "outputs": [
    {
     "name": "stdout",
     "output_type": "stream",
     "text": [
      "[0, 0, 0, 0, 0, 0, 0, 0, 0, 0, 0, 0, 0, 0, 0, 0, 0, 0, 0, 0, 0, 0]\n"
     ]
    }
   ],
   "source": [
    "# get predicted catalogs as indices\n",
    "deep_sets_predicted_catalogs_as_indices = predict_catalogs_as_indices(test_dataloader, model_deep_sets)\n",
    "print(deep_sets_predicted_catalogs_as_indices[0])"
   ]
  },
  {
   "cell_type": "code",
   "execution_count": 102,
   "metadata": {},
   "outputs": [
    {
     "name": "stdout",
     "output_type": "stream",
     "text": [
      "[['b', 'b', 'b', 'b', 'b', 'b', 'b', 'b', 'b', 'b', 'b', 'b', 'b', 'b', 'b', 'b', 'b', 'b', 'b', 'b', 'b', 'b']]\n"
     ]
    }
   ],
   "source": [
    "# get them as raw\n",
    "deep_sets_predicted_catalogs_as_raw = from_indices_to_raw(deep_sets_predicted_catalogs_as_indices, config)\n",
    "print(deep_sets_predicted_catalogs_as_raw[0])"
   ]
  },
  {
   "cell_type": "code",
   "execution_count": 103,
   "metadata": {},
   "outputs": [
    {
     "name": "stdout",
     "output_type": "stream",
     "text": [
      "['catalog_start', 'b', 'b', 'b', 'b', 'b', 'b', 'b', 'b', 'b', 'b', 'b', 'b', 'b', 'b', 'b', 'b', 'b', 'b', 'b', 'b', 'b', 'b', 'catalog_end']\n"
     ]
    }
   ],
   "source": [
    "# get them as Catalog() instances\n",
    "deep_sets_predicted_catalogs_as_instances = instantiate_catalogs(deep_sets_predicted_catalogs_as_raw, config)\n",
    "print(deep_sets_predicted_catalogs_as_instances[0].as_sequence())"
   ]
  },
  {
   "cell_type": "markdown",
   "metadata": {},
   "source": [
    "### Metrics | Deep Sets\n",
    "We want to see how the predicted catalogs match up with the structural rules and the distributional stats of the original train set."
   ]
  },
  {
   "cell_type": "markdown",
   "metadata": {},
   "source": [
    "#### Structural Metrics"
   ]
  },
  {
   "cell_type": "code",
   "execution_count": 104,
   "metadata": {},
   "outputs": [
    {
     "name": "stdout",
     "output_type": "stream",
     "text": [
      "*** METRICS ***\n",
      "                                GENERAL:\n",
      "              Total testable catalogs %:        0.0%\n",
      "       Catalogs with corrent n tokens %:      100.0%\n",
      "      Catalogs with target num offers %:        1.4%\n",
      "\n",
      "                               SECTIONS:\n",
      "                Valid section average %:       0.34%\n",
      "           Valid section per ruleset % :\n",
      "                                        basic       0.45%\n",
      "                                   green_only       2.86%\n",
      "                                  purple_only        0.0%\n",
      "                             purple_and_green        0.0%\n",
      "\n",
      "                             STRUCTURAL:\n",
      "              Valid catalog structure %:        0.0%\n",
      "            Valid catalog % per ruleset:\n",
      "                                        basic        0.0%\n",
      "                                   green_only        0.0%\n",
      "                                  purple_only        0.0%\n",
      "                             purple_and_green        0.0%\n",
      "           Valid catalog % per sub rule:\n",
      "                                        basic\n",
      "                                first_page_all_red       1.52%\n",
      "                                last_page_all_blue        0.1%\n",
      "                                      max_pages_10      60.57%\n",
      "                                       min_pages_3      44.19%\n",
      "                                   green_only\n",
      "                                first_page_all_red        0.0%\n",
      "                                last_page_all_blue        0.0%\n",
      "                                      max_pages_10      33.33%\n",
      "                                       min_pages_3      66.67%\n",
      "                                  purple_only\n",
      "                               first_page_all_blue        0.0%\n",
      "                                last_page_all_blue        0.0%\n",
      "                                      max_pages_10      66.67%\n",
      "                                       min_pages_3      33.33%\n",
      "                             purple_and_green\n",
      "                                first_page_all_red        0.0%\n",
      "                              last_page_all_purple        0.0%\n",
      "                                      max_pages_10      100.0%\n",
      "                                       min_pages_3        0.0%\n"
     ]
    }
   ],
   "source": [
    "# get metrics for adherence to the rules\n",
    "deep_sets_metrics = get_rule_metrics(deep_sets_predicted_catalogs_as_indices, rules, config)\n",
    "\n",
    "# show metrics nicely\n",
    "show_metrics(deep_sets_metrics)"
   ]
  },
  {
   "cell_type": "markdown",
   "metadata": {},
   "source": [
    "#### Statistical / Distributional Metrics"
   ]
  },
  {
   "cell_type": "code",
   "execution_count": 105,
   "metadata": {},
   "outputs": [
    {
     "name": "stdout",
     "output_type": "stream",
     "text": [
      "Total offer counts:  {'b': 299, 'r': 196, 'y': 304, 'g': 7, 'p': 4}\n",
      "Total offer %:  {'b': 36.91, 'r': 24.2, 'y': 37.53, 'g': 0.86, 'p': 0.49}\n",
      "Average offers per catalog: 12.73\n",
      "Standard Dev offers per catalog: 10.04\n",
      "Catalogs per num offers:  {22: 487, 0: 320, 18: 19, 7: 18, 5: 27, 4: 19, 6: 30, 13: 5, 14: 5, 16: 19, 8: 5, 17: 14, 10: 3, 19: 6, 15: 14, 21: 2, 3: 4, 12: 1, 11: 1}\n",
      "Catalogs per offer type:  {'b': 296, 'r': 196, 'y': 292, 'g': 7, 'p': 4}\n",
      "Catalogs per offer type %:  {'b': 2.96, 'r': 1.96, 'y': 2.92, 'g': 0.07, 'p': 0.04, 'p_and_g': 0.01}\n",
      "Catalogs per number of sections: {0: 30, 1: 525, 2: 2, 4: 3, 5: 6, 6: 9, 7: 15, 8: 8, 9: 3, 10: 3, 11: 2, 12: 2, 13: 1, 14: 5, 15: 23, 16: 32, 17: 29, 18: 29, 19: 6, 20: 1, 22: 265}\n",
      "Catalogs per number of sections %: {0: 0.3, 1: 5.25, 2: 0.02, 4: 0.03, 5: 0.06, 6: 0.09, 7: 0.15, 8: 0.08, 9: 0.03, 10: 0.03, 11: 0.02, 12: 0.02, 13: 0.01, 14: 0.05, 15: 0.23, 16: 0.32, 17: 0.29, 18: 0.29, 19: 0.06, 20: 0.01, 22: 2.65}\n",
      "Section count by number of offers: {0: 8119, 1: 15, 2: 2, 3: 2, 4: 22, 5: 29, 6: 29, 7: 17, 8: 5, 10: 3, 11: 1, 12: 1, 13: 5, 14: 8, 15: 14, 16: 19, 17: 16, 18: 18, 19: 4, 22: 487}\n",
      "Section % by number of offers: {0: 92.09, 1: 0.17, 2: 0.02, 3: 0.02, 4: 0.25, 5: 0.33, 6: 0.33, 7: 0.19, 8: 0.06, 10: 0.03, 11: 0.01, 12: 0.01, 13: 0.06, 14: 0.09, 15: 0.16, 16: 0.22, 17: 0.18, 18: 0.2, 19: 0.05, 22: 5.52}\n"
     ]
    }
   ],
   "source": [
    "deep_sets_stats = report_catalog_stats(deep_sets_predicted_catalogs_as_raw, config)"
   ]
  },
  {
   "cell_type": "markdown",
   "metadata": {},
   "source": [
    "#### Sacred Experiment | Model DeepSets\n",
    "We'll want to track the dataset, model params and the result of tests."
   ]
  },
  {
   "cell_type": "markdown",
   "metadata": {},
   "source": [
    "**Sacred will blow up if we give it a config consisting of nested dicts, so we'll need to turn things to list or str.**"
   ]
  },
  {
   "cell_type": "code",
   "execution_count": 106,
   "metadata": {},
   "outputs": [
    {
     "name": "stdout",
     "output_type": "stream",
     "text": [
      "offer_distributions\n",
      "word2idx\n",
      "idx2word\n",
      "rules\n"
     ]
    }
   ],
   "source": [
    "# find nested dicts, show then, turn their values to strings, preserve them for later re-insertion\n",
    "config_safe_copy = dict()\n",
    "for k, v in config.items():\n",
    "    if type(v) == dict:\n",
    "        print(k)\n",
    "        config_safe_copy[k] = str(v)\n",
    "    else:\n",
    "        config_safe_copy[k] = v"
   ]
  },
  {
   "cell_type": "code",
   "execution_count": 107,
   "metadata": {},
   "outputs": [
    {
     "name": "stderr",
     "output_type": "stream",
     "text": [
      "WARNING - root - Changed type of config entry \"cfg.offer_distributions\" from dict to str\n",
      "WARNING - root - Changed type of config entry \"cfg.word2idx\" from dict to str\n",
      "WARNING - root - Changed type of config entry \"cfg.idx2word\" from dict to str\n",
      "WARNING - root - Changed type of config entry \"cfg.rules\" from dict to str\n",
      "INFO - set_to_sequence_functional_synthetic_mask_False - Running command 'run_model_tests'\n",
      "INFO - set_to_sequence_functional_synthetic_mask_False - Started run with ID \"344\"\n"
     ]
    },
    {
     "name": "stdout",
     "output_type": "stream",
     "text": [
      "Model:  <class 'models.DeepSetsPointerNetwork'>\n",
      "Result: 0.0482\n",
      "*** METRICS ***\n",
      "                                GENERAL:\n",
      "              Total testable catalogs %:        0.0%\n",
      "       Catalogs with corrent n tokens %:      100.0%\n",
      "      Catalogs with target num offers %:        1.4%\n",
      "\n",
      "                               SECTIONS:\n",
      "                Valid section average %:       0.33%\n",
      "           Valid section per ruleset % :\n",
      "                                        basic       0.44%\n",
      "                                   green_only       2.86%\n",
      "                                  purple_only        0.0%\n",
      "                             purple_and_green        0.0%\n",
      "\n",
      "                             STRUCTURAL:\n",
      "              Valid catalog structure %:        0.0%\n",
      "            Valid catalog % per ruleset:\n",
      "                                        basic        0.0%\n",
      "                                   green_only        0.0%\n",
      "                                  purple_only        0.0%\n",
      "                             purple_and_green        0.0%\n",
      "           Valid catalog % per sub rule:\n",
      "                                        basic\n",
      "                                first_page_all_red       1.52%\n",
      "                                last_page_all_blue        0.0%\n",
      "                                      max_pages_10      60.57%\n",
      "                                       min_pages_3      44.19%\n",
      "                                   green_only\n",
      "                                first_page_all_red        0.0%\n",
      "                                last_page_all_blue        0.0%\n",
      "                                      max_pages_10      33.33%\n",
      "                                       min_pages_3      66.67%\n",
      "                                  purple_only\n",
      "                               first_page_all_blue        0.0%\n",
      "                                last_page_all_blue        0.0%\n",
      "                                      max_pages_10      66.67%\n",
      "                                       min_pages_3      33.33%\n",
      "                             purple_and_green\n",
      "                                first_page_all_red        0.0%\n",
      "                              last_page_all_purple        0.0%\n",
      "                                      max_pages_10      100.0%\n",
      "                                       min_pages_3        0.0%\n",
      "K-Tau: 0.0000, perc_valid: 0.0\n"
     ]
    },
    {
     "name": "stderr",
     "output_type": "stream",
     "text": [
      "INFO - set_to_sequence_functional_synthetic_mask_False - Result: 0.04823\n",
      "INFO - set_to_sequence_functional_synthetic_mask_False - Completed after 0:00:08\n"
     ]
    },
    {
     "name": "stdout",
     "output_type": "stream",
     "text": [
      "S-Rho: 0.0000, perc_valid: 0.0\n"
     ]
    }
   ],
   "source": [
    "# experiment config\n",
    "current_tested_model = model_deep_sets\n",
    "current_optimizer = optimizer_deep_sets\n",
    "current_last_loss = last_loss_deep_sets\n",
    "\n",
    "config_update = {\n",
    "    'model': current_tested_model.__class__.__name__,\n",
    "    'final_training_loss': round(current_last_loss.item(), 10),\n",
    "    'optimizer': current_optimizer.__class__.__name__,\n",
    "    'cfg': config_safe_copy,\n",
    "}\n",
    "\n",
    "# run the experiment, with updated config\n",
    "run_info = ex.run(config_updates=config_update)"
   ]
  },
  {
   "cell_type": "code",
   "execution_count": 108,
   "metadata": {},
   "outputs": [
    {
     "data": {
      "image/png": "[encoded data removed]",
      "text/plain": [
       "<Figure size 1512x144 with 22 Axes>"
      ]
     },
     "metadata": {
      "needs_background": "light"
     },
     "output_type": "display_data"
    },
    {
     "data": {
      "image/png": "[encoded data removed]",
      "text/plain": [
       "<Figure size 1512x144 with 22 Axes>"
      ]
     },
     "metadata": {
      "needs_background": "light"
     },
     "output_type": "display_data"
    }
   ],
   "source": [
    "# show preds\n",
    "single_x, single_y = get_example(test_dataloader, x_name=0, y_name=1)\n",
    "show_restored_catalog(single_x, single_y, config, img_path_map)\n",
    "_, single_pred = model_deep_sets(single_x.unsqueeze(0))\n",
    "show_restored_catalog(single_x, single_pred, config, img_path_map)"
   ]
  },
  {
   "cell_type": "markdown",
   "metadata": {},
   "source": [
    "### Set Transformer + PtrNet\n",
    "Let's use deep sets to concatenate the representation of the entire set with each element, and then do PtrNet on it."
   ]
  },
  {
   "cell_type": "code",
   "execution_count": 109,
   "metadata": {},
   "outputs": [],
   "source": [
    "from models import SetTransformer, SetTransformerPointerNetwork"
   ]
  },
  {
   "cell_type": "markdown",
   "metadata": {},
   "source": [
    "#### Initialize Set Transformer + PtrNet model"
   ]
  },
  {
   "cell_type": "code",
   "execution_count": 110,
   "metadata": {},
   "outputs": [
    {
     "data": {
      "text/plain": [
       "SetTransformerPointerNetwork(\n",
       "  (embedding): Embedding(8, 64)\n",
       "  (set_embedding): SetTransformer(\n",
       "    (emb): Sequential(\n",
       "      (0): SAB(\n",
       "        (mab): MAB(\n",
       "          (fc_q): Linear(in_features=64, out_features=64, bias=True)\n",
       "          (fc_k): Linear(in_features=64, out_features=64, bias=True)\n",
       "          (fc_v): Linear(in_features=64, out_features=64, bias=True)\n",
       "          (fc_o): Linear(in_features=64, out_features=64, bias=True)\n",
       "        )\n",
       "      )\n",
       "      (1): SAB(\n",
       "        (mab): MAB(\n",
       "          (fc_q): Linear(in_features=64, out_features=64, bias=True)\n",
       "          (fc_k): Linear(in_features=64, out_features=64, bias=True)\n",
       "          (fc_v): Linear(in_features=64, out_features=64, bias=True)\n",
       "          (fc_o): Linear(in_features=64, out_features=64, bias=True)\n",
       "        )\n",
       "      )\n",
       "    )\n",
       "    (enc): Sequential(\n",
       "      (0): PMA(\n",
       "        (mab): MAB(\n",
       "          (fc_q): Linear(in_features=64, out_features=64, bias=True)\n",
       "          (fc_k): Linear(in_features=64, out_features=64, bias=True)\n",
       "          (fc_v): Linear(in_features=64, out_features=64, bias=True)\n",
       "          (fc_o): Linear(in_features=64, out_features=64, bias=True)\n",
       "        )\n",
       "      )\n",
       "      (1): SAB(\n",
       "        (mab): MAB(\n",
       "          (fc_q): Linear(in_features=64, out_features=64, bias=True)\n",
       "          (fc_k): Linear(in_features=64, out_features=64, bias=True)\n",
       "          (fc_v): Linear(in_features=64, out_features=64, bias=True)\n",
       "          (fc_o): Linear(in_features=64, out_features=64, bias=True)\n",
       "        )\n",
       "      )\n",
       "      (2): SAB(\n",
       "        (mab): MAB(\n",
       "          (fc_q): Linear(in_features=64, out_features=64, bias=True)\n",
       "          (fc_k): Linear(in_features=64, out_features=64, bias=True)\n",
       "          (fc_v): Linear(in_features=64, out_features=64, bias=True)\n",
       "          (fc_o): Linear(in_features=64, out_features=64, bias=True)\n",
       "        )\n",
       "      )\n",
       "      (3): Linear(in_features=64, out_features=64, bias=True)\n",
       "    )\n",
       "  )\n",
       "  (encoder): PointerEncoder(\n",
       "    (lstm): LSTM(128, 32, num_layers=2, batch_first=True, dropout=0.05, bidirectional=True)\n",
       "  )\n",
       "  (decoder): PointerDecoder(\n",
       "    (input_to_hidden): Linear(in_features=128, out_features=256, bias=True)\n",
       "    (hidden_to_hidden): Linear(in_features=64, out_features=256, bias=True)\n",
       "    (hidden_out): Linear(in_features=128, out_features=64, bias=True)\n",
       "    (att): PointerAttention(\n",
       "      (input_linear): Linear(in_features=64, out_features=64, bias=True)\n",
       "      (context_linear): Conv1d(64, 64, kernel_size=(1,), stride=(1,))\n",
       "      (soft): Softmax(dim=1)\n",
       "    )\n",
       "  )\n",
       ")"
      ]
     },
     "execution_count": 110,
     "metadata": {},
     "output_type": "execute_result"
    }
   ],
   "source": [
    "# instantiate the model\n",
    "model_set_trans = SetTransformerPointerNetwork(\n",
    "    elem_dims=config['ptr_elem_dim'],\n",
    "    embedding_dim=config['ptr_emb_dim'],\n",
    "    hidden_dim=config['ptr_hid_dim'],\n",
    "    lstm_layers=config['ptr_lstm_lay'],\n",
    "    dropout=config['ptr_dropout'],\n",
    "    bidir=config['ptr_bidir'],\n",
    "    masking=config['ptr_mask'],\n",
    "    embedding_by_dict=True,\n",
    "    embedding_by_dict_size=len(config['word2idx'])\n",
    ")\n",
    "\n",
    "# NEED TO TURN BOTH MODEL AND INPUT DATA TO EITHER .float() or .double() for 32 or 64 bit precision\n",
    "model_set_trans.float()"
   ]
  },
  {
   "cell_type": "code",
   "execution_count": 111,
   "metadata": {},
   "outputs": [
    {
     "name": "stdout",
     "output_type": "stream",
     "text": [
      "The model has 220,800 trainable parameters\n"
     ]
    }
   ],
   "source": [
    "count_params(model_set_trans)"
   ]
  },
  {
   "cell_type": "code",
   "execution_count": 112,
   "metadata": {},
   "outputs": [],
   "source": [
    "# loss\n",
    "CCE = torch.nn.CrossEntropyLoss()"
   ]
  },
  {
   "cell_type": "code",
   "execution_count": 113,
   "metadata": {},
   "outputs": [],
   "source": [
    "# optimizer\n",
    "optimizer_set_trans = optim.Adam(\n",
    "    filter(lambda p: p.requires_grad, model_set_trans.parameters()),\n",
    "    lr=config['learning_rate'])"
   ]
  },
  {
   "cell_type": "code",
   "execution_count": 114,
   "metadata": {},
   "outputs": [
    {
     "name": "stdout",
     "output_type": "stream",
     "text": [
      "Result: 0.0456\n"
     ]
    }
   ],
   "source": [
    "# test untrained model\n",
    "results_set_trans, _ = test_model_custom(model_set_trans, test_dataloader, compare_solved_sort_unique, print_every=999999, x_name=0, y_name=1)\n",
    "print('Result: {:.4f}'.format(results_set_trans))"
   ]
  },
  {
   "cell_type": "code",
   "execution_count": 115,
   "metadata": {},
   "outputs": [
    {
     "name": "stdout",
     "output_type": "stream",
     "text": [
      "K-Tau: 0.0000, % valid: 0.0\n",
      "S-Rho: 0.0000, % valid: 0.0\n"
     ]
    }
   ],
   "source": [
    "# show rank correlations only with mask on\n",
    "print('K-Tau: {:.4f}, % valid: {}'.format(*get_batch_rank_correlation_and_perc_valid(test_dataloader, model_set_trans, get_single_kendall_tau, print_every=999999)))\n",
    "print('S-Rho: {:.4f}, % valid: {}'.format(*get_batch_rank_correlation_and_perc_valid(test_dataloader, model_set_trans, get_single_spearman_rho, print_every=999999)))"
   ]
  },
  {
   "cell_type": "code",
   "execution_count": 116,
   "metadata": {},
   "outputs": [
    {
     "name": "stderr",
     "output_type": "stream",
     "text": [
      "Epoch 1 / 1: 100%|██████████| 125/125 [00:41<00:00,  3.01 batches/s, avg_loss=3.07209]\n"
     ]
    }
   ],
   "source": [
    "# train\n",
    "last_loss_set_trans = train_epochs(\n",
    "    model_set_trans,\n",
    "    optimizer_set_trans,\n",
    "    CCE,\n",
    "    train_dataloader,\n",
    "    config['num_epochs'],\n",
    "    allow_gpu=True,\n",
    "    x_name=0,\n",
    "    y_name=1)"
   ]
  },
  {
   "cell_type": "code",
   "execution_count": 117,
   "metadata": {},
   "outputs": [
    {
     "data": {
      "text/plain": [
       "3.072092056274414"
      ]
     },
     "execution_count": 117,
     "metadata": {},
     "output_type": "execute_result"
    }
   ],
   "source": [
    "last_loss_set_trans.item()"
   ]
  },
  {
   "cell_type": "code",
   "execution_count": 118,
   "metadata": {},
   "outputs": [
    {
     "name": "stdout",
     "output_type": "stream",
     "text": [
      "Result: 0.0900\n"
     ]
    }
   ],
   "source": [
    "# test\n",
    "model_set_trans.eval()  # if we had dropout or batchnorm, we must do this\n",
    "\n",
    "# actual metrics\n",
    "results_set_trans, _ = test_model_custom(model_set_trans, test_dataloader, compare_solved_sort_unique, print_every=999999, x_name=0, y_name=1)\n",
    "print('Result: {:.4f}'.format(results_set_trans))"
   ]
  },
  {
   "cell_type": "code",
   "execution_count": 119,
   "metadata": {},
   "outputs": [
    {
     "name": "stdout",
     "output_type": "stream",
     "text": [
      "K-Tau: 0.0000, % valid: 0.0\n",
      "S-Rho: 0.0000, % valid: 0.0\n"
     ]
    }
   ],
   "source": [
    "# show rank correlations only with mask on\n",
    "print('K-Tau: {:.4f}, % valid: {}'.format(*get_batch_rank_correlation_and_perc_valid(test_dataloader, model_set_trans, get_single_kendall_tau, print_every=999999)))\n",
    "print('S-Rho: {:.4f}, % valid: {}'.format(*get_batch_rank_correlation_and_perc_valid(test_dataloader, model_set_trans, get_single_spearman_rho, print_every=999999)))"
   ]
  },
  {
   "cell_type": "code",
   "execution_count": 120,
   "metadata": {},
   "outputs": [],
   "source": [
    "# get x y\n",
    "single_x, single_y = get_example(test_dataloader, x_name=0, y_name=1)"
   ]
  },
  {
   "cell_type": "code",
   "execution_count": 121,
   "metadata": {},
   "outputs": [
    {
     "data": {
      "image/png": "[encoded data removed]",
      "text/plain": [
       "<Figure size 1512x144 with 22 Axes>"
      ]
     },
     "metadata": {
      "needs_background": "light"
     },
     "output_type": "display_data"
    }
   ],
   "source": [
    "# show real sequence\n",
    "show_restored_catalog(single_x, single_y, config, img_path_map)"
   ]
  },
  {
   "cell_type": "code",
   "execution_count": 122,
   "metadata": {},
   "outputs": [
    {
     "data": {
      "image/png": "[encoded data removed]",
      "text/plain": [
       "<Figure size 1512x144 with 22 Axes>"
      ]
     },
     "metadata": {
      "needs_background": "light"
     },
     "output_type": "display_data"
    }
   ],
   "source": [
    "# predict & show\n",
    "_, single_pred = model_set_trans(single_x.unsqueeze(0))\n",
    "show_restored_catalog(single_x, single_pred, config, img_path_map)"
   ]
  },
  {
   "cell_type": "code",
   "execution_count": 123,
   "metadata": {},
   "outputs": [
    {
     "name": "stdout",
     "output_type": "stream",
     "text": [
      "[5, 5, 2, 2, 2, 2, 2, 2, 2, 2, 2, 2, 2, 2, 2, 2, 2, 2, 2, 2, 2, 2]\n"
     ]
    }
   ],
   "source": [
    "print(restore_catalog(single_x, single_pred[0]))"
   ]
  },
  {
   "cell_type": "markdown",
   "metadata": {},
   "source": [
    "#### Predict all catalogs"
   ]
  },
  {
   "cell_type": "code",
   "execution_count": 124,
   "metadata": {},
   "outputs": [
    {
     "name": "stdout",
     "output_type": "stream",
     "text": [
      "[5, 5, 6, 6, 6, 6, 6, 6, 6, 6, 6, 6, 6, 6, 6, 6, 6, 6, 6, 6, 6, 6]\n"
     ]
    }
   ],
   "source": [
    "# get predicted catalogs as indices\n",
    "set_trans_predicted_catalogs_as_indices = predict_catalogs_as_indices(test_dataloader, model_set_trans)\n",
    "print(set_trans_predicted_catalogs_as_indices[0])"
   ]
  },
  {
   "cell_type": "code",
   "execution_count": 125,
   "metadata": {},
   "outputs": [
    {
     "name": "stdout",
     "output_type": "stream",
     "text": [
      "[[], [], [], [], [], [], [], [], [], [], [], [], [], [], [], [], [], [], [], []]\n"
     ]
    }
   ],
   "source": [
    "# get them as raw\n",
    "set_trans_predicted_catalogs_as_raw = from_indices_to_raw(set_trans_predicted_catalogs_as_indices, config)\n",
    "print(set_trans_predicted_catalogs_as_raw[0])"
   ]
  },
  {
   "cell_type": "code",
   "execution_count": 126,
   "metadata": {},
   "outputs": [
    {
     "name": "stdout",
     "output_type": "stream",
     "text": [
      "['catalog_start', 'page_break', 'page_break', 'page_break', 'page_break', 'page_break', 'page_break', 'page_break', 'page_break', 'page_break', 'page_break', 'page_break', 'page_break', 'page_break', 'page_break', 'page_break', 'page_break', 'page_break', 'page_break', 'page_break', 'catalog_end']\n"
     ]
    }
   ],
   "source": [
    "# get them as Catalog() instances\n",
    "set_trans_predicted_catalogs_as_instances = instantiate_catalogs(set_trans_predicted_catalogs_as_raw, config)\n",
    "print(set_trans_predicted_catalogs_as_instances[0].as_sequence())"
   ]
  },
  {
   "cell_type": "markdown",
   "metadata": {},
   "source": [
    "### Metrics | Set Transformer\n",
    "We want to see how the predicted catalogs match up with the structural rules and the distributional stats of the original train set."
   ]
  },
  {
   "cell_type": "markdown",
   "metadata": {},
   "source": [
    "#### Structural Metrics"
   ]
  },
  {
   "cell_type": "code",
   "execution_count": 127,
   "metadata": {},
   "outputs": [
    {
     "name": "stdout",
     "output_type": "stream",
     "text": [
      "*** METRICS ***\n",
      "                                GENERAL:\n",
      "              Total testable catalogs %:        0.0%\n",
      "       Catalogs with corrent n tokens %:      100.0%\n",
      "      Catalogs with target num offers %:        0.0%\n",
      "\n",
      "                               SECTIONS:\n",
      "                Valid section average %:       0.69%\n",
      "           Valid section per ruleset % :\n",
      "                                        basic       1.63%\n",
      "                                   green_only div by zero%\n",
      "                                  purple_only       4.35%\n",
      "                             purple_and_green div by zero%\n",
      "\n",
      "                             STRUCTURAL:\n",
      "              Valid catalog structure %:        0.0%\n",
      "            Valid catalog % per ruleset:\n",
      "                                        basic        0.0%\n",
      "                                   green_only        0.0%\n",
      "                                  purple_only        0.0%\n",
      "                             purple_and_green        0.0%\n",
      "           Valid catalog % per sub rule:\n",
      "                                        basic\n",
      "                                first_page_all_red       1.21%\n",
      "                                last_page_all_blue        0.1%\n",
      "                                      max_pages_10       66.5%\n",
      "                                       min_pages_3       33.6%\n",
      "                                   green_only\n",
      "                                first_page_all_red        0.0%\n",
      "                                last_page_all_blue        0.0%\n",
      "                                      max_pages_10        0.0%\n",
      "                                       min_pages_3        0.0%\n",
      "                                  purple_only\n",
      "                               first_page_all_blue        0.0%\n",
      "                                last_page_all_blue        0.0%\n",
      "                                      max_pages_10       75.0%\n",
      "                                       min_pages_3       25.0%\n",
      "                             purple_and_green\n",
      "                                first_page_all_red        0.0%\n",
      "                              last_page_all_purple        0.0%\n",
      "                                      max_pages_10        0.0%\n",
      "                                       min_pages_3        0.0%\n"
     ]
    }
   ],
   "source": [
    "# get metrics for adherence to the rules\n",
    "set_trans_metrics = get_rule_metrics(set_trans_predicted_catalogs_as_indices, rules, config)\n",
    "\n",
    "# show metrics nicely\n",
    "show_metrics(set_trans_metrics)"
   ]
  },
  {
   "cell_type": "markdown",
   "metadata": {},
   "source": [
    "#### Statistical / Distributional Metrics"
   ]
  },
  {
   "cell_type": "code",
   "execution_count": 128,
   "metadata": {},
   "outputs": [
    {
     "name": "stdout",
     "output_type": "stream",
     "text": [
      "Total offer counts:  {'b': 391, 'r': 58, 'y': 417, 'g': 0, 'p': 8}\n",
      "Total offer %:  {'b': 44.74, 'r': 6.64, 'y': 47.71, 'g': 0.0, 'p': 0.92}\n",
      "Average offers per catalog: 13.51\n",
      "Standard Dev offers per catalog: 9.27\n",
      "Catalogs per num offers:  {0: 223, 21: 49, 20: 614, 1: 86, 2: 15, 4: 2, 6: 2, 3: 5, 11: 1, 5: 1, 19: 1}\n",
      "Catalogs per offer type:  {'b': 380, 'r': 58, 'y': 417, 'g': 0, 'p': 8}\n",
      "Catalogs per offer type %:  {'b': 3.8, 'r': 0.58, 'y': 4.17, 'g': 0.0, 'p': 0.08, 'p_and_g': 0.0}\n",
      "Catalogs per number of sections: {1: 663, 2: 1, 9: 1, 14: 2, 15: 1, 16: 1, 17: 6, 18: 12, 19: 76, 20: 236}\n",
      "Catalogs per number of sections %: {1: 6.63, 2: 0.01, 9: 0.01, 14: 0.02, 15: 0.01, 16: 0.01, 17: 0.06, 18: 0.12, 19: 0.76, 20: 2.36}\n",
      "Section count by number of offers: {0: 6428, 1: 97, 2: 15, 3: 6, 4: 4, 6: 1, 19: 1, 20: 614, 21: 49}\n",
      "Section % by number of offers: {0: 89.09, 1: 1.34, 2: 0.21, 3: 0.08, 4: 0.06, 6: 0.01, 19: 0.01, 20: 8.51, 21: 0.68}\n"
     ]
    }
   ],
   "source": [
    "set_trans_stats = report_catalog_stats(set_trans_predicted_catalogs_as_raw, config)"
   ]
  },
  {
   "cell_type": "markdown",
   "metadata": {},
   "source": [
    "#### Sacred Experiment | Model SetTrans\n",
    "We'll want to track the dataset, model params and the result of tests."
   ]
  },
  {
   "cell_type": "markdown",
   "metadata": {},
   "source": [
    "**Sacred will blow up if we give it a config consisting of nested dicts, so we'll need to turn things to list or str.**"
   ]
  },
  {
   "cell_type": "code",
   "execution_count": 129,
   "metadata": {},
   "outputs": [
    {
     "name": "stdout",
     "output_type": "stream",
     "text": [
      "offer_distributions\n",
      "word2idx\n",
      "idx2word\n",
      "rules\n"
     ]
    }
   ],
   "source": [
    "# find nested dicts, show then, turn their values to strings, preserve them for later re-insertion\n",
    "config_safe_copy = dict()\n",
    "for k, v in config.items():\n",
    "    if type(v) == dict:\n",
    "        print(k)\n",
    "        config_safe_copy[k] = str(v)\n",
    "    else:\n",
    "        config_safe_copy[k] = v"
   ]
  },
  {
   "cell_type": "code",
   "execution_count": 130,
   "metadata": {},
   "outputs": [
    {
     "name": "stderr",
     "output_type": "stream",
     "text": [
      "WARNING - root - Changed type of config entry \"cfg.offer_distributions\" from dict to str\n",
      "WARNING - root - Changed type of config entry \"cfg.word2idx\" from dict to str\n",
      "WARNING - root - Changed type of config entry \"cfg.idx2word\" from dict to str\n",
      "WARNING - root - Changed type of config entry \"cfg.rules\" from dict to str\n",
      "INFO - set_to_sequence_functional_synthetic_mask_False - Running command 'run_model_tests'\n",
      "INFO - set_to_sequence_functional_synthetic_mask_False - Started run with ID \"345\"\n"
     ]
    },
    {
     "name": "stdout",
     "output_type": "stream",
     "text": [
      "Model:  <class 'models.SetTransformerPointerNetwork'>\n",
      "Result: 0.0900\n",
      "*** METRICS ***\n",
      "                                GENERAL:\n",
      "              Total testable catalogs %:        0.0%\n",
      "       Catalogs with corrent n tokens %:      100.0%\n",
      "      Catalogs with target num offers %:        0.0%\n",
      "\n",
      "                               SECTIONS:\n",
      "                Valid section average %:       0.69%\n",
      "           Valid section per ruleset % :\n",
      "                                        basic       1.63%\n",
      "                                   green_only div by zero%\n",
      "                                  purple_only       4.35%\n",
      "                             purple_and_green div by zero%\n",
      "\n",
      "                             STRUCTURAL:\n",
      "              Valid catalog structure %:        0.0%\n",
      "            Valid catalog % per ruleset:\n",
      "                                        basic        0.0%\n",
      "                                   green_only        0.0%\n",
      "                                  purple_only        0.0%\n",
      "                             purple_and_green        0.0%\n",
      "           Valid catalog % per sub rule:\n",
      "                                        basic\n",
      "                                first_page_all_red       1.21%\n",
      "                                last_page_all_blue        0.1%\n",
      "                                      max_pages_10       66.5%\n",
      "                                       min_pages_3       33.6%\n",
      "                                   green_only\n",
      "                                first_page_all_red        0.0%\n",
      "                                last_page_all_blue        0.0%\n",
      "                                      max_pages_10        0.0%\n",
      "                                       min_pages_3        0.0%\n",
      "                                  purple_only\n",
      "                               first_page_all_blue        0.0%\n",
      "                                last_page_all_blue        0.0%\n",
      "                                      max_pages_10       75.0%\n",
      "                                       min_pages_3       25.0%\n",
      "                             purple_and_green\n",
      "                                first_page_all_red        0.0%\n",
      "                              last_page_all_purple        0.0%\n",
      "                                      max_pages_10        0.0%\n",
      "                                       min_pages_3        0.0%\n",
      "K-Tau: 0.0000, perc_valid: 0.0\n"
     ]
    },
    {
     "name": "stderr",
     "output_type": "stream",
     "text": [
      "INFO - set_to_sequence_functional_synthetic_mask_False - Result: 0.09\n",
      "INFO - set_to_sequence_functional_synthetic_mask_False - Completed after 0:00:11\n"
     ]
    },
    {
     "name": "stdout",
     "output_type": "stream",
     "text": [
      "S-Rho: 0.0000, perc_valid: 0.0\n"
     ]
    }
   ],
   "source": [
    "# experiment config\n",
    "current_tested_model = model_set_trans\n",
    "current_optimizer = optimizer_set_trans\n",
    "current_last_loss = last_loss_set_trans\n",
    "\n",
    "config_update = {\n",
    "    'model': current_tested_model.__class__.__name__,\n",
    "    'final_training_loss': round(current_last_loss.item(), 10),\n",
    "    'optimizer': current_optimizer.__class__.__name__,\n",
    "    'cfg': config_safe_copy,\n",
    "}\n",
    "\n",
    "# run the experiment, with updated config\n",
    "run_info = ex.run(config_updates=config_update)"
   ]
  },
  {
   "cell_type": "code",
   "execution_count": 131,
   "metadata": {},
   "outputs": [
    {
     "data": {
      "image/png": "[encoded data removed]",
      "text/plain": [
       "<Figure size 1512x144 with 22 Axes>"
      ]
     },
     "metadata": {
      "needs_background": "light"
     },
     "output_type": "display_data"
    },
    {
     "data": {
      "image/png": "[encoded data removed]",
      "text/plain": [
       "<Figure size 1512x144 with 22 Axes>"
      ]
     },
     "metadata": {
      "needs_background": "light"
     },
     "output_type": "display_data"
    }
   ],
   "source": [
    "# show preds\n",
    "single_x, single_y = get_example(test_dataloader, x_name=0, y_name=1)\n",
    "show_restored_catalog(single_x, single_y, config, img_path_map)\n",
    "_, single_pred = model_set_trans(single_x.unsqueeze(0))\n",
    "show_restored_catalog(single_x, single_pred, config, img_path_map)"
   ]
  },
  {
   "cell_type": "markdown",
   "metadata": {},
   "source": [
    "### Custom Set Embedder + PtrNet\n",
    "Let's use deep sets to concatenate the representation of the entire set with each element, and then do PtrNet on it."
   ]
  },
  {
   "cell_type": "code",
   "execution_count": 132,
   "metadata": {},
   "outputs": [],
   "source": [
    "from models import CustomAttentionSetEmbedder, CustomAttentionPointerNetwork"
   ]
  },
  {
   "cell_type": "markdown",
   "metadata": {},
   "source": [
    "#### Initialize Set Transformer + PtrNet model"
   ]
  },
  {
   "cell_type": "code",
   "execution_count": 133,
   "metadata": {},
   "outputs": [
    {
     "data": {
      "text/plain": [
       "CustomAttentionPointerNetwork(\n",
       "  (embedding): Embedding(8, 64)\n",
       "  (set_embedding): CustomAttentionSetEmbedder(\n",
       "    (l1): CustomAttentionSetLayer(\n",
       "      (e): Sequential(\n",
       "        (0): Linear(in_features=64, out_features=64, bias=True)\n",
       "        (1): ReLU()\n",
       "        (2): Linear(in_features=64, out_features=64, bias=True)\n",
       "        (3): ReLU()\n",
       "      )\n",
       "      (s): Sequential(\n",
       "        (0): Linear(in_features=64, out_features=64, bias=True)\n",
       "        (1): ReLU()\n",
       "        (2): Linear(in_features=64, out_features=1, bias=True)\n",
       "        (3): ReLU()\n",
       "      )\n",
       "      (a): Sequential(\n",
       "        (0): Linear(in_features=64, out_features=64, bias=True)\n",
       "        (1): ReLU()\n",
       "        (2): Linear(in_features=64, out_features=64, bias=True)\n",
       "        (3): ReLU()\n",
       "      )\n",
       "    )\n",
       "    (l2): CustomAttentionSetLayer(\n",
       "      (e): Sequential(\n",
       "        (0): Linear(in_features=64, out_features=64, bias=True)\n",
       "        (1): ReLU()\n",
       "        (2): Linear(in_features=64, out_features=64, bias=True)\n",
       "        (3): ReLU()\n",
       "      )\n",
       "      (s): Sequential(\n",
       "        (0): Linear(in_features=64, out_features=64, bias=True)\n",
       "        (1): ReLU()\n",
       "        (2): Linear(in_features=64, out_features=1, bias=True)\n",
       "        (3): ReLU()\n",
       "      )\n",
       "      (a): Sequential(\n",
       "        (0): Linear(in_features=64, out_features=64, bias=True)\n",
       "        (1): ReLU()\n",
       "        (2): Linear(in_features=64, out_features=64, bias=True)\n",
       "        (3): ReLU()\n",
       "      )\n",
       "    )\n",
       "  )\n",
       "  (encoder): PointerEncoder(\n",
       "    (lstm): LSTM(128, 32, num_layers=2, batch_first=True, dropout=0.05, bidirectional=True)\n",
       "  )\n",
       "  (decoder): PointerDecoder(\n",
       "    (input_to_hidden): Linear(in_features=128, out_features=256, bias=True)\n",
       "    (hidden_to_hidden): Linear(in_features=64, out_features=256, bias=True)\n",
       "    (hidden_out): Linear(in_features=128, out_features=64, bias=True)\n",
       "    (att): PointerAttention(\n",
       "      (input_linear): Linear(in_features=64, out_features=64, bias=True)\n",
       "      (context_linear): Conv1d(64, 64, kernel_size=(1,), stride=(1,))\n",
       "      (soft): Softmax(dim=1)\n",
       "    )\n",
       "  )\n",
       ")"
      ]
     },
     "execution_count": 133,
     "metadata": {},
     "output_type": "execute_result"
    }
   ],
   "source": [
    "# instantiate the model\n",
    "model_custom = CustomAttentionPointerNetwork(\n",
    "    elem_dims=config['ptr_elem_dim'],\n",
    "    embedding_dim=config['ptr_emb_dim'],\n",
    "    hidden_dim=config['ptr_hid_dim'],\n",
    "    lstm_layers=config['ptr_lstm_lay'],\n",
    "    dropout=config['ptr_dropout'],\n",
    "    bidir=config['ptr_bidir'],\n",
    "    masking=config['ptr_mask'],\n",
    "    embedding_by_dict=True,\n",
    "    embedding_by_dict_size=len(config['word2idx'])\n",
    ")\n",
    "\n",
    "# NEED TO TURN BOTH MODEL AND INPUT DATA TO EITHER .float() or .double() for 32 or 64 bit precision\n",
    "model_custom.float()"
   ]
  },
  {
   "cell_type": "code",
   "execution_count": 134,
   "metadata": {},
   "outputs": [
    {
     "name": "stdout",
     "output_type": "stream",
     "text": [
      "The model has 175,106 trainable parameters\n"
     ]
    }
   ],
   "source": [
    "count_params(model_custom)"
   ]
  },
  {
   "cell_type": "code",
   "execution_count": 135,
   "metadata": {},
   "outputs": [],
   "source": [
    "# loss\n",
    "CCE = torch.nn.CrossEntropyLoss()"
   ]
  },
  {
   "cell_type": "code",
   "execution_count": 136,
   "metadata": {},
   "outputs": [],
   "source": [
    "# optimizer\n",
    "optimizer_custom = optim.Adam(\n",
    "    filter(lambda p: p.requires_grad, model_custom.parameters()),\n",
    "    lr=config['learning_rate'])"
   ]
  },
  {
   "cell_type": "code",
   "execution_count": 137,
   "metadata": {},
   "outputs": [
    {
     "name": "stdout",
     "output_type": "stream",
     "text": [
      "Result: 0.0455\n"
     ]
    }
   ],
   "source": [
    "# test untrained model\n",
    "results_custom, _ = test_model_custom(model_custom, test_dataloader, compare_solved_sort_unique, print_every=999999, x_name=0, y_name=1)\n",
    "print('Result: {:.4f}'.format(results_custom))"
   ]
  },
  {
   "cell_type": "code",
   "execution_count": 138,
   "metadata": {},
   "outputs": [
    {
     "name": "stdout",
     "output_type": "stream",
     "text": [
      "K-Tau: 0.0000, % valid: 0.0\n",
      "S-Rho: 0.0000, % valid: 0.0\n"
     ]
    }
   ],
   "source": [
    "# show rank correlations only with mask on\n",
    "print('K-Tau: {:.4f}, % valid: {}'.format(*get_batch_rank_correlation_and_perc_valid(test_dataloader, model_custom, get_single_kendall_tau, print_every=999999)))\n",
    "print('S-Rho: {:.4f}, % valid: {}'.format(*get_batch_rank_correlation_and_perc_valid(test_dataloader, model_custom, get_single_spearman_rho, print_every=999999)))"
   ]
  },
  {
   "cell_type": "code",
   "execution_count": 139,
   "metadata": {},
   "outputs": [
    {
     "name": "stderr",
     "output_type": "stream",
     "text": [
      "Epoch 1 / 1: 100%|██████████| 125/125 [00:40<00:00,  3.11 batches/s, avg_loss=3.09104]\n"
     ]
    }
   ],
   "source": [
    "# train\n",
    "last_loss_custom = train_epochs(\n",
    "    model_custom,\n",
    "    optimizer_custom,\n",
    "    CCE,\n",
    "    train_dataloader,\n",
    "    config['num_epochs'],\n",
    "    allow_gpu=True,\n",
    "    x_name=0,\n",
    "    y_name=1)"
   ]
  },
  {
   "cell_type": "code",
   "execution_count": 140,
   "metadata": {},
   "outputs": [
    {
     "data": {
      "text/plain": [
       "3.0910401344299316"
      ]
     },
     "execution_count": 140,
     "metadata": {},
     "output_type": "execute_result"
    }
   ],
   "source": [
    "last_loss_custom.item()"
   ]
  },
  {
   "cell_type": "code",
   "execution_count": 141,
   "metadata": {},
   "outputs": [
    {
     "name": "stdout",
     "output_type": "stream",
     "text": [
      "Result: 0.0455\n"
     ]
    }
   ],
   "source": [
    "# test\n",
    "model_custom.eval()  # if we had dropout or batchnorm, we must do this\n",
    "\n",
    "# actual metrics\n",
    "results_custom, _ = test_model_custom(model_custom, test_dataloader, compare_solved_sort_unique, print_every=999999, x_name=0, y_name=1)\n",
    "print('Result: {:.4f}'.format(results_custom))"
   ]
  },
  {
   "cell_type": "code",
   "execution_count": 142,
   "metadata": {},
   "outputs": [
    {
     "name": "stdout",
     "output_type": "stream",
     "text": [
      "K-Tau: 0.0000, % valid: 0.0\n",
      "S-Rho: 0.0000, % valid: 0.0\n"
     ]
    }
   ],
   "source": [
    "# show rank correlations only with mask on\n",
    "print('K-Tau: {:.4f}, % valid: {}'.format(*get_batch_rank_correlation_and_perc_valid(test_dataloader, model_custom, get_single_kendall_tau, print_every=999999)))\n",
    "print('S-Rho: {:.4f}, % valid: {}'.format(*get_batch_rank_correlation_and_perc_valid(test_dataloader, model_custom, get_single_spearman_rho, print_every=999999)))"
   ]
  },
  {
   "cell_type": "code",
   "execution_count": 143,
   "metadata": {},
   "outputs": [],
   "source": [
    "# get x y\n",
    "single_x, single_y = get_example(test_dataloader, x_name=0, y_name=1)"
   ]
  },
  {
   "cell_type": "code",
   "execution_count": 144,
   "metadata": {},
   "outputs": [
    {
     "data": {
      "image/png": "[encoded data removed]",
      "text/plain": [
       "<Figure size 1512x144 with 22 Axes>"
      ]
     },
     "metadata": {
      "needs_background": "light"
     },
     "output_type": "display_data"
    }
   ],
   "source": [
    "# show real sequence\n",
    "show_restored_catalog(single_x, single_y, config, img_path_map)"
   ]
  },
  {
   "cell_type": "code",
   "execution_count": 145,
   "metadata": {},
   "outputs": [
    {
     "data": {
      "image/png": "[encoded data removed]",
      "text/plain": [
       "<Figure size 1512x144 with 22 Axes>"
      ]
     },
     "metadata": {
      "needs_background": "light"
     },
     "output_type": "display_data"
    }
   ],
   "source": [
    "# predict & show\n",
    "_, single_pred = model_custom(single_x.unsqueeze(0))\n",
    "show_restored_catalog(single_x, single_pred, config, img_path_map)"
   ]
  },
  {
   "cell_type": "code",
   "execution_count": 146,
   "metadata": {},
   "outputs": [
    {
     "name": "stdout",
     "output_type": "stream",
     "text": [
      "[1, 1, 1, 1, 1, 1, 1, 1, 1, 1, 1, 1, 1, 1, 1, 1, 1, 1, 1, 1, 1, 1]\n"
     ]
    }
   ],
   "source": [
    "print(restore_catalog(single_x, single_pred[0]))"
   ]
  },
  {
   "cell_type": "markdown",
   "metadata": {},
   "source": [
    "#### Predict all catalogs"
   ]
  },
  {
   "cell_type": "code",
   "execution_count": 147,
   "metadata": {},
   "outputs": [
    {
     "name": "stdout",
     "output_type": "stream",
     "text": [
      "[5, 5, 5, 5, 5, 5, 5, 5, 5, 5, 5, 5, 5, 5, 5, 5, 5, 5, 5, 5, 5, 5]\n"
     ]
    }
   ],
   "source": [
    "# get predicted catalogs as indices\n",
    "custom_predicted_catalogs_as_indices = predict_catalogs_as_indices(test_dataloader, model_custom)\n",
    "print(custom_predicted_catalogs_as_indices[0])"
   ]
  },
  {
   "cell_type": "code",
   "execution_count": 148,
   "metadata": {},
   "outputs": [
    {
     "name": "stdout",
     "output_type": "stream",
     "text": [
      "[]\n"
     ]
    }
   ],
   "source": [
    "# get them as raw\n",
    "custom_predicted_catalogs_as_raw = from_indices_to_raw(custom_predicted_catalogs_as_indices, config)\n",
    "print(custom_predicted_catalogs_as_raw[0])"
   ]
  },
  {
   "cell_type": "code",
   "execution_count": 149,
   "metadata": {},
   "outputs": [
    {
     "name": "stdout",
     "output_type": "stream",
     "text": [
      "['catalog_end']\n"
     ]
    }
   ],
   "source": [
    "# get them as Catalog() instances\n",
    "custom_predicted_catalogs_as_instances = instantiate_catalogs(custom_predicted_catalogs_as_raw, config)\n",
    "print(custom_predicted_catalogs_as_instances[0].as_sequence())"
   ]
  },
  {
   "cell_type": "markdown",
   "metadata": {},
   "source": [
    "### Metrics | Custom Set Embedder\n",
    "We want to see how the predicted catalogs match up with the structural rules and the distributional stats of the original train set."
   ]
  },
  {
   "cell_type": "markdown",
   "metadata": {},
   "source": [
    "#### Structural Metrics"
   ]
  },
  {
   "cell_type": "code",
   "execution_count": 150,
   "metadata": {},
   "outputs": [
    {
     "name": "stdout",
     "output_type": "stream",
     "text": [
      "*** METRICS ***\n",
      "                                GENERAL:\n",
      "              Total testable catalogs %:        0.0%\n",
      "       Catalogs with corrent n tokens %:      100.0%\n",
      "      Catalogs with target num offers %:        0.0%\n",
      "\n",
      "                               SECTIONS:\n",
      "                Valid section average %:        0.0%\n",
      "           Valid section per ruleset % :\n",
      "                                        basic        0.0%\n",
      "                                   green_only        0.0%\n",
      "                                  purple_only        0.0%\n",
      "                             purple_and_green div by zero%\n",
      "\n",
      "                             STRUCTURAL:\n",
      "              Valid catalog structure %:        0.0%\n",
      "            Valid catalog % per ruleset:\n",
      "                                        basic        0.0%\n",
      "                                   green_only        0.0%\n",
      "                                  purple_only        0.0%\n",
      "                             purple_and_green        0.0%\n",
      "           Valid catalog % per sub rule:\n",
      "                                        basic\n",
      "                                first_page_all_red        0.0%\n",
      "                                last_page_all_blue        0.0%\n",
      "                                      max_pages_10      70.77%\n",
      "                                       min_pages_3      29.23%\n",
      "                                   green_only\n",
      "                                first_page_all_red        0.0%\n",
      "                                last_page_all_blue        0.0%\n",
      "                                      max_pages_10      100.0%\n",
      "                                       min_pages_3        0.0%\n",
      "                                  purple_only\n",
      "                               first_page_all_blue        0.0%\n",
      "                                last_page_all_blue        0.0%\n",
      "                                      max_pages_10      100.0%\n",
      "                                       min_pages_3        0.0%\n",
      "                             purple_and_green\n",
      "                                first_page_all_red        0.0%\n",
      "                              last_page_all_purple        0.0%\n",
      "                                      max_pages_10        0.0%\n",
      "                                       min_pages_3        0.0%\n"
     ]
    }
   ],
   "source": [
    "# get metrics for adherence to the rules\n",
    "custom_metrics = get_rule_metrics(custom_predicted_catalogs_as_indices, rules, config)\n",
    "\n",
    "# show metrics nicely\n",
    "show_metrics(custom_metrics)"
   ]
  },
  {
   "cell_type": "markdown",
   "metadata": {},
   "source": [
    "#### Statistical / Distributional Metrics"
   ]
  },
  {
   "cell_type": "code",
   "execution_count": 151,
   "metadata": {},
   "outputs": [
    {
     "name": "stdout",
     "output_type": "stream",
     "text": [
      "Total offer counts:  {'b': 197, 'r': 212, 'y': 199, 'g': 21, 'p': 3}\n",
      "Total offer %:  {'b': 31.17, 'r': 33.54, 'y': 31.49, 'g': 3.32, 'p': 0.47}\n",
      "Average offers per catalog: 13.92\n",
      "Standard Dev offers per catalog: 10.61\n",
      "Catalogs per num offers:  {0: 367, 22: 632}\n",
      "Catalogs per offer type:  {'b': 197, 'r': 212, 'y': 199, 'g': 21, 'p': 3}\n",
      "Catalogs per offer type %:  {'b': 1.97, 'r': 2.12, 'y': 1.99, 'g': 0.21, 'p': 0.03, 'p_and_g': 0.0}\n",
      "Catalogs per number of sections: {0: 82, 1: 632, 22: 285}\n",
      "Catalogs per number of sections %: {0: 0.82, 1: 6.32, 22: 2.85}\n",
      "Section count by number of offers: {0: 6270, 22: 632}\n",
      "Section % by number of offers: {0: 90.84, 22: 9.16}\n"
     ]
    }
   ],
   "source": [
    "custom_stats = report_catalog_stats(custom_predicted_catalogs_as_raw, config)"
   ]
  },
  {
   "cell_type": "markdown",
   "metadata": {},
   "source": [
    "#### Sacred Experiment | Model Custom\n",
    "We'll want to track the dataset, model params and the result of tests."
   ]
  },
  {
   "cell_type": "markdown",
   "metadata": {},
   "source": [
    "**Sacred will blow up if we give it a config consisting of nested dicts, so we'll need to turn things to list or str.**"
   ]
  },
  {
   "cell_type": "code",
   "execution_count": 152,
   "metadata": {},
   "outputs": [
    {
     "name": "stdout",
     "output_type": "stream",
     "text": [
      "offer_distributions\n",
      "word2idx\n",
      "idx2word\n",
      "rules\n"
     ]
    }
   ],
   "source": [
    "# find nested dicts, show then, turn their values to strings, preserve them for later re-insertion\n",
    "config_safe_copy = dict()\n",
    "for k, v in config.items():\n",
    "    if type(v) == dict:\n",
    "        print(k)\n",
    "        config_safe_copy[k] = str(v)\n",
    "    else:\n",
    "        config_safe_copy[k] = v"
   ]
  },
  {
   "cell_type": "code",
   "execution_count": 153,
   "metadata": {},
   "outputs": [
    {
     "name": "stderr",
     "output_type": "stream",
     "text": [
      "WARNING - root - Changed type of config entry \"cfg.offer_distributions\" from dict to str\n",
      "WARNING - root - Changed type of config entry \"cfg.word2idx\" from dict to str\n",
      "WARNING - root - Changed type of config entry \"cfg.idx2word\" from dict to str\n",
      "WARNING - root - Changed type of config entry \"cfg.rules\" from dict to str\n",
      "INFO - set_to_sequence_functional_synthetic_mask_False - Running command 'run_model_tests'\n",
      "INFO - set_to_sequence_functional_synthetic_mask_False - Started run with ID \"346\"\n"
     ]
    },
    {
     "name": "stdout",
     "output_type": "stream",
     "text": [
      "Model:  <class 'models.CustomAttentionPointerNetwork'>\n",
      "Result: 0.0455\n",
      "*** METRICS ***\n",
      "                                GENERAL:\n",
      "              Total testable catalogs %:        0.0%\n",
      "       Catalogs with corrent n tokens %:      100.0%\n",
      "      Catalogs with target num offers %:        0.0%\n",
      "\n",
      "                               SECTIONS:\n",
      "                Valid section average %:        0.0%\n",
      "           Valid section per ruleset % :\n",
      "                                        basic        0.0%\n",
      "                                   green_only        0.0%\n",
      "                                  purple_only        0.0%\n",
      "                             purple_and_green div by zero%\n",
      "\n",
      "                             STRUCTURAL:\n",
      "              Valid catalog structure %:        0.0%\n",
      "            Valid catalog % per ruleset:\n",
      "                                        basic        0.0%\n",
      "                                   green_only        0.0%\n",
      "                                  purple_only        0.0%\n",
      "                             purple_and_green        0.0%\n",
      "           Valid catalog % per sub rule:\n",
      "                                        basic\n",
      "                                first_page_all_red        0.0%\n",
      "                                last_page_all_blue        0.0%\n",
      "                                      max_pages_10      70.77%\n",
      "                                       min_pages_3      29.23%\n",
      "                                   green_only\n",
      "                                first_page_all_red        0.0%\n",
      "                                last_page_all_blue        0.0%\n",
      "                                      max_pages_10      100.0%\n",
      "                                       min_pages_3        0.0%\n",
      "                                  purple_only\n",
      "                               first_page_all_blue        0.0%\n",
      "                                last_page_all_blue        0.0%\n",
      "                                      max_pages_10      100.0%\n",
      "                                       min_pages_3        0.0%\n",
      "                             purple_and_green\n",
      "                                first_page_all_red        0.0%\n",
      "                              last_page_all_purple        0.0%\n",
      "                                      max_pages_10        0.0%\n",
      "                                       min_pages_3        0.0%\n",
      "K-Tau: 0.0000, perc_valid: 0.0\n"
     ]
    },
    {
     "name": "stderr",
     "output_type": "stream",
     "text": [
      "INFO - set_to_sequence_functional_synthetic_mask_False - Result: 0.04545\n",
      "INFO - set_to_sequence_functional_synthetic_mask_False - Completed after 0:00:10\n"
     ]
    },
    {
     "name": "stdout",
     "output_type": "stream",
     "text": [
      "S-Rho: 0.0000, perc_valid: 0.0\n"
     ]
    }
   ],
   "source": [
    "# experiment config\n",
    "current_tested_model = model_custom\n",
    "current_optimizer = optimizer_custom\n",
    "current_last_loss = last_loss_custom\n",
    "\n",
    "config_update = {\n",
    "    'model': current_tested_model.__class__.__name__,\n",
    "    'final_training_loss': round(current_last_loss.item(), 10),\n",
    "    'optimizer': current_optimizer.__class__.__name__,\n",
    "    'cfg': config_safe_copy,\n",
    "}\n",
    "\n",
    "# run the experiment, with updated config\n",
    "run_info = ex.run(config_updates=config_update)"
   ]
  },
  {
   "cell_type": "code",
   "execution_count": 154,
   "metadata": {},
   "outputs": [
    {
     "data": {
      "image/png": "[encoded data removed]",
      "text/plain": [
       "<Figure size 1512x144 with 22 Axes>"
      ]
     },
     "metadata": {
      "needs_background": "light"
     },
     "output_type": "display_data"
    },
    {
     "data": {
      "image/png": "[encoded data removed]",
      "text/plain": [
       "<Figure size 1512x144 with 22 Axes>"
      ]
     },
     "metadata": {
      "needs_background": "light"
     },
     "output_type": "display_data"
    }
   ],
   "source": [
    "# show preds\n",
    "single_x, single_y = get_example(test_dataloader, x_name=0, y_name=1)\n",
    "show_restored_catalog(single_x, single_y, config, img_path_map)\n",
    "_, single_pred = model_custom(single_x.unsqueeze(0))\n",
    "show_restored_catalog(single_x, single_pred, config, img_path_map)"
   ]
  }
 ],
 "metadata": {
  "kernelspec": {
   "display_name": "Python 3",
   "language": "python",
   "name": "python3"
  },
  "language_info": {
   "codemirror_mode": {
    "name": "ipython",
    "version": 3
   },
   "file_extension": ".py",
   "mimetype": "text/x-python",
   "name": "python",
   "nbconvert_exporter": "python",
   "pygments_lexer": "ipython3",
   "version": "3.6.5"
  }
 },
 "nbformat": 4,
 "nbformat_minor": 4
}
